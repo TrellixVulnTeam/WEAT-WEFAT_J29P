{
 "cells": [
  {
   "cell_type": "markdown",
   "metadata": {},
   "source": [
    "## Import Modules"
   ]
  },
  {
   "cell_type": "code",
   "execution_count": 259,
   "metadata": {
    "ExecuteTime": {
     "end_time": "2020-11-20T19:13:48.198347Z",
     "start_time": "2020-11-20T19:13:48.193545Z"
    }
   },
   "outputs": [],
   "source": [
    "import pandas as pd\n",
    "import numpy as np \n",
    "from gensim import models\n",
    "from lib import weat\n",
    "import os\n",
    "import scipy\n",
    "import matplotlib.pyplot as plt\n",
    "import importlib\n",
    "from scipy import stats\n",
    "import seaborn \n",
    "importlib.reload(weat)"
   ]
  },
  {
   "cell_type": "markdown",
   "metadata": {},
   "source": [
    "## Load Word2Vec and Glove Models"
   ]
  },
  {
   "cell_type": "code",
   "execution_count": 2,
   "metadata": {
    "ExecuteTime": {
     "end_time": "2020-11-20T02:14:11.593218Z",
     "start_time": "2020-11-20T02:14:11.590075Z"
    }
   },
   "outputs": [],
   "source": [
    "# import and load word2vec model using Google News data\n",
    "def loadWord2VecModel(file):\n",
    "    print(\"Loading word2vec model...\")\n",
    "    w = models.KeyedVectors.load_word2vec_format(file, binary=True)\n",
    "    print(\"Finished.\")\n",
    "    return w"
   ]
  },
  {
   "cell_type": "code",
   "execution_count": 3,
   "metadata": {
    "ExecuteTime": {
     "end_time": "2020-11-20T02:14:11.600250Z",
     "start_time": "2020-11-20T02:14:11.595737Z"
    }
   },
   "outputs": [],
   "source": [
    "# import and load glove model\n",
    "def loadGloveModel(file):\n",
    "    print(\"Loading glove model...\")\n",
    "    f = open(file,'r', encoding='utf-8')\n",
    "    gloveModel = {}\n",
    "    for line in f:\n",
    "        splitLines = line.split(' ')\n",
    "        word = splitLines[0]\n",
    "        wordEmbedding = np.array([float(value) for value in splitLines[1:]])\n",
    "        gloveModel[word] = wordEmbedding\n",
    "    print(len(gloveModel),\" words loaded!\")\n",
    "    return gloveModel"
   ]
  },
  {
   "cell_type": "code",
   "execution_count": null,
   "metadata": {
    "ExecuteTime": {
     "end_time": "2020-11-20T00:39:22.594267Z",
     "start_time": "2020-11-20T00:39:22.544413Z"
    }
   },
   "outputs": [],
   "source": [
    "# load word2vec model\n",
    "word2vec = loadWord2VecModel('data/GoogleNews-vectors-negative300.bin')"
   ]
  },
  {
   "cell_type": "code",
   "execution_count": 4,
   "metadata": {
    "ExecuteTime": {
     "end_time": "2020-11-20T02:16:59.255022Z",
     "start_time": "2020-11-20T02:14:11.602264Z"
    }
   },
   "outputs": [
    {
     "name": "stdout",
     "output_type": "stream",
     "text": [
      "Loading glove model...\n",
      "2196017  words loaded!\n"
     ]
    }
   ],
   "source": [
    "# load Glove model\n",
    "glove = loadGloveModel('data/glove.840B.300d.txt')"
   ]
  },
  {
   "cell_type": "code",
   "execution_count": 5,
   "metadata": {
    "ExecuteTime": {
     "end_time": "2020-11-20T02:16:59.261038Z",
     "start_time": "2020-11-20T02:16:59.256863Z"
    }
   },
   "outputs": [],
   "source": [
    "def get_tar_att_arrays(model, t1, t2, a1, a2):\n",
    "    tar1 = np.array([model[vector] for vector in t1])\n",
    "    tar2 = np.array([model[vector] for vector in t2])\n",
    "    att1 = np.array([model[vector] for vector in a1])\n",
    "    att2 = np.array([model[vector] for vector in a2])\n",
    "    \n",
    "    return tar1, tar2, att1, att2"
   ]
  },
  {
   "cell_type": "code",
   "execution_count": 260,
   "metadata": {
    "ExecuteTime": {
     "end_time": "2020-11-20T19:13:51.570526Z",
     "start_time": "2020-11-20T19:13:51.565925Z"
    }
   },
   "outputs": [],
   "source": [
    "def normal_test(distr):\n",
    "    k2, p = stats.normaltest(distr)\n",
    "    alpha = 1e-3\n",
    "    if p < alpha: \n",
    "        return 'Yes'\n",
    "    else: return 'No'"
   ]
  },
  {
   "cell_type": "code",
   "execution_count": 273,
   "metadata": {
    "ExecuteTime": {
     "end_time": "2020-11-20T19:18:49.644115Z",
     "start_time": "2020-11-20T19:18:49.619390Z"
    }
   },
   "outputs": [],
   "source": [
    "def get_matrices(filepath, model):\n",
    "\n",
    "    data_file = pd.read_csv(filepath, sep=',\\s*', engine='python',  header=None, index_col=0)\n",
    "    \n",
    "    # get targets and attribute labels\n",
    "    target_names = list(data_file.index)[:2]\n",
    "    attribute_names = list(data_file.index)[2:]\n",
    "    \n",
    "    # get targets and attribute sets\n",
    "    targets = data_file.loc[target_names]\n",
    "    attributes = data_file.loc[attribute_names]\n",
    "    \n",
    "    # get arrays, one for each set of target and attribute\n",
    "    tar1 = targets.loc[target_names[0]]\n",
    "    tar2 = targets.loc[target_names[1]]\n",
    "    att1 = attributes.loc[attribute_names[0]]\n",
    "    att2 = attributes.loc[attribute_names[1]]\n",
    "    \n",
    "    # remove any NaN values that have been read due to mismatch of columns \n",
    "    tar1 = tar1[~pd.isna(tar1)]\n",
    "    tar2 = tar2[~pd.isna(tar2)]\n",
    "    att1 = att1[~pd.isna(att1)]\n",
    "    att2 = att2[~pd.isna(att2)]\n",
    "        \n",
    "    # give numpy array of glove word embeddings for targets and attributes\n",
    "    tar1, tar2, att1, att2 = get_tar_att_arrays(model, tar1, tar2, att1, att2)\n",
    "    \n",
    "    return target_names, attribute_names, tar1, tar2, att1, att2\n",
    "\n",
    "def output_table(model):\n",
    "    directory = 'targets_attributes_data/'\n",
    "    \n",
    "    # instantiate the weta object\n",
    "    weat_object = weat.Weat()\n",
    "    effect_size = list()\n",
    "    p_value = list()\n",
    "    targets = list()\n",
    "    normal = list()\n",
    "    test_distr = list()\n",
    "    attributes = list()\n",
    "    \n",
    "    print('Reading files...\\n')\n",
    "\n",
    "    # loop over all files in the directory\n",
    "    for filename in os.listdir(directory):\n",
    "        if not filename.startswith('.'):  # ignore hidden files\n",
    "            filepath = directory + filename\n",
    "            print (filepath)\n",
    "\n",
    "            # retrieve target names and attributes to form the table\n",
    "            target_names, attribute_names, _, _, _, _ = get_matrices(filepath, model)\n",
    "            targets.append(target_names)\n",
    "            attributes.append(attribute_names)\n",
    "\n",
    "            # retrive the word embeddings for the targets and attributes\n",
    "            _, _, t1, t2, a1, a2 = get_matrices(filepath, model)\n",
    "            \n",
    "            # calculate the effect size \n",
    "            effect_size.append(weat_object.effect_size(t1, t2, a1, a2))\n",
    "            \n",
    "            # calculate the p-value, test statistic, and permutations\n",
    "            p_val, test_stat, distr = weat_object.p_value(t1, t2, a1, a2)\n",
    "            p_value.append(p_val)\n",
    "            test_distr.append(distr)\n",
    "            normal.append(normal_test(distr))\n",
    "                    \n",
    "    # create a daraframe with the targets, attributes, and effect size\n",
    "    output_df = pd.DataFrame(data = list(zip(targets, attributes, effect_size, p_value, normal, test_distr)),\n",
    "                             columns = ['Targets', 'Attributes', 'Effect Size', 'P-Value', 'Normal Distribution?', 'Test Stat Distribution'])\n",
    "    return output_df"
   ]
  },
  {
   "cell_type": "code",
   "execution_count": 275,
   "metadata": {
    "ExecuteTime": {
     "end_time": "2020-11-20T19:44:21.775684Z",
     "start_time": "2020-11-20T19:18:50.287070Z"
    },
    "scrolled": false
   },
   "outputs": [
    {
     "name": "stdout",
     "output_type": "stream",
     "text": [
      "Reading files...\n",
      "\n",
      "targets_attributes_data/instruments vs weapons.csv\n",
      "targets_attributes_data/male vs female names.csv\n",
      "targets_attributes_data/science vs arts.csv\n",
      "targets_attributes_data/mental vs physical disease.csv\n",
      "targets_attributes_data/flowers vs insects.csv\n",
      "targets_attributes_data/young vs old peoples names.csv\n",
      "targets_attributes_data/math vs arts.csv\n",
      "targets_attributes_data/European-American vs African-American names 2.csv\n",
      "targets_attributes_data/European-American vs African-American names 3.csv\n",
      "targets_attributes_data/European-American vs African-American names 1.csv\n"
     ]
    }
   ],
   "source": [
    "df_glove = output_table(glove)"
   ]
  },
  {
   "cell_type": "code",
   "execution_count": 276,
   "metadata": {
    "ExecuteTime": {
     "end_time": "2020-11-20T19:44:21.876564Z",
     "start_time": "2020-11-20T19:44:21.795294Z"
    }
   },
   "outputs": [
    {
     "data": {
      "text/html": [
       "<div>\n",
       "<style scoped>\n",
       "    .dataframe tbody tr th:only-of-type {\n",
       "        vertical-align: middle;\n",
       "    }\n",
       "\n",
       "    .dataframe tbody tr th {\n",
       "        vertical-align: top;\n",
       "    }\n",
       "\n",
       "    .dataframe thead th {\n",
       "        text-align: right;\n",
       "    }\n",
       "</style>\n",
       "<table border=\"1\" class=\"dataframe\">\n",
       "  <thead>\n",
       "    <tr style=\"text-align: right;\">\n",
       "      <th></th>\n",
       "      <th>Targets</th>\n",
       "      <th>Attributes</th>\n",
       "      <th>Effect Size</th>\n",
       "      <th>P-Value</th>\n",
       "      <th>Normal Distribution?</th>\n",
       "      <th>Test Stat Distribution</th>\n",
       "    </tr>\n",
       "  </thead>\n",
       "  <tbody>\n",
       "    <tr>\n",
       "      <th>0</th>\n",
       "      <td>[Instruments, Weapons]</td>\n",
       "      <td>[Pleasant, Unpleasant]</td>\n",
       "      <td>1.540059</td>\n",
       "      <td>0.0000</td>\n",
       "      <td>No</td>\n",
       "      <td>[-0.1792737006094729, -0.031560432999518995, 0...</td>\n",
       "    </tr>\n",
       "    <tr>\n",
       "      <th>1</th>\n",
       "      <td>[Male names, Female names]</td>\n",
       "      <td>[Career, Family]</td>\n",
       "      <td>1.873403</td>\n",
       "      <td>0.0000</td>\n",
       "      <td>Yes</td>\n",
       "      <td>[0.639384583849482, 0.12332036890353398, 0.548...</td>\n",
       "    </tr>\n",
       "    <tr>\n",
       "      <th>2</th>\n",
       "      <td>[Science, Arts]</td>\n",
       "      <td>[Male terms, Female terms]</td>\n",
       "      <td>1.278036</td>\n",
       "      <td>0.0034</td>\n",
       "      <td>Yes</td>\n",
       "      <td>[-0.04184841297885003, -0.17285541756455106, 0...</td>\n",
       "    </tr>\n",
       "    <tr>\n",
       "      <th>3</th>\n",
       "      <td>[Mental disease, Physical disease]</td>\n",
       "      <td>[Temporary, Permanent]</td>\n",
       "      <td>1.535609</td>\n",
       "      <td>0.0010</td>\n",
       "      <td>Yes</td>\n",
       "      <td>[-0.24071402972383282, -0.0178050137164234, -0...</td>\n",
       "    </tr>\n",
       "    <tr>\n",
       "      <th>4</th>\n",
       "      <td>[Flowers, Insects]</td>\n",
       "      <td>[Pleasant, Unpleasant]</td>\n",
       "      <td>1.519588</td>\n",
       "      <td>0.0000</td>\n",
       "      <td>No</td>\n",
       "      <td>[-0.09505345377512067, -0.07467849695902627, 0...</td>\n",
       "    </tr>\n",
       "    <tr>\n",
       "      <th>5</th>\n",
       "      <td>[Young people’s names, Old people’s names]</td>\n",
       "      <td>[Pleasant, Unpleasant]</td>\n",
       "      <td>1.252668</td>\n",
       "      <td>0.0053</td>\n",
       "      <td>Yes</td>\n",
       "      <td>[0.10046480401505731, 0.007305253673198564, 0....</td>\n",
       "    </tr>\n",
       "    <tr>\n",
       "      <th>6</th>\n",
       "      <td>[Math, Arts]</td>\n",
       "      <td>[Male terms, Female terms]</td>\n",
       "      <td>1.089615</td>\n",
       "      <td>0.0173</td>\n",
       "      <td>Yes</td>\n",
       "      <td>[0.07163854935978946, 0.07424321927626344, 0.0...</td>\n",
       "    </tr>\n",
       "    <tr>\n",
       "      <th>7</th>\n",
       "      <td>[European American names, African American names]</td>\n",
       "      <td>[Pleasant, Unpleasant]</td>\n",
       "      <td>1.577784</td>\n",
       "      <td>0.0000</td>\n",
       "      <td>No</td>\n",
       "      <td>[-0.09994763357045798, -0.29935265265736594, -...</td>\n",
       "    </tr>\n",
       "    <tr>\n",
       "      <th>8</th>\n",
       "      <td>[European American names, African American names]</td>\n",
       "      <td>[Pleasant, Unpleasant]</td>\n",
       "      <td>1.380348</td>\n",
       "      <td>0.0000</td>\n",
       "      <td>No</td>\n",
       "      <td>[0.10756918612112254, -0.11188941053237689, 0....</td>\n",
       "    </tr>\n",
       "    <tr>\n",
       "      <th>9</th>\n",
       "      <td>[European American names, African American names]</td>\n",
       "      <td>[Pleasant, Unpleasant]</td>\n",
       "      <td>1.488744</td>\n",
       "      <td>0.0000</td>\n",
       "      <td>No</td>\n",
       "      <td>[0.9363459090244907, 0.7042990330676386, -0.20...</td>\n",
       "    </tr>\n",
       "  </tbody>\n",
       "</table>\n",
       "</div>"
      ],
      "text/plain": [
       "                                             Targets  \\\n",
       "0                             [Instruments, Weapons]   \n",
       "1                         [Male names, Female names]   \n",
       "2                                    [Science, Arts]   \n",
       "3                 [Mental disease, Physical disease]   \n",
       "4                                 [Flowers, Insects]   \n",
       "5         [Young people’s names, Old people’s names]   \n",
       "6                                       [Math, Arts]   \n",
       "7  [European American names, African American names]   \n",
       "8  [European American names, African American names]   \n",
       "9  [European American names, African American names]   \n",
       "\n",
       "                   Attributes  Effect Size  P-Value Normal Distribution?  \\\n",
       "0      [Pleasant, Unpleasant]     1.540059   0.0000                   No   \n",
       "1            [Career, Family]     1.873403   0.0000                  Yes   \n",
       "2  [Male terms, Female terms]     1.278036   0.0034                  Yes   \n",
       "3      [Temporary, Permanent]     1.535609   0.0010                  Yes   \n",
       "4      [Pleasant, Unpleasant]     1.519588   0.0000                   No   \n",
       "5      [Pleasant, Unpleasant]     1.252668   0.0053                  Yes   \n",
       "6  [Male terms, Female terms]     1.089615   0.0173                  Yes   \n",
       "7      [Pleasant, Unpleasant]     1.577784   0.0000                   No   \n",
       "8      [Pleasant, Unpleasant]     1.380348   0.0000                   No   \n",
       "9      [Pleasant, Unpleasant]     1.488744   0.0000                   No   \n",
       "\n",
       "                              Test Stat Distribution  \n",
       "0  [-0.1792737006094729, -0.031560432999518995, 0...  \n",
       "1  [0.639384583849482, 0.12332036890353398, 0.548...  \n",
       "2  [-0.04184841297885003, -0.17285541756455106, 0...  \n",
       "3  [-0.24071402972383282, -0.0178050137164234, -0...  \n",
       "4  [-0.09505345377512067, -0.07467849695902627, 0...  \n",
       "5  [0.10046480401505731, 0.007305253673198564, 0....  \n",
       "6  [0.07163854935978946, 0.07424321927626344, 0.0...  \n",
       "7  [-0.09994763357045798, -0.29935265265736594, -...  \n",
       "8  [0.10756918612112254, -0.11188941053237689, 0....  \n",
       "9  [0.9363459090244907, 0.7042990330676386, -0.20...  "
      ]
     },
     "execution_count": 276,
     "metadata": {},
     "output_type": "execute_result"
    }
   ],
   "source": [
    "df_glove"
   ]
  },
  {
   "cell_type": "code",
   "execution_count": 282,
   "metadata": {
    "ExecuteTime": {
     "end_time": "2020-11-20T20:01:33.553394Z",
     "start_time": "2020-11-20T20:01:33.132943Z"
    }
   },
   "outputs": [
    {
     "data": {
      "text/plain": [
       "<seaborn.axisgrid.FacetGrid at 0x13c7abe10>"
      ]
     },
     "execution_count": 282,
     "metadata": {},
     "output_type": "execute_result"
    },
    {
     "data": {
      "image/png": "[encoded data removed]",
      "text/plain": [
       "<Figure size 360x360 with 1 Axes>"
      ]
     },
     "metadata": {
      "needs_background": "light"
     },
     "output_type": "display_data"
    }
   ],
   "source": [
    "seaborn.displot(df_glove['Test Stat Distribution'][0])"
   ]
  },
  {
   "cell_type": "code",
   "execution_count": 283,
   "metadata": {
    "ExecuteTime": {
     "end_time": "2020-11-20T20:11:09.176716Z",
     "start_time": "2020-11-20T20:11:08.959904Z"
    }
   },
   "outputs": [],
   "source": [
    "df_glove.to_csv('output/weat_score_glove.csv')"
   ]
  },
  {
   "cell_type": "code",
   "execution_count": null,
   "metadata": {},
   "outputs": [],
   "source": []
  }
 ],
 "metadata": {
  "kernelspec": {
   "display_name": "Python 3.7.3 64-bit",
   "language": "python",
   "name": "python37364bit4db73d59933341feaa47a8db6a2db2c7"
  },
  "language_info": {
   "codemirror_mode": {
    "name": "ipython",
    "version": 3
   },
   "file_extension": ".py",
   "mimetype": "text/x-python",
   "name": "python",
   "nbconvert_exporter": "python",
   "pygments_lexer": "ipython3",
   "version": "3.7.3"
  }
 },
 "nbformat": 4,
 "nbformat_minor": 4
}

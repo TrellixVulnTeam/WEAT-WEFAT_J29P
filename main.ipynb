{
 "cells": [
  {
   "cell_type": "markdown",
   "metadata": {},
   "source": [
    "## Import Modules"
   ]
  },
  {
   "cell_type": "code",
   "execution_count": 102,
   "metadata": {
    "ExecuteTime": {
     "end_time": "2020-11-24T02:57:06.357794Z",
     "start_time": "2020-11-24T02:57:06.352975Z"
    }
   },
   "outputs": [],
   "source": [
    "import pandas as pd\n",
    "import numpy as np \n",
    "from gensim import models\n",
    "from lib import weat\n",
    "import os\n",
    "import scipy\n",
    "import matplotlib.pyplot as plt\n",
    "import importlib\n",
    "from scipy import stats\n",
    "import seaborn \n"
   ]
  },
  {
   "cell_type": "markdown",
   "metadata": {},
   "source": [
    "## Load Glove Model"
   ]
  },
  {
   "cell_type": "code",
   "execution_count": 2,
   "metadata": {
    "ExecuteTime": {
     "end_time": "2020-11-24T00:45:10.923143Z",
     "start_time": "2020-11-24T00:45:10.916775Z"
    }
   },
   "outputs": [],
   "source": [
    "# import and load glove model\n",
    "def loadGloveModel(file):\n",
    "    print(\"Loading glove model...\")\n",
    "    f = open(file,'r', encoding='utf-8')\n",
    "    gloveModel = {}\n",
    "    for line in f:\n",
    "        splitLines = line.split(' ')\n",
    "        word = splitLines[0]\n",
    "        wordEmbedding = np.array([float(value) for value in splitLines[1:]])\n",
    "        gloveModel[word] = wordEmbedding\n",
    "    print(len(gloveModel),\" words loaded!\")\n",
    "    return gloveModel"
   ]
  },
  {
   "cell_type": "code",
   "execution_count": 3,
   "metadata": {
    "ExecuteTime": {
     "end_time": "2020-11-24T00:48:38.448691Z",
     "start_time": "2020-11-24T00:45:14.144468Z"
    }
   },
   "outputs": [
    {
     "name": "stdout",
     "output_type": "stream",
     "text": [
      "Loading glove model...\n",
      "2196017  words loaded!\n"
     ]
    }
   ],
   "source": [
    "# load Glove model\n",
    "glove = loadGloveModel('data/glove.840B.300d.txt')"
   ]
  },
  {
   "cell_type": "code",
   "execution_count": 103,
   "metadata": {
    "ExecuteTime": {
     "end_time": "2020-11-24T02:57:11.313812Z",
     "start_time": "2020-11-24T02:57:11.305176Z"
    }
   },
   "outputs": [],
   "source": [
    "def get_tar_att_arrays(model, t1, t2, a1, a2):\n",
    "    tar1 = np.array([model[vector] for vector in t1])\n",
    "    tar2 = np.array([model[vector] for vector in t2])\n",
    "    att1 = np.array([model[vector] for vector in a1])\n",
    "    att2 = np.array([model[vector] for vector in a2])\n",
    "    \n",
    "    return tar1, tar2, att1, att2"
   ]
  },
  {
   "cell_type": "code",
   "execution_count": 104,
   "metadata": {
    "ExecuteTime": {
     "end_time": "2020-11-24T02:57:12.027424Z",
     "start_time": "2020-11-24T02:57:12.016937Z"
    }
   },
   "outputs": [],
   "source": [
    "def normal_test(distr):\n",
    "    k2, p = stats.normaltest(distr)\n",
    "    alpha = 1e-3\n",
    "    if p < alpha: \n",
    "        return 'Yes'\n",
    "    else: return 'No'"
   ]
  },
  {
   "cell_type": "code",
   "execution_count": 136,
   "metadata": {
    "ExecuteTime": {
     "end_time": "2020-11-24T03:42:44.307333Z",
     "start_time": "2020-11-24T03:42:44.290440Z"
    }
   },
   "outputs": [],
   "source": [
    "def get_matrices(filepath, model):\n",
    "\n",
    "    data_file = pd.read_csv(filepath, sep=',\\s*', engine='python',  header=None, index_col=0)\n",
    "    \n",
    "    # get targets and attribute labels\n",
    "    target_names = list(data_file.index)[:2]\n",
    "    attribute_names = list(data_file.index)[2:]\n",
    "    \n",
    "    # get targets and attribute sets\n",
    "    targets = data_file.loc[target_names]\n",
    "    attributes = data_file.loc[attribute_names]\n",
    "    \n",
    "    # get arrays, one for each set of target and attribute\n",
    "    tar1 = targets.loc[target_names[0]]\n",
    "    tar2 = targets.loc[target_names[1]]\n",
    "    att1 = attributes.loc[attribute_names[0]]\n",
    "    att2 = attributes.loc[attribute_names[1]]\n",
    "    \n",
    "    # remove any NaN values that have been read due to mismatch of columns \n",
    "    tar1 = tar1[~pd.isna(tar1)]\n",
    "    tar2 = tar2[~pd.isna(tar2)]\n",
    "    att1 = att1[~pd.isna(att1)]\n",
    "    att2 = att2[~pd.isna(att2)]\n",
    "        \n",
    "    # give numpy array of glove word embeddings for targets and attributes\n",
    "    tar1, tar2, att1, att2 = get_tar_att_arrays(model, tar1, tar2, att1, att2)\n",
    "    \n",
    "    return target_names, attribute_names, tar1, tar2, att1, att2\n",
    "\n",
    "def output_table(model):\n",
    "    directory = 'targets_attributes_data/'\n",
    "    \n",
    "    # instantiate the weta object\n",
    "    weat_object = weat.Weat()\n",
    "    effect_size = list()\n",
    "    p_value = list()\n",
    "    targets = list()\n",
    "    normal = list()\n",
    "    test_distr = list()\n",
    "    attributes = list()\n",
    "    \n",
    "    print('Reading files...\\n')\n",
    "\n",
    "    # loop over all files in the directory\n",
    "    for filename in os.listdir(directory):\n",
    "        if not filename.startswith('.'):  # ignore hidden files\n",
    "            filepath = directory + filename\n",
    "            print (filepath)\n",
    "\n",
    "            # retrieve target names and attributes to form the table\n",
    "            target_names, attribute_names, _, _, _, _ = get_matrices(filepath, model)\n",
    "            targets.append(target_names)\n",
    "            attributes.append(attribute_names)\n",
    "\n",
    "            # retrive the word embeddings for the targets and attributes\n",
    "            _, _, t1, t2, a1, a2 = get_matrices(filepath, model)\n",
    "            \n",
    "            # calculate the effect size \n",
    "            effect_size.append(weat_object.effect_size(t1, t2, a1, a2))\n",
    "            \n",
    "            # calculate the p-value, test statistic, and permutations\n",
    "            p_val, test_stat, distr = weat_object.p_value(t1, t2, a1, a2)\n",
    "            p_value.append(p_val)\n",
    "            test_distr.append(distr)\n",
    "            \n",
    "                    \n",
    "    # create a daraframe with the targets, attributes, and effect size\n",
    "    output_df = pd.DataFrame(data = list(zip(targets, attributes, effect_size, p_value, test_distr)),\n",
    "                             columns = ['Targets', 'Attributes', 'Effect Size', 'P-Value', 'Test Stat Distribution'])\n",
    "    return output_df"
   ]
  },
  {
   "cell_type": "code",
   "execution_count": 137,
   "metadata": {
    "ExecuteTime": {
     "end_time": "2020-11-24T03:42:46.337925Z",
     "start_time": "2020-11-24T03:42:46.327485Z"
    }
   },
   "outputs": [
    {
     "data": {
      "text/plain": [
       "<module 'lib.weat' from '/Users/adimaini/Documents/GW/Machine Learning/Research/CODE/WEAT-WEFAT/lib/weat.py'>"
      ]
     },
     "execution_count": 137,
     "metadata": {},
     "output_type": "execute_result"
    }
   ],
   "source": [
    "importlib.reload(weat)"
   ]
  },
  {
   "cell_type": "code",
   "execution_count": 138,
   "metadata": {
    "ExecuteTime": {
     "end_time": "2020-11-24T04:13:51.839881Z",
     "start_time": "2020-11-24T03:42:48.587019Z"
    },
    "scrolled": false
   },
   "outputs": [
    {
     "name": "stdout",
     "output_type": "stream",
     "text": [
      "Reading files...\n",
      "\n",
      "targets_attributes_data/instruments vs weapons.csv\n",
      "targets_attributes_data/male vs female names.csv\n",
      "targets_attributes_data/science vs arts.csv\n",
      "targets_attributes_data/mental vs physical disease.csv\n",
      "targets_attributes_data/flowers vs insects.csv\n",
      "targets_attributes_data/young vs old peoples names.csv\n",
      "targets_attributes_data/math vs arts.csv\n",
      "targets_attributes_data/European-American vs African-American names 2.csv\n",
      "targets_attributes_data/European-American vs African-American names 3.csv\n",
      "targets_attributes_data/European-American vs African-American names 1.csv\n"
     ]
    }
   ],
   "source": [
    "df_glove = output_table(glove)"
   ]
  },
  {
   "cell_type": "code",
   "execution_count": 139,
   "metadata": {
    "ExecuteTime": {
     "end_time": "2020-11-24T04:13:51.894120Z",
     "start_time": "2020-11-24T04:13:51.846199Z"
    }
   },
   "outputs": [
    {
     "data": {
      "text/html": [
       "<div>\n",
       "<style scoped>\n",
       "    .dataframe tbody tr th:only-of-type {\n",
       "        vertical-align: middle;\n",
       "    }\n",
       "\n",
       "    .dataframe tbody tr th {\n",
       "        vertical-align: top;\n",
       "    }\n",
       "\n",
       "    .dataframe thead th {\n",
       "        text-align: right;\n",
       "    }\n",
       "</style>\n",
       "<table border=\"1\" class=\"dataframe\">\n",
       "  <thead>\n",
       "    <tr style=\"text-align: right;\">\n",
       "      <th></th>\n",
       "      <th>Targets</th>\n",
       "      <th>Attributes</th>\n",
       "      <th>Effect Size</th>\n",
       "      <th>P-Value</th>\n",
       "      <th>Test Stat Distribution</th>\n",
       "    </tr>\n",
       "  </thead>\n",
       "  <tbody>\n",
       "    <tr>\n",
       "      <th>0</th>\n",
       "      <td>[Instruments, Weapons]</td>\n",
       "      <td>[Pleasant, Unpleasant]</td>\n",
       "      <td>1.53</td>\n",
       "      <td>4.150528e-08</td>\n",
       "      <td>[0.3808849007759487, 0.00838607390463153, 0.40...</td>\n",
       "    </tr>\n",
       "    <tr>\n",
       "      <th>1</th>\n",
       "      <td>[Male names, Female names]</td>\n",
       "      <td>[Career, Family]</td>\n",
       "      <td>1.81</td>\n",
       "      <td>1.173239e-04</td>\n",
       "      <td>[-0.36867879890023525, -0.061924417452303815, ...</td>\n",
       "    </tr>\n",
       "    <tr>\n",
       "      <th>2</th>\n",
       "      <td>[Science, Arts]</td>\n",
       "      <td>[Male terms, Female terms]</td>\n",
       "      <td>1.24</td>\n",
       "      <td>7.082471e-03</td>\n",
       "      <td>[-0.13917627811976982, -0.26892201386351555, -...</td>\n",
       "    </tr>\n",
       "    <tr>\n",
       "      <th>3</th>\n",
       "      <td>[Mental disease, Physical disease]</td>\n",
       "      <td>[Temporary, Permanent]</td>\n",
       "      <td>1.38</td>\n",
       "      <td>8.770608e-03</td>\n",
       "      <td>[0.36849669406791496, -0.08428251971882583, 0....</td>\n",
       "    </tr>\n",
       "    <tr>\n",
       "      <th>4</th>\n",
       "      <td>[Flowers, Insects]</td>\n",
       "      <td>[Pleasant, Unpleasant]</td>\n",
       "      <td>1.50</td>\n",
       "      <td>4.586329e-08</td>\n",
       "      <td>[-0.04497516098412098, -0.8006803194233024, 0....</td>\n",
       "    </tr>\n",
       "    <tr>\n",
       "      <th>5</th>\n",
       "      <td>[Young people’s names, Old people’s names]</td>\n",
       "      <td>[Pleasant, Unpleasant]</td>\n",
       "      <td>1.21</td>\n",
       "      <td>7.694858e-03</td>\n",
       "      <td>[-0.0037774782087653946, 0.07423518746423519, ...</td>\n",
       "    </tr>\n",
       "    <tr>\n",
       "      <th>6</th>\n",
       "      <td>[Math, Arts]</td>\n",
       "      <td>[Male terms, Female terms]</td>\n",
       "      <td>1.06</td>\n",
       "      <td>1.706528e-02</td>\n",
       "      <td>[0.1375537344819207, -0.06022364633490498, 0.0...</td>\n",
       "    </tr>\n",
       "    <tr>\n",
       "      <th>7</th>\n",
       "      <td>[European American names, African American names]</td>\n",
       "      <td>[Pleasant, Unpleasant]</td>\n",
       "      <td>1.50</td>\n",
       "      <td>1.247072e-05</td>\n",
       "      <td>[-0.5027983542048593, -0.053371681799778414, -...</td>\n",
       "    </tr>\n",
       "    <tr>\n",
       "      <th>8</th>\n",
       "      <td>[European American names, African American names]</td>\n",
       "      <td>[Pleasant, Unpleasant]</td>\n",
       "      <td>1.28</td>\n",
       "      <td>1.214309e-04</td>\n",
       "      <td>[-0.03296083606541167, -0.29462624508676494, 0...</td>\n",
       "    </tr>\n",
       "    <tr>\n",
       "      <th>9</th>\n",
       "      <td>[European American names, African American names]</td>\n",
       "      <td>[Pleasant, Unpleasant]</td>\n",
       "      <td>1.41</td>\n",
       "      <td>1.141518e-08</td>\n",
       "      <td>[0.18351970197733447, -0.2306518135459703, 0.1...</td>\n",
       "    </tr>\n",
       "  </tbody>\n",
       "</table>\n",
       "</div>"
      ],
      "text/plain": [
       "                                             Targets  \\\n",
       "0                             [Instruments, Weapons]   \n",
       "1                         [Male names, Female names]   \n",
       "2                                    [Science, Arts]   \n",
       "3                 [Mental disease, Physical disease]   \n",
       "4                                 [Flowers, Insects]   \n",
       "5         [Young people’s names, Old people’s names]   \n",
       "6                                       [Math, Arts]   \n",
       "7  [European American names, African American names]   \n",
       "8  [European American names, African American names]   \n",
       "9  [European American names, African American names]   \n",
       "\n",
       "                   Attributes  Effect Size       P-Value  \\\n",
       "0      [Pleasant, Unpleasant]         1.53  4.150528e-08   \n",
       "1            [Career, Family]         1.81  1.173239e-04   \n",
       "2  [Male terms, Female terms]         1.24  7.082471e-03   \n",
       "3      [Temporary, Permanent]         1.38  8.770608e-03   \n",
       "4      [Pleasant, Unpleasant]         1.50  4.586329e-08   \n",
       "5      [Pleasant, Unpleasant]         1.21  7.694858e-03   \n",
       "6  [Male terms, Female terms]         1.06  1.706528e-02   \n",
       "7      [Pleasant, Unpleasant]         1.50  1.247072e-05   \n",
       "8      [Pleasant, Unpleasant]         1.28  1.214309e-04   \n",
       "9      [Pleasant, Unpleasant]         1.41  1.141518e-08   \n",
       "\n",
       "                              Test Stat Distribution  \n",
       "0  [0.3808849007759487, 0.00838607390463153, 0.40...  \n",
       "1  [-0.36867879890023525, -0.061924417452303815, ...  \n",
       "2  [-0.13917627811976982, -0.26892201386351555, -...  \n",
       "3  [0.36849669406791496, -0.08428251971882583, 0....  \n",
       "4  [-0.04497516098412098, -0.8006803194233024, 0....  \n",
       "5  [-0.0037774782087653946, 0.07423518746423519, ...  \n",
       "6  [0.1375537344819207, -0.06022364633490498, 0.0...  \n",
       "7  [-0.5027983542048593, -0.053371681799778414, -...  \n",
       "8  [-0.03296083606541167, -0.29462624508676494, 0...  \n",
       "9  [0.18351970197733447, -0.2306518135459703, 0.1...  "
      ]
     },
     "execution_count": 139,
     "metadata": {},
     "output_type": "execute_result"
    }
   ],
   "source": [
    "df_glove['Effect Size'] = df_glove['Effect Size'].round(decimals=2)\n",
    "df_glove"
   ]
  },
  {
   "cell_type": "code",
   "execution_count": 141,
   "metadata": {
    "ExecuteTime": {
     "end_time": "2020-11-24T04:30:46.702147Z",
     "start_time": "2020-11-24T04:30:46.514454Z"
    }
   },
   "outputs": [],
   "source": [
    "df_glove.to_csv('output/weat_score_glove.csv')"
   ]
  },
  {
   "cell_type": "code",
   "execution_count": null,
   "metadata": {},
   "outputs": [],
   "source": []
  }
 ],
 "metadata": {
  "kernelspec": {
   "display_name": "Python 3.7.3 64-bit",
   "language": "python",
   "name": "python37364bit4db73d59933341feaa47a8db6a2db2c7"
  },
  "language_info": {
   "codemirror_mode": {
    "name": "ipython",
    "version": 3
   },
   "file_extension": ".py",
   "mimetype": "text/x-python",
   "name": "python",
   "nbconvert_exporter": "python",
   "pygments_lexer": "ipython3",
   "version": "3.7.3"
  }
 },
 "nbformat": 4,
 "nbformat_minor": 4
}

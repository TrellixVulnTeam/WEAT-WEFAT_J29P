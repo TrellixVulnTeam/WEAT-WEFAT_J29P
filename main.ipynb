{
 "cells": [
  {
   "cell_type": "markdown",
   "metadata": {},
   "source": [
    "## Import Modules"
   ]
  },
  {
   "cell_type": "code",
   "execution_count": 23,
   "metadata": {
    "ExecuteTime": {
     "end_time": "2020-11-20T02:22:37.766240Z",
     "start_time": "2020-11-20T02:22:37.761618Z"
    }
   },
   "outputs": [],
   "source": [
    "import pandas as pd\n",
    "import numpy as np \n",
    "from gensim import models\n",
    "from lib import weat\n",
    "import os\n",
    "import scipy\n",
    "import matplotlib.pyplot as plt\n",
    "import importlib"
   ]
  },
  {
   "cell_type": "markdown",
   "metadata": {},
   "source": [
    "## Load Word2Vec and Glove Models"
   ]
  },
  {
   "cell_type": "code",
   "execution_count": 2,
   "metadata": {
    "ExecuteTime": {
     "end_time": "2020-11-20T02:14:11.593218Z",
     "start_time": "2020-11-20T02:14:11.590075Z"
    }
   },
   "outputs": [],
   "source": [
    "# import and load word2vec model using Google News data\n",
    "def loadWord2VecModel(file):\n",
    "    print(\"Loading word2vec model...\")\n",
    "    w = models.KeyedVectors.load_word2vec_format(file, binary=True)\n",
    "    print(\"Finished.\")\n",
    "    return w"
   ]
  },
  {
   "cell_type": "code",
   "execution_count": 3,
   "metadata": {
    "ExecuteTime": {
     "end_time": "2020-11-20T02:14:11.600250Z",
     "start_time": "2020-11-20T02:14:11.595737Z"
    }
   },
   "outputs": [],
   "source": [
    "# import and load glove model\n",
    "def loadGloveModel(file):\n",
    "    print(\"Loading glove model...\")\n",
    "    f = open(file,'r', encoding='utf-8')\n",
    "    gloveModel = {}\n",
    "    for line in f:\n",
    "        splitLines = line.split(' ')\n",
    "        word = splitLines[0]\n",
    "        wordEmbedding = np.array([float(value) for value in splitLines[1:]])\n",
    "        gloveModel[word] = wordEmbedding\n",
    "    print(len(gloveModel),\" words loaded!\")\n",
    "    return gloveModel"
   ]
  },
  {
   "cell_type": "code",
   "execution_count": null,
   "metadata": {
    "ExecuteTime": {
     "end_time": "2020-11-20T00:39:22.594267Z",
     "start_time": "2020-11-20T00:39:22.544413Z"
    }
   },
   "outputs": [],
   "source": [
    "# load word2vec model\n",
    "word2vec = loadWord2VecModel('data/GoogleNews-vectors-negative300.bin')"
   ]
  },
  {
   "cell_type": "code",
   "execution_count": 4,
   "metadata": {
    "ExecuteTime": {
     "end_time": "2020-11-20T02:16:59.255022Z",
     "start_time": "2020-11-20T02:14:11.602264Z"
    }
   },
   "outputs": [
    {
     "name": "stdout",
     "output_type": "stream",
     "text": [
      "Loading glove model...\n",
      "2196017  words loaded!\n"
     ]
    }
   ],
   "source": [
    "# load Glove model\n",
    "glove = loadGloveModel('data/glove.840B.300d.txt')"
   ]
  },
  {
   "cell_type": "code",
   "execution_count": 5,
   "metadata": {
    "ExecuteTime": {
     "end_time": "2020-11-20T02:16:59.261038Z",
     "start_time": "2020-11-20T02:16:59.256863Z"
    }
   },
   "outputs": [],
   "source": [
    "def get_tar_att_arrays(model, t1, t2, a1, a2):\n",
    "    tar1 = np.array([model[vector] for vector in t1])\n",
    "    tar2 = np.array([model[vector] for vector in t2])\n",
    "    att1 = np.array([model[vector] for vector in a1])\n",
    "    att2 = np.array([model[vector] for vector in a2])\n",
    "    \n",
    "    return tar1, tar2, att1, att2"
   ]
  },
  {
   "cell_type": "code",
   "execution_count": 176,
   "metadata": {
    "ExecuteTime": {
     "end_time": "2020-11-20T17:52:36.604108Z",
     "start_time": "2020-11-20T17:52:36.574700Z"
    }
   },
   "outputs": [],
   "source": [
    "def get_matrices(filepath, model):\n",
    "\n",
    "    data_file = pd.read_csv(filepath, sep=',\\s*', engine='python',  header=None, index_col=0)\n",
    "    \n",
    "    # get targets and attribute labels\n",
    "    target_names = list(data_file.index)[:2]\n",
    "    attribute_names = list(data_file.index)[2:]\n",
    "    \n",
    "    # get targets and attribute sets\n",
    "    targets = data_file.loc[target_names]\n",
    "    attributes = data_file.loc[attribute_names]\n",
    "    \n",
    "    # get arrays, one for each set of target and attribute\n",
    "    tar1 = targets.loc[target_names[0]]\n",
    "    tar2 = targets.loc[target_names[1]]\n",
    "    att1 = attributes.loc[attribute_names[0]]\n",
    "    att2 = attributes.loc[attribute_names[1]]\n",
    "    \n",
    "    # remove any NaN values that have been read due to mismatch of columns \n",
    "    tar1 = tar1[~pd.isna(tar1)]\n",
    "    tar2 = tar2[~pd.isna(tar2)]\n",
    "    att1 = att1[~pd.isna(att1)]\n",
    "    att2 = att2[~pd.isna(att2)]\n",
    "        \n",
    "    # give numpy array of glove word embeddings for targets and attributes\n",
    "    tar1, tar2, att1, att2 = get_tar_att_arrays(model, tar1, tar2, att1, att2)\n",
    "    \n",
    "    return target_names, attribute_names, tar1, tar2, att1, att2\n",
    "\n",
    "def output_table(model):\n",
    "    directory = 'targets_attributes_data/'\n",
    "    \n",
    "    # instantiate the weta object\n",
    "    weat_object = weat.Weat()\n",
    "    effect_size = list()\n",
    "    p_value = list()\n",
    "    targets = list()\n",
    "    attributes = list()\n",
    "    \n",
    "    print('Reading files...\\n')\n",
    "\n",
    "    # loop over all files in the directory\n",
    "    for filename in os.listdir(directory):\n",
    "        if not filename.startswith('.'):  # ignore hidden files\n",
    "            filepath = directory + filename\n",
    "            print (filepath)\n",
    "\n",
    "            # retrieve target names and attributes to form the table\n",
    "            target_names, attribute_names, _, _, _, _ = get_matrices(filepath, model)\n",
    "            targets.append(target_names)\n",
    "            attributes.append(attribute_names)\n",
    "\n",
    "            # retrive the word embeddings for the targets and attributes\n",
    "            _, _, t1, t2, a1, a2 = get_matrices(filepath, model)\n",
    "            \n",
    "            # calculate the effect size \n",
    "            effect_size.append(weat_object.effect_size(t1, t2, a1, a2))\n",
    "            \n",
    "            # calculate the p-value\n",
    "            p_value.append(weat_object.p_value(t1, t2, a1, a2))\n",
    "            \n",
    "            break\n",
    "        \n",
    "    # create a daraframe with the targets, attributes, and effect size\n",
    "    output_df = pd.DataFrame(data = list(zip(targets, attributes, effect_size, p_value)),\n",
    "                             columns = ['Targets', 'Attributes', 'Effect Size', 'P-Value'])\n",
    "    return output_df"
   ]
  },
  {
   "cell_type": "code",
   "execution_count": 185,
   "metadata": {
    "ExecuteTime": {
     "end_time": "2020-11-20T18:07:26.513069Z",
     "start_time": "2020-11-20T18:07:26.454624Z"
    }
   },
   "outputs": [
    {
     "data": {
      "text/plain": [
       "<module 'lib.weat' from '/Users/adimaini/Documents/GW/Machine Learning/Research/CODE/WEAT-WEFAT/lib/weat.py'>"
      ]
     },
     "execution_count": 185,
     "metadata": {},
     "output_type": "execute_result"
    }
   ],
   "source": [
    "importlib.reload(weat)"
   ]
  },
  {
   "cell_type": "code",
   "execution_count": 186,
   "metadata": {
    "ExecuteTime": {
     "end_time": "2020-11-20T18:07:26.743959Z",
     "start_time": "2020-11-20T18:07:26.646194Z"
    },
    "scrolled": false
   },
   "outputs": [
    {
     "name": "stdout",
     "output_type": "stream",
     "text": [
      "Reading files...\n",
      "\n",
      "targets_attributes_data/instruments vs weapons.csv\n"
     ]
    },
    {
     "ename": "IndexError",
     "evalue": "tuple index out of range",
     "output_type": "error",
     "traceback": [
      "\u001b[0;31m---------------------------------------------------------------------------\u001b[0m",
      "\u001b[0;31mIndexError\u001b[0m                                Traceback (most recent call last)",
      "\u001b[0;32m<ipython-input-186-abc41797a29b>\u001b[0m in \u001b[0;36m<module>\u001b[0;34m\u001b[0m\n\u001b[0;32m----> 1\u001b[0;31m \u001b[0mdf_glove\u001b[0m \u001b[0;34m=\u001b[0m \u001b[0moutput_table\u001b[0m\u001b[0;34m(\u001b[0m\u001b[0mglove\u001b[0m\u001b[0;34m)\u001b[0m\u001b[0;34m\u001b[0m\u001b[0;34m\u001b[0m\u001b[0m\n\u001b[0m",
      "\u001b[0;32m<ipython-input-176-487e54bfe899>\u001b[0m in \u001b[0;36moutput_table\u001b[0;34m(model)\u001b[0m\n\u001b[1;32m     55\u001b[0m \u001b[0;34m\u001b[0m\u001b[0m\n\u001b[1;32m     56\u001b[0m             \u001b[0;31m# calculate the effect size\u001b[0m\u001b[0;34m\u001b[0m\u001b[0;34m\u001b[0m\u001b[0;34m\u001b[0m\u001b[0m\n\u001b[0;32m---> 57\u001b[0;31m             \u001b[0meffect_size\u001b[0m\u001b[0;34m.\u001b[0m\u001b[0mappend\u001b[0m\u001b[0;34m(\u001b[0m\u001b[0mweat_object\u001b[0m\u001b[0;34m.\u001b[0m\u001b[0meffect_size\u001b[0m\u001b[0;34m(\u001b[0m\u001b[0mt1\u001b[0m\u001b[0;34m,\u001b[0m \u001b[0mt2\u001b[0m\u001b[0;34m,\u001b[0m \u001b[0ma1\u001b[0m\u001b[0;34m,\u001b[0m \u001b[0ma2\u001b[0m\u001b[0;34m)\u001b[0m\u001b[0;34m)\u001b[0m\u001b[0;34m\u001b[0m\u001b[0;34m\u001b[0m\u001b[0m\n\u001b[0m\u001b[1;32m     58\u001b[0m \u001b[0;34m\u001b[0m\u001b[0m\n\u001b[1;32m     59\u001b[0m             \u001b[0;31m# calculate the p-value\u001b[0m\u001b[0;34m\u001b[0m\u001b[0;34m\u001b[0m\u001b[0;34m\u001b[0m\u001b[0m\n",
      "\u001b[0;32m~/Documents/GW/Machine Learning/Research/CODE/WEAT-WEFAT/lib/weat.py\u001b[0m in \u001b[0;36meffect_size\u001b[0;34m(self, t1, t2, att1, att2)\u001b[0m\n\u001b[1;32m     89\u001b[0m         '''\n\u001b[1;32m     90\u001b[0m         \u001b[0mcombined\u001b[0m \u001b[0;34m=\u001b[0m \u001b[0mnp\u001b[0m\u001b[0;34m.\u001b[0m\u001b[0mconcatenate\u001b[0m\u001b[0;34m(\u001b[0m\u001b[0;34m[\u001b[0m\u001b[0mt1\u001b[0m\u001b[0;34m,\u001b[0m \u001b[0mt2\u001b[0m\u001b[0;34m]\u001b[0m\u001b[0;34m,\u001b[0m \u001b[0maxis\u001b[0m\u001b[0;34m=\u001b[0m\u001b[0;36m0\u001b[0m\u001b[0;34m)\u001b[0m\u001b[0;34m\u001b[0m\u001b[0;34m\u001b[0m\u001b[0m\n\u001b[0;32m---> 91\u001b[0;31m         \u001b[0mnum1\u001b[0m \u001b[0;34m=\u001b[0m \u001b[0mnp\u001b[0m\u001b[0;34m.\u001b[0m\u001b[0mmean\u001b[0m\u001b[0;34m(\u001b[0m\u001b[0mself\u001b[0m\u001b[0;34m.\u001b[0m\u001b[0massociation\u001b[0m\u001b[0;34m(\u001b[0m\u001b[0mt1\u001b[0m\u001b[0;34m,\u001b[0m \u001b[0matt1\u001b[0m\u001b[0;34m,\u001b[0m \u001b[0matt2\u001b[0m\u001b[0;34m)\u001b[0m\u001b[0;34m,\u001b[0m \u001b[0maxis\u001b[0m\u001b[0;34m=\u001b[0m\u001b[0;36m0\u001b[0m\u001b[0;34m)\u001b[0m\u001b[0;34m\u001b[0m\u001b[0;34m\u001b[0m\u001b[0m\n\u001b[0m\u001b[1;32m     92\u001b[0m         \u001b[0mnum2\u001b[0m \u001b[0;34m=\u001b[0m \u001b[0mnp\u001b[0m\u001b[0;34m.\u001b[0m\u001b[0mmean\u001b[0m\u001b[0;34m(\u001b[0m\u001b[0mself\u001b[0m\u001b[0;34m.\u001b[0m\u001b[0massociation\u001b[0m\u001b[0;34m(\u001b[0m\u001b[0mt2\u001b[0m\u001b[0;34m,\u001b[0m \u001b[0matt1\u001b[0m\u001b[0;34m,\u001b[0m \u001b[0matt2\u001b[0m\u001b[0;34m)\u001b[0m\u001b[0;34m,\u001b[0m \u001b[0maxis\u001b[0m\u001b[0;34m=\u001b[0m\u001b[0;36m0\u001b[0m\u001b[0;34m)\u001b[0m\u001b[0;34m\u001b[0m\u001b[0;34m\u001b[0m\u001b[0m\n\u001b[1;32m     93\u001b[0m         \u001b[0mdenom\u001b[0m \u001b[0;34m=\u001b[0m \u001b[0mnp\u001b[0m\u001b[0;34m.\u001b[0m\u001b[0mstd\u001b[0m\u001b[0;34m(\u001b[0m\u001b[0mself\u001b[0m\u001b[0;34m.\u001b[0m\u001b[0massociation\u001b[0m\u001b[0;34m(\u001b[0m\u001b[0mcombined\u001b[0m\u001b[0;34m,\u001b[0m \u001b[0matt1\u001b[0m\u001b[0;34m,\u001b[0m \u001b[0matt2\u001b[0m\u001b[0;34m)\u001b[0m\u001b[0;34m)\u001b[0m\u001b[0;34m\u001b[0m\u001b[0;34m\u001b[0m\u001b[0m\n",
      "\u001b[0;32m<__array_function__ internals>\u001b[0m in \u001b[0;36mmean\u001b[0;34m(*args, **kwargs)\u001b[0m\n",
      "\u001b[0;32m~/Library/Python/3.7/lib/python/site-packages/numpy/core/fromnumeric.py\u001b[0m in \u001b[0;36mmean\u001b[0;34m(a, axis, dtype, out, keepdims)\u001b[0m\n\u001b[1;32m   3330\u001b[0m             \u001b[0;32mpass\u001b[0m\u001b[0;34m\u001b[0m\u001b[0;34m\u001b[0m\u001b[0m\n\u001b[1;32m   3331\u001b[0m         \u001b[0;32melse\u001b[0m\u001b[0;34m:\u001b[0m\u001b[0;34m\u001b[0m\u001b[0;34m\u001b[0m\u001b[0m\n\u001b[0;32m-> 3332\u001b[0;31m             \u001b[0;32mreturn\u001b[0m \u001b[0mmean\u001b[0m\u001b[0;34m(\u001b[0m\u001b[0maxis\u001b[0m\u001b[0;34m=\u001b[0m\u001b[0maxis\u001b[0m\u001b[0;34m,\u001b[0m \u001b[0mdtype\u001b[0m\u001b[0;34m=\u001b[0m\u001b[0mdtype\u001b[0m\u001b[0;34m,\u001b[0m \u001b[0mout\u001b[0m\u001b[0;34m=\u001b[0m\u001b[0mout\u001b[0m\u001b[0;34m,\u001b[0m \u001b[0;34m**\u001b[0m\u001b[0mkwargs\u001b[0m\u001b[0;34m)\u001b[0m\u001b[0;34m\u001b[0m\u001b[0;34m\u001b[0m\u001b[0m\n\u001b[0m\u001b[1;32m   3333\u001b[0m \u001b[0;34m\u001b[0m\u001b[0m\n\u001b[1;32m   3334\u001b[0m     return _methods._mean(a, axis=axis, dtype=dtype,\n",
      "\u001b[0;32m~/Library/Python/3.7/lib/python/site-packages/numpy/core/_methods.py\u001b[0m in \u001b[0;36m_mean\u001b[0;34m(a, axis, dtype, out, keepdims)\u001b[0m\n\u001b[1;32m    136\u001b[0m \u001b[0;34m\u001b[0m\u001b[0m\n\u001b[1;32m    137\u001b[0m     \u001b[0mis_float16_result\u001b[0m \u001b[0;34m=\u001b[0m \u001b[0;32mFalse\u001b[0m\u001b[0;34m\u001b[0m\u001b[0;34m\u001b[0m\u001b[0m\n\u001b[0;32m--> 138\u001b[0;31m     \u001b[0mrcount\u001b[0m \u001b[0;34m=\u001b[0m \u001b[0m_count_reduce_items\u001b[0m\u001b[0;34m(\u001b[0m\u001b[0marr\u001b[0m\u001b[0;34m,\u001b[0m \u001b[0maxis\u001b[0m\u001b[0;34m)\u001b[0m\u001b[0;34m\u001b[0m\u001b[0;34m\u001b[0m\u001b[0m\n\u001b[0m\u001b[1;32m    139\u001b[0m     \u001b[0;31m# Make this warning show up first\u001b[0m\u001b[0;34m\u001b[0m\u001b[0;34m\u001b[0m\u001b[0;34m\u001b[0m\u001b[0m\n\u001b[1;32m    140\u001b[0m     \u001b[0;32mif\u001b[0m \u001b[0mrcount\u001b[0m \u001b[0;34m==\u001b[0m \u001b[0;36m0\u001b[0m\u001b[0;34m:\u001b[0m\u001b[0;34m\u001b[0m\u001b[0;34m\u001b[0m\u001b[0m\n",
      "\u001b[0;32m~/Library/Python/3.7/lib/python/site-packages/numpy/core/_methods.py\u001b[0m in \u001b[0;36m_count_reduce_items\u001b[0;34m(arr, axis)\u001b[0m\n\u001b[1;32m     55\u001b[0m     \u001b[0mitems\u001b[0m \u001b[0;34m=\u001b[0m \u001b[0;36m1\u001b[0m\u001b[0;34m\u001b[0m\u001b[0;34m\u001b[0m\u001b[0m\n\u001b[1;32m     56\u001b[0m     \u001b[0;32mfor\u001b[0m \u001b[0max\u001b[0m \u001b[0;32min\u001b[0m \u001b[0maxis\u001b[0m\u001b[0;34m:\u001b[0m\u001b[0;34m\u001b[0m\u001b[0;34m\u001b[0m\u001b[0m\n\u001b[0;32m---> 57\u001b[0;31m         \u001b[0mitems\u001b[0m \u001b[0;34m*=\u001b[0m \u001b[0marr\u001b[0m\u001b[0;34m.\u001b[0m\u001b[0mshape\u001b[0m\u001b[0;34m[\u001b[0m\u001b[0max\u001b[0m\u001b[0;34m]\u001b[0m\u001b[0;34m\u001b[0m\u001b[0;34m\u001b[0m\u001b[0m\n\u001b[0m\u001b[1;32m     58\u001b[0m     \u001b[0;32mreturn\u001b[0m \u001b[0mitems\u001b[0m\u001b[0;34m\u001b[0m\u001b[0;34m\u001b[0m\u001b[0m\n\u001b[1;32m     59\u001b[0m \u001b[0;34m\u001b[0m\u001b[0m\n",
      "\u001b[0;31mIndexError\u001b[0m: tuple index out of range"
     ]
    }
   ],
   "source": [
    "df_glove = output_table(glove)"
   ]
  },
  {
   "cell_type": "code",
   "execution_count": 150,
   "metadata": {
    "ExecuteTime": {
     "end_time": "2020-11-20T08:40:00.271348Z",
     "start_time": "2020-11-20T08:40:00.263412Z"
    },
    "scrolled": true
   },
   "outputs": [
    {
     "data": {
      "text/html": [
       "<div>\n",
       "<style scoped>\n",
       "    .dataframe tbody tr th:only-of-type {\n",
       "        vertical-align: middle;\n",
       "    }\n",
       "\n",
       "    .dataframe tbody tr th {\n",
       "        vertical-align: top;\n",
       "    }\n",
       "\n",
       "    .dataframe thead th {\n",
       "        text-align: right;\n",
       "    }\n",
       "</style>\n",
       "<table border=\"1\" class=\"dataframe\">\n",
       "  <thead>\n",
       "    <tr style=\"text-align: right;\">\n",
       "      <th></th>\n",
       "      <th>Targets</th>\n",
       "      <th>Attributes</th>\n",
       "      <th>Effect Size</th>\n",
       "      <th>P-Value</th>\n",
       "    </tr>\n",
       "  </thead>\n",
       "  <tbody>\n",
       "    <tr>\n",
       "      <th>0</th>\n",
       "      <td>[Instruments, Weapons]</td>\n",
       "      <td>[Pleasant, Unpleasant]</td>\n",
       "      <td>2.167833</td>\n",
       "      <td>0.0</td>\n",
       "    </tr>\n",
       "  </tbody>\n",
       "</table>\n",
       "</div>"
      ],
      "text/plain": [
       "                  Targets              Attributes  Effect Size  P-Value\n",
       "0  [Instruments, Weapons]  [Pleasant, Unpleasant]     2.167833      0.0"
      ]
     },
     "execution_count": 150,
     "metadata": {},
     "output_type": "execute_result"
    }
   ],
   "source": [
    "df_glove"
   ]
  },
  {
   "cell_type": "code",
   "execution_count": 112,
   "metadata": {
    "ExecuteTime": {
     "end_time": "2020-11-20T08:18:29.882582Z",
     "start_time": "2020-11-20T08:18:29.877532Z"
    }
   },
   "outputs": [],
   "source": [
    "A = np.random.randint(2, size=(25, 300))\n",
    "B = np.random.randint(2, size=(25, 300))"
   ]
  },
  {
   "cell_type": "code",
   "execution_count": 113,
   "metadata": {
    "ExecuteTime": {
     "end_time": "2020-11-20T08:18:30.363146Z",
     "start_time": "2020-11-20T08:18:30.356574Z"
    }
   },
   "outputs": [
    {
     "data": {
      "text/plain": [
       "array([[0, 1, 1, ..., 1, 0, 1],\n",
       "       [1, 1, 1, ..., 0, 1, 0],\n",
       "       [1, 0, 0, ..., 0, 0, 0],\n",
       "       ...,\n",
       "       [1, 0, 1, ..., 0, 0, 1],\n",
       "       [0, 0, 0, ..., 1, 0, 0],\n",
       "       [1, 1, 1, ..., 0, 0, 1]])"
      ]
     },
     "execution_count": 113,
     "metadata": {},
     "output_type": "execute_result"
    }
   ],
   "source": [
    "A"
   ]
  },
  {
   "cell_type": "code",
   "execution_count": 114,
   "metadata": {
    "ExecuteTime": {
     "end_time": "2020-11-20T08:18:31.482630Z",
     "start_time": "2020-11-20T08:18:31.476981Z"
    }
   },
   "outputs": [
    {
     "data": {
      "text/plain": [
       "array([[1, 1, 0, ..., 0, 1, 1],\n",
       "       [0, 1, 0, ..., 1, 0, 1],\n",
       "       [0, 1, 1, ..., 1, 0, 1],\n",
       "       ...,\n",
       "       [0, 0, 1, ..., 1, 0, 0],\n",
       "       [1, 1, 0, ..., 1, 0, 0],\n",
       "       [0, 0, 1, ..., 1, 1, 0]])"
      ]
     },
     "execution_count": 114,
     "metadata": {},
     "output_type": "execute_result"
    }
   ],
   "source": [
    "B"
   ]
  },
  {
   "cell_type": "code",
   "execution_count": 115,
   "metadata": {
    "ExecuteTime": {
     "end_time": "2020-11-20T08:18:33.729992Z",
     "start_time": "2020-11-20T08:18:33.724531Z"
    }
   },
   "outputs": [
    {
     "data": {
      "text/plain": [
       "(25, 300)"
      ]
     },
     "execution_count": 115,
     "metadata": {},
     "output_type": "execute_result"
    }
   ],
   "source": [
    "A.shape"
   ]
  },
  {
   "cell_type": "code",
   "execution_count": 159,
   "metadata": {
    "ExecuteTime": {
     "end_time": "2020-11-20T08:42:23.168976Z",
     "start_time": "2020-11-20T08:42:23.163957Z"
    }
   },
   "outputs": [
    {
     "data": {
      "text/plain": [
       "(25, 300)"
      ]
     },
     "execution_count": 159,
     "metadata": {},
     "output_type": "execute_result"
    }
   ],
   "source": [
    "B.shape"
   ]
  },
  {
   "cell_type": "code",
   "execution_count": 117,
   "metadata": {
    "ExecuteTime": {
     "end_time": "2020-11-20T08:18:35.125543Z",
     "start_time": "2020-11-20T08:18:35.120450Z"
    }
   },
   "outputs": [],
   "source": [
    "mag_a = A/np.linalg.norm(A)\n",
    "mag_b = B/np.linalg.norm(B)"
   ]
  },
  {
   "cell_type": "code",
   "execution_count": 168,
   "metadata": {
    "ExecuteTime": {
     "end_time": "2020-11-20T08:49:44.569486Z",
     "start_time": "2020-11-20T08:49:44.565992Z"
    }
   },
   "outputs": [
    {
     "data": {
      "text/plain": [
       "(25, 300)"
      ]
     },
     "execution_count": 168,
     "metadata": {},
     "output_type": "execute_result"
    }
   ],
   "source": [
    "mag_a.shape"
   ]
  },
  {
   "cell_type": "code",
   "execution_count": 169,
   "metadata": {
    "ExecuteTime": {
     "end_time": "2020-11-20T17:44:51.223719Z",
     "start_time": "2020-11-20T17:44:51.115146Z"
    },
    "scrolled": true
   },
   "outputs": [
    {
     "data": {
      "text/plain": [
       "array([0.45241789, 0.57356745, 0.47540385, 0.49893067, 0.48486866,\n",
       "       0.5403054 , 0.51813071, 0.50136447, 0.51028844, 0.40211919,\n",
       "       0.46729116, 0.50136447, 0.47053624, 0.54544344, 0.45593339,\n",
       "       0.51867155, 0.404553  , 0.49135882, 0.49622643, 0.52029409,\n",
       "       0.56275052, 0.48243486, 0.44809112, 0.47864893, 0.49757855])"
      ]
     },
     "execution_count": 169,
     "metadata": {},
     "output_type": "execute_result"
    }
   ],
   "source": [
    "np.sum(np.matmul(mag_a, mag_b.T), axis=1)"
   ]
  },
  {
   "cell_type": "code",
   "execution_count": null,
   "metadata": {},
   "outputs": [],
   "source": []
  },
  {
   "cell_type": "code",
   "execution_count": 95,
   "metadata": {
    "ExecuteTime": {
     "end_time": "2020-11-20T04:29:15.306258Z",
     "start_time": "2020-11-20T04:29:15.281023Z"
    }
   },
   "outputs": [
    {
     "ename": "TypeError",
     "evalue": "only integer scalar arrays can be converted to a scalar index",
     "output_type": "error",
     "traceback": [
      "\u001b[0;31m---------------------------------------------------------------------------\u001b[0m",
      "\u001b[0;31mTypeError\u001b[0m                                 Traceback (most recent call last)",
      "\u001b[0;32m<ipython-input-95-e22f8c423250>\u001b[0m in \u001b[0;36m<module>\u001b[0;34m\u001b[0m\n\u001b[0;32m----> 1\u001b[0;31m \u001b[0mnp\u001b[0m\u001b[0;34m.\u001b[0m\u001b[0mconcatenate\u001b[0m\u001b[0;34m(\u001b[0m\u001b[0mglove\u001b[0m\u001b[0;34m[\u001b[0m\u001b[0;34m'cat'\u001b[0m\u001b[0;34m]\u001b[0m\u001b[0;34m,\u001b[0m \u001b[0mglove\u001b[0m\u001b[0;34m[\u001b[0m\u001b[0;34m'dog'\u001b[0m\u001b[0;34m]\u001b[0m\u001b[0;34m)\u001b[0m\u001b[0;34m\u001b[0m\u001b[0;34m\u001b[0m\u001b[0m\n\u001b[0m",
      "\u001b[0;32m<__array_function__ internals>\u001b[0m in \u001b[0;36mconcatenate\u001b[0;34m(*args, **kwargs)\u001b[0m\n",
      "\u001b[0;31mTypeError\u001b[0m: only integer scalar arrays can be converted to a scalar index"
     ]
    }
   ],
   "source": []
  },
  {
   "cell_type": "code",
   "execution_count": null,
   "metadata": {},
   "outputs": [],
   "source": []
  },
  {
   "cell_type": "code",
   "execution_count": null,
   "metadata": {},
   "outputs": [],
   "source": []
  },
  {
   "cell_type": "code",
   "execution_count": 78,
   "metadata": {
    "ExecuteTime": {
     "end_time": "2020-11-20T04:24:21.645952Z",
     "start_time": "2020-11-20T04:24:21.636175Z"
    },
    "scrolled": false
   },
   "outputs": [
    {
     "data": {
      "text/plain": [
       "0.018540048095223367"
      ]
     },
     "execution_count": 78,
     "metadata": {},
     "output_type": "execute_result"
    }
   ],
   "source": [
    "df_glove['P-Value'][0]"
   ]
  },
  {
   "cell_type": "code",
   "execution_count": null,
   "metadata": {
    "ExecuteTime": {
     "end_time": "2020-11-20T03:41:56.501680Z",
     "start_time": "2020-11-20T03:41:47.146Z"
    }
   },
   "outputs": [],
   "source": [
    "len(df_glove['P-Value'][0])"
   ]
  },
  {
   "cell_type": "code",
   "execution_count": null,
   "metadata": {
    "ExecuteTime": {
     "end_time": "2020-11-03T01:26:33.905698Z",
     "start_time": "2020-11-03T01:26:33.760540Z"
    }
   },
   "outputs": [],
   "source": [
    "df_word2vec"
   ]
  },
  {
   "cell_type": "code",
   "execution_count": null,
   "metadata": {
    "ExecuteTime": {
     "end_time": "2020-11-20T00:55:21.769903Z",
     "start_time": "2020-11-20T00:55:21.756903Z"
    }
   },
   "outputs": [],
   "source": [
    "df_word2vec = output_table(word2vec)"
   ]
  },
  {
   "cell_type": "code",
   "execution_count": null,
   "metadata": {
    "ExecuteTime": {
     "end_time": "2020-11-03T01:47:45.251558Z",
     "start_time": "2020-11-03T01:47:45.233851Z"
    }
   },
   "outputs": [],
   "source": [
    "_, _, t1, t2, a1, a2 = get_matrices('targets_attributes_data/instruments vs weapons.csv', glove)"
   ]
  },
  {
   "cell_type": "code",
   "execution_count": null,
   "metadata": {
    "ExecuteTime": {
     "end_time": "2020-11-03T01:48:07.691943Z",
     "start_time": "2020-11-03T01:48:07.672308Z"
    }
   },
   "outputs": [],
   "source": [
    "attributes = np.concatenate([a1, a2])"
   ]
  },
  {
   "cell_type": "code",
   "execution_count": null,
   "metadata": {
    "ExecuteTime": {
     "end_time": "2020-11-03T02:03:51.751727Z",
     "start_time": "2020-11-03T02:03:51.744416Z"
    }
   },
   "outputs": [],
   "source": [
    "# calculate the zscores\n",
    "z_scores = scipy.stats.zscore(attributes, axis=0)\n",
    "\n",
    "# calculate the p-values\n",
    "p_values = scipy.stats.norm.pdf(abs(z_scores))"
   ]
  },
  {
   "cell_type": "code",
   "execution_count": null,
   "metadata": {
    "ExecuteTime": {
     "end_time": "2020-11-03T02:04:41.762064Z",
     "start_time": "2020-11-03T02:04:41.755694Z"
    }
   },
   "outputs": [],
   "source": [
    "p_values.max()"
   ]
  },
  {
   "cell_type": "code",
   "execution_count": null,
   "metadata": {
    "ExecuteTime": {
     "end_time": "2020-11-03T02:25:08.147749Z",
     "start_time": "2020-11-03T02:25:08.116165Z"
    }
   },
   "outputs": [],
   "source": [
    "attributes"
   ]
  },
  {
   "cell_type": "code",
   "execution_count": null,
   "metadata": {},
   "outputs": [],
   "source": []
  },
  {
   "cell_type": "code",
   "execution_count": null,
   "metadata": {},
   "outputs": [],
   "source": []
  },
  {
   "cell_type": "code",
   "execution_count": null,
   "metadata": {
    "ExecuteTime": {
     "end_time": "2020-11-01T21:21:31.958257Z",
     "start_time": "2020-11-01T21:21:31.953887Z"
    }
   },
   "outputs": [],
   "source": [
    "# df_word2vec.to_csv('output/weat_score_word2vec.csv')"
   ]
  },
  {
   "cell_type": "code",
   "execution_count": null,
   "metadata": {},
   "outputs": [],
   "source": [
    "import numpy as np"
   ]
  },
  {
   "cell_type": "code",
   "execution_count": null,
   "metadata": {},
   "outputs": [],
   "source": [
    "from sympy.utilities.iterables import multiset_partitions"
   ]
  },
  {
   "cell_type": "code",
   "execution_count": null,
   "metadata": {},
   "outputs": [],
   "source": [
    "    idx = np.zeros(6)\n",
    "    idx[:6 // 2] = 1"
   ]
  },
  {
   "cell_type": "code",
   "execution_count": null,
   "metadata": {},
   "outputs": [],
   "source": [
    "idx"
   ]
  },
  {
   "cell_type": "code",
   "execution_count": null,
   "metadata": {
    "tags": []
   },
   "outputs": [],
   "source": [
    "for i in multiset_partitions(idx):\n",
    "    print(i)"
   ]
  },
  {
   "cell_type": "code",
   "execution_count": null,
   "metadata": {
    "tags": []
   },
   "outputs": [],
   "source": [
    "import itertools \n",
    "for permutation in itertools.islice(itertools.permutations(['cat', 'dog', 'pillow']), 0, 2):\n",
    "    print(np.array(permutation))"
   ]
  },
  {
   "cell_type": "code",
   "execution_count": null,
   "metadata": {},
   "outputs": [],
   "source": [
    "2 / 2"
   ]
  },
  {
   "cell_type": "code",
   "execution_count": null,
   "metadata": {
    "ExecuteTime": {
     "end_time": "2020-11-20T00:58:47.907639Z",
     "start_time": "2020-11-20T00:58:47.869033Z"
    }
   },
   "outputs": [],
   "source": [
    "test = ['cat', 'dog', 'fat']\n",
    "test = np.array(test[:-1])\n",
    "test"
   ]
  },
  {
   "cell_type": "code",
   "execution_count": null,
   "metadata": {
    "ExecuteTime": {
     "end_time": "2020-11-20T01:07:29.858654Z",
     "start_time": "2020-11-20T01:07:29.854572Z"
    }
   },
   "outputs": [],
   "source": [
    "if (test.shape[0] % 2 != False):\n",
    "    print('yay')"
   ]
  },
  {
   "cell_type": "code",
   "execution_count": null,
   "metadata": {
    "ExecuteTime": {
     "end_time": "2020-11-20T01:08:37.675891Z",
     "start_time": "2020-11-20T01:08:37.669756Z"
    }
   },
   "outputs": [],
   "source": [
    "test.shape[0] % 2 == 0"
   ]
  },
  {
   "cell_type": "code",
   "execution_count": null,
   "metadata": {},
   "outputs": [],
   "source": []
  }
 ],
 "metadata": {
  "kernelspec": {
   "display_name": "Python 3.7.3 64-bit",
   "language": "python",
   "name": "python37364bit4db73d59933341feaa47a8db6a2db2c7"
  },
  "language_info": {
   "codemirror_mode": {
    "name": "ipython",
    "version": 3
   },
   "file_extension": ".py",
   "mimetype": "text/x-python",
   "name": "python",
   "nbconvert_exporter": "python",
   "pygments_lexer": "ipython3",
   "version": "3.7.3"
  }
 },
 "nbformat": 4,
 "nbformat_minor": 4
}

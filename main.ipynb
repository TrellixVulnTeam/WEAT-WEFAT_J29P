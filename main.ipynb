{
 "cells": [
  {
   "cell_type": "markdown",
   "metadata": {},
   "source": [
    "## Import Modules"
   ]
  },
  {
   "cell_type": "code",
   "execution_count": 4,
   "metadata": {
    "ExecuteTime": {
     "end_time": "2021-02-25T19:27:19.650234Z",
     "start_time": "2021-02-25T19:27:19.351090Z"
    }
   },
   "outputs": [],
   "source": [
    "import pandas as pd\n",
    "import numpy as np \n",
    "from gensim import models\n",
    "from lib import weat\n",
    "import os\n",
    "import scipy\n",
    "import matplotlib.pyplot as plt\n",
    "import importlib\n",
    "from scipy import stats\n",
    "import seaborn as sns\n",
    "import fasttext\n",
    "import fasttext.util\n",
    "import glob"
   ]
  },
  {
   "cell_type": "markdown",
   "metadata": {},
   "source": [
    "## Load Glove Model"
   ]
  },
  {
   "cell_type": "code",
   "execution_count": 17,
   "metadata": {
    "ExecuteTime": {
     "end_time": "2021-01-26T04:32:12.739496Z",
     "start_time": "2021-01-26T04:32:12.728808Z"
    }
   },
   "outputs": [],
   "source": [
    "# import and load glove model\n",
    "def loadGloveModel(file):\n",
    "    print(\"Loading glove model...\")\n",
    "    f = open(file,'r', encoding='utf-8')\n",
    "    gloveModel = {}\n",
    "    for line in f:\n",
    "        splitLines = line.split(' ')\n",
    "        word = splitLines[0]\n",
    "        wordEmbedding = np.array([float(value) for value in splitLines[1:]])\n",
    "        gloveModel[word] = wordEmbedding\n",
    "    print(len(gloveModel),\" words loaded!\")\n",
    "    return gloveModel"
   ]
  },
  {
   "cell_type": "code",
   "execution_count": 18,
   "metadata": {
    "ExecuteTime": {
     "end_time": "2021-01-26T04:35:20.881328Z",
     "start_time": "2021-01-26T04:32:12.930731Z"
    }
   },
   "outputs": [
    {
     "name": "stdout",
     "output_type": "stream",
     "text": [
      "Loading glove model...\n",
      "2196017  words loaded!\n"
     ]
    }
   ],
   "source": [
    "# load Glove model\n",
    "glove = loadGloveModel('data/glove.840B.300d.txt')"
   ]
  },
  {
   "cell_type": "markdown",
   "metadata": {
    "ExecuteTime": {
     "end_time": "2021-01-26T04:05:41.647596Z",
     "start_time": "2021-01-26T04:05:41.630143Z"
    }
   },
   "source": [
    "## Load fastText model"
   ]
  },
  {
   "cell_type": "code",
   "execution_count": 5,
   "metadata": {
    "ExecuteTime": {
     "end_time": "2021-02-25T19:27:23.103056Z",
     "start_time": "2021-02-25T19:27:23.098244Z"
    }
   },
   "outputs": [],
   "source": [
    "def load_fasttext(model): \n",
    "    \n",
    "    model_path = 'data/' + model\n",
    "    ft = fasttext.load_model(model_path)\n",
    "    return ft"
   ]
  },
  {
   "cell_type": "code",
   "execution_count": 6,
   "metadata": {
    "ExecuteTime": {
     "end_time": "2021-02-25T19:27:31.078611Z",
     "start_time": "2021-02-25T19:27:24.861209Z"
    }
   },
   "outputs": [
    {
     "data": {
      "text/plain": [
       "<fasttext.FastText._FastText at 0x12e0436d0>"
      ]
     },
     "execution_count": 6,
     "metadata": {},
     "output_type": "execute_result"
    }
   ],
   "source": [
    "fasttext.load_model('data/cc.ht.300.bin')"
   ]
  },
  {
   "cell_type": "code",
   "execution_count": 7,
   "metadata": {
    "ExecuteTime": {
     "end_time": "2021-02-25T19:27:40.417559Z",
     "start_time": "2021-02-25T19:27:33.968372Z"
    }
   },
   "outputs": [],
   "source": [
    "ft = load_fasttext('cc.ht.300.bin')"
   ]
  },
  {
   "cell_type": "code",
   "execution_count": 248,
   "metadata": {
    "ExecuteTime": {
     "end_time": "2021-02-07T02:08:04.298144Z",
     "start_time": "2021-02-07T02:08:04.279865Z"
    }
   },
   "outputs": [],
   "source": [
    "def normal_test(distr):\n",
    "    k2, p = stats.normaltest(distr)\n",
    "    alpha = 1e-3\n",
    "    if p < alpha: \n",
    "        return 'Yes'\n",
    "    else: return 'No'"
   ]
  },
  {
   "cell_type": "code",
   "execution_count": 11,
   "metadata": {
    "ExecuteTime": {
     "end_time": "2021-02-25T19:33:14.478412Z",
     "start_time": "2021-02-25T19:33:14.451719Z"
    }
   },
   "outputs": [],
   "source": [
    "def get_tar_att_arrays(model, t1, a1, a2, algorithm, t2=None,):\n",
    "    if algorithm == 'weat':\n",
    "        tar1 = np.array([model[vector] for vector in t1])\n",
    "        tar2 = np.array([model[vector] for vector in t2])\n",
    "        att1 = np.array([model[vector] for vector in a1])\n",
    "        att2 = np.array([model[vector] for vector in a2])\n",
    "        \n",
    "        return tar1, tar2, att1, att2\n",
    "    \n",
    "    elif algorithm == 'wefat':\n",
    "        tar1 = np.array([model[vector] for vector in t1])\n",
    "        att1 = np.array([model[vector] for vector in a1])\n",
    "        att2 = np.array([model[vector] for vector in a2])\n",
    "        \n",
    "        return tar1, att1, att2\n",
    "\n",
    "def get_matrices(filepath, model, algorithm):\n",
    "    data_file = pd.read_csv(filepath, sep=',\\s*', engine='python',  header=None, index_col=0)\n",
    "    \n",
    "    if algorithm == 'weat':\n",
    "        # get targets and attribute labels\n",
    "        target_names = list(data_file.index)[:2]\n",
    "        attribute_names = list(data_file.index)[2:]\n",
    "\n",
    "        # get targets and attribute sets\n",
    "        targets = data_file.loc[target_names]\n",
    "        attributes = data_file.loc[attribute_names]\n",
    "\n",
    "        # get arrays, one for each set of target and attribute\n",
    "        tar1 = targets.loc[target_names[0]]\n",
    "        tar2 = targets.loc[target_names[1]]\n",
    "        att1 = attributes.loc[attribute_names[0]]\n",
    "        att2 = attributes.loc[attribute_names[1]]\n",
    "\n",
    "        # remove any NaN values that have been read due to mismatch of columns \n",
    "        tar1 = tar1[~pd.isna(tar1)]\n",
    "        tar2 = tar2[~pd.isna(tar2)]\n",
    "        att1 = att1[~pd.isna(att1)]\n",
    "        att2 = att2[~pd.isna(att2)]\n",
    "\n",
    "        # give numpy array of glove word embeddings for targets and attributes\n",
    "        tar1, tar2, att1, att2 = get_tar_att_arrays(model, tar1, att1, att2, algorithm, t2 = tar2, )\n",
    "\n",
    "        return target_names, attribute_names, tar1, tar2, att1, att2\n",
    "    \n",
    "    elif algorithm == 'wefat':\n",
    "        # get targets and attribute labels\n",
    "        target_names = list(data_file.index)[:1]\n",
    "        attribute_names = list(data_file.index)[1:]\n",
    "\n",
    "        # get targets and attribute sets\n",
    "        targets = data_file.loc[target_names]\n",
    "        attributes = data_file.loc[attribute_names]\n",
    "\n",
    "        # get arrays, one for each set of target and attribute\n",
    "        tar1 = targets.loc[target_names[0]]\n",
    "        att1 = attributes.loc[attribute_names[0]]\n",
    "        att2 = attributes.loc[attribute_names[1]]\n",
    "\n",
    "        # remove any NaN values that have been read due to mismatch of columns \n",
    "        tar1 = tar1[~pd.isna(tar1)]\n",
    "        att1 = att1[~pd.isna(att1)]\n",
    "        att2 = att2[~pd.isna(att2)]\n",
    "        \n",
    "        # give numpy array of glove word embeddings for targets and attributes\n",
    "        tar1, att1, att2 = get_tar_att_arrays(model, tar1, att1, att2, algorithm)\n",
    "\n",
    "        return target_names, attribute_names, tar1, att1, att2\n",
    "\n",
    "def output_values(filepath, model, algorithm): \n",
    "    # algorithm selection\n",
    "    if algorithm == 'weat':     \n",
    "        alg_object = weat.Weat()\n",
    "        \n",
    "        # retrieve target names and attributes to form the table\n",
    "        target_names, attribute_names, _, _, _, _ = get_matrices(filepath, model, algorithm)\n",
    "        # retrive the word embeddings for the targets and attributes\n",
    "        _, _, t1, t2, a1, a2 = get_matrices(filepath, model, algorithm)\n",
    "        # calculate the effect size \n",
    "        effect_size = alg_object.effect_size(t1, t2, a1, a2)\n",
    "        # calculate the p-value, test statistic, and permutations\n",
    "        p_val, test_stat, distr = alg_object.p_value(t1, t2, a1, a2)\n",
    "        \n",
    "        \n",
    "    elif algorithm =='wefat':\n",
    "        alg_object = weat.Wefat()\n",
    "        \n",
    "        # retrieve target names and attributes to form the table\n",
    "        target_names, attribute_names, _, _, _ = get_matrices(filepath, model, algorithm)\n",
    "        # retrive the word embeddings for the targets and attributes\n",
    "        _, _, targets, a1, a2 = get_matrices(filepath, model, algorithm)\n",
    "        \n",
    "        effect_size, p_val = list(), list()\n",
    "        for target in targets:\n",
    "            # calculate the effect size \n",
    "            eff_size = alg_object.effect_size(target, a1, a2)\n",
    "            effect_size.append(eff_size)\n",
    "            \n",
    "            # calculate the p-value, test statistic, and permutations\n",
    "            p_value, test_stat, distr = alg_object.p_value(target, a1, a2)\n",
    "            p_val.append(p_value)\n",
    "\n",
    "    \n",
    "    return target_names, attribute_names, effect_size, p_val\n",
    "\n",
    "def output_table(model, algorithm, directory=None, filepath=None):\n",
    "    print('Reading files...\\n')\n",
    "    \n",
    "    # if a directory is given to run the test on all files\n",
    "    if directory: \n",
    "        targets, attributes, effect_size, p_value = dict(), dict(), dict(), dict()\n",
    "        # loop over all files in the directory\n",
    "        for index, filename in enumerate(os.listdir(directory)):\n",
    "            if not filename.startswith('.'):  # ignore hidden files\n",
    "                filepath = directory + filename\n",
    "                print (filepath)\n",
    "                targets[index], attributes[index], effect_size[index], p_value[index] = \\\n",
    "                                            output_values(filepath, model, algorithm)\n",
    "        # create a dataframe with the targets, attributes, and effect size\n",
    "        output_df = pd.DataFrame(data = list(zip(targets.values(), attributes.values(), effect_size.values(), p_value.values())),\n",
    "                             columns = ['Targets', 'Attributes', 'Effect Size', 'P-Value'])\n",
    "#         output_df['Effect Size'] = output_df['Effect Size'].round(decimals=2)\n",
    "                \n",
    "    # if a specific filepath is given to the run a test only on that file          \n",
    "    elif filepath: \n",
    "        _, _, e_s, p_value = output_values(filepath, model, algorithm)\n",
    "        \n",
    "        if algorithm == 'wefat':\n",
    "            # get the targets from the first row of the file\n",
    "            target = pd.read_csv(filepath, nrows=1, header=None).dropna(axis=1).values.flatten().tolist()\n",
    "#             if target.isin('Haitian Creole word'): \n",
    "#                 target.remove('Haitian Creole word')\n",
    "            # strip whitespaces around the target names\n",
    "            target = list(map(str.strip, target))\n",
    "            output_df = pd.DataFrame(data = list(zip(target, e_s, p_value)), columns = ['Target', 'Effect Size', 'P-Value'])\n",
    "        \n",
    "        elif algorithm =='weat':\n",
    "            output_df = pd.DataFrame(data = {'Effect Size': e_s, 'P-Value': p_value}, index=[0])\n",
    "            \n",
    "        output_df['Effect Size'] = output_df['Effect Size'].round(decimals=2)\n",
    "\n",
    "    print('Finished.')\n",
    "    return output_df"
   ]
  },
  {
   "cell_type": "code",
   "execution_count": 45,
   "metadata": {
    "ExecuteTime": {
     "end_time": "2021-02-16T18:10:51.043235Z",
     "start_time": "2021-02-16T18:10:51.038660Z"
    }
   },
   "outputs": [],
   "source": [
    "os.chdir('/Users/adimaini/Documents/GW/Research/CODE.nosync/WEAT-WEFAT/')"
   ]
  },
  {
   "cell_type": "code",
   "execution_count": 98,
   "metadata": {
    "ExecuteTime": {
     "end_time": "2021-02-16T19:47:31.311903Z",
     "start_time": "2021-02-16T19:47:31.301076Z"
    }
   },
   "outputs": [],
   "source": [
    "def corpus_bins(): \n",
    "    '''Runs the OpenSubtitle 2018 corpus bins for the gender weat tests'''\n",
    "    \n",
    "    bins = [f for f in os.listdir('data/OpenTitle') if f.endswith('.bin')]\n",
    "\n",
    "    df = pd.DataFrame()\n",
    "    for corpus in bins: \n",
    "        test_df = output_table(model = load_fasttext('/OpenTitle/' + corpus), \n",
    "                       algorithm = 'weat', \n",
    "                       directory = 'targets_attributes_data/gender weat/')\n",
    "        test_df['corpus'] = corpus\n",
    "        df = pd.concat([df, test_df], axis=0)\n",
    "    \n",
    "    df.corpus = df.corpus.replace('001pct_embeddings-003.bin', 0.001)\n",
    "    df.corpus = df.corpus.replace('01pct_embeddings-006.bin', 0.01)\n",
    "    df.corpus = df.corpus.replace('1pct_embeddings-002.bin', 1)\n",
    "    df.corpus = df.corpus.replace('10pct_embeddings-005.bin', 10)\n",
    "    df.corpus = df.corpus.replace('50pct_embeddings-004.bin', 50)\n",
    "    return df"
   ]
  },
  {
   "cell_type": "code",
   "execution_count": 73,
   "metadata": {
    "ExecuteTime": {
     "end_time": "2021-02-16T18:35:52.995218Z",
     "start_time": "2021-02-16T18:35:52.987648Z"
    }
   },
   "outputs": [],
   "source": [
    "def gender_hat(): \n",
    "    '''Runs the gender weat tests using fasttext haitian creole word embeddings'''\n",
    "    gender_dir = 'targets_attributes_data/haitian-creole/gender weat/'\n",
    "    df = output_table(model = load_fasttext('cc.ht.300.bin'),\n",
    "                      algorithm = 'weat', \n",
    "                      directory = gender_dir)\n",
    "    return df"
   ]
  },
  {
   "cell_type": "markdown",
   "metadata": {},
   "source": [
    "### run the good/bad words testing for what is considered good and bad with pre-trained word embeddings"
   ]
  },
  {
   "cell_type": "code",
   "execution_count": 14,
   "metadata": {
    "ExecuteTime": {
     "end_time": "2021-02-25T19:39:44.348345Z",
     "start_time": "2021-02-25T19:37:00.064454Z"
    }
   },
   "outputs": [
    {
     "name": "stdout",
     "output_type": "stream",
     "text": [
      "Reading files...\n",
      "\n",
      "Finished.\n"
     ]
    }
   ],
   "source": [
    "df_good_bad = output_table(model=ft,\n",
    "                                filepath = '/Users/adimaini/Documents/GW/Research/CODE.nosync/WEAT-WEFAT/targets_attributes_data/haitian-creole/wefat sanitation disease etc.csv',\n",
    "                                algorithm = 'wefat')"
   ]
  },
  {
   "cell_type": "code",
   "execution_count": 27,
   "metadata": {
    "ExecuteTime": {
     "end_time": "2021-02-25T19:44:36.849452Z",
     "start_time": "2021-02-25T19:44:36.845872Z"
    }
   },
   "outputs": [],
   "source": [
    "df_good_bad_cp = df_good_bad.copy()"
   ]
  },
  {
   "cell_type": "code",
   "execution_count": 30,
   "metadata": {
    "ExecuteTime": {
     "end_time": "2021-02-25T19:48:14.121402Z",
     "start_time": "2021-02-25T19:48:14.088341Z"
    }
   },
   "outputs": [],
   "source": [
    "english_words = ['sanitation', 'clean',  'toilet', 'hands', 'water', 'hygiene', 'covid', 'vaccine',  \n",
    "                 'water', 'cholera', 'diarrhea', 'fever', 'typhoid', 'garbage', 'osmosis', 'filter', \n",
    "                 'bottled', 'wells', 'fresh', 'pump', 'springs', 'latrine', 'DINEPA', 'CAEPA', 'maintenance', \n",
    "                 'treatment', 'fecal', 'sludge', 'dirty', 'malaria', 'feces']\n",
    "df_good_bad_cp['English Words'] = english_words\n",
    "df_good_bad_cp.rename(columns={'Target': 'Haitian Word'}, inplace=True)\n",
    "new_order = ['English Words', 'Haitian Word', 'Effect Size', 'P-Value']\n",
    "df_good_bad_cp[new_order].to_csv('data/good_bad_weat.csv')"
   ]
  },
  {
   "cell_type": "code",
   "execution_count": null,
   "metadata": {},
   "outputs": [],
   "source": []
  },
  {
   "cell_type": "code",
   "execution_count": null,
   "metadata": {},
   "outputs": [],
   "source": []
  },
  {
   "cell_type": "code",
   "execution_count": 97,
   "metadata": {
    "ExecuteTime": {
     "end_time": "2021-02-16T19:47:31.297215Z",
     "start_time": "2021-02-16T19:46:13.704097Z"
    }
   },
   "outputs": [
    {
     "name": "stdout",
     "output_type": "stream",
     "text": [
      "Reading files...\n",
      "\n",
      "targets_attributes_data/haitian-creole/gender weat/science vs arts.csv\n",
      "targets_attributes_data/haitian-creole/gender weat/math vs arts.csv\n",
      "Finished.\n"
     ]
    }
   ],
   "source": [
    "df = gender_hat()"
   ]
  },
  {
   "cell_type": "code",
   "execution_count": 99,
   "metadata": {
    "ExecuteTime": {
     "end_time": "2021-02-16T19:47:59.357190Z",
     "start_time": "2021-02-16T19:47:59.340996Z"
    }
   },
   "outputs": [
    {
     "data": {
      "text/html": [
       "<div>\n",
       "<style scoped>\n",
       "    .dataframe tbody tr th:only-of-type {\n",
       "        vertical-align: middle;\n",
       "    }\n",
       "\n",
       "    .dataframe tbody tr th {\n",
       "        vertical-align: top;\n",
       "    }\n",
       "\n",
       "    .dataframe thead th {\n",
       "        text-align: right;\n",
       "    }\n",
       "</style>\n",
       "<table border=\"1\" class=\"dataframe\">\n",
       "  <thead>\n",
       "    <tr style=\"text-align: right;\">\n",
       "      <th></th>\n",
       "      <th>Targets</th>\n",
       "      <th>Attributes</th>\n",
       "      <th>Effect Size</th>\n",
       "      <th>P-Value</th>\n",
       "    </tr>\n",
       "  </thead>\n",
       "  <tbody>\n",
       "    <tr>\n",
       "      <th>0</th>\n",
       "      <td>[Science, Arts]</td>\n",
       "      <td>[Male terms, Female terms]</td>\n",
       "      <td>-0.680677</td>\n",
       "      <td>0.917522</td>\n",
       "    </tr>\n",
       "    <tr>\n",
       "      <th>1</th>\n",
       "      <td>[Math, Arts]</td>\n",
       "      <td>[Male terms, Female terms]</td>\n",
       "      <td>-0.602545</td>\n",
       "      <td>0.884332</td>\n",
       "    </tr>\n",
       "  </tbody>\n",
       "</table>\n",
       "</div>"
      ],
      "text/plain": [
       "           Targets                  Attributes  Effect Size   P-Value\n",
       "0  [Science, Arts]  [Male terms, Female terms]    -0.680677  0.917522\n",
       "1     [Math, Arts]  [Male terms, Female terms]    -0.602545  0.884332"
      ]
     },
     "execution_count": 99,
     "metadata": {},
     "output_type": "execute_result"
    }
   ],
   "source": [
    "df"
   ]
  },
  {
   "cell_type": "code",
   "execution_count": 71,
   "metadata": {
    "ExecuteTime": {
     "end_time": "2021-02-16T18:35:52.945115Z",
     "start_time": "2021-02-16T18:27:07.187434Z"
    }
   },
   "outputs": [
    {
     "name": "stdout",
     "output_type": "stream",
     "text": [
      "Reading files...\n",
      "\n",
      "targets_attributes_data/gender weat/male vs female names.csv\n",
      "targets_attributes_data/gender weat/science vs arts.csv\n",
      "targets_attributes_data/gender weat/math vs arts.csv\n",
      "Finished.\n",
      "Reading files...\n",
      "\n",
      "targets_attributes_data/gender weat/male vs female names.csv\n",
      "targets_attributes_data/gender weat/science vs arts.csv\n",
      "targets_attributes_data/gender weat/math vs arts.csv\n",
      "Finished.\n",
      "Reading files...\n",
      "\n",
      "targets_attributes_data/gender weat/male vs female names.csv\n",
      "targets_attributes_data/gender weat/science vs arts.csv\n",
      "targets_attributes_data/gender weat/math vs arts.csv\n",
      "Finished.\n",
      "Reading files...\n",
      "\n",
      "targets_attributes_data/gender weat/male vs female names.csv\n",
      "targets_attributes_data/gender weat/science vs arts.csv\n",
      "targets_attributes_data/gender weat/math vs arts.csv\n",
      "Finished.\n",
      "Reading files...\n",
      "\n",
      "targets_attributes_data/gender weat/male vs female names.csv\n",
      "targets_attributes_data/gender weat/science vs arts.csv\n",
      "targets_attributes_data/gender weat/math vs arts.csv\n",
      "Finished.\n"
     ]
    }
   ],
   "source": [
    "df = corpus_bins()"
   ]
  },
  {
   "cell_type": "markdown",
   "metadata": {},
   "source": [
    "### reading in the opensubtitles gender tests that were conducted"
   ]
  },
  {
   "cell_type": "code",
   "execution_count": 92,
   "metadata": {
    "ExecuteTime": {
     "end_time": "2021-02-16T19:41:25.237406Z",
     "start_time": "2021-02-16T19:41:25.229948Z"
    }
   },
   "outputs": [],
   "source": [
    "df = pd.read_csv('data/OpenSubtitles_gender_tests.csv', index_col=False)"
   ]
  },
  {
   "cell_type": "code",
   "execution_count": 94,
   "metadata": {
    "ExecuteTime": {
     "end_time": "2021-02-16T19:41:38.738446Z",
     "start_time": "2021-02-16T19:41:38.729917Z"
    }
   },
   "outputs": [],
   "source": [
    "df.corpus = df.corpus.replace('001pct_embeddings-003.bin', 0.001)\n",
    "df.corpus = df.corpus.replace('01pct_embeddings-006.bin', 0.01)\n",
    "df.corpus = df.corpus.replace('1pct_embeddings-002.bin', 1)\n",
    "df.corpus = df.corpus.replace('10pct_embeddings-005.bin', 10)\n",
    "df.corpus = df.corpus.replace('50pct_embeddings-004.bin', 50)\n",
    "df.drop(columns='Unnamed: 0', inplace=True)"
   ]
  },
  {
   "cell_type": "code",
   "execution_count": 96,
   "metadata": {
    "ExecuteTime": {
     "end_time": "2021-02-16T19:41:52.352616Z",
     "start_time": "2021-02-16T19:41:52.324051Z"
    }
   },
   "outputs": [
    {
     "data": {
      "text/html": [
       "<div>\n",
       "<style scoped>\n",
       "    .dataframe tbody tr th:only-of-type {\n",
       "        vertical-align: middle;\n",
       "    }\n",
       "\n",
       "    .dataframe tbody tr th {\n",
       "        vertical-align: top;\n",
       "    }\n",
       "\n",
       "    .dataframe thead th {\n",
       "        text-align: right;\n",
       "    }\n",
       "</style>\n",
       "<table border=\"1\" class=\"dataframe\">\n",
       "  <thead>\n",
       "    <tr style=\"text-align: right;\">\n",
       "      <th></th>\n",
       "      <th>Targets</th>\n",
       "      <th>Attributes</th>\n",
       "      <th>Effect Size</th>\n",
       "      <th>P-Value</th>\n",
       "      <th>corpus</th>\n",
       "    </tr>\n",
       "  </thead>\n",
       "  <tbody>\n",
       "    <tr>\n",
       "      <th>9</th>\n",
       "      <td>['Male names', 'Female names']</td>\n",
       "      <td>['Career', 'Family']</td>\n",
       "      <td>-0.115712</td>\n",
       "      <td>0.588382</td>\n",
       "      <td>0.001</td>\n",
       "    </tr>\n",
       "    <tr>\n",
       "      <th>12</th>\n",
       "      <td>['Male names', 'Female names']</td>\n",
       "      <td>['Career', 'Family']</td>\n",
       "      <td>0.582209</td>\n",
       "      <td>0.126697</td>\n",
       "      <td>0.010</td>\n",
       "    </tr>\n",
       "    <tr>\n",
       "      <th>3</th>\n",
       "      <td>['Male names', 'Female names']</td>\n",
       "      <td>['Career', 'Family']</td>\n",
       "      <td>1.521258</td>\n",
       "      <td>0.001008</td>\n",
       "      <td>1.000</td>\n",
       "    </tr>\n",
       "    <tr>\n",
       "      <th>0</th>\n",
       "      <td>['Male names', 'Female names']</td>\n",
       "      <td>['Career', 'Family']</td>\n",
       "      <td>1.358275</td>\n",
       "      <td>0.003356</td>\n",
       "      <td>10.000</td>\n",
       "    </tr>\n",
       "    <tr>\n",
       "      <th>6</th>\n",
       "      <td>['Male names', 'Female names']</td>\n",
       "      <td>['Career', 'Family']</td>\n",
       "      <td>1.540280</td>\n",
       "      <td>0.000930</td>\n",
       "      <td>50.000</td>\n",
       "    </tr>\n",
       "    <tr>\n",
       "      <th>11</th>\n",
       "      <td>['Math', 'Arts']</td>\n",
       "      <td>['Male terms', 'Female terms']</td>\n",
       "      <td>-0.560788</td>\n",
       "      <td>0.870804</td>\n",
       "      <td>0.001</td>\n",
       "    </tr>\n",
       "    <tr>\n",
       "      <th>14</th>\n",
       "      <td>['Math', 'Arts']</td>\n",
       "      <td>['Male terms', 'Female terms']</td>\n",
       "      <td>-0.440599</td>\n",
       "      <td>0.811011</td>\n",
       "      <td>0.010</td>\n",
       "    </tr>\n",
       "    <tr>\n",
       "      <th>5</th>\n",
       "      <td>['Math', 'Arts']</td>\n",
       "      <td>['Male terms', 'Female terms']</td>\n",
       "      <td>-0.125233</td>\n",
       "      <td>0.599607</td>\n",
       "      <td>1.000</td>\n",
       "    </tr>\n",
       "    <tr>\n",
       "      <th>2</th>\n",
       "      <td>['Math', 'Arts']</td>\n",
       "      <td>['Male terms', 'Female terms']</td>\n",
       "      <td>1.109598</td>\n",
       "      <td>0.013622</td>\n",
       "      <td>10.000</td>\n",
       "    </tr>\n",
       "    <tr>\n",
       "      <th>8</th>\n",
       "      <td>['Math', 'Arts']</td>\n",
       "      <td>['Male terms', 'Female terms']</td>\n",
       "      <td>1.214212</td>\n",
       "      <td>0.008197</td>\n",
       "      <td>50.000</td>\n",
       "    </tr>\n",
       "    <tr>\n",
       "      <th>10</th>\n",
       "      <td>['Science', 'Arts']</td>\n",
       "      <td>['Male terms', 'Female terms']</td>\n",
       "      <td>0.373724</td>\n",
       "      <td>0.226573</td>\n",
       "      <td>0.001</td>\n",
       "    </tr>\n",
       "    <tr>\n",
       "      <th>13</th>\n",
       "      <td>['Science', 'Arts']</td>\n",
       "      <td>['Male terms', 'Female terms']</td>\n",
       "      <td>0.341211</td>\n",
       "      <td>0.240391</td>\n",
       "      <td>0.010</td>\n",
       "    </tr>\n",
       "    <tr>\n",
       "      <th>4</th>\n",
       "      <td>['Science', 'Arts']</td>\n",
       "      <td>['Male terms', 'Female terms']</td>\n",
       "      <td>-0.251533</td>\n",
       "      <td>0.683880</td>\n",
       "      <td>1.000</td>\n",
       "    </tr>\n",
       "    <tr>\n",
       "      <th>1</th>\n",
       "      <td>['Science', 'Arts']</td>\n",
       "      <td>['Male terms', 'Female terms']</td>\n",
       "      <td>0.661281</td>\n",
       "      <td>0.093651</td>\n",
       "      <td>10.000</td>\n",
       "    </tr>\n",
       "    <tr>\n",
       "      <th>7</th>\n",
       "      <td>['Science', 'Arts']</td>\n",
       "      <td>['Male terms', 'Female terms']</td>\n",
       "      <td>0.990691</td>\n",
       "      <td>0.023703</td>\n",
       "      <td>50.000</td>\n",
       "    </tr>\n",
       "  </tbody>\n",
       "</table>\n",
       "</div>"
      ],
      "text/plain": [
       "                           Targets                      Attributes  \\\n",
       "9   ['Male names', 'Female names']            ['Career', 'Family']   \n",
       "12  ['Male names', 'Female names']            ['Career', 'Family']   \n",
       "3   ['Male names', 'Female names']            ['Career', 'Family']   \n",
       "0   ['Male names', 'Female names']            ['Career', 'Family']   \n",
       "6   ['Male names', 'Female names']            ['Career', 'Family']   \n",
       "11                ['Math', 'Arts']  ['Male terms', 'Female terms']   \n",
       "14                ['Math', 'Arts']  ['Male terms', 'Female terms']   \n",
       "5                 ['Math', 'Arts']  ['Male terms', 'Female terms']   \n",
       "2                 ['Math', 'Arts']  ['Male terms', 'Female terms']   \n",
       "8                 ['Math', 'Arts']  ['Male terms', 'Female terms']   \n",
       "10             ['Science', 'Arts']  ['Male terms', 'Female terms']   \n",
       "13             ['Science', 'Arts']  ['Male terms', 'Female terms']   \n",
       "4              ['Science', 'Arts']  ['Male terms', 'Female terms']   \n",
       "1              ['Science', 'Arts']  ['Male terms', 'Female terms']   \n",
       "7              ['Science', 'Arts']  ['Male terms', 'Female terms']   \n",
       "\n",
       "    Effect Size   P-Value  corpus  \n",
       "9     -0.115712  0.588382   0.001  \n",
       "12     0.582209  0.126697   0.010  \n",
       "3      1.521258  0.001008   1.000  \n",
       "0      1.358275  0.003356  10.000  \n",
       "6      1.540280  0.000930  50.000  \n",
       "11    -0.560788  0.870804   0.001  \n",
       "14    -0.440599  0.811011   0.010  \n",
       "5     -0.125233  0.599607   1.000  \n",
       "2      1.109598  0.013622  10.000  \n",
       "8      1.214212  0.008197  50.000  \n",
       "10     0.373724  0.226573   0.001  \n",
       "13     0.341211  0.240391   0.010  \n",
       "4     -0.251533  0.683880   1.000  \n",
       "1      0.661281  0.093651  10.000  \n",
       "7      0.990691  0.023703  50.000  "
      ]
     },
     "execution_count": 96,
     "metadata": {},
     "output_type": "execute_result"
    }
   ],
   "source": [
    "df.sort_values(by=['Targets', 'corpus'])"
   ]
  },
  {
   "cell_type": "code",
   "execution_count": null,
   "metadata": {},
   "outputs": [],
   "source": []
  },
  {
   "cell_type": "code",
   "execution_count": 6,
   "metadata": {
    "ExecuteTime": {
     "end_time": "2021-02-08T00:38:18.231885Z",
     "start_time": "2021-02-08T00:38:18.080602Z"
    }
   },
   "outputs": [
    {
     "ename": "NameError",
     "evalue": "name 'ft' is not defined",
     "output_type": "error",
     "traceback": [
      "\u001b[0;31m---------------------------------------------------------------------------\u001b[0m",
      "\u001b[0;31mNameError\u001b[0m                                 Traceback (most recent call last)",
      "\u001b[0;32m<ipython-input-6-e71eee822d8a>\u001b[0m in \u001b[0;36m<module>\u001b[0;34m\u001b[0m\n\u001b[1;32m      1\u001b[0m \u001b[0;31m# haitian-creole weat test - flowers vs insects\u001b[0m\u001b[0;34m\u001b[0m\u001b[0;34m\u001b[0m\u001b[0;34m\u001b[0m\u001b[0m\n\u001b[0;32m----> 2\u001b[0;31m \u001b[0mdf_haitian\u001b[0m \u001b[0;34m=\u001b[0m \u001b[0moutput_table\u001b[0m\u001b[0;34m(\u001b[0m\u001b[0mmodel\u001b[0m\u001b[0;34m=\u001b[0m\u001b[0mft\u001b[0m\u001b[0;34m,\u001b[0m \u001b[0mdirectory\u001b[0m\u001b[0;34m=\u001b[0m\u001b[0;34m'targets_attributes_data/haitian-creole/'\u001b[0m\u001b[0;34m,\u001b[0m \u001b[0malgorithm\u001b[0m\u001b[0;34m=\u001b[0m\u001b[0;34m'weat'\u001b[0m\u001b[0;34m)\u001b[0m\u001b[0;34m\u001b[0m\u001b[0;34m\u001b[0m\u001b[0m\n\u001b[0m",
      "\u001b[0;31mNameError\u001b[0m: name 'ft' is not defined"
     ]
    }
   ],
   "source": [
    "# haitian-creole weat test - flowers vs insects\n",
    "df_haitian = output_table(model=ft, directory='targets_attributes_data/haitian-creole/', algorithm='weat')"
   ]
  },
  {
   "cell_type": "code",
   "execution_count": 145,
   "metadata": {
    "ExecuteTime": {
     "end_time": "2021-02-03T07:19:58.080070Z",
     "start_time": "2021-02-03T07:18:42.171574Z"
    }
   },
   "outputs": [
    {
     "name": "stdout",
     "output_type": "stream",
     "text": [
      "Reading files...\n",
      "\n",
      "Finished.\n"
     ]
    }
   ],
   "source": [
    "df_haitian_wefat = output_table(model=ft,\n",
    "                                filepath = '/Users/adimaini/Documents/GW/Research/CODE/WEAT-WEFAT/targets_attributes_data/haitian-creole/sanitation disease wefat.csv',\n",
    "                                algorithm = 'wefat')"
   ]
  },
  {
   "cell_type": "code",
   "execution_count": 146,
   "metadata": {
    "ExecuteTime": {
     "end_time": "2021-02-03T07:19:58.090528Z",
     "start_time": "2021-02-03T07:19:58.082221Z"
    }
   },
   "outputs": [
    {
     "data": {
      "text/html": [
       "<div>\n",
       "<style scoped>\n",
       "    .dataframe tbody tr th:only-of-type {\n",
       "        vertical-align: middle;\n",
       "    }\n",
       "\n",
       "    .dataframe tbody tr th {\n",
       "        vertical-align: top;\n",
       "    }\n",
       "\n",
       "    .dataframe thead th {\n",
       "        text-align: right;\n",
       "    }\n",
       "</style>\n",
       "<table border=\"1\" class=\"dataframe\">\n",
       "  <thead>\n",
       "    <tr style=\"text-align: right;\">\n",
       "      <th></th>\n",
       "      <th>Target</th>\n",
       "      <th>Effect Size</th>\n",
       "      <th>P-Value</th>\n",
       "    </tr>\n",
       "  </thead>\n",
       "  <tbody>\n",
       "    <tr>\n",
       "      <th>0</th>\n",
       "      <td>sanitasyon</td>\n",
       "      <td>0.08</td>\n",
       "      <td>0.395601</td>\n",
       "    </tr>\n",
       "    <tr>\n",
       "      <th>1</th>\n",
       "      <td>ijyèn</td>\n",
       "      <td>-0.04</td>\n",
       "      <td>0.557786</td>\n",
       "    </tr>\n",
       "    <tr>\n",
       "      <th>2</th>\n",
       "      <td>flòch</td>\n",
       "      <td>0.35</td>\n",
       "      <td>0.110377</td>\n",
       "    </tr>\n",
       "    <tr>\n",
       "      <th>3</th>\n",
       "      <td>pwòp</td>\n",
       "      <td>0.27</td>\n",
       "      <td>0.171211</td>\n",
       "    </tr>\n",
       "    <tr>\n",
       "      <th>4</th>\n",
       "      <td>filtre</td>\n",
       "      <td>-0.23</td>\n",
       "      <td>0.788114</td>\n",
       "    </tr>\n",
       "    <tr>\n",
       "      <th>5</th>\n",
       "      <td>savon</td>\n",
       "      <td>-0.04</td>\n",
       "      <td>0.559481</td>\n",
       "    </tr>\n",
       "    <tr>\n",
       "      <th>6</th>\n",
       "      <td>lave</td>\n",
       "      <td>0.00</td>\n",
       "      <td>0.495642</td>\n",
       "    </tr>\n",
       "    <tr>\n",
       "      <th>7</th>\n",
       "      <td>maladi</td>\n",
       "      <td>-0.19</td>\n",
       "      <td>0.747552</td>\n",
       "    </tr>\n",
       "    <tr>\n",
       "      <th>8</th>\n",
       "      <td>dyare</td>\n",
       "      <td>-0.35</td>\n",
       "      <td>0.889312</td>\n",
       "    </tr>\n",
       "    <tr>\n",
       "      <th>9</th>\n",
       "      <td>kolera</td>\n",
       "      <td>-0.18</td>\n",
       "      <td>0.737959</td>\n",
       "    </tr>\n",
       "    <tr>\n",
       "      <th>10</th>\n",
       "      <td>poupou</td>\n",
       "      <td>-0.16</td>\n",
       "      <td>0.711165</td>\n",
       "    </tr>\n",
       "    <tr>\n",
       "      <th>11</th>\n",
       "      <td>latrin</td>\n",
       "      <td>0.39</td>\n",
       "      <td>0.083558</td>\n",
       "    </tr>\n",
       "    <tr>\n",
       "      <th>12</th>\n",
       "      <td>fatra</td>\n",
       "      <td>0.26</td>\n",
       "      <td>0.184689</td>\n",
       "    </tr>\n",
       "  </tbody>\n",
       "</table>\n",
       "</div>"
      ],
      "text/plain": [
       "        Target  Effect Size   P-Value\n",
       "0   sanitasyon         0.08  0.395601\n",
       "1        ijyèn        -0.04  0.557786\n",
       "2        flòch         0.35  0.110377\n",
       "3         pwòp         0.27  0.171211\n",
       "4       filtre        -0.23  0.788114\n",
       "5        savon        -0.04  0.559481\n",
       "6         lave         0.00  0.495642\n",
       "7       maladi        -0.19  0.747552\n",
       "8        dyare        -0.35  0.889312\n",
       "9       kolera        -0.18  0.737959\n",
       "10      poupou        -0.16  0.711165\n",
       "11      latrin         0.39  0.083558\n",
       "12       fatra         0.26  0.184689"
      ]
     },
     "execution_count": 146,
     "metadata": {},
     "output_type": "execute_result"
    }
   ],
   "source": [
    "df_haitian_wefat"
   ]
  },
  {
   "cell_type": "markdown",
   "metadata": {},
   "source": [
    "## ANEW Dataset import"
   ]
  },
  {
   "cell_type": "code",
   "execution_count": 31,
   "metadata": {
    "ExecuteTime": {
     "end_time": "2021-02-09T20:30:00.971628Z",
     "start_time": "2021-02-09T20:30:00.933307Z"
    }
   },
   "outputs": [],
   "source": [
    "anew = pd.read_csv('/Users/adimaini/Documents/GW/Research/CODE.nosync/WEAT-WEFAT/data/Bellezza_Lexicon.csv',\n",
    "                   usecols=['word', 'Haitian Creole word', 'combined_pleasantness'])"
   ]
  },
  {
   "cell_type": "code",
   "execution_count": 32,
   "metadata": {
    "ExecuteTime": {
     "end_time": "2021-02-09T20:30:01.811217Z",
     "start_time": "2021-02-09T20:30:01.787618Z"
    }
   },
   "outputs": [
    {
     "data": {
      "text/html": [
       "<div>\n",
       "<style scoped>\n",
       "    .dataframe tbody tr th:only-of-type {\n",
       "        vertical-align: middle;\n",
       "    }\n",
       "\n",
       "    .dataframe tbody tr th {\n",
       "        vertical-align: top;\n",
       "    }\n",
       "\n",
       "    .dataframe thead th {\n",
       "        text-align: right;\n",
       "    }\n",
       "</style>\n",
       "<table border=\"1\" class=\"dataframe\">\n",
       "  <thead>\n",
       "    <tr style=\"text-align: right;\">\n",
       "      <th></th>\n",
       "      <th>word</th>\n",
       "      <th>Haitian Creole word</th>\n",
       "      <th>combined_pleasantness</th>\n",
       "    </tr>\n",
       "  </thead>\n",
       "  <tbody>\n",
       "    <tr>\n",
       "      <th>8</th>\n",
       "      <td>ambition</td>\n",
       "      <td>Anbisyon</td>\n",
       "      <td>4.28</td>\n",
       "    </tr>\n",
       "    <tr>\n",
       "      <th>203</th>\n",
       "      <td>luscious</td>\n",
       "      <td>Apetisan</td>\n",
       "      <td>4.23</td>\n",
       "    </tr>\n",
       "    <tr>\n",
       "      <th>39</th>\n",
       "      <td>bunny</td>\n",
       "      <td>Bunny</td>\n",
       "      <td>4.33</td>\n",
       "    </tr>\n",
       "    <tr>\n",
       "      <th>110</th>\n",
       "      <td>errand</td>\n",
       "      <td>Komisyon</td>\n",
       "      <td>3.12</td>\n",
       "    </tr>\n",
       "    <tr>\n",
       "      <th>33</th>\n",
       "      <td>book</td>\n",
       "      <td>Liv</td>\n",
       "      <td>3.69</td>\n",
       "    </tr>\n",
       "    <tr>\n",
       "      <th>...</th>\n",
       "      <td>...</td>\n",
       "      <td>...</td>\n",
       "      <td>...</td>\n",
       "    </tr>\n",
       "    <tr>\n",
       "      <th>389</th>\n",
       "      <td>weapon</td>\n",
       "      <td>zam</td>\n",
       "      <td>2.08</td>\n",
       "    </tr>\n",
       "    <tr>\n",
       "      <th>129</th>\n",
       "      <td>friend</td>\n",
       "      <td>zanmi</td>\n",
       "      <td>4.53</td>\n",
       "    </tr>\n",
       "    <tr>\n",
       "      <th>25</th>\n",
       "      <td>bird</td>\n",
       "      <td>zwazo</td>\n",
       "      <td>4.03</td>\n",
       "    </tr>\n",
       "    <tr>\n",
       "      <th>249</th>\n",
       "      <td>pillow</td>\n",
       "      <td>zòrye</td>\n",
       "      <td>4.15</td>\n",
       "    </tr>\n",
       "    <tr>\n",
       "      <th>234</th>\n",
       "      <td>orchestra</td>\n",
       "      <td>òkès</td>\n",
       "      <td>3.88</td>\n",
       "    </tr>\n",
       "  </tbody>\n",
       "</table>\n",
       "<p>399 rows × 3 columns</p>\n",
       "</div>"
      ],
      "text/plain": [
       "          word Haitian Creole word  combined_pleasantness\n",
       "8     ambition            Anbisyon                   4.28\n",
       "203   luscious            Apetisan                   4.23\n",
       "39       bunny               Bunny                   4.33\n",
       "110     errand            Komisyon                   3.12\n",
       "33        book                 Liv                   3.69\n",
       "..         ...                 ...                    ...\n",
       "389     weapon                 zam                   2.08\n",
       "129     friend               zanmi                   4.53\n",
       "25        bird               zwazo                   4.03\n",
       "249     pillow               zòrye                   4.15\n",
       "234  orchestra                òkès                   3.88\n",
       "\n",
       "[399 rows x 3 columns]"
      ]
     },
     "execution_count": 32,
     "metadata": {},
     "output_type": "execute_result"
    }
   ],
   "source": [
    "anew.sort_values(by='Haitian Creole word')"
   ]
  },
  {
   "cell_type": "code",
   "execution_count": 29,
   "metadata": {
    "ExecuteTime": {
     "end_time": "2021-02-09T17:29:57.045467Z",
     "start_time": "2021-02-09T17:29:57.022916Z"
    }
   },
   "outputs": [
    {
     "data": {
      "text/plain": [
       "word                     19\n",
       "Haitian Creole word      19\n",
       "combined_pleasantness    19\n",
       "dtype: int64"
      ]
     },
     "execution_count": 29,
     "metadata": {},
     "output_type": "execute_result"
    }
   ],
   "source": [
    "\n",
    "anew[anew.duplicated(subset='Haitian Creole word', keep='first')].count()"
   ]
  },
  {
   "cell_type": "code",
   "execution_count": 25,
   "metadata": {
    "ExecuteTime": {
     "end_time": "2021-02-09T17:29:22.692188Z",
     "start_time": "2021-02-09T17:29:22.659714Z"
    }
   },
   "outputs": [
    {
     "data": {
      "text/html": [
       "<div>\n",
       "<style scoped>\n",
       "    .dataframe tbody tr th:only-of-type {\n",
       "        vertical-align: middle;\n",
       "    }\n",
       "\n",
       "    .dataframe tbody tr th {\n",
       "        vertical-align: top;\n",
       "    }\n",
       "\n",
       "    .dataframe thead th {\n",
       "        text-align: right;\n",
       "    }\n",
       "</style>\n",
       "<table border=\"1\" class=\"dataframe\">\n",
       "  <thead>\n",
       "    <tr style=\"text-align: right;\">\n",
       "      <th></th>\n",
       "      <th>word</th>\n",
       "      <th>Haitian Creole word</th>\n",
       "      <th>combined_pleasantness</th>\n",
       "    </tr>\n",
       "  </thead>\n",
       "  <tbody>\n",
       "    <tr>\n",
       "      <th>1</th>\n",
       "      <td>accident</td>\n",
       "      <td>aksidan</td>\n",
       "      <td>1.51</td>\n",
       "    </tr>\n",
       "    <tr>\n",
       "      <th>69</th>\n",
       "      <td>crash</td>\n",
       "      <td>aksidan</td>\n",
       "      <td>1.56</td>\n",
       "    </tr>\n",
       "    <tr>\n",
       "      <th>15</th>\n",
       "      <td>assassin</td>\n",
       "      <td>asasen</td>\n",
       "      <td>1.56</td>\n",
       "    </tr>\n",
       "    <tr>\n",
       "      <th>185</th>\n",
       "      <td>killer</td>\n",
       "      <td>asasen</td>\n",
       "      <td>1.25</td>\n",
       "    </tr>\n",
       "    <tr>\n",
       "      <th>259</th>\n",
       "      <td>pretty</td>\n",
       "      <td>bèl</td>\n",
       "      <td>4.40</td>\n",
       "    </tr>\n",
       "    <tr>\n",
       "      <th>74</th>\n",
       "      <td>cute</td>\n",
       "      <td>bèl</td>\n",
       "      <td>4.37</td>\n",
       "    </tr>\n",
       "    <tr>\n",
       "      <th>150</th>\n",
       "      <td>handsome</td>\n",
       "      <td>bèl</td>\n",
       "      <td>4.37</td>\n",
       "    </tr>\n",
       "    <tr>\n",
       "      <th>49</th>\n",
       "      <td>chair</td>\n",
       "      <td>chèz</td>\n",
       "      <td>3.26</td>\n",
       "    </tr>\n",
       "    <tr>\n",
       "      <th>302</th>\n",
       "      <td>seat</td>\n",
       "      <td>chèz</td>\n",
       "      <td>3.20</td>\n",
       "    </tr>\n",
       "    <tr>\n",
       "      <th>366</th>\n",
       "      <td>unfaithful</td>\n",
       "      <td>enfidèl</td>\n",
       "      <td>1.54</td>\n",
       "    </tr>\n",
       "    <tr>\n",
       "      <th>92</th>\n",
       "      <td>disloyal</td>\n",
       "      <td>enfidèl</td>\n",
       "      <td>1.77</td>\n",
       "    </tr>\n",
       "    <tr>\n",
       "      <th>135</th>\n",
       "      <td>garbage</td>\n",
       "      <td>fatra</td>\n",
       "      <td>1.68</td>\n",
       "    </tr>\n",
       "    <tr>\n",
       "      <th>385</th>\n",
       "      <td>waste</td>\n",
       "      <td>fatra</td>\n",
       "      <td>1.71</td>\n",
       "    </tr>\n",
       "    <tr>\n",
       "      <th>31</th>\n",
       "      <td>blubber</td>\n",
       "      <td>grès</td>\n",
       "      <td>1.76</td>\n",
       "    </tr>\n",
       "    <tr>\n",
       "      <th>119</th>\n",
       "      <td>fat</td>\n",
       "      <td>grès</td>\n",
       "      <td>1.62</td>\n",
       "    </tr>\n",
       "    <tr>\n",
       "      <th>62</th>\n",
       "      <td>confident</td>\n",
       "      <td>konfyans</td>\n",
       "      <td>4.33</td>\n",
       "    </tr>\n",
       "    <tr>\n",
       "      <th>360</th>\n",
       "      <td>trust</td>\n",
       "      <td>konfyans</td>\n",
       "      <td>4.43</td>\n",
       "    </tr>\n",
       "    <tr>\n",
       "      <th>151</th>\n",
       "      <td>happy</td>\n",
       "      <td>kontan</td>\n",
       "      <td>4.56</td>\n",
       "    </tr>\n",
       "    <tr>\n",
       "      <th>367</th>\n",
       "      <td>unhappy</td>\n",
       "      <td>kontan</td>\n",
       "      <td>1.57</td>\n",
       "    </tr>\n",
       "    <tr>\n",
       "      <th>301</th>\n",
       "      <td>seasick</td>\n",
       "      <td>lanmè</td>\n",
       "      <td>1.65</td>\n",
       "    </tr>\n",
       "    <tr>\n",
       "      <th>232</th>\n",
       "      <td>ocean</td>\n",
       "      <td>lanmè</td>\n",
       "      <td>4.41</td>\n",
       "    </tr>\n",
       "    <tr>\n",
       "      <th>128</th>\n",
       "      <td>freedom</td>\n",
       "      <td>libète</td>\n",
       "      <td>4.54</td>\n",
       "    </tr>\n",
       "    <tr>\n",
       "      <th>194</th>\n",
       "      <td>liberty</td>\n",
       "      <td>libète</td>\n",
       "      <td>4.42</td>\n",
       "    </tr>\n",
       "    <tr>\n",
       "      <th>298</th>\n",
       "      <td>scorn</td>\n",
       "      <td>meprize</td>\n",
       "      <td>1.75</td>\n",
       "    </tr>\n",
       "    <tr>\n",
       "      <th>84</th>\n",
       "      <td>despise</td>\n",
       "      <td>meprize</td>\n",
       "      <td>1.74</td>\n",
       "    </tr>\n",
       "    <tr>\n",
       "      <th>251</th>\n",
       "      <td>pleasure</td>\n",
       "      <td>plezi</td>\n",
       "      <td>4.62</td>\n",
       "    </tr>\n",
       "    <tr>\n",
       "      <th>80</th>\n",
       "      <td>delight</td>\n",
       "      <td>plezi</td>\n",
       "      <td>4.33</td>\n",
       "    </tr>\n",
       "    <tr>\n",
       "      <th>108</th>\n",
       "      <td>enjoyment</td>\n",
       "      <td>plezi</td>\n",
       "      <td>4.58</td>\n",
       "    </tr>\n",
       "    <tr>\n",
       "      <th>195</th>\n",
       "      <td>lice</td>\n",
       "      <td>pou</td>\n",
       "      <td>1.36</td>\n",
       "    </tr>\n",
       "    <tr>\n",
       "      <th>199</th>\n",
       "      <td>louse</td>\n",
       "      <td>pou</td>\n",
       "      <td>1.52</td>\n",
       "    </tr>\n",
       "    <tr>\n",
       "      <th>262</th>\n",
       "      <td>prison</td>\n",
       "      <td>prizon</td>\n",
       "      <td>1.50</td>\n",
       "    </tr>\n",
       "    <tr>\n",
       "      <th>178</th>\n",
       "      <td>jail</td>\n",
       "      <td>prizon</td>\n",
       "      <td>1.51</td>\n",
       "    </tr>\n",
       "    <tr>\n",
       "      <th>288</th>\n",
       "      <td>roach</td>\n",
       "      <td>ravèt</td>\n",
       "      <td>1.58</td>\n",
       "    </tr>\n",
       "    <tr>\n",
       "      <th>58</th>\n",
       "      <td>cockroach</td>\n",
       "      <td>ravèt</td>\n",
       "      <td>1.55</td>\n",
       "    </tr>\n",
       "    <tr>\n",
       "      <th>282</th>\n",
       "      <td>revolt</td>\n",
       "      <td>revòlt</td>\n",
       "      <td>2.00</td>\n",
       "    </tr>\n",
       "    <tr>\n",
       "      <th>286</th>\n",
       "      <td>riot</td>\n",
       "      <td>revòlt</td>\n",
       "      <td>1.65</td>\n",
       "    </tr>\n",
       "  </tbody>\n",
       "</table>\n",
       "</div>"
      ],
      "text/plain": [
       "           word Haitian Creole word  combined_pleasantness\n",
       "1      accident             aksidan                   1.51\n",
       "69        crash             aksidan                   1.56\n",
       "15     assassin              asasen                   1.56\n",
       "185      killer              asasen                   1.25\n",
       "259      pretty                 bèl                   4.40\n",
       "74         cute                 bèl                   4.37\n",
       "150    handsome                 bèl                   4.37\n",
       "49        chair                chèz                   3.26\n",
       "302        seat                chèz                   3.20\n",
       "366  unfaithful             enfidèl                   1.54\n",
       "92     disloyal             enfidèl                   1.77\n",
       "135     garbage               fatra                   1.68\n",
       "385       waste               fatra                   1.71\n",
       "31      blubber                grès                   1.76\n",
       "119         fat                grès                   1.62\n",
       "62    confident            konfyans                   4.33\n",
       "360       trust            konfyans                   4.43\n",
       "151       happy              kontan                   4.56\n",
       "367     unhappy              kontan                   1.57\n",
       "301     seasick               lanmè                   1.65\n",
       "232       ocean               lanmè                   4.41\n",
       "128     freedom              libète                   4.54\n",
       "194     liberty              libète                   4.42\n",
       "298       scorn             meprize                   1.75\n",
       "84      despise             meprize                   1.74\n",
       "251    pleasure               plezi                   4.62\n",
       "80      delight               plezi                   4.33\n",
       "108   enjoyment               plezi                   4.58\n",
       "195        lice                 pou                   1.36\n",
       "199       louse                 pou                   1.52\n",
       "262      prison              prizon                   1.50\n",
       "178        jail              prizon                   1.51\n",
       "288       roach               ravèt                   1.58\n",
       "58    cockroach               ravèt                   1.55\n",
       "282      revolt              revòlt                   2.00\n",
       "286        riot              revòlt                   1.65"
      ]
     },
     "execution_count": 25,
     "metadata": {},
     "output_type": "execute_result"
    }
   ],
   "source": [
    "# find the duplicate words \n",
    "anew[anew.duplicated(subset='Haitian Creole word', keep=False)]\\\n",
    "        .sort_values(by='Haitian Creole word')"
   ]
  },
  {
   "cell_type": "code",
   "execution_count": 21,
   "metadata": {
    "ExecuteTime": {
     "end_time": "2021-02-08T00:44:55.906194Z",
     "start_time": "2021-02-08T00:44:55.894896Z"
    },
    "scrolled": true
   },
   "outputs": [
    {
     "data": {
      "text/plain": [
       "Index(['word', 'Haitian Creole word'], dtype='object')"
      ]
     },
     "execution_count": 21,
     "metadata": {},
     "output_type": "execute_result"
    }
   ],
   "source": [
    "anew.loc[:, ['word', 'Haitian Creole word']].columns "
   ]
  },
  {
   "cell_type": "code",
   "execution_count": 27,
   "metadata": {
    "ExecuteTime": {
     "end_time": "2021-02-08T00:48:06.581066Z",
     "start_time": "2021-02-08T00:48:06.571880Z"
    }
   },
   "outputs": [],
   "source": [
    "# group the alike words together and average their scores\n",
    "anew_g = anew.groupby(by='Haitian Creole word', axis=0).mean().reset_index()"
   ]
  },
  {
   "cell_type": "code",
   "execution_count": 34,
   "metadata": {
    "ExecuteTime": {
     "end_time": "2021-02-08T00:52:04.944415Z",
     "start_time": "2021-02-08T00:52:04.937178Z"
    }
   },
   "outputs": [
    {
     "data": {
      "text/plain": [
       "0      Anbisyon\n",
       "1      Apetisan\n",
       "2         Bunny\n",
       "3      Komisyon\n",
       "4           Liv\n",
       "         ...   \n",
       "375         zam\n",
       "376       zanmi\n",
       "377       zwazo\n",
       "378       zòrye\n",
       "379        òkès\n",
       "Name: Haitian Creole word, Length: 380, dtype: object"
      ]
     },
     "execution_count": 34,
     "metadata": {},
     "output_type": "execute_result"
    }
   ],
   "source": [
    "anew_g.sort_values(by='Haitian Creole word')['Haitian Creole word']"
   ]
  },
  {
   "cell_type": "code",
   "execution_count": 39,
   "metadata": {
    "ExecuteTime": {
     "end_time": "2021-02-08T00:56:05.302894Z",
     "start_time": "2021-02-08T00:56:05.296253Z"
    }
   },
   "outputs": [],
   "source": [
    "count = 0\n",
    "how_many = [count+1 for word in anew_g['Haitian Creole word'] if word[0].isupper()]"
   ]
  },
  {
   "cell_type": "code",
   "execution_count": 43,
   "metadata": {
    "ExecuteTime": {
     "end_time": "2021-02-08T00:57:02.286069Z",
     "start_time": "2021-02-08T00:57:02.282036Z"
    }
   },
   "outputs": [
    {
     "data": {
      "text/plain": [
       "['Anbisyon',\n",
       " 'Apetisan',\n",
       " 'Bunny',\n",
       " 'Komisyon',\n",
       " 'Liv',\n",
       " 'Mizik',\n",
       " 'Nectar',\n",
       " 'Pak',\n",
       " 'Stink']"
      ]
     },
     "execution_count": 43,
     "metadata": {},
     "output_type": "execute_result"
    }
   ],
   "source": [
    "[word for word in anew_g['Haitian Creole word'] if word[0].isupper()]"
   ]
  },
  {
   "cell_type": "code",
   "execution_count": 3,
   "metadata": {
    "ExecuteTime": {
     "end_time": "2021-02-08T00:38:10.020988Z",
     "start_time": "2021-02-08T00:38:09.997050Z"
    },
    "collapsed": true
   },
   "outputs": [
    {
     "ename": "NameError",
     "evalue": "name 'pd' is not defined",
     "output_type": "error",
     "traceback": [
      "\u001b[0;31m---------------------------------------------------------------------------\u001b[0m",
      "\u001b[0;31mNameError\u001b[0m                                 Traceback (most recent call last)",
      "\u001b[0;32m<ipython-input-3-6c3a8ee70611>\u001b[0m in \u001b[0;36m<module>\u001b[0;34m\u001b[0m\n\u001b[1;32m      1\u001b[0m \u001b[0;31m# read the pleasant and unpleasant associations\u001b[0m\u001b[0;34m\u001b[0m\u001b[0;34m\u001b[0m\u001b[0;34m\u001b[0m\u001b[0m\n\u001b[0;32m----> 2\u001b[0;31m plun = pd.read_csv('/Users/adimaini/Documents/GW/Research/CODE/WEAT-WEFAT/targets_attributes_data/haitian-creole/pleasant unpleasant.csv',\n\u001b[0m\u001b[1;32m      3\u001b[0m                   \u001b[0mheader\u001b[0m\u001b[0;34m=\u001b[0m\u001b[0;32mNone\u001b[0m\u001b[0;34m,\u001b[0m\u001b[0;34m\u001b[0m\u001b[0;34m\u001b[0m\u001b[0m\n\u001b[1;32m      4\u001b[0m                   index_col=0)\n",
      "\u001b[0;31mNameError\u001b[0m: name 'pd' is not defined"
     ]
    }
   ],
   "source": [
    "# read the pleasant and unpleasant associations\n",
    "plun = pd.read_csv('/Users/adimaini/Documents/GW/Research/CODE/WEAT-WEFAT/targets_attributes_data/haitian-creole/pleasant unpleasant.csv',\n",
    "                  header=None,\n",
    "                  index_col=0)"
   ]
  },
  {
   "cell_type": "code",
   "execution_count": 238,
   "metadata": {
    "ExecuteTime": {
     "end_time": "2021-02-06T22:07:46.516051Z",
     "start_time": "2021-02-06T22:07:46.482054Z"
    }
   },
   "outputs": [],
   "source": [
    "# merge the haitian creole words and the pleasant/unpleasant csv\n",
    "output_file = '/Users/adimaini/Documents/GW/Research/CODE/WEAT-WEFAT/targets_attributes_data/haitian-creole/bellezza_test.csv'\n",
    "# output the new .csv file that can be processed\n",
    "pd.concat([anew['Haitian Creole word'].to_frame().T, plun]).to_csv(output_file, header=False)"
   ]
  },
  {
   "cell_type": "code",
   "execution_count": 241,
   "metadata": {
    "ExecuteTime": {
     "end_time": "2021-02-07T01:58:55.084117Z",
     "start_time": "2021-02-07T01:19:27.792103Z"
    }
   },
   "outputs": [
    {
     "name": "stdout",
     "output_type": "stream",
     "text": [
      "Reading files...\n",
      "\n",
      "Finished.\n"
     ]
    }
   ],
   "source": [
    "# running the WEFAT test with the Bellezza word association test\n",
    "bellezza_test = output_table(model=ft,\n",
    "                            filepath = output_file, \n",
    "                            algorithm = 'wefat')"
   ]
  },
  {
   "cell_type": "code",
   "execution_count": 242,
   "metadata": {
    "ExecuteTime": {
     "end_time": "2021-02-07T01:58:55.120778Z",
     "start_time": "2021-02-07T01:58:55.089487Z"
    }
   },
   "outputs": [],
   "source": [
    "bellezza_test_merge = bellezza_test.merge(right=anew, left_on='Target', right_on='Haitian Creole word')"
   ]
  },
  {
   "cell_type": "code",
   "execution_count": 246,
   "metadata": {
    "ExecuteTime": {
     "end_time": "2021-02-07T02:03:11.026002Z",
     "start_time": "2021-02-07T02:03:10.998321Z"
    }
   },
   "outputs": [],
   "source": [
    "bellezza_test_merge.to_csv('targets_attributes_data/haitian-creole/bellezza_results.csv')"
   ]
  },
  {
   "cell_type": "code",
   "execution_count": 243,
   "metadata": {
    "ExecuteTime": {
     "end_time": "2021-02-07T01:58:55.140058Z",
     "start_time": "2021-02-07T01:58:55.123784Z"
    }
   },
   "outputs": [
    {
     "data": {
      "text/plain": [
       "(0.2930203491124346, 5.833247860131412e-09)"
      ]
     },
     "execution_count": 243,
     "metadata": {},
     "output_type": "execute_result"
    }
   ],
   "source": [
    "# calculate the pearson correlation between 'combined_pleasantess' from Bellezza lexicon and \n",
    "# the fastText word embedding based valence scores.\n",
    "stats.pearsonr(bellezza_test_merge['Effect Size'], bellezza_test_merge['combined_pleasantness'])"
   ]
  },
  {
   "cell_type": "code",
   "execution_count": 247,
   "metadata": {
    "ExecuteTime": {
     "end_time": "2021-02-07T02:04:26.879781Z",
     "start_time": "2021-02-07T02:04:26.858046Z"
    },
    "scrolled": true
   },
   "outputs": [
    {
     "data": {
      "text/html": [
       "<div>\n",
       "<style scoped>\n",
       "    .dataframe tbody tr th:only-of-type {\n",
       "        vertical-align: middle;\n",
       "    }\n",
       "\n",
       "    .dataframe tbody tr th {\n",
       "        vertical-align: top;\n",
       "    }\n",
       "\n",
       "    .dataframe thead th {\n",
       "        text-align: right;\n",
       "    }\n",
       "</style>\n",
       "<table border=\"1\" class=\"dataframe\">\n",
       "  <thead>\n",
       "    <tr style=\"text-align: right;\">\n",
       "      <th></th>\n",
       "      <th>Target</th>\n",
       "      <th>Effect Size</th>\n",
       "      <th>P-Value</th>\n",
       "      <th>Haitian Creole word</th>\n",
       "      <th>combined_pleasantness</th>\n",
       "    </tr>\n",
       "  </thead>\n",
       "  <tbody>\n",
       "    <tr>\n",
       "      <th>0</th>\n",
       "      <td>Anbisyon</td>\n",
       "      <td>0.34</td>\n",
       "      <td>0.114411</td>\n",
       "      <td>Anbisyon</td>\n",
       "      <td>4.28</td>\n",
       "    </tr>\n",
       "    <tr>\n",
       "      <th>1</th>\n",
       "      <td>Apetisan</td>\n",
       "      <td>0.32</td>\n",
       "      <td>0.128328</td>\n",
       "      <td>Apetisan</td>\n",
       "      <td>4.23</td>\n",
       "    </tr>\n",
       "    <tr>\n",
       "      <th>2</th>\n",
       "      <td>Bunny</td>\n",
       "      <td>0.34</td>\n",
       "      <td>0.120233</td>\n",
       "      <td>Bunny</td>\n",
       "      <td>4.33</td>\n",
       "    </tr>\n",
       "    <tr>\n",
       "      <th>3</th>\n",
       "      <td>Komisyon</td>\n",
       "      <td>0.41</td>\n",
       "      <td>0.076256</td>\n",
       "      <td>Komisyon</td>\n",
       "      <td>3.12</td>\n",
       "    </tr>\n",
       "    <tr>\n",
       "      <th>4</th>\n",
       "      <td>Liv</td>\n",
       "      <td>0.68</td>\n",
       "      <td>0.008253</td>\n",
       "      <td>Liv</td>\n",
       "      <td>3.69</td>\n",
       "    </tr>\n",
       "    <tr>\n",
       "      <th>...</th>\n",
       "      <td>...</td>\n",
       "      <td>...</td>\n",
       "      <td>...</td>\n",
       "      <td>...</td>\n",
       "      <td>...</td>\n",
       "    </tr>\n",
       "    <tr>\n",
       "      <th>375</th>\n",
       "      <td>zam</td>\n",
       "      <td>-0.03</td>\n",
       "      <td>0.534607</td>\n",
       "      <td>zam</td>\n",
       "      <td>2.08</td>\n",
       "    </tr>\n",
       "    <tr>\n",
       "      <th>376</th>\n",
       "      <td>zanmi</td>\n",
       "      <td>0.55</td>\n",
       "      <td>0.025990</td>\n",
       "      <td>zanmi</td>\n",
       "      <td>4.53</td>\n",
       "    </tr>\n",
       "    <tr>\n",
       "      <th>377</th>\n",
       "      <td>zwazo</td>\n",
       "      <td>0.23</td>\n",
       "      <td>0.205758</td>\n",
       "      <td>zwazo</td>\n",
       "      <td>4.03</td>\n",
       "    </tr>\n",
       "    <tr>\n",
       "      <th>378</th>\n",
       "      <td>zòrye</td>\n",
       "      <td>-0.04</td>\n",
       "      <td>0.559462</td>\n",
       "      <td>zòrye</td>\n",
       "      <td>4.15</td>\n",
       "    </tr>\n",
       "    <tr>\n",
       "      <th>379</th>\n",
       "      <td>òkès</td>\n",
       "      <td>0.17</td>\n",
       "      <td>0.270569</td>\n",
       "      <td>òkès</td>\n",
       "      <td>3.88</td>\n",
       "    </tr>\n",
       "  </tbody>\n",
       "</table>\n",
       "<p>380 rows × 5 columns</p>\n",
       "</div>"
      ],
      "text/plain": [
       "       Target  Effect Size   P-Value Haitian Creole word  \\\n",
       "0    Anbisyon         0.34  0.114411            Anbisyon   \n",
       "1    Apetisan         0.32  0.128328            Apetisan   \n",
       "2       Bunny         0.34  0.120233               Bunny   \n",
       "3    Komisyon         0.41  0.076256            Komisyon   \n",
       "4         Liv         0.68  0.008253                 Liv   \n",
       "..        ...          ...       ...                 ...   \n",
       "375       zam        -0.03  0.534607                 zam   \n",
       "376     zanmi         0.55  0.025990               zanmi   \n",
       "377     zwazo         0.23  0.205758               zwazo   \n",
       "378     zòrye        -0.04  0.559462               zòrye   \n",
       "379      òkès         0.17  0.270569                òkès   \n",
       "\n",
       "     combined_pleasantness  \n",
       "0                     4.28  \n",
       "1                     4.23  \n",
       "2                     4.33  \n",
       "3                     3.12  \n",
       "4                     3.69  \n",
       "..                     ...  \n",
       "375                   2.08  \n",
       "376                   4.53  \n",
       "377                   4.03  \n",
       "378                   4.15  \n",
       "379                   3.88  \n",
       "\n",
       "[380 rows x 5 columns]"
      ]
     },
     "execution_count": 247,
     "metadata": {},
     "output_type": "execute_result"
    }
   ],
   "source": [
    "bellezza_test_merge"
   ]
  },
  {
   "cell_type": "code",
   "execution_count": 249,
   "metadata": {
    "ExecuteTime": {
     "end_time": "2021-02-07T02:08:31.197757Z",
     "start_time": "2021-02-07T02:08:31.184704Z"
    }
   },
   "outputs": [
    {
     "data": {
      "text/plain": [
       "'Yes'"
      ]
     },
     "execution_count": 249,
     "metadata": {},
     "output_type": "execute_result"
    }
   ],
   "source": [
    "normal_test(bellezza_test_merge['combined_pleasantness'])"
   ]
  },
  {
   "cell_type": "code",
   "execution_count": 255,
   "metadata": {
    "ExecuteTime": {
     "end_time": "2021-02-07T02:09:25.807002Z",
     "start_time": "2021-02-07T02:09:25.631847Z"
    }
   },
   "outputs": [
    {
     "data": {
      "text/plain": [
       "<matplotlib.axes._subplots.AxesSubplot at 0x12b6b98d0>"
      ]
     },
     "execution_count": 255,
     "metadata": {},
     "output_type": "execute_result"
    },
    {
     "data": {
      "image/png": "[encoded data removed]",
      "text/plain": [
       "<Figure size 432x288 with 1 Axes>"
      ]
     },
     "metadata": {
      "needs_background": "light"
     },
     "output_type": "display_data"
    }
   ],
   "source": [
    "sns.histplot(bellezza_test_merge['combined_pleasantness'])"
   ]
  },
  {
   "cell_type": "code",
   "execution_count": 254,
   "metadata": {
    "ExecuteTime": {
     "end_time": "2021-02-07T02:09:19.801280Z",
     "start_time": "2021-02-07T02:09:19.601801Z"
    }
   },
   "outputs": [
    {
     "data": {
      "text/plain": [
       "<matplotlib.axes._subplots.AxesSubplot at 0x12b5ca7b8>"
      ]
     },
     "execution_count": 254,
     "metadata": {},
     "output_type": "execute_result"
    },
    {
     "data": {
      "image/png": "[encoded data removed]",
      "text/plain": [
       "<Figure size 432x288 with 1 Axes>"
      ]
     },
     "metadata": {
      "needs_background": "light"
     },
     "output_type": "display_data"
    }
   ],
   "source": [
    "sns.histplot(bellezza_test_merge['Effect Size'])"
   ]
  },
  {
   "cell_type": "code",
   "execution_count": 1,
   "metadata": {
    "ExecuteTime": {
     "end_time": "2021-02-08T00:35:18.789178Z",
     "start_time": "2021-02-08T00:35:18.453157Z"
    }
   },
   "outputs": [
    {
     "ename": "NameError",
     "evalue": "name 'bellezza_test_merge' is not defined",
     "output_type": "error",
     "traceback": [
      "\u001b[0;31m---------------------------------------------------------------------------\u001b[0m",
      "\u001b[0;31mNameError\u001b[0m                                 Traceback (most recent call last)",
      "\u001b[0;32m<ipython-input-1-581d672bcef0>\u001b[0m in \u001b[0;36m<module>\u001b[0;34m\u001b[0m\n\u001b[0;32m----> 1\u001b[0;31m \u001b[0mbellezza_test_merge\u001b[0m\u001b[0;34m\u001b[0m\u001b[0;34m\u001b[0m\u001b[0m\n\u001b[0m",
      "\u001b[0;31mNameError\u001b[0m: name 'bellezza_test_merge' is not defined"
     ]
    }
   ],
   "source": [
    "bellezza_test_merge"
   ]
  },
  {
   "cell_type": "code",
   "execution_count": null,
   "metadata": {},
   "outputs": [],
   "source": []
  }
 ],
 "metadata": {
  "kernelspec": {
   "display_name": "Python 3",
   "language": "python",
   "name": "python3"
  },
  "language_info": {
   "codemirror_mode": {
    "name": "ipython",
    "version": 3
   },
   "file_extension": ".py",
   "mimetype": "text/x-python",
   "name": "python",
   "nbconvert_exporter": "python",
   "pygments_lexer": "ipython3",
   "version": "3.9.2"
  }
 },
 "nbformat": 4,
 "nbformat_minor": 4
}

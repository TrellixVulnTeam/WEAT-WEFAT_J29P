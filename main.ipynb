{
 "cells": [
  {
   "cell_type": "markdown",
   "metadata": {},
   "source": [
    "## Import Modules"
   ]
  },
  {
   "cell_type": "code",
   "execution_count": 1,
   "metadata": {
    "ExecuteTime": {
     "end_time": "2020-11-01T20:36:20.273777Z",
     "start_time": "2020-11-01T20:36:18.491659Z"
    }
   },
   "outputs": [],
   "source": [
    "import pandas as pd\n",
    "import numpy as np \n",
    "from gensim import models\n",
    "from lib import weat\n",
    "import os"
   ]
  },
  {
   "cell_type": "markdown",
   "metadata": {},
   "source": [
    "## Load Word2Vec and Glove Models"
   ]
  },
  {
   "cell_type": "code",
   "execution_count": 61,
   "metadata": {
    "ExecuteTime": {
     "end_time": "2020-11-01T21:19:59.932365Z",
     "start_time": "2020-11-01T21:19:59.927425Z"
    }
   },
   "outputs": [],
   "source": [
    "# import and load word2vec model using Google News data\n",
    "def loadWord2VecModel(file):\n",
    "    print(\"Loading word2vec model...\")\n",
    "    w = models.KeyedVectors.load_word2vec_format(file, binary=True)\n",
    "    print(\"Finished.\")\n",
    "    return w"
   ]
  },
  {
   "cell_type": "code",
   "execution_count": 44,
   "metadata": {
    "ExecuteTime": {
     "end_time": "2020-11-01T21:09:54.692440Z",
     "start_time": "2020-11-01T21:09:54.663370Z"
    }
   },
   "outputs": [],
   "source": [
    "# import and load glove model\n",
    "def loadGloveModel(file):\n",
    "    print(\"Loading glove model...\")\n",
    "    f = open(file,'r', encoding='utf-8')\n",
    "    gloveModel = {}\n",
    "    for line in f:\n",
    "        splitLines = line.split(' ')\n",
    "        word = splitLines[0]\n",
    "        wordEmbedding = np.array([float(value) for value in splitLines[1:]])\n",
    "        gloveModel[word] = wordEmbedding\n",
    "    print(len(gloveModel),\" words loaded!\")\n",
    "    return gloveModel"
   ]
  },
  {
   "cell_type": "code",
   "execution_count": 60,
   "metadata": {
    "ExecuteTime": {
     "end_time": "2020-11-01T21:19:59.922725Z",
     "start_time": "2020-11-01T21:19:26.887067Z"
    }
   },
   "outputs": [
    {
     "name": "stdout",
     "output_type": "stream",
     "text": [
      "Loading word2vec model...\n"
     ]
    }
   ],
   "source": [
    "# load word2vec model\n",
    "word2vec = loadWord2VecModel('data/GoogleNews-vectors-negative300.bin')"
   ]
  },
  {
   "cell_type": "code",
   "execution_count": 36,
   "metadata": {
    "ExecuteTime": {
     "end_time": "2020-11-01T21:03:02.727421Z",
     "start_time": "2020-11-01T21:00:12.117825Z"
    }
   },
   "outputs": [
    {
     "name": "stdout",
     "output_type": "stream",
     "text": [
      "Loading glove model...\n",
      "2196016  words loaded!\n"
     ]
    }
   ],
   "source": [
    "# load Glove model\n",
    "glove = loadGloveModel('data/glove.840B.300d.txt')"
   ]
  },
  {
   "cell_type": "code",
   "execution_count": 46,
   "metadata": {
    "ExecuteTime": {
     "end_time": "2020-11-01T21:14:21.702842Z",
     "start_time": "2020-11-01T21:14:21.683419Z"
    }
   },
   "outputs": [],
   "source": [
    "def get_tar_att_arrays(model, t1, t2, a1, a2):\n",
    "    tar1 = np.array([model[vector] for vector in t1])\n",
    "    tar2 = np.array([model[vector] for vector in t2])\n",
    "    att1 = np.array([model[vector] for vector in a1])\n",
    "    att2 = np.array([model[vector] for vector in a2])\n",
    "    \n",
    "    return tar1, tar2, att1, att2"
   ]
  },
  {
   "cell_type": "code",
   "execution_count": 47,
   "metadata": {
    "ExecuteTime": {
     "end_time": "2020-11-01T21:14:22.122309Z",
     "start_time": "2020-11-01T21:14:22.070323Z"
    }
   },
   "outputs": [],
   "source": [
    "def get_matrices(filepath, model):\n",
    "\n",
    "    data_file = pd.read_csv(filepath, sep=',\\s*', engine='python',  header=None, index_col=0)\n",
    "    \n",
    "    # get targets and attribute labels\n",
    "    target_names = list(data_file.index)[:2]\n",
    "    attribute_names = list(data_file.index)[2:]\n",
    "    \n",
    "    # get targets and attribute sets\n",
    "    targets = data_file.loc[target_names]\n",
    "    attributes = data_file.loc[attribute_names]\n",
    "    \n",
    "    # get arrays, one for each set of target and attribute\n",
    "    tar1 = targets.loc[target_names[0]]\n",
    "    tar2 = targets.loc[target_names[1]]\n",
    "    att1 = attributes.loc[attribute_names[0]]\n",
    "    att2 = attributes.loc[attribute_names[1]]\n",
    "    \n",
    "    # remove any NaN values that have been read due to mismatch of columns \n",
    "    tar1 = tar1[~pd.isna(tar1)]\n",
    "    tar2 = tar2[~pd.isna(tar2)]\n",
    "    att1 = att1[~pd.isna(att1)]\n",
    "    att2 = att2[~pd.isna(att2)]\n",
    "        \n",
    "    # give numpy array of glove word embeddings for targets and attributes\n",
    "    tar1, tar2, att1, att2 = get_tar_att_arrays(model, tar1, tar2, att1, att2)\n",
    "    \n",
    "    return target_names, attribute_names, tar1, tar2, att1, att2\n",
    "\n",
    "def output_table(model):\n",
    "    directory = 'targets_attributes_data/'\n",
    "    \n",
    "    # instantiate the weta object\n",
    "    weat_object = weat.Weat()\n",
    "    effect_size = list()\n",
    "    targets = list()\n",
    "    attributes = list()\n",
    "    \n",
    "    print('Reading files...\\n')\n",
    "\n",
    "    # loop over all files in the directory\n",
    "    for filename in os.listdir(directory):\n",
    "        if not filename.startswith('.'):  # ignore hidden files\n",
    "            filepath = directory + filename\n",
    "            print (filepath)\n",
    "\n",
    "            # retrieve target names and attributes to form the table\n",
    "            target_names, attribute_names, _, _, _, _ = get_matrices(filepath, model)\n",
    "            targets.append(target_names)\n",
    "            attributes.append(attribute_names)\n",
    "\n",
    "            # retrive the word embeddings for the targets and attributes\n",
    "            _, _, t1, t2, a1, a2 = get_matrices(filepath, model)\n",
    "\n",
    "            # calculate the effect size \n",
    "            effect_size.append(weat_object.effect_size(t1, t2, a1, a2))\n",
    "        \n",
    "    # create a daraframe with the targets, attributes, and effect size\n",
    "    output_df = pd.DataFrame(data = list(zip(targets, attributes, effect_size)),\n",
    "                             columns = ['Targets', 'Attributes', 'Effect Size'])\n",
    "    return output_df"
   ]
  },
  {
   "cell_type": "code",
   "execution_count": 68,
   "metadata": {
    "ExecuteTime": {
     "end_time": "2020-11-01T21:21:39.151650Z",
     "start_time": "2020-11-01T21:21:38.572075Z"
    },
    "scrolled": false
   },
   "outputs": [
    {
     "name": "stdout",
     "output_type": "stream",
     "text": [
      "Reading files...\n",
      "\n",
      "targets_attributes_data/instruments vs weapons.csv\n",
      "targets_attributes_data/male vs female names.csv\n",
      "targets_attributes_data/science vs arts.csv\n",
      "targets_attributes_data/mental vs physical disease.csv\n",
      "targets_attributes_data/flowers vs insects.csv\n",
      "targets_attributes_data/young vs old peoples names.csv\n",
      "targets_attributes_data/math vs arts.csv\n",
      "targets_attributes_data/European-American vs African-American names 2.csv\n",
      "targets_attributes_data/European-American vs African-American names 3.csv\n",
      "targets_attributes_data/European-American vs African-American names 1.csv\n"
     ]
    }
   ],
   "source": [
    "df_glove = output_table(glove)"
   ]
  },
  {
   "cell_type": "code",
   "execution_count": 62,
   "metadata": {
    "ExecuteTime": {
     "end_time": "2020-11-01T21:20:05.403530Z",
     "start_time": "2020-11-01T21:20:04.750314Z"
    }
   },
   "outputs": [
    {
     "name": "stdout",
     "output_type": "stream",
     "text": [
      "Reading files...\n",
      "\n",
      "targets_attributes_data/instruments vs weapons.csv\n",
      "targets_attributes_data/male vs female names.csv\n",
      "targets_attributes_data/science vs arts.csv\n",
      "targets_attributes_data/mental vs physical disease.csv\n",
      "targets_attributes_data/flowers vs insects.csv\n",
      "targets_attributes_data/young vs old peoples names.csv\n",
      "targets_attributes_data/math vs arts.csv\n",
      "targets_attributes_data/European-American vs African-American names 2.csv\n",
      "targets_attributes_data/European-American vs African-American names 3.csv\n",
      "targets_attributes_data/European-American vs African-American names 1.csv\n"
     ]
    }
   ],
   "source": [
    "df_word2vec = output_table(word2vec)"
   ]
  },
  {
   "cell_type": "code",
   "execution_count": 69,
   "metadata": {
    "ExecuteTime": {
     "end_time": "2020-11-01T21:21:42.604316Z",
     "start_time": "2020-11-01T21:21:42.586721Z"
    }
   },
   "outputs": [
    {
     "data": {
      "text/html": [
       "<div>\n",
       "<style scoped>\n",
       "    .dataframe tbody tr th:only-of-type {\n",
       "        vertical-align: middle;\n",
       "    }\n",
       "\n",
       "    .dataframe tbody tr th {\n",
       "        vertical-align: top;\n",
       "    }\n",
       "\n",
       "    .dataframe thead th {\n",
       "        text-align: right;\n",
       "    }\n",
       "</style>\n",
       "<table border=\"1\" class=\"dataframe\">\n",
       "  <thead>\n",
       "    <tr style=\"text-align: right;\">\n",
       "      <th></th>\n",
       "      <th>Targets</th>\n",
       "      <th>Attributes</th>\n",
       "      <th>Effect Size</th>\n",
       "    </tr>\n",
       "  </thead>\n",
       "  <tbody>\n",
       "    <tr>\n",
       "      <th>0</th>\n",
       "      <td>[Instruments, Weapons]</td>\n",
       "      <td>[Pleasant, Unpleasant]</td>\n",
       "      <td>1.540059</td>\n",
       "    </tr>\n",
       "    <tr>\n",
       "      <th>1</th>\n",
       "      <td>[Male names, Female names]</td>\n",
       "      <td>[Career, Family]</td>\n",
       "      <td>1.873403</td>\n",
       "    </tr>\n",
       "    <tr>\n",
       "      <th>2</th>\n",
       "      <td>[Science, Arts]</td>\n",
       "      <td>[Male terms, Female terms]</td>\n",
       "      <td>1.278036</td>\n",
       "    </tr>\n",
       "    <tr>\n",
       "      <th>3</th>\n",
       "      <td>[Mental disease, Physical disease]</td>\n",
       "      <td>[Temporary, Permanent]</td>\n",
       "      <td>1.535609</td>\n",
       "    </tr>\n",
       "    <tr>\n",
       "      <th>4</th>\n",
       "      <td>[Flowers, Insects]</td>\n",
       "      <td>[Pleasant, Unpleasant]</td>\n",
       "      <td>1.519588</td>\n",
       "    </tr>\n",
       "    <tr>\n",
       "      <th>5</th>\n",
       "      <td>[Young people’s names, Old people’s names]</td>\n",
       "      <td>[Pleasant, Unpleasant]</td>\n",
       "      <td>1.252668</td>\n",
       "    </tr>\n",
       "    <tr>\n",
       "      <th>6</th>\n",
       "      <td>[Math, Arts]</td>\n",
       "      <td>[Male terms, Female terms]</td>\n",
       "      <td>1.089615</td>\n",
       "    </tr>\n",
       "    <tr>\n",
       "      <th>7</th>\n",
       "      <td>[European American names, African American names]</td>\n",
       "      <td>[Pleasant, Unpleasant]</td>\n",
       "      <td>1.577784</td>\n",
       "    </tr>\n",
       "    <tr>\n",
       "      <th>8</th>\n",
       "      <td>[European American names, African American names]</td>\n",
       "      <td>[Pleasant, Unpleasant]</td>\n",
       "      <td>1.380348</td>\n",
       "    </tr>\n",
       "    <tr>\n",
       "      <th>9</th>\n",
       "      <td>[European American names, African American names]</td>\n",
       "      <td>[Pleasant, Unpleasant]</td>\n",
       "      <td>1.488744</td>\n",
       "    </tr>\n",
       "  </tbody>\n",
       "</table>\n",
       "</div>"
      ],
      "text/plain": [
       "                                             Targets  \\\n",
       "0                             [Instruments, Weapons]   \n",
       "1                         [Male names, Female names]   \n",
       "2                                    [Science, Arts]   \n",
       "3                 [Mental disease, Physical disease]   \n",
       "4                                 [Flowers, Insects]   \n",
       "5         [Young people’s names, Old people’s names]   \n",
       "6                                       [Math, Arts]   \n",
       "7  [European American names, African American names]   \n",
       "8  [European American names, African American names]   \n",
       "9  [European American names, African American names]   \n",
       "\n",
       "                   Attributes  Effect Size  \n",
       "0      [Pleasant, Unpleasant]     1.540059  \n",
       "1            [Career, Family]     1.873403  \n",
       "2  [Male terms, Female terms]     1.278036  \n",
       "3      [Temporary, Permanent]     1.535609  \n",
       "4      [Pleasant, Unpleasant]     1.519588  \n",
       "5      [Pleasant, Unpleasant]     1.252668  \n",
       "6  [Male terms, Female terms]     1.089615  \n",
       "7      [Pleasant, Unpleasant]     1.577784  \n",
       "8      [Pleasant, Unpleasant]     1.380348  \n",
       "9      [Pleasant, Unpleasant]     1.488744  "
      ]
     },
     "execution_count": 69,
     "metadata": {},
     "output_type": "execute_result"
    }
   ],
   "source": [
    "df_glove"
   ]
  },
  {
   "cell_type": "code",
   "execution_count": 66,
   "metadata": {
    "ExecuteTime": {
     "end_time": "2020-11-01T21:21:00.713206Z",
     "start_time": "2020-11-01T21:21:00.692403Z"
    }
   },
   "outputs": [
    {
     "data": {
      "text/html": [
       "<div>\n",
       "<style scoped>\n",
       "    .dataframe tbody tr th:only-of-type {\n",
       "        vertical-align: middle;\n",
       "    }\n",
       "\n",
       "    .dataframe tbody tr th {\n",
       "        vertical-align: top;\n",
       "    }\n",
       "\n",
       "    .dataframe thead th {\n",
       "        text-align: right;\n",
       "    }\n",
       "</style>\n",
       "<table border=\"1\" class=\"dataframe\">\n",
       "  <thead>\n",
       "    <tr style=\"text-align: right;\">\n",
       "      <th></th>\n",
       "      <th>Targets</th>\n",
       "      <th>Attributes</th>\n",
       "      <th>Effect Size</th>\n",
       "    </tr>\n",
       "  </thead>\n",
       "  <tbody>\n",
       "    <tr>\n",
       "      <th>0</th>\n",
       "      <td>[Instruments, Weapons]</td>\n",
       "      <td>[Pleasant, Unpleasant]</td>\n",
       "      <td>1.644802</td>\n",
       "    </tr>\n",
       "    <tr>\n",
       "      <th>1</th>\n",
       "      <td>[Male names, Female names]</td>\n",
       "      <td>[Career, Family]</td>\n",
       "      <td>1.951847</td>\n",
       "    </tr>\n",
       "    <tr>\n",
       "      <th>2</th>\n",
       "      <td>[Science, Arts]</td>\n",
       "      <td>[Male terms, Female terms]</td>\n",
       "      <td>1.284648</td>\n",
       "    </tr>\n",
       "    <tr>\n",
       "      <th>3</th>\n",
       "      <td>[Mental disease, Physical disease]</td>\n",
       "      <td>[Temporary, Permanent]</td>\n",
       "      <td>1.354404</td>\n",
       "    </tr>\n",
       "    <tr>\n",
       "      <th>4</th>\n",
       "      <td>[Flowers, Insects]</td>\n",
       "      <td>[Pleasant, Unpleasant]</td>\n",
       "      <td>1.554976</td>\n",
       "    </tr>\n",
       "    <tr>\n",
       "      <th>5</th>\n",
       "      <td>[Young people’s names, Old people’s names]</td>\n",
       "      <td>[Pleasant, Unpleasant]</td>\n",
       "      <td>-0.092911</td>\n",
       "    </tr>\n",
       "    <tr>\n",
       "      <th>6</th>\n",
       "      <td>[Math, Arts]</td>\n",
       "      <td>[Male terms, Female terms]</td>\n",
       "      <td>0.998108</td>\n",
       "    </tr>\n",
       "    <tr>\n",
       "      <th>7</th>\n",
       "      <td>[European American names, African American names]</td>\n",
       "      <td>[Pleasant, Unpleasant]</td>\n",
       "      <td>1.332029</td>\n",
       "    </tr>\n",
       "    <tr>\n",
       "      <th>8</th>\n",
       "      <td>[European American names, African American names]</td>\n",
       "      <td>[Pleasant, Unpleasant]</td>\n",
       "      <td>0.733673</td>\n",
       "    </tr>\n",
       "    <tr>\n",
       "      <th>9</th>\n",
       "      <td>[European American names, African American names]</td>\n",
       "      <td>[Pleasant, Unpleasant]</td>\n",
       "      <td>0.627778</td>\n",
       "    </tr>\n",
       "  </tbody>\n",
       "</table>\n",
       "</div>"
      ],
      "text/plain": [
       "                                             Targets  \\\n",
       "0                             [Instruments, Weapons]   \n",
       "1                         [Male names, Female names]   \n",
       "2                                    [Science, Arts]   \n",
       "3                 [Mental disease, Physical disease]   \n",
       "4                                 [Flowers, Insects]   \n",
       "5         [Young people’s names, Old people’s names]   \n",
       "6                                       [Math, Arts]   \n",
       "7  [European American names, African American names]   \n",
       "8  [European American names, African American names]   \n",
       "9  [European American names, African American names]   \n",
       "\n",
       "                   Attributes  Effect Size  \n",
       "0      [Pleasant, Unpleasant]     1.644802  \n",
       "1            [Career, Family]     1.951847  \n",
       "2  [Male terms, Female terms]     1.284648  \n",
       "3      [Temporary, Permanent]     1.354404  \n",
       "4      [Pleasant, Unpleasant]     1.554976  \n",
       "5      [Pleasant, Unpleasant]    -0.092911  \n",
       "6  [Male terms, Female terms]     0.998108  \n",
       "7      [Pleasant, Unpleasant]     1.332029  \n",
       "8      [Pleasant, Unpleasant]     0.733673  \n",
       "9      [Pleasant, Unpleasant]     0.627778  "
      ]
     },
     "execution_count": 66,
     "metadata": {},
     "output_type": "execute_result"
    }
   ],
   "source": [
    "df_word2vec"
   ]
  },
  {
   "cell_type": "code",
   "execution_count": null,
   "metadata": {},
   "outputs": [],
   "source": []
  },
  {
   "cell_type": "code",
   "execution_count": 67,
   "metadata": {
    "ExecuteTime": {
     "end_time": "2020-11-01T21:21:31.958257Z",
     "start_time": "2020-11-01T21:21:31.953887Z"
    }
   },
   "outputs": [],
   "source": [
    "# df_word2vec.to_csv('output/weat_score_word2vec.csv')"
   ]
  },
  {
   "cell_type": "code",
   "execution_count": null,
   "metadata": {},
   "outputs": [],
   "source": []
  }
 ],
 "metadata": {
  "kernelspec": {
   "display_name": "Python 3.7.3 64-bit",
   "language": "python",
   "name": "python37364bit4db73d59933341feaa47a8db6a2db2c7"
  },
  "language_info": {
   "codemirror_mode": {
    "name": "ipython",
    "version": 3
   },
   "file_extension": ".py",
   "mimetype": "text/x-python",
   "name": "python",
   "nbconvert_exporter": "python",
   "pygments_lexer": "ipython3",
   "version": "3.7.3"
  }
 },
 "nbformat": 4,
 "nbformat_minor": 4
}

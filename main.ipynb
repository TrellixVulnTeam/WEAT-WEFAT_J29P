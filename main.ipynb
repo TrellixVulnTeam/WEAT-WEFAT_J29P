{
 "cells": [
  {
   "cell_type": "code",
   "execution_count": 8,
   "metadata": {
    "ExecuteTime": {
     "end_time": "2020-11-01T02:46:17.027956Z",
     "start_time": "2020-11-01T02:46:17.000963Z"
    }
   },
   "outputs": [],
   "source": [
    "import pandas as pd\n",
    "import numpy as np \n",
    "from gensim import models\n",
    "from lib import weat\n",
    "import os"
   ]
  },
  {
   "cell_type": "code",
   "execution_count": 9,
   "metadata": {
    "ExecuteTime": {
     "end_time": "2020-11-01T02:47:17.350845Z",
     "start_time": "2020-11-01T02:46:17.366194Z"
    }
   },
   "outputs": [],
   "source": [
    "# import and load word2vec model using Google News data\n",
    "w = models.KeyedVectors.load_word2vec_format(\n",
    "        'data/GoogleNews-vectors-negative300.bin', binary=True)"
   ]
  },
  {
   "cell_type": "code",
   "execution_count": 10,
   "metadata": {
    "ExecuteTime": {
     "end_time": "2020-11-01T02:47:17.405520Z",
     "start_time": "2020-11-01T02:47:17.365239Z"
    }
   },
   "outputs": [],
   "source": [
    "def get_matrices(filepath, w):\n",
    "\n",
    "    data_file = pd.read_csv(filepath, sep=',\\s*', engine='python',  header=None, index_col=0)\n",
    "    \n",
    "    # get targets and attribute labels\n",
    "    target_names = list(data_file.index)[:2]\n",
    "    attribute_names = list(data_file.index)[2:]\n",
    "    \n",
    "    # get targets and attribute sets\n",
    "    targets = data_file.loc[target_names]\n",
    "    attributes = data_file.loc[attribute_names]\n",
    "    \n",
    "    # get arrays, one for each set of target and attribute\n",
    "    tar1 = targets.loc[target_names[0]]\n",
    "    tar2 = targets.loc[target_names[1]]\n",
    "    att1 = attributes.loc[attribute_names[0]]\n",
    "    att2 = attributes.loc[attribute_names[1]]\n",
    "    \n",
    "    # remove any NaN values that have been read due to mismatch of columns \n",
    "    tar1 = tar1[~pd.isna(tar1)]\n",
    "    tar2 = tar2[~pd.isna(tar2)]\n",
    "    att1 = att1[~pd.isna(att1)]\n",
    "    att2 = att2[~pd.isna(att2)]\n",
    "        \n",
    "    return target_names, attribute_names, w[tar1], w[tar2], w[att1], w[att2]\n",
    "\n",
    "def output_table():\n",
    "    directory = 'targets_attributes_data/'\n",
    "    \n",
    "    # instantiate the weta object\n",
    "    weat_object = weat.Weat()\n",
    "    effect_size = list()\n",
    "    targets = list()\n",
    "    attributes = list()\n",
    "    \n",
    "    print('Reading files...\\n')\n",
    "\n",
    "    # loop over all files in the directory\n",
    "    for filename in os.listdir(directory):\n",
    "        if not filename.startswith('.'):  # ignore hidden files\n",
    "            filepath = directory + filename\n",
    "            print (filepath)\n",
    "\n",
    "            # retrieve target names and attributes to form the table\n",
    "            target_names, attribute_names, _, _, _, _ = get_matrices(filepath, w)\n",
    "            targets.append(target_names)\n",
    "            attributes.append(attribute_names)\n",
    "\n",
    "            # retrive the word embeddings for the targets and attributes\n",
    "            _, _, t1, t2, a1, a2 = get_matrices(filepath, w)\n",
    "\n",
    "            # calculate the effect size \n",
    "            effect_size.append(weat_object.effect_size(t1, t2, a1, a2))\n",
    "        \n",
    "    # create a daraframe with the targets, attributes, and effect size\n",
    "    output_df = pd.DataFrame(data = list(zip(targets, attributes, effect_size)),\n",
    "                             columns = ['Targets', 'Attributes', 'Effect Size'])\n",
    "    return output_df"
   ]
  },
  {
   "cell_type": "code",
   "execution_count": 11,
   "metadata": {
    "ExecuteTime": {
     "end_time": "2020-11-01T02:47:18.173230Z",
     "start_time": "2020-11-01T02:47:17.409262Z"
    },
    "scrolled": false
   },
   "outputs": [
    {
     "name": "stdout",
     "output_type": "stream",
     "text": [
      "Reading files...\n",
      "\n",
      "targets_attributes_data/instruments vs weapons.csv\n",
      "targets_attributes_data/male vs female names.csv\n",
      "targets_attributes_data/science vs arts.csv\n",
      "targets_attributes_data/mental vs physical disease.csv\n",
      "targets_attributes_data/flowers vs insects.csv\n",
      "targets_attributes_data/young vs old peoples names.csv\n",
      "targets_attributes_data/math vs arts.csv\n",
      "targets_attributes_data/European-American vs African-American names 2.csv\n",
      "targets_attributes_data/European-American vs African-American names 3.csv\n",
      "targets_attributes_data/European-American vs African-American names 1.csv\n"
     ]
    }
   ],
   "source": [
    "df = output_table()"
   ]
  },
  {
   "cell_type": "code",
   "execution_count": 7,
   "metadata": {
    "ExecuteTime": {
     "end_time": "2020-11-01T00:37:42.940794Z",
     "start_time": "2020-11-01T00:37:42.937336Z"
    }
   },
   "outputs": [],
   "source": [
    "df.to_csv('output/weat_score.csv')"
   ]
  }
 ],
 "metadata": {
  "kernelspec": {
   "display_name": "Python 3.7.3 64-bit",
   "language": "python",
   "name": "python37364bit4db73d59933341feaa47a8db6a2db2c7"
  },
  "language_info": {
   "codemirror_mode": {
    "name": "ipython",
    "version": 3
   },
   "file_extension": ".py",
   "mimetype": "text/x-python",
   "name": "python",
   "nbconvert_exporter": "python",
   "pygments_lexer": "ipython3",
   "version": "3.7.3"
  }
 },
 "nbformat": 4,
 "nbformat_minor": 4
}

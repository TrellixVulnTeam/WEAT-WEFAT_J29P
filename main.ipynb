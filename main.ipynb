{
 "cells": [
  {
   "cell_type": "markdown",
   "metadata": {},
   "source": [
    "## Import Modules"
   ]
  },
  {
   "cell_type": "code",
   "execution_count": 1,
   "metadata": {
    "ExecuteTime": {
     "end_time": "2020-11-25T01:05:37.835708Z",
     "start_time": "2020-11-25T01:05:35.853630Z"
    }
   },
   "outputs": [],
   "source": [
    "import pandas as pd\n",
    "import numpy as np \n",
    "from gensim import models\n",
    "from lib import weat\n",
    "import os\n",
    "import scipy\n",
    "import matplotlib.pyplot as plt\n",
    "import importlib\n",
    "from scipy import stats\n",
    "import seaborn \n"
   ]
  },
  {
   "cell_type": "markdown",
   "metadata": {},
   "source": [
    "## Load Glove Model"
   ]
  },
  {
   "cell_type": "code",
   "execution_count": 2,
   "metadata": {
    "ExecuteTime": {
     "end_time": "2020-11-25T01:05:37.846611Z",
     "start_time": "2020-11-25T01:05:37.839554Z"
    }
   },
   "outputs": [],
   "source": [
    "# import and load glove model\n",
    "def loadGloveModel(file):\n",
    "    print(\"Loading glove model...\")\n",
    "    f = open(file,'r', encoding='utf-8')\n",
    "    gloveModel = {}\n",
    "    for line in f:\n",
    "        splitLines = line.split(' ')\n",
    "        word = splitLines[0]\n",
    "        wordEmbedding = np.array([float(value) for value in splitLines[1:]])\n",
    "        gloveModel[word] = wordEmbedding\n",
    "    print(len(gloveModel),\" words loaded!\")\n",
    "    return gloveModel"
   ]
  },
  {
   "cell_type": "code",
   "execution_count": 3,
   "metadata": {
    "ExecuteTime": {
     "end_time": "2020-11-25T01:08:33.059595Z",
     "start_time": "2020-11-25T01:05:37.849772Z"
    }
   },
   "outputs": [
    {
     "name": "stdout",
     "output_type": "stream",
     "text": [
      "Loading glove model...\n",
      "2196017  words loaded!\n"
     ]
    }
   ],
   "source": [
    "# load Glove model\n",
    "glove = loadGloveModel('data/glove.840B.300d.txt')"
   ]
  },
  {
   "cell_type": "code",
   "execution_count": 4,
   "metadata": {
    "ExecuteTime": {
     "end_time": "2020-11-25T01:08:33.092518Z",
     "start_time": "2020-11-25T01:08:33.071457Z"
    }
   },
   "outputs": [],
   "source": [
    "def get_tar_att_arrays(model, t1, a1, a2, algorithm, t2=None,):\n",
    "    if algorithm == 'weat':\n",
    "        tar1 = np.array([model[vector] for vector in t1])\n",
    "        tar2 = np.array([model[vector] for vector in t2])\n",
    "        att1 = np.array([model[vector] for vector in a1])\n",
    "        att2 = np.array([model[vector] for vector in a2])\n",
    "        \n",
    "        return tar1, tar2, att1, att2\n",
    "    \n",
    "    elif algorithm == 'wefat':\n",
    "        tar1 = np.array([model[vector] for vector in t1])\n",
    "        att1 = np.array([model[vector] for vector in a1])\n",
    "        att2 = np.array([model[vector] for vector in a2])\n",
    "        \n",
    "        return tar1, att1, att2"
   ]
  },
  {
   "cell_type": "code",
   "execution_count": 5,
   "metadata": {
    "ExecuteTime": {
     "end_time": "2020-11-25T01:08:33.101276Z",
     "start_time": "2020-11-25T01:08:33.097722Z"
    }
   },
   "outputs": [],
   "source": [
    "def normal_test(distr):\n",
    "    k2, p = stats.normaltest(distr)\n",
    "    alpha = 1e-3\n",
    "    if p < alpha: \n",
    "        return 'Yes'\n",
    "    else: return 'No'"
   ]
  },
  {
   "cell_type": "code",
   "execution_count": 202,
   "metadata": {
    "ExecuteTime": {
     "end_time": "2020-11-25T03:27:10.011966Z",
     "start_time": "2020-11-25T03:27:09.983953Z"
    }
   },
   "outputs": [],
   "source": [
    "def get_matrices(filepath, model, algorithm):\n",
    "    data_file = pd.read_csv(filepath, sep=',\\s*', engine='python',  header=None, index_col=0)\n",
    "    \n",
    "    if algorithm == 'weat':\n",
    "        # get targets and attribute labels\n",
    "        target_names = list(data_file.index)[:2]\n",
    "        attribute_names = list(data_file.index)[2:]\n",
    "\n",
    "        # get targets and attribute sets\n",
    "        targets = data_file.loc[target_names]\n",
    "        attributes = data_file.loc[attribute_names]\n",
    "\n",
    "        # get arrays, one for each set of target and attribute\n",
    "        tar1 = targets.loc[target_names[0]]\n",
    "        tar2 = targets.loc[target_names[1]]\n",
    "        att1 = attributes.loc[attribute_names[0]]\n",
    "        att2 = attributes.loc[attribute_names[1]]\n",
    "\n",
    "        # remove any NaN values that have been read due to mismatch of columns \n",
    "        tar1 = tar1[~pd.isna(tar1)]\n",
    "        tar2 = tar2[~pd.isna(tar2)]\n",
    "        att1 = att1[~pd.isna(att1)]\n",
    "        att2 = att2[~pd.isna(att2)]\n",
    "\n",
    "        # give numpy array of glove word embeddings for targets and attributes\n",
    "        tar1, tar2, att1, att2 = get_tar_att_arrays(model, tar1, att1, att2, algorithm, t2 = tar2, )\n",
    "\n",
    "        return target_names, attribute_names, tar1, tar2, att1, att2\n",
    "    \n",
    "    elif algorithm == 'wefat':\n",
    "        # get targets and attribute labels\n",
    "        target_names = list(data_file.index)[:1]\n",
    "        attribute_names = list(data_file.index)[1:]\n",
    "\n",
    "        # get targets and attribute sets\n",
    "        targets = data_file.loc[target_names]\n",
    "        attributes = data_file.loc[attribute_names]\n",
    "\n",
    "        # get arrays, one for each set of target and attribute\n",
    "        tar1 = targets.loc[target_names[0]]\n",
    "        att1 = attributes.loc[attribute_names[0]]\n",
    "        att2 = attributes.loc[attribute_names[1]]\n",
    "\n",
    "        # remove any NaN values that have been read due to mismatch of columns \n",
    "        tar1 = tar1[~pd.isna(tar1)]\n",
    "        att1 = att1[~pd.isna(att1)]\n",
    "        att2 = att2[~pd.isna(att2)]\n",
    "        \n",
    "        # give numpy array of glove word embeddings for targets and attributes\n",
    "        tar1, att1, att2 = get_tar_att_arrays(model, tar1, att1, att2, algorithm)\n",
    "\n",
    "        return target_names, attribute_names, tar1, att1, att2\n",
    "\n",
    "def output_values(filepath, model, algorithm): \n",
    "    # algorithm selection\n",
    "    if algorithm == 'weat':     \n",
    "        alg_object = weat.Weat()\n",
    "        \n",
    "        # retrieve target names and attributes to form the table\n",
    "        target_names, attribute_names, _, _, _, _ = get_matrices(filepath, model, algorithm)\n",
    "        # retrive the word embeddings for the targets and attributes\n",
    "        _, _, t1, t2, a1, a2 = get_matrices(filepath, model, algorithm)\n",
    "        # calculate the effect size \n",
    "        effect_size = alg_object.effect_size(t1, t2, a1, a2)\n",
    "        # calculate the p-value, test statistic, and permutations\n",
    "        p_val, test_stat, distr = alg_object.p_value(t1, t2, a1, a2)\n",
    "        \n",
    "        \n",
    "    elif algorithm =='wefat':\n",
    "        alg_object = weat.Wefat()\n",
    "        \n",
    "        # retrieve target names and attributes to form the table\n",
    "        target_names, attribute_names, _, _, _ = get_matrices(filepath, model, algorithm)\n",
    "        # retrive the word embeddings for the targets and attributes\n",
    "        _, _, targets, a1, a2 = get_matrices(filepath, model, algorithm)\n",
    "        \n",
    "        effect_size, p_val = list(), list()\n",
    "        for target in targets:\n",
    "            # calculate the effect size \n",
    "            eff_size = alg_object.effect_size(target, a1, a2)\n",
    "            effect_size.append(eff_size)\n",
    "            \n",
    "            # calculate the p-value, test statistic, and permutations\n",
    "            p_value, test_stat, distr = alg_object.p_value(target, a1, a2)\n",
    "            p_val.append(p_value)\n",
    "\n",
    "    \n",
    "    return target_names, attribute_names, effect_size, p_val\n",
    "\n",
    "def output_table(model, algorithm, directory=None, filepath=None):\n",
    "    print('Reading files...\\n')\n",
    "    \n",
    "    # if a directory is given to run the test on all files\n",
    "    if directory: \n",
    "        targets, attributes, effect_size, p_value = dict(), dict(), dict(), dict()\n",
    "        # loop over all files in the directory\n",
    "        for index, filename in enumerate(os.listdir(directory)):\n",
    "            if not filename.startswith('.'):  # ignore hidden files\n",
    "                filepath = directory + filename\n",
    "                print (filepath)\n",
    "                targets[index], attributes[index], effect_size[index], p_value[index] = \\\n",
    "                                            output_values(filepath, model, algorithm)\n",
    "        # create a dataframe with the targets, attributes, and effect size\n",
    "        output_df = pd.DataFrame(data = list(zip(targets.values(), attributes.values(), effect_size.values(), p_value.values())),\n",
    "                             columns = ['Targets', 'Attributes', 'Effect Size', 'P-Value'])\n",
    "        output_df['Effect Size'] = output_df['Effect Size'].round(decimals=2)\n",
    "                \n",
    "    # if a specific filepath is given to the run a test only on that file          \n",
    "    elif filepath: \n",
    "        _, _, e_s, p_value = output_values(filepath, model, algorithm)\n",
    "        if algorithm == 'wefat':\n",
    "            target = ['Aditya', 'mountain', 'movie', 'murderer']\n",
    "            output_df = pd.DataFrame(data = list(zip(target, e_s, p_value)), columns = ['Target', 'Effect Size', 'P-Value'])\n",
    "        elif algorithm =='weat':\n",
    "            output_df = pd.DataFrame(data = {'Effect Size': e_s, 'P-Value': p_value}, index=[0])\n",
    "        output_df['Effect Size'] = output_df['Effect Size'].round(decimals=2)\n",
    "\n",
    "    print('Finished.')\n",
    "    return output_df"
   ]
  },
  {
   "cell_type": "code",
   "execution_count": 203,
   "metadata": {
    "ExecuteTime": {
     "end_time": "2020-11-25T03:27:11.898584Z",
     "start_time": "2020-11-25T03:27:11.891050Z"
    },
    "scrolled": true
   },
   "outputs": [
    {
     "data": {
      "text/plain": [
       "<module 'lib.weat' from '/Users/adimaini/Documents/GW/Machine Learning/Research/CODE/WEAT-WEFAT/lib/weat.py'>"
      ]
     },
     "execution_count": 203,
     "metadata": {},
     "output_type": "execute_result"
    }
   ],
   "source": [
    "importlib.reload(weat)"
   ]
  },
  {
   "cell_type": "code",
   "execution_count": 204,
   "metadata": {
    "ExecuteTime": {
     "end_time": "2020-11-25T03:27:35.890693Z",
     "start_time": "2020-11-25T03:27:12.826732Z"
    },
    "scrolled": false
   },
   "outputs": [
    {
     "name": "stdout",
     "output_type": "stream",
     "text": [
      "Reading files...\n",
      "\n",
      "Finished.\n"
     ]
    }
   ],
   "source": [
    "df_personalized_wefat = output_table(model=glove, filepath='personalized eval/wefat test.csv', algorithm='wefat')"
   ]
  },
  {
   "cell_type": "code",
   "execution_count": 205,
   "metadata": {
    "ExecuteTime": {
     "end_time": "2020-11-25T03:27:39.311589Z",
     "start_time": "2020-11-25T03:27:35.892915Z"
    }
   },
   "outputs": [
    {
     "name": "stdout",
     "output_type": "stream",
     "text": [
      "Reading files...\n",
      "\n",
      "Finished.\n"
     ]
    }
   ],
   "source": [
    "df_personalized_weat = output_table(model=glove, filepath='personalized eval/weat test.csv', algorithm='weat')"
   ]
  },
  {
   "cell_type": "code",
   "execution_count": 197,
   "metadata": {
    "ExecuteTime": {
     "end_time": "2020-11-25T03:25:48.323145Z",
     "start_time": "2020-11-25T03:25:33.767004Z"
    },
    "scrolled": true
   },
   "outputs": [
    {
     "name": "stdout",
     "output_type": "stream",
     "text": [
      "Reading files...\n",
      "\n",
      "targets_attributes_data/instruments vs weapons.csv\n",
      "targets_attributes_data/male vs female names.csv\n",
      "targets_attributes_data/science vs arts.csv\n",
      "targets_attributes_data/mental vs physical disease.csv\n",
      "targets_attributes_data/flowers vs insects.csv\n",
      "targets_attributes_data/young vs old peoples names.csv\n",
      "targets_attributes_data/math vs arts.csv\n",
      "targets_attributes_data/European-American vs African-American names 2.csv\n",
      "targets_attributes_data/European-American vs African-American names 3.csv\n",
      "targets_attributes_data/European-American vs African-American names 1.csv\n",
      "Finished.\n"
     ]
    }
   ],
   "source": [
    "df_glove = output_table(model=glove, directory='targets_attributes_data/', algorithm='weat')"
   ]
  },
  {
   "cell_type": "code",
   "execution_count": 208,
   "metadata": {
    "ExecuteTime": {
     "end_time": "2020-11-25T03:30:34.317045Z",
     "start_time": "2020-11-25T03:30:34.304987Z"
    },
    "scrolled": true
   },
   "outputs": [
    {
     "data": {
      "text/html": [
       "<div>\n",
       "<style scoped>\n",
       "    .dataframe tbody tr th:only-of-type {\n",
       "        vertical-align: middle;\n",
       "    }\n",
       "\n",
       "    .dataframe tbody tr th {\n",
       "        vertical-align: top;\n",
       "    }\n",
       "\n",
       "    .dataframe thead th {\n",
       "        text-align: right;\n",
       "    }\n",
       "</style>\n",
       "<table border=\"1\" class=\"dataframe\">\n",
       "  <thead>\n",
       "    <tr style=\"text-align: right;\">\n",
       "      <th></th>\n",
       "      <th>Target</th>\n",
       "      <th>Effect Size</th>\n",
       "      <th>P-Value</th>\n",
       "    </tr>\n",
       "  </thead>\n",
       "  <tbody>\n",
       "    <tr>\n",
       "      <th>0</th>\n",
       "      <td>Aditya</td>\n",
       "      <td>0.18</td>\n",
       "      <td>0.261600</td>\n",
       "    </tr>\n",
       "    <tr>\n",
       "      <th>1</th>\n",
       "      <td>mountain</td>\n",
       "      <td>0.86</td>\n",
       "      <td>0.001138</td>\n",
       "    </tr>\n",
       "    <tr>\n",
       "      <th>2</th>\n",
       "      <td>movie</td>\n",
       "      <td>0.37</td>\n",
       "      <td>0.093055</td>\n",
       "    </tr>\n",
       "    <tr>\n",
       "      <th>3</th>\n",
       "      <td>murderer</td>\n",
       "      <td>-0.92</td>\n",
       "      <td>0.999351</td>\n",
       "    </tr>\n",
       "  </tbody>\n",
       "</table>\n",
       "</div>"
      ],
      "text/plain": [
       "     Target  Effect Size   P-Value\n",
       "0    Aditya         0.18  0.261600\n",
       "1  mountain         0.86  0.001138\n",
       "2     movie         0.37  0.093055\n",
       "3  murderer        -0.92  0.999351"
      ]
     },
     "execution_count": 208,
     "metadata": {},
     "output_type": "execute_result"
    }
   ],
   "source": [
    "df_personalized_wefat"
   ]
  },
  {
   "cell_type": "code",
   "execution_count": 209,
   "metadata": {
    "ExecuteTime": {
     "end_time": "2020-11-25T03:30:36.437976Z",
     "start_time": "2020-11-25T03:30:36.428920Z"
    }
   },
   "outputs": [
    {
     "data": {
      "text/html": [
       "<div>\n",
       "<style scoped>\n",
       "    .dataframe tbody tr th:only-of-type {\n",
       "        vertical-align: middle;\n",
       "    }\n",
       "\n",
       "    .dataframe tbody tr th {\n",
       "        vertical-align: top;\n",
       "    }\n",
       "\n",
       "    .dataframe thead th {\n",
       "        text-align: right;\n",
       "    }\n",
       "</style>\n",
       "<table border=\"1\" class=\"dataframe\">\n",
       "  <thead>\n",
       "    <tr style=\"text-align: right;\">\n",
       "      <th></th>\n",
       "      <th>Effect Size</th>\n",
       "      <th>P-Value</th>\n",
       "    </tr>\n",
       "  </thead>\n",
       "  <tbody>\n",
       "    <tr>\n",
       "      <th>0</th>\n",
       "      <td>1.17</td>\n",
       "      <td>0.121311</td>\n",
       "    </tr>\n",
       "  </tbody>\n",
       "</table>\n",
       "</div>"
      ],
      "text/plain": [
       "   Effect Size   P-Value\n",
       "0         1.17  0.121311"
      ]
     },
     "execution_count": 209,
     "metadata": {},
     "output_type": "execute_result"
    }
   ],
   "source": [
    "df_personalized_weat"
   ]
  },
  {
   "cell_type": "code",
   "execution_count": 141,
   "metadata": {
    "ExecuteTime": {
     "end_time": "2020-11-25T02:52:53.744339Z",
     "start_time": "2020-11-25T02:52:53.727535Z"
    }
   },
   "outputs": [
    {
     "data": {
      "text/html": [
       "<div>\n",
       "<style scoped>\n",
       "    .dataframe tbody tr th:only-of-type {\n",
       "        vertical-align: middle;\n",
       "    }\n",
       "\n",
       "    .dataframe tbody tr th {\n",
       "        vertical-align: top;\n",
       "    }\n",
       "\n",
       "    .dataframe thead th {\n",
       "        text-align: right;\n",
       "    }\n",
       "</style>\n",
       "<table border=\"1\" class=\"dataframe\">\n",
       "  <thead>\n",
       "    <tr style=\"text-align: right;\">\n",
       "      <th></th>\n",
       "      <th>Targets</th>\n",
       "      <th>Attributes</th>\n",
       "      <th>Effect Size</th>\n",
       "      <th>P-Value</th>\n",
       "    </tr>\n",
       "  </thead>\n",
       "  <tbody>\n",
       "    <tr>\n",
       "      <th>0</th>\n",
       "      <td>[Instruments, Weapons]</td>\n",
       "      <td>[Pleasant, Unpleasant]</td>\n",
       "      <td>1.53</td>\n",
       "      <td>4.284609e-06</td>\n",
       "    </tr>\n",
       "    <tr>\n",
       "      <th>1</th>\n",
       "      <td>[Male names, Female names]</td>\n",
       "      <td>[Career, Family]</td>\n",
       "      <td>1.81</td>\n",
       "      <td>1.016746e-04</td>\n",
       "    </tr>\n",
       "    <tr>\n",
       "      <th>2</th>\n",
       "      <td>[Science, Arts]</td>\n",
       "      <td>[Male terms, Female terms]</td>\n",
       "      <td>1.24</td>\n",
       "      <td>4.538500e-03</td>\n",
       "    </tr>\n",
       "    <tr>\n",
       "      <th>3</th>\n",
       "      <td>[Mental disease, Physical disease]</td>\n",
       "      <td>[Temporary, Permanent]</td>\n",
       "      <td>1.38</td>\n",
       "      <td>6.993918e-03</td>\n",
       "    </tr>\n",
       "    <tr>\n",
       "      <th>4</th>\n",
       "      <td>[Flowers, Insects]</td>\n",
       "      <td>[Pleasant, Unpleasant]</td>\n",
       "      <td>1.50</td>\n",
       "      <td>1.427875e-08</td>\n",
       "    </tr>\n",
       "    <tr>\n",
       "      <th>5</th>\n",
       "      <td>[Young people’s names, Old people’s names]</td>\n",
       "      <td>[Pleasant, Unpleasant]</td>\n",
       "      <td>1.21</td>\n",
       "      <td>1.467157e-02</td>\n",
       "    </tr>\n",
       "    <tr>\n",
       "      <th>6</th>\n",
       "      <td>[Math, Arts]</td>\n",
       "      <td>[Male terms, Female terms]</td>\n",
       "      <td>1.06</td>\n",
       "      <td>1.154923e-02</td>\n",
       "    </tr>\n",
       "    <tr>\n",
       "      <th>7</th>\n",
       "      <td>[European American names, African American names]</td>\n",
       "      <td>[Pleasant, Unpleasant]</td>\n",
       "      <td>1.50</td>\n",
       "      <td>3.707501e-05</td>\n",
       "    </tr>\n",
       "    <tr>\n",
       "      <th>8</th>\n",
       "      <td>[European American names, African American names]</td>\n",
       "      <td>[Pleasant, Unpleasant]</td>\n",
       "      <td>1.28</td>\n",
       "      <td>1.075243e-04</td>\n",
       "    </tr>\n",
       "    <tr>\n",
       "      <th>9</th>\n",
       "      <td>[European American names, African American names]</td>\n",
       "      <td>[Pleasant, Unpleasant]</td>\n",
       "      <td>1.41</td>\n",
       "      <td>4.246936e-11</td>\n",
       "    </tr>\n",
       "  </tbody>\n",
       "</table>\n",
       "</div>"
      ],
      "text/plain": [
       "                                             Targets  \\\n",
       "0                             [Instruments, Weapons]   \n",
       "1                         [Male names, Female names]   \n",
       "2                                    [Science, Arts]   \n",
       "3                 [Mental disease, Physical disease]   \n",
       "4                                 [Flowers, Insects]   \n",
       "5         [Young people’s names, Old people’s names]   \n",
       "6                                       [Math, Arts]   \n",
       "7  [European American names, African American names]   \n",
       "8  [European American names, African American names]   \n",
       "9  [European American names, African American names]   \n",
       "\n",
       "                   Attributes  Effect Size       P-Value  \n",
       "0      [Pleasant, Unpleasant]         1.53  4.284609e-06  \n",
       "1            [Career, Family]         1.81  1.016746e-04  \n",
       "2  [Male terms, Female terms]         1.24  4.538500e-03  \n",
       "3      [Temporary, Permanent]         1.38  6.993918e-03  \n",
       "4      [Pleasant, Unpleasant]         1.50  1.427875e-08  \n",
       "5      [Pleasant, Unpleasant]         1.21  1.467157e-02  \n",
       "6  [Male terms, Female terms]         1.06  1.154923e-02  \n",
       "7      [Pleasant, Unpleasant]         1.50  3.707501e-05  \n",
       "8      [Pleasant, Unpleasant]         1.28  1.075243e-04  \n",
       "9      [Pleasant, Unpleasant]         1.41  4.246936e-11  "
      ]
     },
     "execution_count": 141,
     "metadata": {},
     "output_type": "execute_result"
    }
   ],
   "source": [
    "df_glove"
   ]
  },
  {
   "cell_type": "code",
   "execution_count": 211,
   "metadata": {
    "ExecuteTime": {
     "end_time": "2020-11-25T04:18:59.870622Z",
     "start_time": "2020-11-25T04:18:59.851326Z"
    }
   },
   "outputs": [],
   "source": [
    "df_glove.to_csv('output/weat_score_glove.csv')\n",
    "df_personalized_weat.to_csv('output/weat_score_personal.csv')\n",
    "df_personalized_wefat.to_csv('output/wefat_score_personal.csv')"
   ]
  },
  {
   "cell_type": "code",
   "execution_count": null,
   "metadata": {},
   "outputs": [],
   "source": []
  }
 ],
 "metadata": {
  "kernelspec": {
   "display_name": "Python 3.7.3 64-bit",
   "language": "python",
   "name": "python37364bit4db73d59933341feaa47a8db6a2db2c7"
  },
  "language_info": {
   "codemirror_mode": {
    "name": "ipython",
    "version": 3
   },
   "file_extension": ".py",
   "mimetype": "text/x-python",
   "name": "python",
   "nbconvert_exporter": "python",
   "pygments_lexer": "ipython3",
   "version": "3.7.3"
  }
 },
 "nbformat": 4,
 "nbformat_minor": 4
}

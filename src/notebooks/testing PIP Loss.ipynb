{
 "cells": [
  {
   "cell_type": "code",
   "execution_count": 52,
   "id": "verbal-breathing",
   "metadata": {
    "ExecuteTime": {
     "end_time": "2021-03-16T02:33:31.867397Z",
     "start_time": "2021-03-16T02:33:18.885482Z"
    }
   },
   "outputs": [],
   "source": [
    "import numpy as np\n",
    "from lib import weat"
   ]
  },
  {
   "cell_type": "code",
   "execution_count": 51,
   "id": "advance-continuity",
   "metadata": {
    "ExecuteTime": {
     "end_time": "2021-03-16T02:33:17.057848Z",
     "start_time": "2021-03-16T02:33:10.033178Z"
    }
   },
   "outputs": [
    {
     "name": "stdout",
     "output_type": "stream",
     "text": [
      "Collecting scipy\n",
      "  Downloading scipy-1.6.1-cp39-cp39-macosx_10_9_x86_64.whl (30.9 MB)\n",
      "\u001b[K     |████████████████████████████████| 30.9 MB 17.5 MB/s eta 0:00:01\n",
      "\u001b[?25hRequirement already satisfied: numpy>=1.16.5 in /Users/adimaini/Documents/GW/Research/CODE.nosync/WEAT-WEFAT/weat-env/lib/python3.9/site-packages (from scipy) (1.20.1)\n",
      "Installing collected packages: scipy\n",
      "Successfully installed scipy-1.6.1\n"
     ]
    }
   ],
   "source": [
    "!pip3 install scipy"
   ]
  },
  {
   "cell_type": "code",
   "execution_count": 46,
   "id": "creative-times",
   "metadata": {
    "ExecuteTime": {
     "end_time": "2021-03-16T02:27:19.536178Z",
     "start_time": "2021-03-16T02:27:19.532240Z"
    }
   },
   "outputs": [],
   "source": [
    "emb1 = np.matrix('0.01 0.02 0.03; 0.8 0.9 0.6')"
   ]
  },
  {
   "cell_type": "code",
   "execution_count": 47,
   "id": "sealed-apache",
   "metadata": {
    "ExecuteTime": {
     "end_time": "2021-03-16T02:27:20.467492Z",
     "start_time": "2021-03-16T02:27:20.463918Z"
    }
   },
   "outputs": [],
   "source": [
    "emb2 = np.matrix('0.5, 0.02 0.03; 0.8 0.9 0.6')"
   ]
  },
  {
   "cell_type": "code",
   "execution_count": 20,
   "id": "electric-awareness",
   "metadata": {
    "ExecuteTime": {
     "end_time": "2021-03-16T01:30:44.433946Z",
     "start_time": "2021-03-16T01:30:44.427884Z"
    }
   },
   "outputs": [
    {
     "data": {
      "text/plain": [
       "matrix([[0.01, 0.02, 0.03],\n",
       "        [0.8 , 0.9 , 0.6 ]])"
      ]
     },
     "execution_count": 20,
     "metadata": {},
     "output_type": "execute_result"
    }
   ],
   "source": [
    "emb1"
   ]
  },
  {
   "cell_type": "code",
   "execution_count": 25,
   "id": "tribal-apple",
   "metadata": {
    "ExecuteTime": {
     "end_time": "2021-03-16T01:40:45.745486Z",
     "start_time": "2021-03-16T01:40:45.740814Z"
    }
   },
   "outputs": [
    {
     "data": {
      "text/plain": [
       "matrix([[0.5 , 0.02, 0.03],\n",
       "        [0.8 , 0.9 , 0.9 ]])"
      ]
     },
     "execution_count": 25,
     "metadata": {},
     "output_type": "execute_result"
    }
   ],
   "source": [
    "emb2"
   ]
  },
  {
   "cell_type": "code",
   "execution_count": 28,
   "id": "exposed-canberra",
   "metadata": {
    "ExecuteTime": {
     "end_time": "2021-03-16T01:41:50.954748Z",
     "start_time": "2021-03-16T01:41:50.948459Z"
    }
   },
   "outputs": [
    {
     "data": {
      "text/plain": [
       "matrix([[0.01, 0.8 ],\n",
       "        [0.02, 0.9 ],\n",
       "        [0.03, 0.6 ]])"
      ]
     },
     "execution_count": 28,
     "metadata": {},
     "output_type": "execute_result"
    }
   ],
   "source": [
    "emb1.T"
   ]
  },
  {
   "cell_type": "code",
   "execution_count": 26,
   "id": "superior-tonight",
   "metadata": {
    "ExecuteTime": {
     "end_time": "2021-03-16T01:40:46.017331Z",
     "start_time": "2021-03-16T01:40:46.010868Z"
    }
   },
   "outputs": [
    {
     "data": {
      "text/plain": [
       "matrix([[0.5 , 0.8 ],\n",
       "        [0.02, 0.9 ],\n",
       "        [0.03, 0.9 ]])"
      ]
     },
     "execution_count": 26,
     "metadata": {},
     "output_type": "execute_result"
    }
   ],
   "source": [
    "emb2.T"
   ]
  },
  {
   "cell_type": "code",
   "execution_count": 36,
   "id": "crazy-carrier",
   "metadata": {
    "ExecuteTime": {
     "end_time": "2021-03-16T01:56:05.567488Z",
     "start_time": "2021-03-16T01:56:05.563887Z"
    }
   },
   "outputs": [],
   "source": [
    "def pip(mat): \n",
    "    return np.matmul(mat, mat.T)"
   ]
  },
  {
   "cell_type": "code",
   "execution_count": 37,
   "id": "checked-rebecca",
   "metadata": {
    "ExecuteTime": {
     "end_time": "2021-03-16T01:56:05.821502Z",
     "start_time": "2021-03-16T01:56:05.818090Z"
    }
   },
   "outputs": [],
   "source": [
    "loss = pip(emb1) - pip(emb2)"
   ]
  },
  {
   "cell_type": "code",
   "execution_count": 39,
   "id": "danish-radius",
   "metadata": {
    "ExecuteTime": {
     "end_time": "2021-03-16T01:56:08.204199Z",
     "start_time": "2021-03-16T01:56:08.198978Z"
    }
   },
   "outputs": [
    {
     "data": {
      "text/plain": [
       "matrix([[1.40e-03, 4.40e-02],\n",
       "        [4.40e-02, 1.81e+00]])"
      ]
     },
     "execution_count": 39,
     "metadata": {},
     "output_type": "execute_result"
    }
   ],
   "source": [
    "pip(emb1)"
   ]
  },
  {
   "cell_type": "code",
   "execution_count": 40,
   "id": "adverse-nudist",
   "metadata": {
    "ExecuteTime": {
     "end_time": "2021-03-16T01:58:01.707433Z",
     "start_time": "2021-03-16T01:58:01.701993Z"
    }
   },
   "outputs": [
    {
     "data": {
      "text/plain": [
       "matrix([[0.2513, 0.445 ],\n",
       "        [0.445 , 2.26  ]])"
      ]
     },
     "execution_count": 40,
     "metadata": {},
     "output_type": "execute_result"
    }
   ],
   "source": [
    "pip(emb2)"
   ]
  },
  {
   "cell_type": "code",
   "execution_count": 41,
   "id": "owned-calcium",
   "metadata": {
    "ExecuteTime": {
     "end_time": "2021-03-16T01:58:25.720409Z",
     "start_time": "2021-03-16T01:58:25.714601Z"
    }
   },
   "outputs": [
    {
     "data": {
      "text/plain": [
       "matrix([[-0.2499, -0.401 ],\n",
       "        [-0.401 , -0.45  ]])"
      ]
     },
     "execution_count": 41,
     "metadata": {},
     "output_type": "execute_result"
    }
   ],
   "source": [
    "loss"
   ]
  },
  {
   "cell_type": "markdown",
   "id": "stylish-gregory",
   "metadata": {},
   "source": [
    "## word differences in word embeddings\n",
    "The purpose is to find the relative similarity between a word in two sets of word embeddings. The two sets of word embeddings will need to have the same vocabulary. We take the cosine similarity between a word i and all word j in a word embeddings, and take its mean. We do the same with the second set of word embeddings, and find the absolute difference. \n",
    "\n",
    "If a word has a high effect size, then its perceived differently between the two word embeddings. \n",
    "Cons: high computation to do this for each word. \n",
    "1. mean(sum(M1_i, M1_j)) for all j rows in M1\n",
    "2. mean(sum(M2_i, M2_j)) for all j rows in M2\n",
    "3. | mean(sum(M1_i, M1_j)) - mean(sum(M2_i, M2_j)) | / stdev(M1_i, M2_i)\n"
   ]
  },
  {
   "cell_type": "code",
   "execution_count": 44,
   "id": "agricultural-scientist",
   "metadata": {
    "ExecuteTime": {
     "end_time": "2021-03-16T02:27:07.396215Z",
     "start_time": "2021-03-16T02:27:07.392286Z"
    }
   },
   "outputs": [],
   "source": [
    "def cosine_similarity(mat):\n",
    "    num = mat.T @ mat\n",
    "    den = np.linalg.norm(mat)\n",
    "    \n",
    "    return num / den / den.T"
   ]
  },
  {
   "cell_type": "code",
   "execution_count": 48,
   "id": "earned-cardiff",
   "metadata": {
    "ExecuteTime": {
     "end_time": "2021-03-16T02:27:25.695781Z",
     "start_time": "2021-03-16T02:27:25.689511Z"
    }
   },
   "outputs": [
    {
     "data": {
      "text/plain": [
       "matrix([[0.35337308, 0.39759302, 0.26515402],\n",
       "        [0.39759302, 0.44738876, 0.29844319],\n",
       "        [0.26515402, 0.29844319, 0.19923816]])"
      ]
     },
     "execution_count": 48,
     "metadata": {},
     "output_type": "execute_result"
    }
   ],
   "source": [
    "cosine_similarity(emb1)"
   ]
  },
  {
   "cell_type": "code",
   "execution_count": 54,
   "id": "complicated-delhi",
   "metadata": {
    "ExecuteTime": {
     "end_time": "2021-03-16T02:35:26.666829Z",
     "start_time": "2021-03-16T02:35:26.663569Z"
    }
   },
   "outputs": [],
   "source": [
    "weat = weat.Weat()"
   ]
  },
  {
   "cell_type": "code",
   "execution_count": 65,
   "id": "accurate-composer",
   "metadata": {
    "ExecuteTime": {
     "end_time": "2021-03-16T02:38:24.924408Z",
     "start_time": "2021-03-16T02:38:24.919084Z"
    }
   },
   "outputs": [
    {
     "data": {
      "text/plain": [
       "matrix([[0.01, 0.02, 0.03],\n",
       "        [0.8 , 0.9 , 0.6 ]])"
      ]
     },
     "execution_count": 65,
     "metadata": {},
     "output_type": "execute_result"
    }
   ],
   "source": [
    "emb1"
   ]
  },
  {
   "cell_type": "code",
   "execution_count": 75,
   "id": "loved-migration",
   "metadata": {
    "ExecuteTime": {
     "end_time": "2021-03-16T02:45:31.389599Z",
     "start_time": "2021-03-16T02:45:31.384194Z"
    }
   },
   "outputs": [],
   "source": [
    "emb1_array = np.squeeze(np.asarray(emb1[0,:]))\n",
    "emb1_array2 = np.squeeze(np.asarray(emb1[1,:]))\n",
    "\n",
    "emb2_array = np.squeeze(np.asarray(emb2[0,:]))\n",
    "emb2_array2 = np.squeeze(np.asarray(emb2[1,:]))"
   ]
  },
  {
   "cell_type": "code",
   "execution_count": 77,
   "id": "martial-lexington",
   "metadata": {
    "ExecuteTime": {
     "end_time": "2021-03-16T02:46:25.388238Z",
     "start_time": "2021-03-16T02:46:25.383597Z"
    }
   },
   "outputs": [],
   "source": [
    "diff_cos = np.abs(weat.mean_cos_similarity(emb1_array, emb1_array2)- \\\n",
    "weat.mean_cos_similarity(emb2_array, emb2_array2))"
   ]
  },
  {
   "cell_type": "code",
   "execution_count": null,
   "id": "handled-nation",
   "metadata": {},
   "outputs": [],
   "source": [
    "denom = np.sqrt(((dof-1)*np.std(cos_similarities, ddof=1) **2 ) / (dof-1))"
   ]
  },
  {
   "cell_type": "code",
   "execution_count": 78,
   "id": "simple-rochester",
   "metadata": {
    "ExecuteTime": {
     "end_time": "2021-03-16T02:46:29.672470Z",
     "start_time": "2021-03-16T02:46:29.667523Z"
    }
   },
   "outputs": [
    {
     "data": {
      "text/plain": [
       "0.16880544852988388"
      ]
     },
     "execution_count": 78,
     "metadata": {},
     "output_type": "execute_result"
    }
   ],
   "source": [
    "diff_cos/"
   ]
  },
  {
   "cell_type": "code",
   "execution_count": null,
   "id": "several-nebraska",
   "metadata": {},
   "outputs": [],
   "source": []
  }
 ],
 "metadata": {
  "kernelspec": {
   "display_name": "Python 3",
   "language": "python",
   "name": "python3"
  },
  "language_info": {
   "codemirror_mode": {
    "name": "ipython",
    "version": 3
   },
   "file_extension": ".py",
   "mimetype": "text/x-python",
   "name": "python",
   "nbconvert_exporter": "python",
   "pygments_lexer": "ipython3",
   "version": "3.9.2"
  }
 },
 "nbformat": 4,
 "nbformat_minor": 5
}

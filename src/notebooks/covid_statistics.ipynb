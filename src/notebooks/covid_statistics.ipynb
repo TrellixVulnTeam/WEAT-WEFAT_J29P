{
 "cells": [
  {
   "cell_type": "code",
   "execution_count": 307,
   "id": "affecting-simple",
   "metadata": {
    "ExecuteTime": {
     "end_time": "2021-03-19T02:51:16.405564Z",
     "start_time": "2021-03-19T02:51:16.402616Z"
    }
   },
   "outputs": [],
   "source": [
    "import pandas as pd\n",
    "import datetime as datetime"
   ]
  },
  {
   "cell_type": "code",
   "execution_count": 308,
   "id": "defined-vietnam",
   "metadata": {
    "ExecuteTime": {
     "end_time": "2021-03-19T02:51:16.415286Z",
     "start_time": "2021-03-19T02:51:16.408565Z"
    }
   },
   "outputs": [],
   "source": [
    "us_state_abbrev = {\n",
    "    'Alabama': 'AL',\n",
    "    'Alaska': 'AK',\n",
    "    'American Samoa': 'AS',\n",
    "    'Arizona': 'AZ',\n",
    "    'Arkansas': 'AR',\n",
    "    'California': 'CA',\n",
    "    'Colorado': 'CO',\n",
    "    'Connecticut': 'CT',\n",
    "    'Delaware': 'DE',\n",
    "    'District of Columbia': 'DC',\n",
    "    'Florida': 'FL',\n",
    "    'Georgia': 'GA',\n",
    "    'Guam': 'GU',\n",
    "    'Hawaii': 'HI',\n",
    "    'Idaho': 'ID',\n",
    "    'Illinois': 'IL',\n",
    "    'Indiana': 'IN',\n",
    "    'Iowa': 'IA',\n",
    "    'Kansas': 'KS',\n",
    "    'Kentucky': 'KY',\n",
    "    'Louisiana': 'LA',\n",
    "    'Maine': 'ME',\n",
    "    'Maryland': 'MD',\n",
    "    'Massachusetts': 'MA',\n",
    "    'Michigan': 'MI',\n",
    "    'Minnesota': 'MN',\n",
    "    'Mississippi': 'MS',\n",
    "    'Missouri': 'MO',\n",
    "    'Montana': 'MT',\n",
    "    'Nebraska': 'NE',\n",
    "    'Nevada': 'NV',\n",
    "    'New Hampshire': 'NH',\n",
    "    'New Jersey': 'NJ',\n",
    "    'New Mexico': 'NM',\n",
    "    'New York': 'NY',\n",
    "    'North Carolina': 'NC',\n",
    "    'North Dakota': 'ND',\n",
    "    'Northern Mariana Islands':'MP',\n",
    "    'Ohio': 'OH',\n",
    "    'Oklahoma': 'OK',\n",
    "    'Oregon': 'OR',\n",
    "    'Pennsylvania': 'PA',\n",
    "    'Puerto Rico': 'PR',\n",
    "    'Rhode Island': 'RI',\n",
    "    'South Carolina': 'SC',\n",
    "    'South Dakota': 'SD',\n",
    "    'Tennessee': 'TN',\n",
    "    'Texas': 'TX',\n",
    "    'Utah': 'UT',\n",
    "    'Vermont': 'VT',\n",
    "    'Virgin Islands': 'VI',\n",
    "    'Virginia': 'VA',\n",
    "    'Washington': 'WA',\n",
    "    'West Virginia': 'WV',\n",
    "    'Wisconsin': 'WI',\n",
    "    'Wyoming': 'WY'\n",
    "}\n"
   ]
  },
  {
   "cell_type": "code",
   "execution_count": 309,
   "id": "french-angola",
   "metadata": {
    "ExecuteTime": {
     "end_time": "2021-03-19T02:51:16.420974Z",
     "start_time": "2021-03-19T02:51:16.418061Z"
    }
   },
   "outputs": [],
   "source": [
    "def read_covid_time_series_data():\n",
    "    return pd.read_csv('../../data/jhu/time_series_covid19_US.csv', parse_dates=['date'])"
   ]
  },
  {
   "cell_type": "code",
   "execution_count": 310,
   "id": "greatest-trunk",
   "metadata": {
    "ExecuteTime": {
     "end_time": "2021-03-19T02:51:16.425835Z",
     "start_time": "2021-03-19T02:51:16.423551Z"
    }
   },
   "outputs": [],
   "source": [
    "def create_year_month_column(df):\n",
    "    df['yyyy-mm'] = df['date'].dt.strftime('%Y-%m')\n",
    "    return df"
   ]
  },
  {
   "cell_type": "code",
   "execution_count": 311,
   "id": "impressed-meeting",
   "metadata": {
    "ExecuteTime": {
     "end_time": "2021-03-19T02:51:16.429988Z",
     "start_time": "2021-03-19T02:51:16.427451Z"
    }
   },
   "outputs": [],
   "source": [
    "def create_groupby_state_month(df):\n",
    "    return df.groupby(['yyyy-mm', 'state']).last()['cases_conf_probable'].reset_index()"
   ]
  },
  {
   "cell_type": "code",
   "execution_count": 312,
   "id": "tracked-failure",
   "metadata": {
    "ExecuteTime": {
     "end_time": "2021-03-19T02:51:16.434023Z",
     "start_time": "2021-03-19T02:51:16.431701Z"
    }
   },
   "outputs": [],
   "source": [
    "def remove_early_2020(df):\n",
    "    return df.loc[~df['yyyy-mm'].isin(['2020-01', '2020-02']), :]"
   ]
  },
  {
   "cell_type": "code",
   "execution_count": 313,
   "id": "rough-valley",
   "metadata": {
    "ExecuteTime": {
     "end_time": "2021-03-19T02:51:16.438540Z",
     "start_time": "2021-03-19T02:51:16.435596Z"
    }
   },
   "outputs": [],
   "source": [
    "def clean_us_population(df):\n",
    "    df.columns = ['state', 'population']\n",
    "    df.iloc[:, 0] = df.iloc[:, 0].str[1:]\n",
    "    df.iloc[:, 1] = pd.to_numeric(df.iloc[:, 1])\n",
    "    return df"
   ]
  },
  {
   "cell_type": "code",
   "execution_count": 314,
   "id": "passing-deadline",
   "metadata": {
    "ExecuteTime": {
     "end_time": "2021-03-19T02:51:16.444016Z",
     "start_time": "2021-03-19T02:51:16.441534Z"
    }
   },
   "outputs": [],
   "source": [
    "def read_us_population():\n",
    "    df = pd.read_csv('../../data/us_population/nst-est2020.csv', header=None, thousands=',')\n",
    "    df = clean_us_population(df)\n",
    "    return df"
   ]
  },
  {
   "cell_type": "code",
   "execution_count": 315,
   "id": "ethical-threshold",
   "metadata": {
    "ExecuteTime": {
     "end_time": "2021-03-19T02:51:16.448740Z",
     "start_time": "2021-03-19T02:51:16.446233Z"
    }
   },
   "outputs": [],
   "source": [
    "def change_full_state_to_abbrev(df):\n",
    "    for key, value in us_state_abbrev.items():\n",
    "        df['state'].replace(key, value, inplace=True)\n",
    "    return df"
   ]
  },
  {
   "cell_type": "code",
   "execution_count": 316,
   "id": "practical-smart",
   "metadata": {
    "ExecuteTime": {
     "end_time": "2021-03-19T02:51:16.452692Z",
     "start_time": "2021-03-19T02:51:16.450282Z"
    }
   },
   "outputs": [],
   "source": [
    "def normalize_state_by_population(pop_df, group_df):\n",
    "    merged_df = group_df.merge(pop_df, on='state')\n",
    "    merged_df['positive_cases_normalized'] = merged_df['cases_conf_probable'] / merged_df['population']\n",
    "    return merged_df"
   ]
  },
  {
   "cell_type": "code",
   "execution_count": 317,
   "id": "second-application",
   "metadata": {
    "ExecuteTime": {
     "end_time": "2021-03-19T02:51:17.644042Z",
     "start_time": "2021-03-19T02:51:16.454185Z"
    }
   },
   "outputs": [],
   "source": [
    "data = read_covid_time_series_data()"
   ]
  },
  {
   "cell_type": "code",
   "execution_count": 318,
   "id": "occupational-teddy",
   "metadata": {
    "ExecuteTime": {
     "end_time": "2021-03-19T02:51:17.813413Z",
     "start_time": "2021-03-19T02:51:17.645891Z"
    }
   },
   "outputs": [],
   "source": [
    "data = create_year_month_column(data)"
   ]
  },
  {
   "cell_type": "code",
   "execution_count": 319,
   "id": "electrical-firmware",
   "metadata": {
    "ExecuteTime": {
     "end_time": "2021-03-19T02:51:17.835581Z",
     "start_time": "2021-03-19T02:51:17.815334Z"
    }
   },
   "outputs": [],
   "source": [
    "group_by_state_month = create_groupby_state_month(data)"
   ]
  },
  {
   "cell_type": "markdown",
   "id": "certain-breakfast",
   "metadata": {
    "ExecuteTime": {
     "end_time": "2021-03-18T22:40:44.663878Z",
     "start_time": "2021-03-18T22:40:44.660972Z"
    }
   },
   "source": [
    "### choose March 2020 - March 2021"
   ]
  },
  {
   "cell_type": "code",
   "execution_count": 320,
   "id": "enhanced-america",
   "metadata": {
    "ExecuteTime": {
     "end_time": "2021-03-19T02:51:17.856342Z",
     "start_time": "2021-03-19T02:51:17.837716Z"
    }
   },
   "outputs": [
    {
     "data": {
      "text/html": [
       "<div>\n",
       "<style scoped>\n",
       "    .dataframe tbody tr th:only-of-type {\n",
       "        vertical-align: middle;\n",
       "    }\n",
       "\n",
       "    .dataframe tbody tr th {\n",
       "        vertical-align: top;\n",
       "    }\n",
       "\n",
       "    .dataframe thead th {\n",
       "        text-align: right;\n",
       "    }\n",
       "</style>\n",
       "<table border=\"1\" class=\"dataframe\">\n",
       "  <thead>\n",
       "    <tr style=\"text-align: right;\">\n",
       "      <th></th>\n",
       "      <th>cases_conf_probable</th>\n",
       "    </tr>\n",
       "    <tr>\n",
       "      <th>yyyy-mm</th>\n",
       "      <th></th>\n",
       "    </tr>\n",
       "  </thead>\n",
       "  <tbody>\n",
       "    <tr>\n",
       "      <th>2020-01</th>\n",
       "      <td>2.0</td>\n",
       "    </tr>\n",
       "    <tr>\n",
       "      <th>2020-02</th>\n",
       "      <td>18.0</td>\n",
       "    </tr>\n",
       "    <tr>\n",
       "      <th>2020-03</th>\n",
       "      <td>196814.0</td>\n",
       "    </tr>\n",
       "    <tr>\n",
       "      <th>2020-04</th>\n",
       "      <td>1073152.0</td>\n",
       "    </tr>\n",
       "    <tr>\n",
       "      <th>2020-05</th>\n",
       "      <td>1791343.0</td>\n",
       "    </tr>\n",
       "    <tr>\n",
       "      <th>2020-06</th>\n",
       "      <td>2623024.0</td>\n",
       "    </tr>\n",
       "    <tr>\n",
       "      <th>2020-07</th>\n",
       "      <td>4523187.0</td>\n",
       "    </tr>\n",
       "    <tr>\n",
       "      <th>2020-08</th>\n",
       "      <td>5980439.0</td>\n",
       "    </tr>\n",
       "    <tr>\n",
       "      <th>2020-09</th>\n",
       "      <td>7173102.0</td>\n",
       "    </tr>\n",
       "    <tr>\n",
       "      <th>2020-10</th>\n",
       "      <td>9065118.0</td>\n",
       "    </tr>\n",
       "    <tr>\n",
       "      <th>2020-11</th>\n",
       "      <td>13541108.0</td>\n",
       "    </tr>\n",
       "    <tr>\n",
       "      <th>2020-12</th>\n",
       "      <td>19864374.0</td>\n",
       "    </tr>\n",
       "    <tr>\n",
       "      <th>2021-01</th>\n",
       "      <td>25976946.0</td>\n",
       "    </tr>\n",
       "    <tr>\n",
       "      <th>2021-02</th>\n",
       "      <td>28351189.0</td>\n",
       "    </tr>\n",
       "    <tr>\n",
       "      <th>2021-03</th>\n",
       "      <td>29489192.0</td>\n",
       "    </tr>\n",
       "  </tbody>\n",
       "</table>\n",
       "</div>"
      ],
      "text/plain": [
       "         cases_conf_probable\n",
       "yyyy-mm                     \n",
       "2020-01                  2.0\n",
       "2020-02                 18.0\n",
       "2020-03             196814.0\n",
       "2020-04            1073152.0\n",
       "2020-05            1791343.0\n",
       "2020-06            2623024.0\n",
       "2020-07            4523187.0\n",
       "2020-08            5980439.0\n",
       "2020-09            7173102.0\n",
       "2020-10            9065118.0\n",
       "2020-11           13541108.0\n",
       "2020-12           19864374.0\n",
       "2021-01           25976946.0\n",
       "2021-02           28351189.0\n",
       "2021-03           29489192.0"
      ]
     },
     "execution_count": 320,
     "metadata": {},
     "output_type": "execute_result"
    }
   ],
   "source": [
    "group_by_state_month.groupby('yyyy-mm').sum()"
   ]
  },
  {
   "cell_type": "code",
   "execution_count": 321,
   "id": "manufactured-resort",
   "metadata": {
    "ExecuteTime": {
     "end_time": "2021-03-19T02:51:17.863023Z",
     "start_time": "2021-03-19T02:51:17.858761Z"
    }
   },
   "outputs": [],
   "source": [
    "group_by_state_month = remove_early_2020(group_by_state_month)"
   ]
  },
  {
   "cell_type": "markdown",
   "id": "duplicate-disaster",
   "metadata": {},
   "source": [
    "### Make new cases column"
   ]
  },
  {
   "cell_type": "code",
   "execution_count": 322,
   "id": "critical-little",
   "metadata": {
    "ExecuteTime": {
     "end_time": "2021-03-19T02:51:17.869517Z",
     "start_time": "2021-03-19T02:51:17.865561Z"
    }
   },
   "outputs": [],
   "source": [
    "def create_new_monthly_cases(df):\n",
    "    df = df.sort_values(by=['state', 'yyyy-mm']).reset_index(drop=True)\n",
    "    df['new_cases_monthly'] = df['cases_conf_probable'].diff()\n",
    "    return df\n"
   ]
  },
  {
   "cell_type": "code",
   "execution_count": 323,
   "id": "compact-gardening",
   "metadata": {
    "ExecuteTime": {
     "end_time": "2021-03-19T02:51:17.882714Z",
     "start_time": "2021-03-19T02:51:17.873626Z"
    }
   },
   "outputs": [],
   "source": [
    "group_by_state_month = create_new_monthly_cases(group_by_state_month)"
   ]
  },
  {
   "cell_type": "code",
   "execution_count": 324,
   "id": "sustainable-princeton",
   "metadata": {
    "ExecuteTime": {
     "end_time": "2021-03-19T02:51:17.899499Z",
     "start_time": "2021-03-19T02:51:17.885292Z"
    }
   },
   "outputs": [
    {
     "data": {
      "text/html": [
       "<div>\n",
       "<style scoped>\n",
       "    .dataframe tbody tr th:only-of-type {\n",
       "        vertical-align: middle;\n",
       "    }\n",
       "\n",
       "    .dataframe tbody tr th {\n",
       "        vertical-align: top;\n",
       "    }\n",
       "\n",
       "    .dataframe thead th {\n",
       "        text-align: right;\n",
       "    }\n",
       "</style>\n",
       "<table border=\"1\" class=\"dataframe\">\n",
       "  <thead>\n",
       "    <tr style=\"text-align: right;\">\n",
       "      <th></th>\n",
       "      <th>yyyy-mm</th>\n",
       "      <th>state</th>\n",
       "      <th>cases_conf_probable</th>\n",
       "      <th>new_cases_monthly</th>\n",
       "    </tr>\n",
       "  </thead>\n",
       "  <tbody>\n",
       "    <tr>\n",
       "      <th>0</th>\n",
       "      <td>2020-03</td>\n",
       "      <td>AK</td>\n",
       "      <td>128.0</td>\n",
       "      <td>NaN</td>\n",
       "    </tr>\n",
       "    <tr>\n",
       "      <th>1</th>\n",
       "      <td>2020-04</td>\n",
       "      <td>AK</td>\n",
       "      <td>355.0</td>\n",
       "      <td>227.0</td>\n",
       "    </tr>\n",
       "    <tr>\n",
       "      <th>2</th>\n",
       "      <td>2020-05</td>\n",
       "      <td>AK</td>\n",
       "      <td>463.0</td>\n",
       "      <td>108.0</td>\n",
       "    </tr>\n",
       "    <tr>\n",
       "      <th>3</th>\n",
       "      <td>2020-06</td>\n",
       "      <td>AK</td>\n",
       "      <td>944.0</td>\n",
       "      <td>481.0</td>\n",
       "    </tr>\n",
       "    <tr>\n",
       "      <th>4</th>\n",
       "      <td>2020-07</td>\n",
       "      <td>AK</td>\n",
       "      <td>2993.0</td>\n",
       "      <td>2049.0</td>\n",
       "    </tr>\n",
       "    <tr>\n",
       "      <th>...</th>\n",
       "      <td>...</td>\n",
       "      <td>...</td>\n",
       "      <td>...</td>\n",
       "      <td>...</td>\n",
       "    </tr>\n",
       "    <tr>\n",
       "      <th>723</th>\n",
       "      <td>2020-11</td>\n",
       "      <td>WY</td>\n",
       "      <td>33305.0</td>\n",
       "      <td>20007.0</td>\n",
       "    </tr>\n",
       "    <tr>\n",
       "      <th>724</th>\n",
       "      <td>2020-12</td>\n",
       "      <td>WY</td>\n",
       "      <td>44409.0</td>\n",
       "      <td>11104.0</td>\n",
       "    </tr>\n",
       "    <tr>\n",
       "      <th>725</th>\n",
       "      <td>2021-01</td>\n",
       "      <td>WY</td>\n",
       "      <td>51912.0</td>\n",
       "      <td>7503.0</td>\n",
       "    </tr>\n",
       "    <tr>\n",
       "      <th>726</th>\n",
       "      <td>2021-02</td>\n",
       "      <td>WY</td>\n",
       "      <td>54394.0</td>\n",
       "      <td>2482.0</td>\n",
       "    </tr>\n",
       "    <tr>\n",
       "      <th>727</th>\n",
       "      <td>2021-03</td>\n",
       "      <td>WY</td>\n",
       "      <td>55352.0</td>\n",
       "      <td>958.0</td>\n",
       "    </tr>\n",
       "  </tbody>\n",
       "</table>\n",
       "<p>728 rows × 4 columns</p>\n",
       "</div>"
      ],
      "text/plain": [
       "     yyyy-mm state  cases_conf_probable  new_cases_monthly\n",
       "0    2020-03    AK                128.0                NaN\n",
       "1    2020-04    AK                355.0              227.0\n",
       "2    2020-05    AK                463.0              108.0\n",
       "3    2020-06    AK                944.0              481.0\n",
       "4    2020-07    AK               2993.0             2049.0\n",
       "..       ...   ...                  ...                ...\n",
       "723  2020-11    WY              33305.0            20007.0\n",
       "724  2020-12    WY              44409.0            11104.0\n",
       "725  2021-01    WY              51912.0             7503.0\n",
       "726  2021-02    WY              54394.0             2482.0\n",
       "727  2021-03    WY              55352.0              958.0\n",
       "\n",
       "[728 rows x 4 columns]"
      ]
     },
     "execution_count": 324,
     "metadata": {},
     "output_type": "execute_result"
    }
   ],
   "source": [
    "group_by_state_month"
   ]
  },
  {
   "cell_type": "code",
   "execution_count": 326,
   "id": "southern-designer",
   "metadata": {
    "ExecuteTime": {
     "end_time": "2021-03-19T02:51:22.827392Z",
     "start_time": "2021-03-19T02:51:22.822385Z"
    }
   },
   "outputs": [],
   "source": [
    "def get_row_of_negative(df):\n",
    "    '''checking which rows in the groupings are negative'''\n",
    "    month_where_negative = list()\n",
    "    for state in df.state.unique():\n",
    "        month_where_negative.append(df.loc[(df['state'] == state) \\\n",
    "                                   & (df['new_cases_monthly'] < 0), 'yyyy-mm'].values)\n",
    "    return month_where_negative\n",
    "\n",
    "#get_row_of_negative(group_by_state_month)\n",
    "\n",
    "# groupings seem to be the first row in year and monthly data"
   ]
  },
  {
   "cell_type": "code",
   "execution_count": 332,
   "id": "palestinian-source",
   "metadata": {
    "ExecuteTime": {
     "end_time": "2021-03-19T02:53:19.047904Z",
     "start_time": "2021-03-19T02:53:19.042639Z"
    }
   },
   "outputs": [],
   "source": [
    "def make_first_row_cumulative_case(df):\n",
    "    for state in df.state.unique():\n",
    "        value_to_change = df.loc[df['state'] == state, 'cases_conf_probable'].head(1)\n",
    "        df.loc[df['state'] == state, 'new_cases_monthly'].iloc[0,] = value_to_change\n",
    "    print(type(value_to_change))\n",
    "    return df"
   ]
  },
  {
   "cell_type": "code",
   "execution_count": 333,
   "id": "welcome-origin",
   "metadata": {
    "ExecuteTime": {
     "end_time": "2021-03-19T02:53:19.376650Z",
     "start_time": "2021-03-19T02:53:19.332250Z"
    },
    "scrolled": true
   },
   "outputs": [
    {
     "name": "stdout",
     "output_type": "stream",
     "text": [
      "<class 'pandas.core.series.Series'>\n"
     ]
    }
   ],
   "source": [
    "group_by_state_month = make_first_row_cumulative_case(group_by_state_month)"
   ]
  },
  {
   "cell_type": "code",
   "execution_count": 335,
   "id": "nutritional-edward",
   "metadata": {
    "ExecuteTime": {
     "end_time": "2021-03-19T02:53:27.473374Z",
     "start_time": "2021-03-19T02:53:27.458763Z"
    },
    "scrolled": true
   },
   "outputs": [
    {
     "data": {
      "text/html": [
       "<div>\n",
       "<style scoped>\n",
       "    .dataframe tbody tr th:only-of-type {\n",
       "        vertical-align: middle;\n",
       "    }\n",
       "\n",
       "    .dataframe tbody tr th {\n",
       "        vertical-align: top;\n",
       "    }\n",
       "\n",
       "    .dataframe thead th {\n",
       "        text-align: right;\n",
       "    }\n",
       "</style>\n",
       "<table border=\"1\" class=\"dataframe\">\n",
       "  <thead>\n",
       "    <tr style=\"text-align: right;\">\n",
       "      <th></th>\n",
       "      <th>yyyy-mm</th>\n",
       "      <th>state</th>\n",
       "      <th>cases_conf_probable</th>\n",
       "      <th>new_cases_monthly</th>\n",
       "    </tr>\n",
       "  </thead>\n",
       "  <tbody>\n",
       "    <tr>\n",
       "      <th>637</th>\n",
       "      <td>2020-03</td>\n",
       "      <td>VA</td>\n",
       "      <td>1250.0</td>\n",
       "      <td>-377831.0</td>\n",
       "    </tr>\n",
       "    <tr>\n",
       "      <th>638</th>\n",
       "      <td>2020-04</td>\n",
       "      <td>VA</td>\n",
       "      <td>15846.0</td>\n",
       "      <td>14596.0</td>\n",
       "    </tr>\n",
       "    <tr>\n",
       "      <th>639</th>\n",
       "      <td>2020-05</td>\n",
       "      <td>VA</td>\n",
       "      <td>44607.0</td>\n",
       "      <td>28761.0</td>\n",
       "    </tr>\n",
       "    <tr>\n",
       "      <th>640</th>\n",
       "      <td>2020-06</td>\n",
       "      <td>VA</td>\n",
       "      <td>62787.0</td>\n",
       "      <td>18180.0</td>\n",
       "    </tr>\n",
       "    <tr>\n",
       "      <th>641</th>\n",
       "      <td>2020-07</td>\n",
       "      <td>VA</td>\n",
       "      <td>89888.0</td>\n",
       "      <td>27101.0</td>\n",
       "    </tr>\n",
       "    <tr>\n",
       "      <th>642</th>\n",
       "      <td>2020-08</td>\n",
       "      <td>VA</td>\n",
       "      <td>120594.0</td>\n",
       "      <td>30706.0</td>\n",
       "    </tr>\n",
       "    <tr>\n",
       "      <th>643</th>\n",
       "      <td>2020-09</td>\n",
       "      <td>VA</td>\n",
       "      <td>148271.0</td>\n",
       "      <td>27677.0</td>\n",
       "    </tr>\n",
       "    <tr>\n",
       "      <th>644</th>\n",
       "      <td>2020-10</td>\n",
       "      <td>VA</td>\n",
       "      <td>181190.0</td>\n",
       "      <td>32919.0</td>\n",
       "    </tr>\n",
       "    <tr>\n",
       "      <th>645</th>\n",
       "      <td>2020-11</td>\n",
       "      <td>VA</td>\n",
       "      <td>237835.0</td>\n",
       "      <td>56645.0</td>\n",
       "    </tr>\n",
       "    <tr>\n",
       "      <th>646</th>\n",
       "      <td>2020-12</td>\n",
       "      <td>VA</td>\n",
       "      <td>349584.0</td>\n",
       "      <td>111749.0</td>\n",
       "    </tr>\n",
       "    <tr>\n",
       "      <th>647</th>\n",
       "      <td>2021-01</td>\n",
       "      <td>VA</td>\n",
       "      <td>504779.0</td>\n",
       "      <td>155195.0</td>\n",
       "    </tr>\n",
       "    <tr>\n",
       "      <th>648</th>\n",
       "      <td>2021-02</td>\n",
       "      <td>VA</td>\n",
       "      <td>576050.0</td>\n",
       "      <td>71271.0</td>\n",
       "    </tr>\n",
       "    <tr>\n",
       "      <th>649</th>\n",
       "      <td>2021-03</td>\n",
       "      <td>VA</td>\n",
       "      <td>597141.0</td>\n",
       "      <td>21091.0</td>\n",
       "    </tr>\n",
       "  </tbody>\n",
       "</table>\n",
       "</div>"
      ],
      "text/plain": [
       "     yyyy-mm state  cases_conf_probable  new_cases_monthly\n",
       "637  2020-03    VA               1250.0          -377831.0\n",
       "638  2020-04    VA              15846.0            14596.0\n",
       "639  2020-05    VA              44607.0            28761.0\n",
       "640  2020-06    VA              62787.0            18180.0\n",
       "641  2020-07    VA              89888.0            27101.0\n",
       "642  2020-08    VA             120594.0            30706.0\n",
       "643  2020-09    VA             148271.0            27677.0\n",
       "644  2020-10    VA             181190.0            32919.0\n",
       "645  2020-11    VA             237835.0            56645.0\n",
       "646  2020-12    VA             349584.0           111749.0\n",
       "647  2021-01    VA             504779.0           155195.0\n",
       "648  2021-02    VA             576050.0            71271.0\n",
       "649  2021-03    VA             597141.0            21091.0"
      ]
     },
     "execution_count": 335,
     "metadata": {},
     "output_type": "execute_result"
    }
   ],
   "source": [
    "group_by_state_month[group_by_state_month['state'] == 'VA']"
   ]
  },
  {
   "cell_type": "markdown",
   "id": "czech-fourth",
   "metadata": {
    "ExecuteTime": {
     "end_time": "2021-03-18T23:02:34.544158Z",
     "start_time": "2021-03-18T23:02:34.536389Z"
    }
   },
   "source": [
    "### Normalize by the population of each state"
   ]
  },
  {
   "cell_type": "code",
   "execution_count": 118,
   "id": "latest-discipline",
   "metadata": {
    "ExecuteTime": {
     "end_time": "2021-03-18T23:27:37.125958Z",
     "start_time": "2021-03-18T23:27:37.117651Z"
    }
   },
   "outputs": [],
   "source": [
    "population = read_us_population()"
   ]
  },
  {
   "cell_type": "code",
   "execution_count": 125,
   "id": "interracial-twenty",
   "metadata": {
    "ExecuteTime": {
     "end_time": "2021-03-19T01:49:19.042256Z",
     "start_time": "2021-03-19T01:49:19.012083Z"
    }
   },
   "outputs": [],
   "source": [
    "abbrev_population = change_full_state_to_abbrev(population)"
   ]
  },
  {
   "cell_type": "code",
   "execution_count": 126,
   "id": "falling-transsexual",
   "metadata": {
    "ExecuteTime": {
     "end_time": "2021-03-19T01:49:22.876944Z",
     "start_time": "2021-03-19T01:49:22.864806Z"
    },
    "scrolled": true
   },
   "outputs": [
    {
     "data": {
      "text/html": [
       "<div>\n",
       "<style scoped>\n",
       "    .dataframe tbody tr th:only-of-type {\n",
       "        vertical-align: middle;\n",
       "    }\n",
       "\n",
       "    .dataframe tbody tr th {\n",
       "        vertical-align: top;\n",
       "    }\n",
       "\n",
       "    .dataframe thead th {\n",
       "        text-align: right;\n",
       "    }\n",
       "</style>\n",
       "<table border=\"1\" class=\"dataframe\">\n",
       "  <thead>\n",
       "    <tr style=\"text-align: right;\">\n",
       "      <th></th>\n",
       "      <th>state</th>\n",
       "      <th>population</th>\n",
       "    </tr>\n",
       "  </thead>\n",
       "  <tbody>\n",
       "    <tr>\n",
       "      <th>0</th>\n",
       "      <td>AL</td>\n",
       "      <td>4921532</td>\n",
       "    </tr>\n",
       "    <tr>\n",
       "      <th>1</th>\n",
       "      <td>AK</td>\n",
       "      <td>731158</td>\n",
       "    </tr>\n",
       "    <tr>\n",
       "      <th>2</th>\n",
       "      <td>AZ</td>\n",
       "      <td>7421401</td>\n",
       "    </tr>\n",
       "    <tr>\n",
       "      <th>3</th>\n",
       "      <td>AR</td>\n",
       "      <td>3030522</td>\n",
       "    </tr>\n",
       "    <tr>\n",
       "      <th>4</th>\n",
       "      <td>CA</td>\n",
       "      <td>39368078</td>\n",
       "    </tr>\n",
       "    <tr>\n",
       "      <th>5</th>\n",
       "      <td>CO</td>\n",
       "      <td>5807719</td>\n",
       "    </tr>\n",
       "    <tr>\n",
       "      <th>6</th>\n",
       "      <td>CT</td>\n",
       "      <td>3557006</td>\n",
       "    </tr>\n",
       "    <tr>\n",
       "      <th>7</th>\n",
       "      <td>DE</td>\n",
       "      <td>986809</td>\n",
       "    </tr>\n",
       "    <tr>\n",
       "      <th>8</th>\n",
       "      <td>DC</td>\n",
       "      <td>712816</td>\n",
       "    </tr>\n",
       "    <tr>\n",
       "      <th>9</th>\n",
       "      <td>FL</td>\n",
       "      <td>21733312</td>\n",
       "    </tr>\n",
       "    <tr>\n",
       "      <th>10</th>\n",
       "      <td>GA</td>\n",
       "      <td>10710017</td>\n",
       "    </tr>\n",
       "    <tr>\n",
       "      <th>11</th>\n",
       "      <td>HI</td>\n",
       "      <td>1407006</td>\n",
       "    </tr>\n",
       "    <tr>\n",
       "      <th>12</th>\n",
       "      <td>ID</td>\n",
       "      <td>1826913</td>\n",
       "    </tr>\n",
       "    <tr>\n",
       "      <th>13</th>\n",
       "      <td>IL</td>\n",
       "      <td>12587530</td>\n",
       "    </tr>\n",
       "    <tr>\n",
       "      <th>14</th>\n",
       "      <td>IN</td>\n",
       "      <td>6754953</td>\n",
       "    </tr>\n",
       "    <tr>\n",
       "      <th>15</th>\n",
       "      <td>IA</td>\n",
       "      <td>3163561</td>\n",
       "    </tr>\n",
       "    <tr>\n",
       "      <th>16</th>\n",
       "      <td>KS</td>\n",
       "      <td>2913805</td>\n",
       "    </tr>\n",
       "    <tr>\n",
       "      <th>17</th>\n",
       "      <td>KY</td>\n",
       "      <td>4477251</td>\n",
       "    </tr>\n",
       "    <tr>\n",
       "      <th>18</th>\n",
       "      <td>LA</td>\n",
       "      <td>4645318</td>\n",
       "    </tr>\n",
       "    <tr>\n",
       "      <th>19</th>\n",
       "      <td>ME</td>\n",
       "      <td>1350141</td>\n",
       "    </tr>\n",
       "    <tr>\n",
       "      <th>20</th>\n",
       "      <td>MD</td>\n",
       "      <td>6055802</td>\n",
       "    </tr>\n",
       "    <tr>\n",
       "      <th>21</th>\n",
       "      <td>MA</td>\n",
       "      <td>6893574</td>\n",
       "    </tr>\n",
       "    <tr>\n",
       "      <th>22</th>\n",
       "      <td>MI</td>\n",
       "      <td>9966555</td>\n",
       "    </tr>\n",
       "    <tr>\n",
       "      <th>23</th>\n",
       "      <td>MN</td>\n",
       "      <td>5657342</td>\n",
       "    </tr>\n",
       "    <tr>\n",
       "      <th>24</th>\n",
       "      <td>MS</td>\n",
       "      <td>2966786</td>\n",
       "    </tr>\n",
       "    <tr>\n",
       "      <th>25</th>\n",
       "      <td>MO</td>\n",
       "      <td>6151548</td>\n",
       "    </tr>\n",
       "    <tr>\n",
       "      <th>26</th>\n",
       "      <td>MT</td>\n",
       "      <td>1080577</td>\n",
       "    </tr>\n",
       "    <tr>\n",
       "      <th>27</th>\n",
       "      <td>NE</td>\n",
       "      <td>1937552</td>\n",
       "    </tr>\n",
       "    <tr>\n",
       "      <th>28</th>\n",
       "      <td>NV</td>\n",
       "      <td>3138259</td>\n",
       "    </tr>\n",
       "    <tr>\n",
       "      <th>29</th>\n",
       "      <td>NH</td>\n",
       "      <td>1366275</td>\n",
       "    </tr>\n",
       "    <tr>\n",
       "      <th>30</th>\n",
       "      <td>NJ</td>\n",
       "      <td>8882371</td>\n",
       "    </tr>\n",
       "    <tr>\n",
       "      <th>31</th>\n",
       "      <td>NM</td>\n",
       "      <td>2106319</td>\n",
       "    </tr>\n",
       "    <tr>\n",
       "      <th>32</th>\n",
       "      <td>NY</td>\n",
       "      <td>19336776</td>\n",
       "    </tr>\n",
       "    <tr>\n",
       "      <th>33</th>\n",
       "      <td>NC</td>\n",
       "      <td>10600823</td>\n",
       "    </tr>\n",
       "    <tr>\n",
       "      <th>34</th>\n",
       "      <td>ND</td>\n",
       "      <td>765309</td>\n",
       "    </tr>\n",
       "    <tr>\n",
       "      <th>35</th>\n",
       "      <td>OH</td>\n",
       "      <td>11693217</td>\n",
       "    </tr>\n",
       "    <tr>\n",
       "      <th>36</th>\n",
       "      <td>OK</td>\n",
       "      <td>3980783</td>\n",
       "    </tr>\n",
       "    <tr>\n",
       "      <th>37</th>\n",
       "      <td>OR</td>\n",
       "      <td>4241507</td>\n",
       "    </tr>\n",
       "    <tr>\n",
       "      <th>38</th>\n",
       "      <td>PA</td>\n",
       "      <td>12783254</td>\n",
       "    </tr>\n",
       "    <tr>\n",
       "      <th>39</th>\n",
       "      <td>RI</td>\n",
       "      <td>1057125</td>\n",
       "    </tr>\n",
       "    <tr>\n",
       "      <th>40</th>\n",
       "      <td>SC</td>\n",
       "      <td>5218040</td>\n",
       "    </tr>\n",
       "    <tr>\n",
       "      <th>41</th>\n",
       "      <td>SD</td>\n",
       "      <td>892717</td>\n",
       "    </tr>\n",
       "    <tr>\n",
       "      <th>42</th>\n",
       "      <td>TN</td>\n",
       "      <td>6886834</td>\n",
       "    </tr>\n",
       "    <tr>\n",
       "      <th>43</th>\n",
       "      <td>TX</td>\n",
       "      <td>29360759</td>\n",
       "    </tr>\n",
       "    <tr>\n",
       "      <th>44</th>\n",
       "      <td>UT</td>\n",
       "      <td>3249879</td>\n",
       "    </tr>\n",
       "    <tr>\n",
       "      <th>45</th>\n",
       "      <td>VT</td>\n",
       "      <td>623347</td>\n",
       "    </tr>\n",
       "    <tr>\n",
       "      <th>46</th>\n",
       "      <td>VA</td>\n",
       "      <td>8590563</td>\n",
       "    </tr>\n",
       "    <tr>\n",
       "      <th>47</th>\n",
       "      <td>WA</td>\n",
       "      <td>7693612</td>\n",
       "    </tr>\n",
       "    <tr>\n",
       "      <th>48</th>\n",
       "      <td>WV</td>\n",
       "      <td>1784787</td>\n",
       "    </tr>\n",
       "    <tr>\n",
       "      <th>49</th>\n",
       "      <td>WI</td>\n",
       "      <td>5832655</td>\n",
       "    </tr>\n",
       "    <tr>\n",
       "      <th>50</th>\n",
       "      <td>WY</td>\n",
       "      <td>582328</td>\n",
       "    </tr>\n",
       "  </tbody>\n",
       "</table>\n",
       "</div>"
      ],
      "text/plain": [
       "   state  population\n",
       "0     AL     4921532\n",
       "1     AK      731158\n",
       "2     AZ     7421401\n",
       "3     AR     3030522\n",
       "4     CA    39368078\n",
       "5     CO     5807719\n",
       "6     CT     3557006\n",
       "7     DE      986809\n",
       "8     DC      712816\n",
       "9     FL    21733312\n",
       "10    GA    10710017\n",
       "11    HI     1407006\n",
       "12    ID     1826913\n",
       "13    IL    12587530\n",
       "14    IN     6754953\n",
       "15    IA     3163561\n",
       "16    KS     2913805\n",
       "17    KY     4477251\n",
       "18    LA     4645318\n",
       "19    ME     1350141\n",
       "20    MD     6055802\n",
       "21    MA     6893574\n",
       "22    MI     9966555\n",
       "23    MN     5657342\n",
       "24    MS     2966786\n",
       "25    MO     6151548\n",
       "26    MT     1080577\n",
       "27    NE     1937552\n",
       "28    NV     3138259\n",
       "29    NH     1366275\n",
       "30    NJ     8882371\n",
       "31    NM     2106319\n",
       "32    NY    19336776\n",
       "33    NC    10600823\n",
       "34    ND      765309\n",
       "35    OH    11693217\n",
       "36    OK     3980783\n",
       "37    OR     4241507\n",
       "38    PA    12783254\n",
       "39    RI     1057125\n",
       "40    SC     5218040\n",
       "41    SD      892717\n",
       "42    TN     6886834\n",
       "43    TX    29360759\n",
       "44    UT     3249879\n",
       "45    VT      623347\n",
       "46    VA     8590563\n",
       "47    WA     7693612\n",
       "48    WV     1784787\n",
       "49    WI     5832655\n",
       "50    WY      582328"
      ]
     },
     "execution_count": 126,
     "metadata": {},
     "output_type": "execute_result"
    }
   ],
   "source": [
    "abbrev_population"
   ]
  },
  {
   "cell_type": "code",
   "execution_count": 131,
   "id": "innovative-collins",
   "metadata": {
    "ExecuteTime": {
     "end_time": "2021-03-19T01:53:57.501233Z",
     "start_time": "2021-03-19T01:53:57.493498Z"
    }
   },
   "outputs": [],
   "source": [
    "normalized_df = normalize_state_by_population(abbrev_population, group_by_state_month)"
   ]
  },
  {
   "cell_type": "code",
   "execution_count": 135,
   "id": "pressed-startup",
   "metadata": {
    "ExecuteTime": {
     "end_time": "2021-03-19T01:55:04.310600Z",
     "start_time": "2021-03-19T01:55:04.291863Z"
    }
   },
   "outputs": [
    {
     "data": {
      "text/html": [
       "<div>\n",
       "<style scoped>\n",
       "    .dataframe tbody tr th:only-of-type {\n",
       "        vertical-align: middle;\n",
       "    }\n",
       "\n",
       "    .dataframe tbody tr th {\n",
       "        vertical-align: top;\n",
       "    }\n",
       "\n",
       "    .dataframe thead th {\n",
       "        text-align: right;\n",
       "    }\n",
       "</style>\n",
       "<table border=\"1\" class=\"dataframe\">\n",
       "  <thead>\n",
       "    <tr style=\"text-align: right;\">\n",
       "      <th></th>\n",
       "      <th>yyyy-mm</th>\n",
       "      <th>state</th>\n",
       "      <th>cases_conf_probable</th>\n",
       "      <th>population</th>\n",
       "      <th>positive_cases_normalized</th>\n",
       "    </tr>\n",
       "  </thead>\n",
       "  <tbody>\n",
       "    <tr>\n",
       "      <th>376</th>\n",
       "      <td>2021-03</td>\n",
       "      <td>ND</td>\n",
       "      <td>101150.0</td>\n",
       "      <td>765309</td>\n",
       "      <td>0.132169</td>\n",
       "    </tr>\n",
       "    <tr>\n",
       "      <th>375</th>\n",
       "      <td>2021-02</td>\n",
       "      <td>ND</td>\n",
       "      <td>99809.0</td>\n",
       "      <td>765309</td>\n",
       "      <td>0.130417</td>\n",
       "    </tr>\n",
       "    <tr>\n",
       "      <th>545</th>\n",
       "      <td>2021-03</td>\n",
       "      <td>SD</td>\n",
       "      <td>114791.0</td>\n",
       "      <td>892717</td>\n",
       "      <td>0.128586</td>\n",
       "    </tr>\n",
       "    <tr>\n",
       "      <th>374</th>\n",
       "      <td>2021-01</td>\n",
       "      <td>ND</td>\n",
       "      <td>97630.0</td>\n",
       "      <td>765309</td>\n",
       "      <td>0.127569</td>\n",
       "    </tr>\n",
       "    <tr>\n",
       "      <th>544</th>\n",
       "      <td>2021-02</td>\n",
       "      <td>SD</td>\n",
       "      <td>112427.0</td>\n",
       "      <td>892717</td>\n",
       "      <td>0.125938</td>\n",
       "    </tr>\n",
       "    <tr>\n",
       "      <th>...</th>\n",
       "      <td>...</td>\n",
       "      <td>...</td>\n",
       "      <td>...</td>\n",
       "      <td>...</td>\n",
       "      <td>...</td>\n",
       "    </tr>\n",
       "    <tr>\n",
       "      <th>533</th>\n",
       "      <td>2020-03</td>\n",
       "      <td>SD</td>\n",
       "      <td>108.0</td>\n",
       "      <td>892717</td>\n",
       "      <td>0.000121</td>\n",
       "    </tr>\n",
       "    <tr>\n",
       "      <th>559</th>\n",
       "      <td>2020-03</td>\n",
       "      <td>TX</td>\n",
       "      <td>3266.0</td>\n",
       "      <td>29360759</td>\n",
       "      <td>0.000111</td>\n",
       "    </tr>\n",
       "    <tr>\n",
       "      <th>221</th>\n",
       "      <td>2020-03</td>\n",
       "      <td>KY</td>\n",
       "      <td>480.0</td>\n",
       "      <td>4477251</td>\n",
       "      <td>0.000107</td>\n",
       "    </tr>\n",
       "    <tr>\n",
       "      <th>637</th>\n",
       "      <td>2020-03</td>\n",
       "      <td>WV</td>\n",
       "      <td>162.0</td>\n",
       "      <td>1784787</td>\n",
       "      <td>0.000091</td>\n",
       "    </tr>\n",
       "    <tr>\n",
       "      <th>377</th>\n",
       "      <td>2020-03</td>\n",
       "      <td>NE</td>\n",
       "      <td>172.0</td>\n",
       "      <td>1937552</td>\n",
       "      <td>0.000089</td>\n",
       "    </tr>\n",
       "  </tbody>\n",
       "</table>\n",
       "<p>663 rows × 5 columns</p>\n",
       "</div>"
      ],
      "text/plain": [
       "     yyyy-mm state  cases_conf_probable  population  positive_cases_normalized\n",
       "376  2021-03    ND             101150.0      765309                   0.132169\n",
       "375  2021-02    ND              99809.0      765309                   0.130417\n",
       "545  2021-03    SD             114791.0      892717                   0.128586\n",
       "374  2021-01    ND              97630.0      765309                   0.127569\n",
       "544  2021-02    SD             112427.0      892717                   0.125938\n",
       "..       ...   ...                  ...         ...                        ...\n",
       "533  2020-03    SD                108.0      892717                   0.000121\n",
       "559  2020-03    TX               3266.0    29360759                   0.000111\n",
       "221  2020-03    KY                480.0     4477251                   0.000107\n",
       "637  2020-03    WV                162.0     1784787                   0.000091\n",
       "377  2020-03    NE                172.0     1937552                   0.000089\n",
       "\n",
       "[663 rows x 5 columns]"
      ]
     },
     "execution_count": 135,
     "metadata": {},
     "output_type": "execute_result"
    }
   ],
   "source": [
    "normalized_df.sort_values(by='positive_cases_normalized', ascending=False)"
   ]
  },
  {
   "cell_type": "code",
   "execution_count": null,
   "id": "fresh-token",
   "metadata": {},
   "outputs": [],
   "source": []
  }
 ],
 "metadata": {
  "kernelspec": {
   "display_name": "Python 3",
   "language": "python",
   "name": "python3"
  },
  "language_info": {
   "codemirror_mode": {
    "name": "ipython",
    "version": 3
   },
   "file_extension": ".py",
   "mimetype": "text/x-python",
   "name": "python",
   "nbconvert_exporter": "python",
   "pygments_lexer": "ipython3",
   "version": "3.9.2"
  }
 },
 "nbformat": 4,
 "nbformat_minor": 5
}

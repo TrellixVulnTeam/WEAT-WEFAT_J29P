{
 "cells": [
  {
   "cell_type": "code",
   "execution_count": 34,
   "id": "affecting-simple",
   "metadata": {
    "ExecuteTime": {
     "end_time": "2021-04-10T15:37:40.157729Z",
     "start_time": "2021-04-10T15:37:40.154985Z"
    }
   },
   "outputs": [],
   "source": [
    "import pandas as pd\n",
    "import datetime as datetime\n",
    "import seaborn as sns\n",
    "import matplotlib.pyplot as plt"
   ]
  },
  {
   "cell_type": "code",
   "execution_count": 2,
   "id": "defined-vietnam",
   "metadata": {
    "ExecuteTime": {
     "end_time": "2021-04-10T15:35:53.923645Z",
     "start_time": "2021-04-10T15:35:53.915813Z"
    }
   },
   "outputs": [],
   "source": [
    "us_state_abbrev = {\n",
    "    'Alabama': 'AL',\n",
    "    'Alaska': 'AK',\n",
    "    'American Samoa': 'AS',\n",
    "    'Arizona': 'AZ',\n",
    "    'Arkansas': 'AR',\n",
    "    'California': 'CA',\n",
    "    'Colorado': 'CO',\n",
    "    'Connecticut': 'CT',\n",
    "    'Delaware': 'DE',\n",
    "    'District of Columbia': 'DC',\n",
    "    'Florida': 'FL',\n",
    "    'Georgia': 'GA',\n",
    "    'Guam': 'GU',\n",
    "    'Hawaii': 'HI',\n",
    "    'Idaho': 'ID',\n",
    "    'Illinois': 'IL',\n",
    "    'Indiana': 'IN',\n",
    "    'Iowa': 'IA',\n",
    "    'Kansas': 'KS',\n",
    "    'Kentucky': 'KY',\n",
    "    'Louisiana': 'LA',\n",
    "    'Maine': 'ME',\n",
    "    'Maryland': 'MD',\n",
    "    'Massachusetts': 'MA',\n",
    "    'Michigan': 'MI',\n",
    "    'Minnesota': 'MN',\n",
    "    'Mississippi': 'MS',\n",
    "    'Missouri': 'MO',\n",
    "    'Montana': 'MT',\n",
    "    'Nebraska': 'NE',\n",
    "    'Nevada': 'NV',\n",
    "    'New Hampshire': 'NH',\n",
    "    'New Jersey': 'NJ',\n",
    "    'New Mexico': 'NM',\n",
    "    'New York': 'NY',\n",
    "    'North Carolina': 'NC',\n",
    "    'North Dakota': 'ND',\n",
    "    'Northern Mariana Islands':'MP',\n",
    "    'Ohio': 'OH',\n",
    "    'Oklahoma': 'OK',\n",
    "    'Oregon': 'OR',\n",
    "    'Pennsylvania': 'PA',\n",
    "    'Puerto Rico': 'PR',\n",
    "    'Rhode Island': 'RI',\n",
    "    'South Carolina': 'SC',\n",
    "    'South Dakota': 'SD',\n",
    "    'Tennessee': 'TN',\n",
    "    'Texas': 'TX',\n",
    "    'Utah': 'UT',\n",
    "    'Vermont': 'VT',\n",
    "    'Virgin Islands': 'VI',\n",
    "    'Virginia': 'VA',\n",
    "    'Washington': 'WA',\n",
    "    'West Virginia': 'WV',\n",
    "    'Wisconsin': 'WI',\n",
    "    'Wyoming': 'WY'\n",
    "}\n"
   ]
  },
  {
   "cell_type": "code",
   "execution_count": 3,
   "id": "french-angola",
   "metadata": {
    "ExecuteTime": {
     "end_time": "2021-04-10T15:35:54.584038Z",
     "start_time": "2021-04-10T15:35:54.579197Z"
    }
   },
   "outputs": [],
   "source": [
    "def read_covid_time_series_data():\n",
    "    return pd.read_csv('../../data/jhu/time_series_covid19_US.csv', parse_dates=['date'])"
   ]
  },
  {
   "cell_type": "code",
   "execution_count": 4,
   "id": "greatest-trunk",
   "metadata": {
    "ExecuteTime": {
     "end_time": "2021-04-10T15:35:54.839712Z",
     "start_time": "2021-04-10T15:35:54.837308Z"
    }
   },
   "outputs": [],
   "source": [
    "def create_year_month_column(df):\n",
    "    df['yyyy-mm'] = df['date'].dt.strftime('%Y-%m')\n",
    "    return df"
   ]
  },
  {
   "cell_type": "code",
   "execution_count": 5,
   "id": "impressed-meeting",
   "metadata": {
    "ExecuteTime": {
     "end_time": "2021-04-10T15:35:55.075349Z",
     "start_time": "2021-04-10T15:35:55.072497Z"
    }
   },
   "outputs": [],
   "source": [
    "def create_groupby_state_month(df):\n",
    "    return df.groupby(['yyyy-mm', 'state']).last()['cases_conf_probable'].reset_index()"
   ]
  },
  {
   "cell_type": "code",
   "execution_count": 6,
   "id": "tracked-failure",
   "metadata": {
    "ExecuteTime": {
     "end_time": "2021-04-10T15:35:55.334845Z",
     "start_time": "2021-04-10T15:35:55.332024Z"
    }
   },
   "outputs": [],
   "source": [
    "def remove_early_2020(df):\n",
    "    return df.loc[~df['yyyy-mm'].isin(['2020-01', '2020-02']), :]"
   ]
  },
  {
   "cell_type": "code",
   "execution_count": 7,
   "id": "rough-valley",
   "metadata": {
    "ExecuteTime": {
     "end_time": "2021-04-10T15:35:55.562659Z",
     "start_time": "2021-04-10T15:35:55.558163Z"
    }
   },
   "outputs": [],
   "source": [
    "def clean_us_population(df):\n",
    "    df.columns = ['state', 'population']\n",
    "    df.iloc[:, 0] = df.iloc[:, 0].str[1:]\n",
    "    df.iloc[:, 1] = pd.to_numeric(df.iloc[:, 1])\n",
    "    return df"
   ]
  },
  {
   "cell_type": "code",
   "execution_count": 8,
   "id": "passing-deadline",
   "metadata": {
    "ExecuteTime": {
     "end_time": "2021-04-10T15:35:55.777089Z",
     "start_time": "2021-04-10T15:35:55.773630Z"
    }
   },
   "outputs": [],
   "source": [
    "def read_us_population():\n",
    "    df = pd.read_csv('../../data/us_population/nst-est2020.csv', header=None, thousands=',')\n",
    "    df = clean_us_population(df)\n",
    "    return df"
   ]
  },
  {
   "cell_type": "code",
   "execution_count": 9,
   "id": "ethical-threshold",
   "metadata": {
    "ExecuteTime": {
     "end_time": "2021-04-10T15:35:55.967769Z",
     "start_time": "2021-04-10T15:35:55.965001Z"
    }
   },
   "outputs": [],
   "source": [
    "def change_full_state_to_abbrev(df):\n",
    "    for key, value in us_state_abbrev.items():\n",
    "        df['state'].replace(key, value, inplace=True)\n",
    "    return df"
   ]
  },
  {
   "cell_type": "code",
   "execution_count": 36,
   "id": "practical-smart",
   "metadata": {
    "ExecuteTime": {
     "end_time": "2021-04-10T15:47:11.380875Z",
     "start_time": "2021-04-10T15:47:11.376288Z"
    }
   },
   "outputs": [],
   "source": [
    "def normalize_state_by_population(pop_df, group_df):\n",
    "    '''normalized the cases confirmed probable by that state's population'''\n",
    "    merged_df = group_df.merge(pop_df, on='state')\n",
    "    merged_df['positive_cases_normalized'] = merged_df['cases_conf_probable'] / merged_df['population']\n",
    "    return merged_df"
   ]
  },
  {
   "cell_type": "code",
   "execution_count": 11,
   "id": "second-application",
   "metadata": {
    "ExecuteTime": {
     "end_time": "2021-04-10T15:35:57.583859Z",
     "start_time": "2021-04-10T15:35:56.400852Z"
    }
   },
   "outputs": [],
   "source": [
    "data = read_covid_time_series_data()"
   ]
  },
  {
   "cell_type": "code",
   "execution_count": 12,
   "id": "occupational-teddy",
   "metadata": {
    "ExecuteTime": {
     "end_time": "2021-04-10T15:35:57.707035Z",
     "start_time": "2021-04-10T15:35:57.586072Z"
    }
   },
   "outputs": [],
   "source": [
    "data = create_year_month_column(data)"
   ]
  },
  {
   "cell_type": "code",
   "execution_count": 13,
   "id": "electrical-firmware",
   "metadata": {
    "ExecuteTime": {
     "end_time": "2021-04-10T15:35:57.722808Z",
     "start_time": "2021-04-10T15:35:57.709285Z"
    }
   },
   "outputs": [],
   "source": [
    "group_by_state_month = create_groupby_state_month(data)"
   ]
  },
  {
   "cell_type": "markdown",
   "id": "certain-breakfast",
   "metadata": {
    "ExecuteTime": {
     "end_time": "2021-03-18T22:40:44.663878Z",
     "start_time": "2021-03-18T22:40:44.660972Z"
    }
   },
   "source": [
    "### choose March 2020 - March 2021"
   ]
  },
  {
   "cell_type": "code",
   "execution_count": 14,
   "id": "enhanced-america",
   "metadata": {
    "ExecuteTime": {
     "end_time": "2021-04-10T15:35:57.741503Z",
     "start_time": "2021-04-10T15:35:57.724539Z"
    }
   },
   "outputs": [
    {
     "data": {
      "text/html": [
       "<div>\n",
       "<style scoped>\n",
       "    .dataframe tbody tr th:only-of-type {\n",
       "        vertical-align: middle;\n",
       "    }\n",
       "\n",
       "    .dataframe tbody tr th {\n",
       "        vertical-align: top;\n",
       "    }\n",
       "\n",
       "    .dataframe thead th {\n",
       "        text-align: right;\n",
       "    }\n",
       "</style>\n",
       "<table border=\"1\" class=\"dataframe\">\n",
       "  <thead>\n",
       "    <tr style=\"text-align: right;\">\n",
       "      <th></th>\n",
       "      <th>cases_conf_probable</th>\n",
       "    </tr>\n",
       "    <tr>\n",
       "      <th>yyyy-mm</th>\n",
       "      <th></th>\n",
       "    </tr>\n",
       "  </thead>\n",
       "  <tbody>\n",
       "    <tr>\n",
       "      <th>2020-01</th>\n",
       "      <td>2.0</td>\n",
       "    </tr>\n",
       "    <tr>\n",
       "      <th>2020-02</th>\n",
       "      <td>18.0</td>\n",
       "    </tr>\n",
       "    <tr>\n",
       "      <th>2020-03</th>\n",
       "      <td>196814.0</td>\n",
       "    </tr>\n",
       "    <tr>\n",
       "      <th>2020-04</th>\n",
       "      <td>1073152.0</td>\n",
       "    </tr>\n",
       "    <tr>\n",
       "      <th>2020-05</th>\n",
       "      <td>1791343.0</td>\n",
       "    </tr>\n",
       "    <tr>\n",
       "      <th>2020-06</th>\n",
       "      <td>2623024.0</td>\n",
       "    </tr>\n",
       "    <tr>\n",
       "      <th>2020-07</th>\n",
       "      <td>4523187.0</td>\n",
       "    </tr>\n",
       "    <tr>\n",
       "      <th>2020-08</th>\n",
       "      <td>5980439.0</td>\n",
       "    </tr>\n",
       "    <tr>\n",
       "      <th>2020-09</th>\n",
       "      <td>7173102.0</td>\n",
       "    </tr>\n",
       "    <tr>\n",
       "      <th>2020-10</th>\n",
       "      <td>9065118.0</td>\n",
       "    </tr>\n",
       "    <tr>\n",
       "      <th>2020-11</th>\n",
       "      <td>13541108.0</td>\n",
       "    </tr>\n",
       "    <tr>\n",
       "      <th>2020-12</th>\n",
       "      <td>19864374.0</td>\n",
       "    </tr>\n",
       "    <tr>\n",
       "      <th>2021-01</th>\n",
       "      <td>25976946.0</td>\n",
       "    </tr>\n",
       "    <tr>\n",
       "      <th>2021-02</th>\n",
       "      <td>28351189.0</td>\n",
       "    </tr>\n",
       "    <tr>\n",
       "      <th>2021-03</th>\n",
       "      <td>29489192.0</td>\n",
       "    </tr>\n",
       "  </tbody>\n",
       "</table>\n",
       "</div>"
      ],
      "text/plain": [
       "         cases_conf_probable\n",
       "yyyy-mm                     \n",
       "2020-01                  2.0\n",
       "2020-02                 18.0\n",
       "2020-03             196814.0\n",
       "2020-04            1073152.0\n",
       "2020-05            1791343.0\n",
       "2020-06            2623024.0\n",
       "2020-07            4523187.0\n",
       "2020-08            5980439.0\n",
       "2020-09            7173102.0\n",
       "2020-10            9065118.0\n",
       "2020-11           13541108.0\n",
       "2020-12           19864374.0\n",
       "2021-01           25976946.0\n",
       "2021-02           28351189.0\n",
       "2021-03           29489192.0"
      ]
     },
     "execution_count": 14,
     "metadata": {},
     "output_type": "execute_result"
    }
   ],
   "source": [
    "group_by_state_month.groupby('yyyy-mm').sum()"
   ]
  },
  {
   "cell_type": "code",
   "execution_count": 15,
   "id": "manufactured-resort",
   "metadata": {
    "ExecuteTime": {
     "end_time": "2021-04-10T15:35:58.149076Z",
     "start_time": "2021-04-10T15:35:58.143264Z"
    }
   },
   "outputs": [],
   "source": [
    "group_by_state_month = remove_early_2020(group_by_state_month)"
   ]
  },
  {
   "cell_type": "markdown",
   "id": "duplicate-disaster",
   "metadata": {},
   "source": [
    "### Make new cases column"
   ]
  },
  {
   "cell_type": "code",
   "execution_count": 16,
   "id": "critical-little",
   "metadata": {
    "ExecuteTime": {
     "end_time": "2021-04-10T15:35:58.879117Z",
     "start_time": "2021-04-10T15:35:58.874618Z"
    }
   },
   "outputs": [],
   "source": [
    "def create_new_monthly_cases(df):\n",
    "    df = df.sort_values(by=['state', 'yyyy-mm']).reset_index(drop=True)\n",
    "    df['new_cases_monthly'] = df['cases_conf_probable'].diff()\n",
    "    return df\n"
   ]
  },
  {
   "cell_type": "code",
   "execution_count": 17,
   "id": "compact-gardening",
   "metadata": {
    "ExecuteTime": {
     "end_time": "2021-04-10T15:35:59.085762Z",
     "start_time": "2021-04-10T15:35:59.077616Z"
    }
   },
   "outputs": [],
   "source": [
    "group_by_state_month = create_new_monthly_cases(group_by_state_month)"
   ]
  },
  {
   "cell_type": "code",
   "execution_count": 18,
   "id": "sustainable-princeton",
   "metadata": {
    "ExecuteTime": {
     "end_time": "2021-04-10T15:35:59.354419Z",
     "start_time": "2021-04-10T15:35:59.340579Z"
    }
   },
   "outputs": [
    {
     "data": {
      "text/html": [
       "<div>\n",
       "<style scoped>\n",
       "    .dataframe tbody tr th:only-of-type {\n",
       "        vertical-align: middle;\n",
       "    }\n",
       "\n",
       "    .dataframe tbody tr th {\n",
       "        vertical-align: top;\n",
       "    }\n",
       "\n",
       "    .dataframe thead th {\n",
       "        text-align: right;\n",
       "    }\n",
       "</style>\n",
       "<table border=\"1\" class=\"dataframe\">\n",
       "  <thead>\n",
       "    <tr style=\"text-align: right;\">\n",
       "      <th></th>\n",
       "      <th>yyyy-mm</th>\n",
       "      <th>state</th>\n",
       "      <th>cases_conf_probable</th>\n",
       "      <th>new_cases_monthly</th>\n",
       "    </tr>\n",
       "  </thead>\n",
       "  <tbody>\n",
       "    <tr>\n",
       "      <th>0</th>\n",
       "      <td>2020-03</td>\n",
       "      <td>AK</td>\n",
       "      <td>128.0</td>\n",
       "      <td>NaN</td>\n",
       "    </tr>\n",
       "    <tr>\n",
       "      <th>1</th>\n",
       "      <td>2020-04</td>\n",
       "      <td>AK</td>\n",
       "      <td>355.0</td>\n",
       "      <td>227.0</td>\n",
       "    </tr>\n",
       "    <tr>\n",
       "      <th>2</th>\n",
       "      <td>2020-05</td>\n",
       "      <td>AK</td>\n",
       "      <td>463.0</td>\n",
       "      <td>108.0</td>\n",
       "    </tr>\n",
       "    <tr>\n",
       "      <th>3</th>\n",
       "      <td>2020-06</td>\n",
       "      <td>AK</td>\n",
       "      <td>944.0</td>\n",
       "      <td>481.0</td>\n",
       "    </tr>\n",
       "    <tr>\n",
       "      <th>4</th>\n",
       "      <td>2020-07</td>\n",
       "      <td>AK</td>\n",
       "      <td>2993.0</td>\n",
       "      <td>2049.0</td>\n",
       "    </tr>\n",
       "    <tr>\n",
       "      <th>...</th>\n",
       "      <td>...</td>\n",
       "      <td>...</td>\n",
       "      <td>...</td>\n",
       "      <td>...</td>\n",
       "    </tr>\n",
       "    <tr>\n",
       "      <th>723</th>\n",
       "      <td>2020-11</td>\n",
       "      <td>WY</td>\n",
       "      <td>33305.0</td>\n",
       "      <td>20007.0</td>\n",
       "    </tr>\n",
       "    <tr>\n",
       "      <th>724</th>\n",
       "      <td>2020-12</td>\n",
       "      <td>WY</td>\n",
       "      <td>44409.0</td>\n",
       "      <td>11104.0</td>\n",
       "    </tr>\n",
       "    <tr>\n",
       "      <th>725</th>\n",
       "      <td>2021-01</td>\n",
       "      <td>WY</td>\n",
       "      <td>51912.0</td>\n",
       "      <td>7503.0</td>\n",
       "    </tr>\n",
       "    <tr>\n",
       "      <th>726</th>\n",
       "      <td>2021-02</td>\n",
       "      <td>WY</td>\n",
       "      <td>54394.0</td>\n",
       "      <td>2482.0</td>\n",
       "    </tr>\n",
       "    <tr>\n",
       "      <th>727</th>\n",
       "      <td>2021-03</td>\n",
       "      <td>WY</td>\n",
       "      <td>55352.0</td>\n",
       "      <td>958.0</td>\n",
       "    </tr>\n",
       "  </tbody>\n",
       "</table>\n",
       "<p>728 rows × 4 columns</p>\n",
       "</div>"
      ],
      "text/plain": [
       "     yyyy-mm state  cases_conf_probable  new_cases_monthly\n",
       "0    2020-03    AK                128.0                NaN\n",
       "1    2020-04    AK                355.0              227.0\n",
       "2    2020-05    AK                463.0              108.0\n",
       "3    2020-06    AK                944.0              481.0\n",
       "4    2020-07    AK               2993.0             2049.0\n",
       "..       ...   ...                  ...                ...\n",
       "723  2020-11    WY              33305.0            20007.0\n",
       "724  2020-12    WY              44409.0            11104.0\n",
       "725  2021-01    WY              51912.0             7503.0\n",
       "726  2021-02    WY              54394.0             2482.0\n",
       "727  2021-03    WY              55352.0              958.0\n",
       "\n",
       "[728 rows x 4 columns]"
      ]
     },
     "execution_count": 18,
     "metadata": {},
     "output_type": "execute_result"
    }
   ],
   "source": [
    "group_by_state_month"
   ]
  },
  {
   "cell_type": "code",
   "execution_count": 19,
   "id": "southern-designer",
   "metadata": {
    "ExecuteTime": {
     "end_time": "2021-04-10T15:35:59.540793Z",
     "start_time": "2021-04-10T15:35:59.537436Z"
    }
   },
   "outputs": [],
   "source": [
    "def get_row_of_negative(df):\n",
    "    '''checking which rows in the groupings are negative'''\n",
    "    month_where_negative = list()\n",
    "    for state in df.state.unique():\n",
    "        month_where_negative.append(df.loc[(df['state'] == state) \\\n",
    "                                   & (df['new_cases_monthly'] < 0), 'yyyy-mm'].values)\n",
    "    return month_where_negative\n",
    "\n",
    "#get_row_of_negative(group_by_state_month)\n",
    "\n",
    "# groupings seem to be the first row in year and monthly data"
   ]
  },
  {
   "cell_type": "code",
   "execution_count": 37,
   "id": "palestinian-source",
   "metadata": {
    "ExecuteTime": {
     "end_time": "2021-04-10T15:47:33.225828Z",
     "start_time": "2021-04-10T15:47:33.221021Z"
    }
   },
   "outputs": [],
   "source": [
    "def make_first_row_cumulative_case(df):\n",
    "    for state in df.state.unique():\n",
    "        value_to_change = df.loc[df['state'] == state, 'cases_conf_probable'].head(1)\n",
    "        df.loc[df['state'] == state, 'new_cases_monthly'].iloc[0,] = value_to_change\n",
    "    return df"
   ]
  },
  {
   "cell_type": "code",
   "execution_count": 21,
   "id": "welcome-origin",
   "metadata": {
    "ExecuteTime": {
     "end_time": "2021-04-10T15:36:00.426388Z",
     "start_time": "2021-04-10T15:36:00.383254Z"
    },
    "scrolled": true
   },
   "outputs": [
    {
     "name": "stdout",
     "output_type": "stream",
     "text": [
      "<class 'pandas.core.series.Series'>\n"
     ]
    }
   ],
   "source": [
    "group_by_state_month = make_first_row_cumulative_case(group_by_state_month)"
   ]
  },
  {
   "cell_type": "code",
   "execution_count": 22,
   "id": "nutritional-edward",
   "metadata": {
    "ExecuteTime": {
     "end_time": "2021-04-10T15:36:00.735389Z",
     "start_time": "2021-04-10T15:36:00.723047Z"
    },
    "scrolled": true
   },
   "outputs": [
    {
     "data": {
      "text/html": [
       "<div>\n",
       "<style scoped>\n",
       "    .dataframe tbody tr th:only-of-type {\n",
       "        vertical-align: middle;\n",
       "    }\n",
       "\n",
       "    .dataframe tbody tr th {\n",
       "        vertical-align: top;\n",
       "    }\n",
       "\n",
       "    .dataframe thead th {\n",
       "        text-align: right;\n",
       "    }\n",
       "</style>\n",
       "<table border=\"1\" class=\"dataframe\">\n",
       "  <thead>\n",
       "    <tr style=\"text-align: right;\">\n",
       "      <th></th>\n",
       "      <th>yyyy-mm</th>\n",
       "      <th>state</th>\n",
       "      <th>cases_conf_probable</th>\n",
       "      <th>new_cases_monthly</th>\n",
       "    </tr>\n",
       "  </thead>\n",
       "  <tbody>\n",
       "    <tr>\n",
       "      <th>611</th>\n",
       "      <td>2020-03</td>\n",
       "      <td>TX</td>\n",
       "      <td>3266.0</td>\n",
       "      <td>-790871.0</td>\n",
       "    </tr>\n",
       "    <tr>\n",
       "      <th>612</th>\n",
       "      <td>2020-04</td>\n",
       "      <td>TX</td>\n",
       "      <td>28087.0</td>\n",
       "      <td>24821.0</td>\n",
       "    </tr>\n",
       "    <tr>\n",
       "      <th>613</th>\n",
       "      <td>2020-05</td>\n",
       "      <td>TX</td>\n",
       "      <td>64287.0</td>\n",
       "      <td>36200.0</td>\n",
       "    </tr>\n",
       "    <tr>\n",
       "      <th>614</th>\n",
       "      <td>2020-06</td>\n",
       "      <td>TX</td>\n",
       "      <td>159986.0</td>\n",
       "      <td>95699.0</td>\n",
       "    </tr>\n",
       "    <tr>\n",
       "      <th>615</th>\n",
       "      <td>2020-07</td>\n",
       "      <td>TX</td>\n",
       "      <td>420946.0</td>\n",
       "      <td>260960.0</td>\n",
       "    </tr>\n",
       "    <tr>\n",
       "      <th>616</th>\n",
       "      <td>2020-08</td>\n",
       "      <td>TX</td>\n",
       "      <td>612969.0</td>\n",
       "      <td>192023.0</td>\n",
       "    </tr>\n",
       "    <tr>\n",
       "      <th>617</th>\n",
       "      <td>2020-09</td>\n",
       "      <td>TX</td>\n",
       "      <td>748967.0</td>\n",
       "      <td>135998.0</td>\n",
       "    </tr>\n",
       "    <tr>\n",
       "      <th>618</th>\n",
       "      <td>2020-10</td>\n",
       "      <td>TX</td>\n",
       "      <td>900596.0</td>\n",
       "      <td>151629.0</td>\n",
       "    </tr>\n",
       "    <tr>\n",
       "      <th>619</th>\n",
       "      <td>2020-11</td>\n",
       "      <td>TX</td>\n",
       "      <td>1278432.0</td>\n",
       "      <td>377836.0</td>\n",
       "    </tr>\n",
       "    <tr>\n",
       "      <th>620</th>\n",
       "      <td>2020-12</td>\n",
       "      <td>TX</td>\n",
       "      <td>1756172.0</td>\n",
       "      <td>477740.0</td>\n",
       "    </tr>\n",
       "    <tr>\n",
       "      <th>621</th>\n",
       "      <td>2021-01</td>\n",
       "      <td>TX</td>\n",
       "      <td>2360632.0</td>\n",
       "      <td>604460.0</td>\n",
       "    </tr>\n",
       "    <tr>\n",
       "      <th>622</th>\n",
       "      <td>2021-02</td>\n",
       "      <td>TX</td>\n",
       "      <td>2644024.0</td>\n",
       "      <td>283392.0</td>\n",
       "    </tr>\n",
       "    <tr>\n",
       "      <th>623</th>\n",
       "      <td>2021-03</td>\n",
       "      <td>TX</td>\n",
       "      <td>2737763.0</td>\n",
       "      <td>93739.0</td>\n",
       "    </tr>\n",
       "  </tbody>\n",
       "</table>\n",
       "</div>"
      ],
      "text/plain": [
       "     yyyy-mm state  cases_conf_probable  new_cases_monthly\n",
       "611  2020-03    TX               3266.0          -790871.0\n",
       "612  2020-04    TX              28087.0            24821.0\n",
       "613  2020-05    TX              64287.0            36200.0\n",
       "614  2020-06    TX             159986.0            95699.0\n",
       "615  2020-07    TX             420946.0           260960.0\n",
       "616  2020-08    TX             612969.0           192023.0\n",
       "617  2020-09    TX             748967.0           135998.0\n",
       "618  2020-10    TX             900596.0           151629.0\n",
       "619  2020-11    TX            1278432.0           377836.0\n",
       "620  2020-12    TX            1756172.0           477740.0\n",
       "621  2021-01    TX            2360632.0           604460.0\n",
       "622  2021-02    TX            2644024.0           283392.0\n",
       "623  2021-03    TX            2737763.0            93739.0"
      ]
     },
     "execution_count": 22,
     "metadata": {},
     "output_type": "execute_result"
    }
   ],
   "source": [
    "group_by_state_month[group_by_state_month['state'] == 'TX']"
   ]
  },
  {
   "cell_type": "markdown",
   "id": "czech-fourth",
   "metadata": {
    "ExecuteTime": {
     "end_time": "2021-03-18T23:02:34.544158Z",
     "start_time": "2021-03-18T23:02:34.536389Z"
    }
   },
   "source": [
    "### Normalize by the population of each state"
   ]
  },
  {
   "cell_type": "code",
   "execution_count": 23,
   "id": "latest-discipline",
   "metadata": {
    "ExecuteTime": {
     "end_time": "2021-04-10T15:36:02.206972Z",
     "start_time": "2021-04-10T15:36:02.200014Z"
    }
   },
   "outputs": [],
   "source": [
    "population = read_us_population()"
   ]
  },
  {
   "cell_type": "code",
   "execution_count": 24,
   "id": "interracial-twenty",
   "metadata": {
    "ExecuteTime": {
     "end_time": "2021-04-10T15:36:02.702132Z",
     "start_time": "2021-04-10T15:36:02.682150Z"
    }
   },
   "outputs": [],
   "source": [
    "abbrev_population = change_full_state_to_abbrev(population)"
   ]
  },
  {
   "cell_type": "code",
   "execution_count": 26,
   "id": "innovative-collins",
   "metadata": {
    "ExecuteTime": {
     "end_time": "2021-04-10T15:36:03.604000Z",
     "start_time": "2021-04-10T15:36:03.591654Z"
    }
   },
   "outputs": [],
   "source": [
    "normalized_df = normalize_state_by_population(abbrev_population, group_by_state_month)"
   ]
  },
  {
   "cell_type": "markdown",
   "id": "controversial-banking",
   "metadata": {
    "ExecuteTime": {
     "end_time": "2021-04-10T15:37:21.524592Z",
     "start_time": "2021-04-10T15:37:21.521758Z"
    }
   },
   "source": [
    "### visualization to show the positive_cases_normalized by month and state"
   ]
  },
  {
   "cell_type": "code",
   "execution_count": 35,
   "id": "precious-listening",
   "metadata": {
    "ExecuteTime": {
     "end_time": "2021-04-10T15:45:54.325563Z",
     "start_time": "2021-04-10T15:45:52.511821Z"
    }
   },
   "outputs": [
    {
     "data": {
      "text/plain": [
       "<AxesSubplot:xlabel='yyyy-mm', ylabel='positive_cases_normalized'>"
      ]
     },
     "execution_count": 35,
     "metadata": {},
     "output_type": "execute_result"
    },
    {
     "data": {
      "image/png": "[encoded data removed]",
      "text/plain": [
       "<Figure size 432x288 with 1 Axes>"
      ]
     },
     "metadata": {
      "needs_background": "light"
     },
     "output_type": "display_data"
    }
   ],
   "source": [
    "sns.lineplot(x=normalized_df['yyyy-mm'], y=normalized_df['positive_cases_normalized'], hue=normalized_df['state'])"
   ]
  },
  {
   "cell_type": "markdown",
   "id": "historical-monitor",
   "metadata": {},
   "source": [
    "To get the months that would are the most different, let's try comparing states that have the highest vs lowerst positive cases confirmed"
   ]
  },
  {
   "cell_type": "code",
   "execution_count": 64,
   "id": "suspended-reception",
   "metadata": {
    "ExecuteTime": {
     "end_time": "2021-04-10T16:06:56.109876Z",
     "start_time": "2021-04-10T16:06:56.104829Z"
    }
   },
   "outputs": [],
   "source": [
    "def get_highest_lowest_cases_state(month, df):\n",
    "    '''given a month and the df, finds the states that had the lowest and highest number of positive cases normalized'''\n",
    "    least_cases = df.loc[df['yyyy-mm']==month, ['state', 'positive_cases_normalized']]\\\n",
    "                    .sort_values('positive_cases_normalized').state.values[0:5]\n",
    "    highest_cases = df.loc[df['yyyy-mm']==month, ['state', 'positive_cases_normalized']]\\\n",
    "                    .sort_values('positive_cases_normalized', ascending=False).state.values[0:5]\n",
    "    return least_cases, highest_cases                                                                                                    "
   ]
  },
  {
   "cell_type": "code",
   "execution_count": 65,
   "id": "israeli-minute",
   "metadata": {
    "ExecuteTime": {
     "end_time": "2021-04-10T16:06:56.347883Z",
     "start_time": "2021-04-10T16:06:56.344989Z"
    }
   },
   "outputs": [],
   "source": [
    "def create_highest_lowest_cases_df(df):\n",
    "    month_dict = dict()\n",
    "    for month in df['yyyy-mm']:\n",
    "        month_dict[month] = get_highest_lowest_cases_state(month, df)\n",
    "    return month_dict"
   ]
  },
  {
   "cell_type": "code",
   "execution_count": 66,
   "id": "little-dimension",
   "metadata": {
    "ExecuteTime": {
     "end_time": "2021-04-10T16:06:56.614079Z",
     "start_time": "2021-04-10T16:06:56.611419Z"
    }
   },
   "outputs": [],
   "source": [
    "def cases_series_to_states_only(df):\n",
    "    for col in df.columns:\n",
    "        df[col] = df[col]"
   ]
  },
  {
   "cell_type": "code",
   "execution_count": 67,
   "id": "cross-holmes",
   "metadata": {
    "ExecuteTime": {
     "end_time": "2021-04-10T16:06:58.746690Z",
     "start_time": "2021-04-10T16:06:57.127743Z"
    }
   },
   "outputs": [],
   "source": [
    "highest_lowest_df = pd.DataFrame.from_dict(create_highest_lowest_cases_df(normalized_df), orient='index', columns=['Lowest Cases', 'Highest Cases'])"
   ]
  },
  {
   "cell_type": "code",
   "execution_count": 69,
   "id": "emotional-responsibility",
   "metadata": {
    "ExecuteTime": {
     "end_time": "2021-04-10T16:07:07.209553Z",
     "start_time": "2021-04-10T16:07:07.193327Z"
    }
   },
   "outputs": [
    {
     "data": {
      "text/html": [
       "<div>\n",
       "<style scoped>\n",
       "    .dataframe tbody tr th:only-of-type {\n",
       "        vertical-align: middle;\n",
       "    }\n",
       "\n",
       "    .dataframe tbody tr th {\n",
       "        vertical-align: top;\n",
       "    }\n",
       "\n",
       "    .dataframe thead th {\n",
       "        text-align: right;\n",
       "    }\n",
       "</style>\n",
       "<table border=\"1\" class=\"dataframe\">\n",
       "  <thead>\n",
       "    <tr style=\"text-align: right;\">\n",
       "      <th></th>\n",
       "      <th>Lowest Cases</th>\n",
       "      <th>Highest Cases</th>\n",
       "    </tr>\n",
       "  </thead>\n",
       "  <tbody>\n",
       "    <tr>\n",
       "      <th>2020-03</th>\n",
       "      <td>[NE, WV, KY, TX, SD]</td>\n",
       "      <td>[NY, NJ, MI, LA, MA]</td>\n",
       "    </tr>\n",
       "    <tr>\n",
       "      <th>2020-04</th>\n",
       "      <td>[MT, HI, AK, OR, WV]</td>\n",
       "      <td>[NY, NJ, MA, RI, CT]</td>\n",
       "    </tr>\n",
       "    <tr>\n",
       "      <th>2020-05</th>\n",
       "      <td>[HI, MT, AK, OR, WV]</td>\n",
       "      <td>[NY, NJ, RI, MA, DC]</td>\n",
       "    </tr>\n",
       "    <tr>\n",
       "      <th>2020-06</th>\n",
       "      <td>[HI, MT, AK, WV, VT]</td>\n",
       "      <td>[NY, NJ, RI, MA, DC]</td>\n",
       "    </tr>\n",
       "    <tr>\n",
       "      <th>2020-07</th>\n",
       "      <td>[HI, VT, ME, MT, WV]</td>\n",
       "      <td>[LA, AZ, NY, FL, NJ]</td>\n",
       "    </tr>\n",
       "    <tr>\n",
       "      <th>2020-08</th>\n",
       "      <td>[VT, ME, NH, WV, HI]</td>\n",
       "      <td>[LA, FL, MS, AZ, AL]</td>\n",
       "    </tr>\n",
       "    <tr>\n",
       "      <th>2020-09</th>\n",
       "      <td>[VT, ME, NH, OR, HI]</td>\n",
       "      <td>[LA, MS, FL, AL, GA]</td>\n",
       "    </tr>\n",
       "    <tr>\n",
       "      <th>2020-10</th>\n",
       "      <td>[VT, ME, NH, OR, HI]</td>\n",
       "      <td>[ND, SD, WI, MS, LA]</td>\n",
       "    </tr>\n",
       "    <tr>\n",
       "      <th>2020-11</th>\n",
       "      <td>[VT, ME, HI, NH, OR]</td>\n",
       "      <td>[ND, SD, WI, NE, IA]</td>\n",
       "    </tr>\n",
       "    <tr>\n",
       "      <th>2020-12</th>\n",
       "      <td>[VT, HI, ME, OR, WA]</td>\n",
       "      <td>[ND, SD, WI, NE, TN]</td>\n",
       "    </tr>\n",
       "    <tr>\n",
       "      <th>2021-01</th>\n",
       "      <td>[HI, VT, ME, OR, WA]</td>\n",
       "      <td>[ND, SD, RI, UT, TN]</td>\n",
       "    </tr>\n",
       "    <tr>\n",
       "      <th>2021-02</th>\n",
       "      <td>[HI, VT, ME, OR, WA]</td>\n",
       "      <td>[ND, SD, RI, UT, TN]</td>\n",
       "    </tr>\n",
       "    <tr>\n",
       "      <th>2021-03</th>\n",
       "      <td>[HI, VT, ME, OR, WA]</td>\n",
       "      <td>[ND, SD, RI, UT, TN]</td>\n",
       "    </tr>\n",
       "  </tbody>\n",
       "</table>\n",
       "</div>"
      ],
      "text/plain": [
       "                 Lowest Cases         Highest Cases\n",
       "2020-03  [NE, WV, KY, TX, SD]  [NY, NJ, MI, LA, MA]\n",
       "2020-04  [MT, HI, AK, OR, WV]  [NY, NJ, MA, RI, CT]\n",
       "2020-05  [HI, MT, AK, OR, WV]  [NY, NJ, RI, MA, DC]\n",
       "2020-06  [HI, MT, AK, WV, VT]  [NY, NJ, RI, MA, DC]\n",
       "2020-07  [HI, VT, ME, MT, WV]  [LA, AZ, NY, FL, NJ]\n",
       "2020-08  [VT, ME, NH, WV, HI]  [LA, FL, MS, AZ, AL]\n",
       "2020-09  [VT, ME, NH, OR, HI]  [LA, MS, FL, AL, GA]\n",
       "2020-10  [VT, ME, NH, OR, HI]  [ND, SD, WI, MS, LA]\n",
       "2020-11  [VT, ME, HI, NH, OR]  [ND, SD, WI, NE, IA]\n",
       "2020-12  [VT, HI, ME, OR, WA]  [ND, SD, WI, NE, TN]\n",
       "2021-01  [HI, VT, ME, OR, WA]  [ND, SD, RI, UT, TN]\n",
       "2021-02  [HI, VT, ME, OR, WA]  [ND, SD, RI, UT, TN]\n",
       "2021-03  [HI, VT, ME, OR, WA]  [ND, SD, RI, UT, TN]"
      ]
     },
     "execution_count": 69,
     "metadata": {},
     "output_type": "execute_result"
    }
   ],
   "source": [
    "highest_lowest_df"
   ]
  },
  {
   "cell_type": "code",
   "execution_count": 31,
   "id": "formal-terminology",
   "metadata": {
    "ExecuteTime": {
     "end_time": "2021-04-10T15:36:53.816231Z",
     "start_time": "2021-04-10T15:36:53.801397Z"
    }
   },
   "outputs": [
    {
     "data": {
      "text/html": [
       "<div>\n",
       "<style scoped>\n",
       "    .dataframe tbody tr th:only-of-type {\n",
       "        vertical-align: middle;\n",
       "    }\n",
       "\n",
       "    .dataframe tbody tr th {\n",
       "        vertical-align: top;\n",
       "    }\n",
       "\n",
       "    .dataframe thead th {\n",
       "        text-align: right;\n",
       "    }\n",
       "</style>\n",
       "<table border=\"1\" class=\"dataframe\">\n",
       "  <thead>\n",
       "    <tr style=\"text-align: right;\">\n",
       "      <th></th>\n",
       "      <th>yyyy-mm</th>\n",
       "      <th>state</th>\n",
       "      <th>cases_conf_probable</th>\n",
       "      <th>new_cases_monthly</th>\n",
       "      <th>population</th>\n",
       "      <th>positive_cases_normalized</th>\n",
       "    </tr>\n",
       "  </thead>\n",
       "  <tbody>\n",
       "    <tr>\n",
       "      <th>0</th>\n",
       "      <td>2020-03</td>\n",
       "      <td>AK</td>\n",
       "      <td>128.0</td>\n",
       "      <td>NaN</td>\n",
       "      <td>731158</td>\n",
       "      <td>0.000175</td>\n",
       "    </tr>\n",
       "    <tr>\n",
       "      <th>1</th>\n",
       "      <td>2020-04</td>\n",
       "      <td>AK</td>\n",
       "      <td>355.0</td>\n",
       "      <td>227.0</td>\n",
       "      <td>731158</td>\n",
       "      <td>0.000486</td>\n",
       "    </tr>\n",
       "    <tr>\n",
       "      <th>2</th>\n",
       "      <td>2020-05</td>\n",
       "      <td>AK</td>\n",
       "      <td>463.0</td>\n",
       "      <td>108.0</td>\n",
       "      <td>731158</td>\n",
       "      <td>0.000633</td>\n",
       "    </tr>\n",
       "    <tr>\n",
       "      <th>3</th>\n",
       "      <td>2020-06</td>\n",
       "      <td>AK</td>\n",
       "      <td>944.0</td>\n",
       "      <td>481.0</td>\n",
       "      <td>731158</td>\n",
       "      <td>0.001291</td>\n",
       "    </tr>\n",
       "    <tr>\n",
       "      <th>4</th>\n",
       "      <td>2020-07</td>\n",
       "      <td>AK</td>\n",
       "      <td>2993.0</td>\n",
       "      <td>2049.0</td>\n",
       "      <td>731158</td>\n",
       "      <td>0.004094</td>\n",
       "    </tr>\n",
       "    <tr>\n",
       "      <th>...</th>\n",
       "      <td>...</td>\n",
       "      <td>...</td>\n",
       "      <td>...</td>\n",
       "      <td>...</td>\n",
       "      <td>...</td>\n",
       "      <td>...</td>\n",
       "    </tr>\n",
       "    <tr>\n",
       "      <th>658</th>\n",
       "      <td>2020-11</td>\n",
       "      <td>WY</td>\n",
       "      <td>33305.0</td>\n",
       "      <td>20007.0</td>\n",
       "      <td>582328</td>\n",
       "      <td>0.057193</td>\n",
       "    </tr>\n",
       "    <tr>\n",
       "      <th>659</th>\n",
       "      <td>2020-12</td>\n",
       "      <td>WY</td>\n",
       "      <td>44409.0</td>\n",
       "      <td>11104.0</td>\n",
       "      <td>582328</td>\n",
       "      <td>0.076261</td>\n",
       "    </tr>\n",
       "    <tr>\n",
       "      <th>660</th>\n",
       "      <td>2021-01</td>\n",
       "      <td>WY</td>\n",
       "      <td>51912.0</td>\n",
       "      <td>7503.0</td>\n",
       "      <td>582328</td>\n",
       "      <td>0.089146</td>\n",
       "    </tr>\n",
       "    <tr>\n",
       "      <th>661</th>\n",
       "      <td>2021-02</td>\n",
       "      <td>WY</td>\n",
       "      <td>54394.0</td>\n",
       "      <td>2482.0</td>\n",
       "      <td>582328</td>\n",
       "      <td>0.093408</td>\n",
       "    </tr>\n",
       "    <tr>\n",
       "      <th>662</th>\n",
       "      <td>2021-03</td>\n",
       "      <td>WY</td>\n",
       "      <td>55352.0</td>\n",
       "      <td>958.0</td>\n",
       "      <td>582328</td>\n",
       "      <td>0.095053</td>\n",
       "    </tr>\n",
       "  </tbody>\n",
       "</table>\n",
       "<p>663 rows × 6 columns</p>\n",
       "</div>"
      ],
      "text/plain": [
       "     yyyy-mm state  cases_conf_probable  new_cases_monthly  population  \\\n",
       "0    2020-03    AK                128.0                NaN      731158   \n",
       "1    2020-04    AK                355.0              227.0      731158   \n",
       "2    2020-05    AK                463.0              108.0      731158   \n",
       "3    2020-06    AK                944.0              481.0      731158   \n",
       "4    2020-07    AK               2993.0             2049.0      731158   \n",
       "..       ...   ...                  ...                ...         ...   \n",
       "658  2020-11    WY              33305.0            20007.0      582328   \n",
       "659  2020-12    WY              44409.0            11104.0      582328   \n",
       "660  2021-01    WY              51912.0             7503.0      582328   \n",
       "661  2021-02    WY              54394.0             2482.0      582328   \n",
       "662  2021-03    WY              55352.0              958.0      582328   \n",
       "\n",
       "     positive_cases_normalized  \n",
       "0                     0.000175  \n",
       "1                     0.000486  \n",
       "2                     0.000633  \n",
       "3                     0.001291  \n",
       "4                     0.004094  \n",
       "..                         ...  \n",
       "658                   0.057193  \n",
       "659                   0.076261  \n",
       "660                   0.089146  \n",
       "661                   0.093408  \n",
       "662                   0.095053  \n",
       "\n",
       "[663 rows x 6 columns]"
      ]
     },
     "execution_count": 31,
     "metadata": {},
     "output_type": "execute_result"
    }
   ],
   "source": [
    "normalized_df"
   ]
  },
  {
   "cell_type": "code",
   "execution_count": null,
   "id": "temporal-nursing",
   "metadata": {},
   "outputs": [],
   "source": []
  }
 ],
 "metadata": {
  "kernelspec": {
   "display_name": "Python 3",
   "language": "python",
   "name": "python3"
  },
  "language_info": {
   "codemirror_mode": {
    "name": "ipython",
    "version": 3
   },
   "file_extension": ".py",
   "mimetype": "text/x-python",
   "name": "python",
   "nbconvert_exporter": "python",
   "pygments_lexer": "ipython3",
   "version": "3.9.2"
  }
 },
 "nbformat": 4,
 "nbformat_minor": 5
}

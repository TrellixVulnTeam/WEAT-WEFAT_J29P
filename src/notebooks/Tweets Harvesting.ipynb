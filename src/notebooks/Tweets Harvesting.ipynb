{
 "cells": [
  {
   "cell_type": "code",
   "execution_count": 13,
   "id": "interpreted-copper",
   "metadata": {
    "ExecuteTime": {
     "end_time": "2021-04-09T19:01:09.385628Z",
     "start_time": "2021-04-09T19:01:08.383573Z"
    }
   },
   "outputs": [],
   "source": [
    "import tweepy\n",
    "import json\n",
    "import pandas as pd"
   ]
  },
  {
   "cell_type": "markdown",
   "id": "tropical-catering",
   "metadata": {},
   "source": [
    "Authenticate with Twitter API"
   ]
  },
  {
   "cell_type": "code",
   "execution_count": 180,
   "id": "similar-communist",
   "metadata": {
    "ExecuteTime": {
     "end_time": "2021-04-10T17:56:05.878809Z",
     "start_time": "2021-04-10T17:56:05.865288Z"
    }
   },
   "outputs": [],
   "source": [
    "# twitter app credentials\n",
    "CONSUMER_KEY = 'SZsWG8br2fSPUF1Xwd53iakd7'\n",
    "CONSUMER_SECRET = '8CBYWeEMjdTML9xBRRDPhV6PwEFhKtHf92ye2PhMstYnC5Nhc5'\n",
    "ACCESS_TOKEN = '404374326-ZaQe9uhMID24e7cPQDleLXB3FPFFGFytFZLCm7HR'\n",
    "ACCESS_TOKEN_SECRET = 'Bb0LhjPmjyPYF3gAnDqTUcyDBUQCs13Ecb4yjZ4ni4R6G'\n",
    "BEARER_TOKEN = 'AAAAAAAAAAAAAAAAAAAAABKSOQEAAAAAz%2BwUu%2F9HBgvVJHgw7QGiOKTfVtQ%3Dza18UIIgrQzYhzuO3FdFhANPjrpN5ozLZfDFqdI5O8KXwwcHDI'\n",
    "\n",
    "\n",
    "auth = tweepy.OAuthHandler(CONSUMER_KEY, CONSUMER_SECRET)\n",
    "auth.set_access_token(ACCESS_TOKEN, ACCESS_TOKEN_SECRET)\n",
    "\n",
    "api = tweepy.API(auth, wait_on_rate_limit=True, wait_on_rate_limit_notify=True)"
   ]
  },
  {
   "cell_type": "code",
   "execution_count": 166,
   "id": "ecological-atmosphere",
   "metadata": {
    "ExecuteTime": {
     "end_time": "2021-04-10T16:56:51.725825Z",
     "start_time": "2021-04-10T16:56:51.723373Z"
    }
   },
   "outputs": [],
   "source": [
    "geo='48.136353,11.575004,25km'\n",
    "COLS = ['id','created_at','lang','original text','user_name', 'place', 'place type', 'bbx', 'coordinates']"
   ]
  },
  {
   "cell_type": "code",
   "execution_count": 178,
   "id": "institutional-silence",
   "metadata": {
    "ExecuteTime": {
     "end_time": "2021-04-10T17:11:08.711023Z",
     "start_time": "2021-04-10T17:11:08.700343Z"
    }
   },
   "outputs": [],
   "source": [
    "def run_test_query(keyword):\n",
    "    df = pd.DataFrame(columns=COLS)\n",
    "\n",
    "    for tweet in tweepy.Cursor(api.search,\n",
    "                               q=keyword, \n",
    "                               include_rts=False,\n",
    "                               geocode=geo,\n",
    "                               lang=\"en\").items(200):\n",
    "        #creating string array\n",
    "        new_entry = []\n",
    "\n",
    "        #storing all JSON data from twitter API\n",
    "        tweet = tweet._json    \n",
    "\n",
    "        #Append the JSON parsed data to the string list:\n",
    "\n",
    "        new_entry += [tweet['id'], tweet['created_at'], tweet['lang'], tweet['text'], \n",
    "                      tweet['user']['name']]\n",
    "\n",
    "        #check if place name is available, in case not the entry is named 'no place'\n",
    "        try:\n",
    "            place = tweet['place']['name']\n",
    "        except TypeError:\n",
    "            place = 'no place'\n",
    "        new_entry.append(place)\n",
    "\n",
    "        try:\n",
    "            place_type = tweet['place']['place_type']\n",
    "        except TypeError:\n",
    "            place_type = 'na'\n",
    "        new_entry.append(place_type)\n",
    "\n",
    "        try:\n",
    "            bbx = tweet['place']['bounding_box']['coordinates']\n",
    "        except TypeError:\n",
    "            bbx = 'na'\n",
    "        new_entry.append(bbx)\n",
    "\n",
    "        #check if coordinates is available, in case not the entry is named 'no coordinates'\n",
    "        try:\n",
    "            coord = tweet['coordinates']['coordinates']\n",
    "        except TypeError:\n",
    "            coord = 'no coordinates'\n",
    "        new_entry.append(coord)\n",
    "\n",
    "        # wrap up all the data into a data frame\n",
    "        single_tweet_df = pd.DataFrame([new_entry], columns=COLS)\n",
    "        df = df.append(single_tweet_df, ignore_index=True)\n",
    "\n",
    "        #get rid of tweets without a place\n",
    "        df_cleaned = df[df.place != 'no place']\n",
    "    \n",
    "    df_cleaned.to_csv('tweets_'+geo+'.csv', columns=COLS,index=False)"
   ]
  },
  {
   "cell_type": "code",
   "execution_count": 179,
   "id": "narrow-trace",
   "metadata": {
    "ExecuteTime": {
     "end_time": "2021-04-10T17:23:18.901745Z",
     "start_time": "2021-04-10T17:11:08.999544Z"
    }
   },
   "outputs": [
    {
     "name": "stderr",
     "output_type": "stream",
     "text": [
      "Rate limit reached. Sleeping for: 718\n"
     ]
    }
   ],
   "source": [
    "keyword='*'\n",
    "run_test_query(keyword)"
   ]
  },
  {
   "cell_type": "code",
   "execution_count": 154,
   "id": "impossible-score",
   "metadata": {
    "ExecuteTime": {
     "end_time": "2021-04-10T16:46:18.602875Z",
     "start_time": "2021-04-10T16:46:18.337218Z"
    }
   },
   "outputs": [],
   "source": [
    "for tweet in tweepy.Cursor(api.search,q=\"Womens Day OR internationalwomensday OR internationalwomensday2021 OR internationalwomensday21 OR women's day OR international women's day OR IWD OR HappyInternationalWomensDay OR Happy Women's Day OR HappyWomensDay OR happywomensday OR happyinternationalwomensday\",\n",
    "                           count=10000,\n",
    "                           include_rts=False,\n",
    "                           country_code=True,\n",
    "                           coordinates=True,\n",
    "                           lang=\"en\",\n",
    "                           since=\"2021-03-06\",\n",
    "                           until=\"2021-03-10\"\n",
    "                           ).items(10):\n",
    "    print (tweet.created_at, tweet.text)"
   ]
  },
  {
   "cell_type": "code",
   "execution_count": 147,
   "id": "coastal-maria",
   "metadata": {
    "ExecuteTime": {
     "end_time": "2021-04-10T15:29:17.312483Z",
     "start_time": "2021-04-10T15:29:16.669828Z"
    }
   },
   "outputs": [
    {
     "name": "stdout",
     "output_type": "stream",
     "text": [
      "The Last of Us Part II is $29.99 on US PSN https://t.co/EV48EuPKbg https://t.co/cYNPc1lZ0P\n",
      "Xbox Wireless Controller – Cyberpunk 2077 Limited Edition is $62.82 on Amazon Warehouse (discount at checkout, Like… https://t.co/vKjVBRQmpL\n",
      "We absolutely need to raise the minimum wage. But workers need additional protections, too.\n",
      "https://t.co/26dcUpCk8w\n",
      "A non-partisan ethics watchdog has asked the Senate Ethics Committee to launch an investigation into a traffic stop… https://t.co/zlmXzapCO3\n",
      "Ask Iwata also $17.24 at Walmart https://t.co/F8eB3TzfKd https://t.co/4IQS3hcGNT\n",
      "Age of Empires franchise sale on Steam https://t.co/cTvpc9uYta\n",
      "\n",
      "also on Game Pass https://t.co/1cJXy2mRYk\n",
      "Watch out for  r̶o̶a̶d̶ ̶b̶l̶o̶c̶k̶s̶ load outs, life may throw at you... #PS5Share #CallofDutyWarzone https://t.co/jZGIaGI2ZG\n",
      "Balan Wonderworld (Steam) is $47.99 on GMG XP Offer or code SPR21 https://t.co/yGuRC210Y2\n",
      "RT @amprog: Biden has prepared an executive order requiring federal contractors to pay a $15 minimum wage and provide emergency paid leave.…\n",
      "Honored to thank our National Guard members in person today. They’ve given us COVID tests. They’ve handed out food.… https://t.co/4lpN8KgSZM\n",
      "Or a mental illness https://t.co/eeeWLS5Y1O\n",
      "RT @Linneaa24: 🥰✨SIGN UP FOR OUR BOOK CLUB✨🥰\n",
      "Learn #DataScience and #MachineLearning for FREE while supporting your local community.\n",
      "\n",
      "@bigbangdss is doing it ag… https://t.co/M9iaXSgSeK\n",
      "Free Splatoon 3-pack amiibo with purchase of Splatoon 2 on GameStop DOTD https://t.co/HBc0K1GZoD https://t.co/HeYBHX5BBc\n",
      "We need the Senate to act to protect voting rights, now.\n",
      "\n",
      "If some Senators disagree, let them vote no. \n",
      "\n",
      "Don't let… https://t.co/18On3TqYd3\n",
      "A bill to study paying reparations to descendants of slaves will be considered in the House Judiciary Committee nex… https://t.co/ZimqxBOelv\n",
      "🚨REMINDER - The IRS extended the due date for individuals to file their 2020 income tax returns from April 15 to Ma… https://t.co/1kenHU5NUo\n",
      "In Otter Tail County I met a mom whose high school daughter had to take her biology exams in the liquor store parki… https://t.co/2lw2apvbSv\n",
      "#COVID blog series: our Chief Medical Officer, Dr. Kevin Vigilante, and our technical and health experts, share the… https://t.co/96Rc0GHkgs\n",
      "The Wisconsin Supreme Court has ruled the state does not need to purge from the voter rolls around 70,000 people id… https://t.co/WsnqashU0V\n"
     ]
    }
   ],
   "source": [
    "public_tweets = api.home_timeline()\n",
    "for tweet in public_tweets:\n",
    "    print(tweet.text)"
   ]
  },
  {
   "cell_type": "code",
   "execution_count": null,
   "id": "civilian-humanity",
   "metadata": {},
   "outputs": [],
   "source": []
  },
  {
   "cell_type": "code",
   "execution_count": null,
   "id": "lucky-taste",
   "metadata": {},
   "outputs": [],
   "source": []
  },
  {
   "cell_type": "code",
   "execution_count": null,
   "id": "funky-trader",
   "metadata": {},
   "outputs": [],
   "source": []
  },
  {
   "cell_type": "markdown",
   "id": "suspended-captain",
   "metadata": {},
   "source": [
    "### parsing the sample tweet data Laura provided"
   ]
  },
  {
   "cell_type": "code",
   "execution_count": 85,
   "id": "specialized-retail",
   "metadata": {
    "ExecuteTime": {
     "end_time": "2021-04-09T19:47:18.815032Z",
     "start_time": "2021-04-09T19:47:18.804621Z"
    }
   },
   "outputs": [],
   "source": [
    "us_state_abbrev = {\n",
    "    'Alabama': 'AL',\n",
    "    'Alaska': 'AK',\n",
    "    'American Samoa': 'AS',\n",
    "    'Arizona': 'AZ',\n",
    "    'Arkansas': 'AR',\n",
    "    'California': 'CA',\n",
    "    'Colorado': 'CO',\n",
    "    'Connecticut': 'CT',\n",
    "    'Delaware': 'DE',\n",
    "    'District of Columbia': 'DC',\n",
    "    'Florida': 'FL',\n",
    "    'Georgia': 'GA',\n",
    "    'Guam': 'GU',\n",
    "    'Hawaii': 'HI',\n",
    "    'Idaho': 'ID',\n",
    "    'Illinois': 'IL',\n",
    "    'Indiana': 'IN',\n",
    "    'Iowa': 'IA',\n",
    "    'Kansas': 'KS',\n",
    "    'Kentucky': 'KY',\n",
    "    'Louisiana': 'LA',\n",
    "    'Maine': 'ME',\n",
    "    'Maryland': 'MD',\n",
    "    'Massachusetts': 'MA',\n",
    "    'Michigan': 'MI',\n",
    "    'Minnesota': 'MN',\n",
    "    'Mississippi': 'MS',\n",
    "    'Missouri': 'MO',\n",
    "    'Montana': 'MT',\n",
    "    'Nebraska': 'NE',\n",
    "    'Nevada': 'NV',\n",
    "    'New Hampshire': 'NH',\n",
    "    'New Jersey': 'NJ',\n",
    "    'New Mexico': 'NM',\n",
    "    'New York': 'NY',\n",
    "    'North Carolina': 'NC',\n",
    "    'North Dakota': 'ND',\n",
    "    'Northern Mariana Islands':'MP',\n",
    "    'Ohio': 'OH',\n",
    "    'Oklahoma': 'OK',\n",
    "    'Oregon': 'OR',\n",
    "    'Pennsylvania': 'PA',\n",
    "    'Puerto Rico': 'PR',\n",
    "    'Rhode Island': 'RI',\n",
    "    'South Carolina': 'SC',\n",
    "    'South Dakota': 'SD',\n",
    "    'Tennessee': 'TN',\n",
    "    'Texas': 'TX',\n",
    "    'Utah': 'UT',\n",
    "    'Vermont': 'VT',\n",
    "    'Virgin Islands': 'VI',\n",
    "    'Virginia': 'VA',\n",
    "    'Washington': 'WA',\n",
    "    'West Virginia': 'WV',\n",
    "    'Wisconsin': 'WI',\n",
    "    'Wyoming': 'WY'\n",
    "}"
   ]
  },
  {
   "cell_type": "code",
   "execution_count": 9,
   "id": "sudden-pocket",
   "metadata": {
    "ExecuteTime": {
     "end_time": "2021-04-09T18:58:53.378719Z",
     "start_time": "2021-04-09T18:58:51.659899Z"
    }
   },
   "outputs": [],
   "source": [
    "sample_feed_path = '../../data/us_corpus/Social Feed Manager/geo-tweets1.json' \n",
    "\n",
    "sample_data = []\n",
    "with open(sample_feed_path, 'r') as file: \n",
    "    for line in file:\n",
    "        sample_data.append(json.loads(line))"
   ]
  },
  {
   "cell_type": "code",
   "execution_count": 82,
   "id": "scheduled-upset",
   "metadata": {
    "ExecuteTime": {
     "end_time": "2021-04-09T19:44:12.346503Z",
     "start_time": "2021-04-09T19:44:12.342057Z"
    }
   },
   "outputs": [],
   "source": [
    "def get_country_value_counts(file):\n",
    "    ''' get the countries where the geotagged tweets are from'''\n",
    "    df = pd.DataFrame([tweet['place']['country_code'] for tweet in file if tweet['place']])\n",
    "    return df"
   ]
  },
  {
   "cell_type": "code",
   "execution_count": 83,
   "id": "negative-administrator",
   "metadata": {
    "ExecuteTime": {
     "end_time": "2021-04-09T19:44:12.580725Z",
     "start_time": "2021-04-09T19:44:12.576596Z"
    }
   },
   "outputs": [],
   "source": [
    "def filter_for_us_tweets_only(tweets):\n",
    "    '''get us tweets only'''\n",
    "    new_tweets = []\n",
    "    for tweet in tweets: \n",
    "        if tweet['place']:\n",
    "            if tweet['place']['country_code'] == 'US':\n",
    "                new_tweets.append(tweet)\n",
    "    return new_tweets"
   ]
  },
  {
   "cell_type": "code",
   "execution_count": 121,
   "id": "unique-swimming",
   "metadata": {
    "ExecuteTime": {
     "end_time": "2021-04-09T22:28:16.202970Z",
     "start_time": "2021-04-09T22:28:16.198959Z"
    }
   },
   "outputs": [],
   "source": [
    "def get_us_states(tweets):\n",
    "    '''get US states'''\n",
    "    return [tweet['place']['full_name'].split(', ')[1:] for tweet in tweets]"
   ]
  },
  {
   "cell_type": "code",
   "execution_count": 133,
   "id": "indie-satellite",
   "metadata": {
    "ExecuteTime": {
     "end_time": "2021-04-09T22:31:42.652070Z",
     "start_time": "2021-04-09T22:31:42.646271Z"
    }
   },
   "outputs": [],
   "source": [
    "def change_place_name_to_abbrev(tweets):\n",
    "    for tweet in tweets: \n",
    "        possible_full_state_name = tweet['place']['full_name'].split(', ')[0]\n",
    "        if possible_full_state_name in us_state_abbrev.keys():\n",
    "            tweet['place']['full_name'] = tweet['place']['full_name'].replace('USA', us_state_abbrev[possible_full_state_name])\n",
    "    return tweets"
   ]
  },
  {
   "cell_type": "code",
   "execution_count": 134,
   "id": "british-sugar",
   "metadata": {
    "ExecuteTime": {
     "end_time": "2021-04-09T22:31:43.005465Z",
     "start_time": "2021-04-09T22:31:42.954441Z"
    }
   },
   "outputs": [],
   "source": [
    "testing = get_country_value_counts(sample_data)\n",
    "us_tweets = filter_for_us_tweets_only(sample_data)\n",
    "us_states = get_us_states(change_place_name_to_abbrev(us_tweets))"
   ]
  },
  {
   "cell_type": "code",
   "execution_count": 137,
   "id": "emerging-disposition",
   "metadata": {
    "ExecuteTime": {
     "end_time": "2021-04-09T22:32:08.472120Z",
     "start_time": "2021-04-09T22:32:08.458071Z"
    }
   },
   "outputs": [
    {
     "data": {
      "text/plain": [
       "CA    1539\n",
       "NY    1287\n",
       "FL     757\n",
       "TX     719\n",
       "NJ     406\n",
       "GA     394\n",
       "NC     334\n",
       "PA     328\n",
       "OH     322\n",
       "IL     313\n",
       "dtype: int64"
      ]
     },
     "execution_count": 137,
     "metadata": {},
     "output_type": "execute_result"
    }
   ],
   "source": [
    "pd.DataFrame(us_states).value_counts()[:10]"
   ]
  },
  {
   "cell_type": "code",
   "execution_count": 32,
   "id": "hispanic-proof",
   "metadata": {
    "ExecuteTime": {
     "end_time": "2021-04-09T19:04:46.960649Z",
     "start_time": "2021-04-09T19:04:46.935294Z"
    }
   },
   "outputs": [
    {
     "data": {
      "text/plain": [
       "US    11069\n",
       "GB     1840\n",
       "CA      752\n",
       "IN      684\n",
       "NG      334\n",
       "      ...  \n",
       "NI        1\n",
       "CI        1\n",
       "PN        1\n",
       "PY        1\n",
       "KG        1\n",
       "Length: 152, dtype: int64"
      ]
     },
     "execution_count": 32,
     "metadata": {},
     "output_type": "execute_result"
    }
   ],
   "source": [
    "testing.value_counts()"
   ]
  },
  {
   "cell_type": "code",
   "execution_count": 33,
   "id": "incident-narrow",
   "metadata": {
    "ExecuteTime": {
     "end_time": "2021-04-09T19:05:29.748351Z",
     "start_time": "2021-04-09T19:05:29.742510Z"
    }
   },
   "outputs": [
    {
     "data": {
      "text/plain": [
       "0.6155257743424345"
      ]
     },
     "execution_count": 33,
     "metadata": {},
     "output_type": "execute_result"
    }
   ],
   "source": [
    "11069/17983"
   ]
  },
  {
   "cell_type": "code",
   "execution_count": 140,
   "id": "suitable-toilet",
   "metadata": {
    "ExecuteTime": {
     "end_time": "2021-04-09T22:33:30.123805Z",
     "start_time": "2021-04-09T22:33:30.118796Z"
    }
   },
   "outputs": [
    {
     "data": {
      "text/plain": [
       "0.0683891950492366"
      ]
     },
     "execution_count": 140,
     "metadata": {},
     "output_type": "execute_result"
    }
   ],
   "source": [
    "757/11069"
   ]
  },
  {
   "cell_type": "markdown",
   "id": "waiting-branch",
   "metadata": {},
   "source": [
    "11069 / 17983 (61%) of the tweets are from US"
   ]
  },
  {
   "cell_type": "markdown",
   "id": "corresponding-stable",
   "metadata": {},
   "source": [
    "Of these 11069 tweets from the US, 1539 are from CA (13%), 1287 (11%) are from NY, 757 (6.8%) are from FL. "
   ]
  },
  {
   "cell_type": "code",
   "execution_count": 59,
   "id": "unavailable-coffee",
   "metadata": {
    "ExecuteTime": {
     "end_time": "2021-04-09T19:24:03.865958Z",
     "start_time": "2021-04-09T19:24:03.860514Z"
    }
   },
   "outputs": [
    {
     "data": {
      "text/plain": [
       "'PA'"
      ]
     },
     "execution_count": 59,
     "metadata": {},
     "output_type": "execute_result"
    }
   ],
   "source": [
    "sample_data[5]['place']['full_name'].split(', ')[1]"
   ]
  },
  {
   "cell_type": "code",
   "execution_count": 141,
   "id": "fundamental-yesterday",
   "metadata": {
    "ExecuteTime": {
     "end_time": "2021-04-09T22:44:20.040470Z",
     "start_time": "2021-04-09T22:44:20.029491Z"
    }
   },
   "outputs": [
    {
     "data": {
      "text/plain": [
       "0.00019130851063829787"
      ]
     },
     "execution_count": 141,
     "metadata": {},
     "output_type": "execute_result"
    }
   ],
   "source": [
    "17983/94000000"
   ]
  },
  {
   "cell_type": "code",
   "execution_count": 144,
   "id": "working-wrapping",
   "metadata": {
    "ExecuteTime": {
     "end_time": "2021-04-09T22:45:38.816095Z",
     "start_time": "2021-04-09T22:45:38.811383Z"
    }
   },
   "outputs": [
    {
     "data": {
      "text/plain": [
       "8845.722914893617"
      ]
     },
     "execution_count": 144,
     "metadata": {},
     "output_type": "execute_result"
    }
   ],
   "source": [
    "758000000 * 0.00019130851063829787 * 0.61* 0.10"
   ]
  },
  {
   "cell_type": "code",
   "execution_count": null,
   "id": "unable-brooklyn",
   "metadata": {},
   "outputs": [],
   "source": []
  }
 ],
 "metadata": {
  "kernelspec": {
   "display_name": "Python 3",
   "language": "python",
   "name": "python3"
  },
  "language_info": {
   "codemirror_mode": {
    "name": "ipython",
    "version": 3
   },
   "file_extension": ".py",
   "mimetype": "text/x-python",
   "name": "python",
   "nbconvert_exporter": "python",
   "pygments_lexer": "ipython3",
   "version": "3.9.2"
  }
 },
 "nbformat": 4,
 "nbformat_minor": 5
}

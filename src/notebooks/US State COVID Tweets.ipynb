{
 "cells": [
  {
   "cell_type": "code",
   "execution_count": 68,
   "id": "functioning-composite",
   "metadata": {
    "ExecuteTime": {
     "end_time": "2021-04-12T06:19:48.266109Z",
     "start_time": "2021-04-12T06:19:48.231808Z"
    }
   },
   "outputs": [
    {
     "data": {
      "text/plain": [
       "<module 'weat_wefat.src.lib.weat_tables' from '/Users/adimaini/Documents/GW/Research/CODE.nosync/weat_wefat/src/lib/weat_tables.py'>"
      ]
     },
     "execution_count": 68,
     "metadata": {},
     "output_type": "execute_result"
    }
   ],
   "source": [
    "import os\n",
    "import sys\n",
    "import pandas as pd\n",
    "import json\n",
    "import re\n",
    "import emoji\n",
    "import gensim\n",
    "\n",
    "module_path = os.path.abspath(os.path.join('../../..'))\n",
    "if module_path not in sys.path:\n",
    "    sys.path.append(module_path)\n",
    "    \n",
    "from weat_wefat.src.lib import weat\n",
    "from weat_wefat.src.lib import weat_tables\n",
    "import importlib\n",
    "importlib.reload(weat)\n",
    "importlib.reload(weat_tables)"
   ]
  },
  {
   "cell_type": "code",
   "execution_count": 2,
   "id": "satisfactory-reference",
   "metadata": {
    "ExecuteTime": {
     "end_time": "2021-04-12T03:39:01.650019Z",
     "start_time": "2021-04-12T03:39:01.647138Z"
    }
   },
   "outputs": [],
   "source": [
    "TX_PATH = '../../data/us_corpus/texas tweets.jsonl'\n",
    "NY_PATH = '../../data/us_corpus/NY tweets.jsonl'"
   ]
  },
  {
   "cell_type": "code",
   "execution_count": 3,
   "id": "celtic-covering",
   "metadata": {
    "ExecuteTime": {
     "end_time": "2021-04-12T03:39:17.380932Z",
     "start_time": "2021-04-12T03:39:02.107283Z"
    }
   },
   "outputs": [],
   "source": [
    "# reading in the json files \n",
    "tx_data = []\n",
    "ny_data = []\n",
    "with open(TX_PATH, 'r') as data:\n",
    "    for line in data: \n",
    "        tx_data.append(json.loads(line))\n",
    "\n",
    "with open(NY_PATH, 'r') as data:\n",
    "    for line in data:\n",
    "        ny_data.append(json.loads(line))"
   ]
  },
  {
   "cell_type": "code",
   "execution_count": 4,
   "id": "configured-snake",
   "metadata": {
    "ExecuteTime": {
     "end_time": "2021-04-12T03:39:17.391815Z",
     "start_time": "2021-04-12T03:39:17.382811Z"
    }
   },
   "outputs": [],
   "source": [
    "def combined_full_text(json_object):\n",
    "    corpus = [tweet['full_text'] for tweet in json_object]\n",
    "    corpus = ' '.join(corpus).lower()\n",
    "    return corpus\n",
    "\n",
    "def delete_links(text): \n",
    "    return re.sub(r'http\\S+', '', text)\n",
    "\n",
    "def delete_hashtags(text):\n",
    "    return re.sub(r'#(\\w+)', '', text)\n",
    "\n",
    "def delete_mentions(text):\n",
    "    return re.sub(r'@(\\w+)', '', text)\n",
    "\n",
    "def delete_emojies(text):\n",
    "    new_text = re.sub(emoji.get_emoji_regexp(), r\"\", text)\n",
    "    return new_text\n",
    "\n",
    "def delete_new_line_chars(text):\n",
    "    return \" \".join(text.splitlines())\n",
    "\n",
    "def delete_multiple_spaces(text):\n",
    "    return \" \".join(text.split())\n",
    "\n",
    "def replace_amp(text):\n",
    "    return text.replace('&amp', '&')"
   ]
  },
  {
   "cell_type": "code",
   "execution_count": 5,
   "id": "authentic-rental",
   "metadata": {
    "ExecuteTime": {
     "end_time": "2021-04-12T03:39:35.858047Z",
     "start_time": "2021-04-12T03:39:17.394190Z"
    }
   },
   "outputs": [],
   "source": [
    "tx_filtered = combined_full_text(tx_data)\n",
    "tx_filtered = delete_links(tx_filtered)\n",
    "tx_filtered = delete_hashtags(tx_filtered)\n",
    "tx_filtered = delete_mentions(tx_filtered)\n",
    "tx_filtered = delete_emojies(tx_filtered)\n",
    "tx_filtered = delete_new_line_chars(tx_filtered)\n",
    "tx_filtered = delete_multiple_spaces(tx_filtered)\n",
    "tx_filtered = replace_amp(tx_filtered)"
   ]
  },
  {
   "cell_type": "code",
   "execution_count": 6,
   "id": "entire-anatomy",
   "metadata": {
    "ExecuteTime": {
     "end_time": "2021-04-12T03:39:54.557673Z",
     "start_time": "2021-04-12T03:39:35.860618Z"
    }
   },
   "outputs": [],
   "source": [
    "ny_filtered = combined_full_text(ny_data)\n",
    "ny_filtered = delete_links(ny_filtered)\n",
    "ny_filtered = delete_hashtags(ny_filtered)\n",
    "ny_filtered = delete_mentions(ny_filtered)\n",
    "ny_filtered = delete_emojies(ny_filtered)\n",
    "ny_filtered = delete_new_line_chars(ny_filtered)\n",
    "ny_filtered = delete_multiple_spaces(ny_filtered)\n",
    "ny_filtered = replace_amp(ny_filtered)"
   ]
  },
  {
   "cell_type": "code",
   "execution_count": 7,
   "id": "regulation-stocks",
   "metadata": {
    "ExecuteTime": {
     "end_time": "2021-04-12T03:39:54.563221Z",
     "start_time": "2021-04-12T03:39:54.559513Z"
    }
   },
   "outputs": [],
   "source": [
    "def write_filtered_file(filtered_text, state):\n",
    "    '''write filtered files to disk'''\n",
    "    with open('../../data/us_corpus/' + state + '_filtered_sentences', 'w') as text_file:\n",
    "        text_file.write(filtered_text)\n",
    "    print ('Written successfully.')"
   ]
  },
  {
   "cell_type": "code",
   "execution_count": 8,
   "id": "worth-customs",
   "metadata": {
    "ExecuteTime": {
     "end_time": "2021-04-12T03:39:54.604803Z",
     "start_time": "2021-04-12T03:39:54.564860Z"
    }
   },
   "outputs": [
    {
     "name": "stdout",
     "output_type": "stream",
     "text": [
      "Written successfully.\n",
      "Written successfully.\n"
     ]
    }
   ],
   "source": [
    "write_filtered_file(tx_filtered, 'tx')\n",
    "write_filtered_file(ny_filtered, 'ny')"
   ]
  },
  {
   "cell_type": "markdown",
   "id": "employed-jimmy",
   "metadata": {},
   "source": [
    "### 814k words in TX dataset and 835k words in NY dataset"
   ]
  },
  {
   "cell_type": "code",
   "execution_count": 9,
   "id": "sweet-gilbert",
   "metadata": {
    "ExecuteTime": {
     "end_time": "2021-04-12T03:39:54.723473Z",
     "start_time": "2021-04-12T03:39:54.606752Z"
    }
   },
   "outputs": [
    {
     "data": {
      "text/plain": [
       "814825"
      ]
     },
     "execution_count": 9,
     "metadata": {},
     "output_type": "execute_result"
    }
   ],
   "source": [
    "len(tx_filtered.split(' '))"
   ]
  },
  {
   "cell_type": "code",
   "execution_count": 10,
   "id": "color-blood",
   "metadata": {
    "ExecuteTime": {
     "end_time": "2021-04-12T03:39:54.835361Z",
     "start_time": "2021-04-12T03:39:54.726953Z"
    }
   },
   "outputs": [
    {
     "data": {
      "text/plain": [
       "835521"
      ]
     },
     "execution_count": 10,
     "metadata": {},
     "output_type": "execute_result"
    }
   ],
   "source": [
    "len(ny_filtered.split(' '))"
   ]
  },
  {
   "cell_type": "markdown",
   "id": "beginning-antigua",
   "metadata": {},
   "source": [
    "We need filters to get rid of: <br>\n",
    "1. links - done \n",
    "2. emojies - done \n",
    "3. new line characters and other characters - done \n",
    "4. multiple spaces - done"
   ]
  },
  {
   "cell_type": "markdown",
   "id": "furnished-ministry",
   "metadata": {
    "ExecuteTime": {
     "end_time": "2021-04-06T18:25:07.816944Z",
     "start_time": "2021-04-06T18:25:07.792891Z"
    }
   },
   "source": [
    "Create word embeddings. \n",
    "\n",
    "Processing steps: \n",
    "1. Lowercase all words\n",
    "2. Filtering out tweets\n",
    "3. skipgram to create one word out of common 2 or 3 word sets. "
   ]
  },
  {
   "cell_type": "code",
   "execution_count": 11,
   "id": "fossil-shopper",
   "metadata": {
    "ExecuteTime": {
     "end_time": "2021-04-12T03:39:54.841475Z",
     "start_time": "2021-04-12T03:39:54.838367Z"
    }
   },
   "outputs": [],
   "source": [
    "def split_string_to_list_sentences(filtered):\n",
    "    new_text = [text.split() for text in filtered.split('.')]\n",
    "    # to delete any empty lists in nested list\n",
    "    new_text = [text for text in new_text if text != []]\n",
    "    return new_text"
   ]
  },
  {
   "cell_type": "code",
   "execution_count": 12,
   "id": "proprietary-details",
   "metadata": {
    "ExecuteTime": {
     "end_time": "2021-04-12T03:39:55.156092Z",
     "start_time": "2021-04-12T03:39:54.843380Z"
    }
   },
   "outputs": [],
   "source": [
    "# splitting string to list of lists\n",
    "tx_filtered_sentences = split_string_to_list_sentences(tx_filtered)\n",
    "ny_filtered_sentences = split_string_to_list_sentences(ny_filtered)"
   ]
  },
  {
   "cell_type": "code",
   "execution_count": 23,
   "id": "spectacular-obligation",
   "metadata": {
    "ExecuteTime": {
     "end_time": "2021-04-12T03:43:57.594967Z",
     "start_time": "2021-04-12T03:43:57.582778Z"
    }
   },
   "outputs": [
    {
     "data": {
      "text/plain": [
       "9993"
      ]
     },
     "execution_count": 23,
     "metadata": {},
     "output_type": "execute_result"
    }
   ],
   "source": [
    "len(tx_model.wv.vocab)"
   ]
  },
  {
   "cell_type": "code",
   "execution_count": 24,
   "id": "filled-brazil",
   "metadata": {
    "ExecuteTime": {
     "end_time": "2021-04-12T03:44:06.618363Z",
     "start_time": "2021-04-12T03:44:06.611016Z"
    }
   },
   "outputs": [
    {
     "data": {
      "text/plain": [
       "10661"
      ]
     },
     "execution_count": 24,
     "metadata": {},
     "output_type": "execute_result"
    }
   ],
   "source": [
    "len(ny_model.wv.vocab)"
   ]
  },
  {
   "cell_type": "markdown",
   "id": "skilled-begin",
   "metadata": {},
   "source": [
    "Need to make sure the vocabulary is the same between the words. There are 9993 words in tx model, and 10661 words in ny model. There are 7822 words that these models share. I expect in larger embeddings, this % would even go up. "
   ]
  },
  {
   "cell_type": "code",
   "execution_count": 42,
   "id": "cross-pollution",
   "metadata": {
    "ExecuteTime": {
     "end_time": "2021-04-12T05:08:43.173569Z",
     "start_time": "2021-04-12T05:08:43.158385Z"
    }
   },
   "outputs": [],
   "source": [
    "# these are words that are available in both tx_model and ny_model\n",
    "common_words = [word for word in ny_model.wv.vocab.keys() if word in tx_model.wv.vocab.keys()]"
   ]
  },
  {
   "cell_type": "code",
   "execution_count": 29,
   "id": "compressed-maximum",
   "metadata": {
    "ExecuteTime": {
     "end_time": "2021-04-12T03:46:07.342224Z",
     "start_time": "2021-04-12T03:46:07.337148Z"
    }
   },
   "outputs": [
    {
     "data": {
      "text/plain": [
       "7822"
      ]
     },
     "execution_count": 29,
     "metadata": {},
     "output_type": "execute_result"
    }
   ],
   "source": [
    "len(common_words)"
   ]
  },
  {
   "cell_type": "code",
   "execution_count": 30,
   "id": "comfortable-carol",
   "metadata": {
    "ExecuteTime": {
     "end_time": "2021-04-12T05:02:49.830856Z",
     "start_time": "2021-04-12T05:02:49.803844Z"
    },
    "collapsed": true
   },
   "outputs": [
    {
     "data": {
      "text/plain": [
       "array([-4.43189532e-01, -3.57736737e-01,  2.92256419e-02, -4.65842456e-01,\n",
       "       -4.55699563e-01,  2.13127941e-01, -4.35562432e-01, -2.30017945e-01,\n",
       "       -2.38073066e-01, -1.30285770e-01, -4.27194275e-02,  1.96370352e-02,\n",
       "       -1.81675449e-01, -7.11368620e-01, -1.09932117e-01,  3.08783501e-01,\n",
       "        2.36191407e-01,  3.84288758e-01,  4.92314845e-02,  2.14052096e-01,\n",
       "       -5.03125668e-01, -3.61591995e-01,  5.67432880e-01,  1.01042753e-02,\n",
       "       -3.98735821e-01, -1.31534874e-01, -2.33123928e-01, -3.87776792e-01,\n",
       "       -1.26577124e-01,  4.03291792e-01,  6.67448491e-02,  9.89265144e-02,\n",
       "       -9.27431881e-02,  1.78483441e-01,  6.18473649e-01,  9.40632403e-01,\n",
       "       -2.27907434e-01,  2.45621607e-01,  5.85861981e-01, -5.04048645e-01,\n",
       "       -1.91295892e-01, -1.40505508e-01, -1.04945667e-01, -3.72069143e-02,\n",
       "       -1.47140503e-01, -3.85369837e-01, -3.51273149e-01, -6.17517419e-02,\n",
       "        6.69078112e-01,  7.42375478e-02,  5.41767776e-01,  3.92344087e-01,\n",
       "        8.37463140e-02, -2.97829986e-01,  3.27243984e-01, -7.32882261e-01,\n",
       "       -1.38010969e-02,  1.94853276e-01,  5.99502861e-01,  7.08498508e-02,\n",
       "        2.05474958e-01,  6.08242452e-02, -1.33635640e-01,  1.44135997e-01,\n",
       "       -4.52161223e-01, -7.10857213e-02,  3.87357771e-01,  6.89567566e-01,\n",
       "        3.49875629e-01, -2.24908710e-01, -4.25308824e-01,  2.25839719e-01,\n",
       "        8.53200495e-01, -4.84652966e-02,  2.84010947e-01,  7.09000975e-02,\n",
       "        1.60766259e-01, -1.54325783e-01, -1.69052362e-01, -7.16279447e-01,\n",
       "       -2.62137830e-01, -1.38168439e-01, -8.16865191e-02,  8.09802786e-02,\n",
       "        3.13551843e-01, -1.72578823e-02,  2.51623809e-01,  2.81459484e-02,\n",
       "       -4.46845293e-01,  1.18578058e-02, -1.70429811e-01,  4.19946313e-02,\n",
       "        1.51332289e-01,  5.34281656e-02,  6.92708418e-02, -7.35885441e-01,\n",
       "       -1.93211809e-01, -4.70178246e-01,  3.92538697e-01,  4.24588472e-01,\n",
       "        3.70188415e-01,  1.47791989e-02, -1.12617642e-01,  2.03427617e-02,\n",
       "       -1.15635604e-01,  7.37088561e-01, -1.72745243e-01, -1.24604411e-01,\n",
       "       -2.36155257e-01, -1.18692247e-02, -3.18671674e-01,  3.05343363e-02,\n",
       "       -5.01546919e-01,  8.09239447e-01,  1.65302843e-01,  4.48524952e-01,\n",
       "       -2.97871739e-01,  2.84881741e-01, -6.49558753e-02,  6.95437610e-01,\n",
       "       -4.29193467e-01,  2.33646572e-01,  1.20289676e-01, -3.46591711e-01,\n",
       "        3.23707871e-02, -5.09320498e-02, -1.90907031e-01, -2.00441137e-01,\n",
       "        7.37073794e-02,  2.77795911e-01,  9.99015391e-01,  6.46175146e-01,\n",
       "        2.07863808e-01, -2.53639687e-02,  5.35157800e-01, -4.25496846e-01,\n",
       "       -6.03151202e-01, -1.11842483e-01, -2.16845274e-01,  1.83010608e-01,\n",
       "        1.47470916e-02, -1.15710294e+00, -3.81444901e-01, -1.50900055e-03,\n",
       "        2.57542506e-02, -8.00920665e-01,  4.56427515e-01,  9.40795392e-02,\n",
       "        2.62176692e-01, -1.53247416e-01,  6.82757422e-02, -3.08254629e-01,\n",
       "       -4.98964727e-01,  1.28744662e-01,  5.39951205e-01, -3.24170381e-01,\n",
       "        6.46517277e-02,  6.69110894e-01, -6.70105517e-02,  2.83440471e-01,\n",
       "       -3.29463899e-01, -9.81653273e-01,  9.54480469e-03, -5.22593334e-02,\n",
       "        3.42244714e-01, -5.56711197e-01,  1.56600639e-01, -1.07336029e-01,\n",
       "       -6.51692599e-02,  6.56813800e-01, -3.20973307e-01, -7.99183547e-02,\n",
       "       -1.68279298e-02,  1.87443942e-01,  5.86174130e-01, -3.33589971e-01,\n",
       "        4.06841934e-02, -1.24838613e-01,  1.52120693e-03,  6.74639922e-03,\n",
       "        1.09430932e-01,  9.40505415e-02,  7.76603818e-01, -4.45680227e-03,\n",
       "       -1.10102075e-04,  1.18786559e-01,  1.60825476e-01,  5.47460727e-02,\n",
       "       -6.02216840e-01,  6.37053609e-01, -3.05965662e-01, -1.52916238e-01,\n",
       "       -9.01842535e-01, -1.46724284e-01,  7.11373910e-02, -1.50922418e-01,\n",
       "       -1.47288278e-01, -3.59888941e-01, -5.28472245e-01, -5.29469736e-02,\n",
       "        3.81422698e-01,  5.72665155e-01,  7.51015484e-01, -5.11252999e-01,\n",
       "        2.43820511e-02,  1.74235553e-01, -2.42790692e-02, -2.06994191e-01,\n",
       "        2.29283005e-01,  1.83264792e-01, -1.53436050e-01, -6.64533913e-01,\n",
       "       -1.77892327e-01,  4.86361235e-02,  5.68814874e-01, -9.68535990e-02,\n",
       "        1.89543769e-01,  6.94532394e-01,  3.32391888e-01,  7.99972042e-02,\n",
       "       -5.94964027e-02,  3.27819496e-01, -5.40717661e-01, -3.36125106e-01,\n",
       "       -3.79589677e-01, -5.48508286e-01, -7.64913678e-01,  3.80825520e-01,\n",
       "       -1.78198352e-01,  3.29404652e-01,  4.63205986e-02,  3.08104634e-01,\n",
       "        6.53264225e-01, -1.06411455e-02, -9.07183051e-01,  4.93362248e-02,\n",
       "       -4.08776790e-01,  9.03366685e-01,  7.03751743e-01,  3.72090966e-01,\n",
       "       -3.03179231e-02,  3.99187416e-01,  3.76189262e-01,  2.19258945e-02,\n",
       "       -2.46297438e-02, -1.06445938e-01, -1.41472191e-01,  1.89414129e-01,\n",
       "       -2.52680063e-01, -6.93331122e-01,  2.78410107e-01,  1.18075907e-01,\n",
       "       -2.88039595e-01, -5.97559512e-01, -3.53186101e-01,  7.64261466e-03,\n",
       "       -1.66368246e-01,  4.22960937e-01,  5.74758463e-02, -4.79083210e-01,\n",
       "       -5.64936221e-01,  4.32607204e-01,  2.44909376e-01, -4.92365286e-02,\n",
       "        1.59068629e-01, -4.55619246e-01,  6.19662285e-01, -4.38148081e-01,\n",
       "        1.40806824e-01,  7.75938779e-02, -2.56313592e-01, -1.86251819e-01,\n",
       "       -8.62107649e-02,  2.97565997e-01, -7.11585656e-02,  1.37714759e-01,\n",
       "        1.67086601e-01,  7.51674056e-01, -1.41316757e-01,  3.29070926e-01,\n",
       "       -2.65146405e-01, -2.72821784e-01,  1.75214365e-01, -2.40370363e-01,\n",
       "       -1.44708960e-03, -1.89625919e-01,  4.01700348e-01, -2.10735559e-01,\n",
       "        4.54867750e-01,  3.32712680e-01, -8.69897306e-01, -1.88521802e-01,\n",
       "       -2.36051902e-01, -1.51674867e-01,  3.45775187e-02, -5.06462216e-01,\n",
       "        8.09733808e-01, -3.46426964e-01,  2.82511473e-01, -3.86810213e-01],\n",
       "      dtype=float32)"
      ]
     },
     "execution_count": 30,
     "metadata": {},
     "output_type": "execute_result"
    }
   ],
   "source": [
    "# how to get vectors\n",
    "tx_model.wv.get_vector('the')"
   ]
  },
  {
   "cell_type": "code",
   "execution_count": 40,
   "id": "entire-gender",
   "metadata": {
    "ExecuteTime": {
     "end_time": "2021-04-12T05:07:02.494763Z",
     "start_time": "2021-04-12T05:07:02.490296Z"
    }
   },
   "outputs": [],
   "source": [
    "keywords = ['covid', 'gatherings', 'biden', 'trump']"
   ]
  },
  {
   "cell_type": "code",
   "execution_count": 56,
   "id": "stock-payroll",
   "metadata": {
    "ExecuteTime": {
     "end_time": "2021-04-12T05:49:52.238391Z",
     "start_time": "2021-04-12T05:48:18.778285Z"
    }
   },
   "outputs": [
    {
     "data": {
      "text/plain": [
       "{'covid': (-0.2695125, 0.0),\n",
       " 'gatherings': (-0.82634616, nan),\n",
       " 'biden': (0.30987576, 0.15865525393145707),\n",
       " 'trump': (0.05320857, 0.8413447460685429)}"
      ]
     },
     "execution_count": 56,
     "metadata": {},
     "output_type": "execute_result"
    }
   ],
   "source": [
    "weat_tables.get_weac_scores(tx_model, ny_model, keywords, common_words)"
   ]
  },
  {
   "cell_type": "code",
   "execution_count": 59,
   "id": "ordered-waters",
   "metadata": {
    "ExecuteTime": {
     "end_time": "2021-04-12T05:52:24.950819Z",
     "start_time": "2021-04-12T05:52:24.290576Z"
    }
   },
   "outputs": [
    {
     "data": {
      "text/plain": [
       "{'covid': -0.2695125,\n",
       " 'gatherings': -0.15620407,\n",
       " 'biden': 0.8273751,\n",
       " 'trump': 0.10322266}"
      ]
     },
     "execution_count": 59,
     "metadata": {},
     "output_type": "execute_result"
    }
   ],
   "source": [
    "weat_tables.get_weac_scores(tx_model, ny_model, keywords, common_words)"
   ]
  },
  {
   "cell_type": "code",
   "execution_count": 61,
   "id": "patient-exploration",
   "metadata": {
    "ExecuteTime": {
     "end_time": "2021-04-12T05:53:20.922422Z",
     "start_time": "2021-04-12T05:53:20.257569Z"
    }
   },
   "outputs": [
    {
     "data": {
      "text/plain": [
       "{'covid': -0.2695125,\n",
       " 'gatherings': -0.15620407,\n",
       " 'biden': 0.8273751,\n",
       " 'trump': 0.10322266}"
      ]
     },
     "execution_count": 61,
     "metadata": {},
     "output_type": "execute_result"
    }
   ],
   "source": [
    "weat_tables.get_weac_scores(tx_model, ny_model, keywords, common_words)"
   ]
  },
  {
   "cell_type": "code",
   "execution_count": 63,
   "id": "sporting-flooring",
   "metadata": {
    "ExecuteTime": {
     "end_time": "2021-04-12T05:55:47.621679Z",
     "start_time": "2021-04-12T05:55:37.227695Z"
    }
   },
   "outputs": [
    {
     "data": {
      "text/plain": [
       "{'covid': (-0.2695125, 4.360706351569377e-09),\n",
       " 'gatherings': (-0.82541734, 1.944000516118649e-13),\n",
       " 'biden': (0.30987576, nan),\n",
       " 'trump': (0.05320857, nan)}"
      ]
     },
     "execution_count": 63,
     "metadata": {},
     "output_type": "execute_result"
    }
   ],
   "source": [
    "weat_tables.get_weac_scores(tx_model, ny_model, keywords, common_words)"
   ]
  },
  {
   "cell_type": "code",
   "execution_count": 65,
   "id": "incomplete-regulation",
   "metadata": {
    "ExecuteTime": {
     "end_time": "2021-04-12T05:59:08.397313Z",
     "start_time": "2021-04-12T05:58:57.816876Z"
    }
   },
   "outputs": [
    {
     "data": {
      "text/plain": [
       "{'covid': [-0.2695125, 2.6122481955326293e-10],\n",
       " 'gatherings': [-0.82556057, 0.0],\n",
       " 'biden': [0.30987576, nan],\n",
       " 'trump': [0.05320857, nan]}"
      ]
     },
     "execution_count": 65,
     "metadata": {},
     "output_type": "execute_result"
    }
   ],
   "source": [
    "weat_tables.get_weac_scores(tx_model, ny_model, keywords, common_words)"
   ]
  },
  {
   "cell_type": "code",
   "execution_count": 67,
   "id": "conceptual-circular",
   "metadata": {
    "ExecuteTime": {
     "end_time": "2021-04-12T06:19:48.227364Z",
     "start_time": "2021-04-12T06:04:01.401858Z"
    }
   },
   "outputs": [
    {
     "data": {
      "text/plain": [
       "{'covid': [-0.2695125, 0.0],\n",
       " 'gatherings': [-0.82634616, 0.15865525393145707],\n",
       " 'biden': [0.30987576, 0.8413447460685429],\n",
       " 'trump': [0.05320857, 0.8413447460685429]}"
      ]
     },
     "execution_count": 67,
     "metadata": {},
     "output_type": "execute_result"
    }
   ],
   "source": [
    "#1k permutation\n",
    "weat_tables.get_weac_scores(tx_model, ny_model, keywords, common_words)"
   ]
  },
  {
   "cell_type": "code",
   "execution_count": 70,
   "id": "cooked-start",
   "metadata": {
    "ExecuteTime": {
     "end_time": "2021-04-12T06:22:59.439980Z",
     "start_time": "2021-04-12T06:21:21.619604Z"
    }
   },
   "outputs": [
    {
     "data": {
      "text/plain": [
       "{'covid': [-0.2695125, 0.0],\n",
       " 'gatherings': [-0.82634616, nan],\n",
       " 'biden': [0.30987576, 0.15865525393145707],\n",
       " 'trump': [0.05320857, 0.8413447460685429]}"
      ]
     },
     "execution_count": 70,
     "metadata": {},
     "output_type": "execute_result"
    }
   ],
   "source": [
    "# with the objects seperated out in get_weac_scores method, with 100 permutations\n",
    "weat_tables.get_weac_scores(tx_model, ny_model, keywords, common_words)"
   ]
  },
  {
   "cell_type": "code",
   "execution_count": null,
   "id": "roman-philip",
   "metadata": {},
   "outputs": [],
   "source": []
  },
  {
   "cell_type": "code",
   "execution_count": null,
   "id": "atomic-increase",
   "metadata": {},
   "outputs": [],
   "source": []
  },
  {
   "cell_type": "code",
   "execution_count": 44,
   "id": "educational-still",
   "metadata": {
    "ExecuteTime": {
     "end_time": "2021-04-12T05:24:08.512393Z",
     "start_time": "2021-04-12T05:24:08.509412Z"
    }
   },
   "outputs": [],
   "source": [
    "import numpy as np"
   ]
  },
  {
   "cell_type": "code",
   "execution_count": 47,
   "id": "radical-refrigerator",
   "metadata": {
    "ExecuteTime": {
     "end_time": "2021-04-12T05:24:25.622975Z",
     "start_time": "2021-04-12T05:24:25.611443Z"
    }
   },
   "outputs": [
    {
     "name": "stderr",
     "output_type": "stream",
     "text": [
      "<ipython-input-47-06ba9f911d4c>:2: VisibleDeprecationWarning: Creating an ndarray from ragged nested sequences (which is a list-or-tuple of lists-or-tuples-or ndarrays with different lengths or shapes) is deprecated. If you meant to do this, you must specify 'dtype=object' when creating the ndarray.\n",
      "  np.random.choice([keywords, common_words])\n"
     ]
    },
    {
     "data": {
      "text/plain": [
       "['covid', 'gatherings', 'biden', 'trump']"
      ]
     },
     "execution_count": 47,
     "metadata": {},
     "output_type": "execute_result"
    }
   ],
   "source": [
    "#p-value implementation\n",
    "np.random.choice([keywords, common_words])"
   ]
  },
  {
   "cell_type": "code",
   "execution_count": 50,
   "id": "insured-spyware",
   "metadata": {
    "ExecuteTime": {
     "end_time": "2021-04-12T05:27:27.320294Z",
     "start_time": "2021-04-12T05:27:27.309303Z"
    }
   },
   "outputs": [
    {
     "data": {
      "text/plain": [
       "array(['david', 'he’s', 'better!', ..., 'hornets', 'chaotic', 'clots'],\n",
       "      dtype='<U19')"
      ]
     },
     "execution_count": 50,
     "metadata": {},
     "output_type": "execute_result"
    }
   ],
   "source": [
    "np.array(common_words)"
   ]
  },
  {
   "cell_type": "code",
   "execution_count": null,
   "id": "labeled-yeast",
   "metadata": {},
   "outputs": [],
   "source": []
  },
  {
   "cell_type": "code",
   "execution_count": 13,
   "id": "alive-presentation",
   "metadata": {
    "ExecuteTime": {
     "end_time": "2021-04-12T03:39:59.402049Z",
     "start_time": "2021-04-12T03:39:55.157984Z"
    },
    "scrolled": true
   },
   "outputs": [],
   "source": [
    "tx_model = gensim.models.Word2Vec(tx_filtered_sentences, size=300)"
   ]
  },
  {
   "cell_type": "code",
   "execution_count": 14,
   "id": "outstanding-collins",
   "metadata": {
    "ExecuteTime": {
     "end_time": "2021-04-12T03:40:03.980159Z",
     "start_time": "2021-04-12T03:39:59.403612Z"
    }
   },
   "outputs": [],
   "source": [
    "ny_model = gensim.models.Word2Vec(ny_filtered_sentences, size=300)"
   ]
  },
  {
   "cell_type": "code",
   "execution_count": 124,
   "id": "available-distance",
   "metadata": {
    "ExecuteTime": {
     "end_time": "2021-04-06T19:56:52.415731Z",
     "start_time": "2021-04-06T19:56:51.103844Z"
    }
   },
   "outputs": [],
   "source": [
    "tx_model.wv.save_word2vec_format('../../data/us_corpus/tx_model.bin')\n",
    "ny_model.wv.save_word2vec_format('../../data/us_corpus/ny_model.bin')"
   ]
  },
  {
   "cell_type": "code",
   "execution_count": 129,
   "id": "differential-copying",
   "metadata": {
    "ExecuteTime": {
     "end_time": "2021-04-06T19:58:17.760526Z",
     "start_time": "2021-04-06T19:58:17.752823Z"
    }
   },
   "outputs": [
    {
     "name": "stderr",
     "output_type": "stream",
     "text": [
      "<ipython-input-129-4a47bcfda2fb>:1: DeprecationWarning: Call to deprecated `__getitem__` (Method will be removed in 4.0.0, use self.wv.__getitem__() instead).\n",
      "  ny_model['covid-19']\n"
     ]
    },
    {
     "data": {
      "text/plain": [
       "array([-2.2915635 ,  0.7186643 , -1.5424136 , -0.04538518, -0.24888055,\n",
       "       -0.40306202,  0.118222  ,  0.16242756, -0.5333023 ,  0.1405754 ,\n",
       "       -0.28758627,  0.30425525,  0.17389886,  0.4812034 , -0.5652642 ,\n",
       "       -0.13374685,  0.04039047, -1.0925348 ,  0.65523934,  0.574105  ,\n",
       "       -1.3769137 ,  2.074731  , -0.3665593 ,  0.4485164 ,  0.66561246,\n",
       "       -1.2455931 ,  0.41868168,  0.8937702 ,  0.21526366,  0.48193038,\n",
       "       -0.635199  ,  1.3892021 , -0.7057326 ,  0.41512582, -0.19966726,\n",
       "        0.91938317, -0.69361055,  0.2523994 ,  0.33905455, -2.5985143 ,\n",
       "        0.85690194,  0.5459583 ,  0.34257257,  0.01718077, -0.51665187,\n",
       "       -0.69949925, -0.14731999, -0.46116993,  0.58202285, -0.23700841,\n",
       "       -0.7670063 ,  0.08025296,  0.33924827, -0.45737845, -0.7951688 ,\n",
       "       -0.51602703,  0.5054371 ,  0.53024817, -0.90056646, -0.03129069,\n",
       "       -0.40291408,  0.43689084, -0.99245226,  1.1860844 , -0.8199448 ,\n",
       "       -0.35487548, -1.3389012 ,  0.98210317,  0.07150035,  1.5860786 ,\n",
       "        0.511363  ,  0.70761067,  0.4866973 , -0.5982943 , -1.1779398 ,\n",
       "       -0.13441148, -0.25346842, -1.7932875 , -1.1583469 , -1.2635113 ,\n",
       "        0.54818887,  0.30980185, -0.29598308,  0.1961261 ,  0.5030276 ,\n",
       "        0.72365814,  0.01900878, -0.6805199 ,  0.09146212, -0.5437663 ,\n",
       "       -0.8483305 ,  0.3812868 , -0.5241099 ,  0.2341274 ,  0.6320766 ,\n",
       "        0.40725365,  0.6750926 ,  0.2895199 , -2.1007154 ,  1.1250106 ],\n",
       "      dtype=float32)"
      ]
     },
     "execution_count": 129,
     "metadata": {},
     "output_type": "execute_result"
    }
   ],
   "source": [
    "ny_model['covid-19']"
   ]
  },
  {
   "cell_type": "code",
   "execution_count": 126,
   "id": "original-welsh",
   "metadata": {
    "ExecuteTime": {
     "end_time": "2021-04-06T19:57:09.285144Z",
     "start_time": "2021-04-06T19:57:09.280107Z"
    }
   },
   "outputs": [
    {
     "data": {
      "text/plain": [
       "9993"
      ]
     },
     "execution_count": 126,
     "metadata": {},
     "output_type": "execute_result"
    }
   ],
   "source": [
    "len(tx_model.wv.vocab)"
   ]
  },
  {
   "cell_type": "code",
   "execution_count": 127,
   "id": "sonic-hammer",
   "metadata": {
    "ExecuteTime": {
     "end_time": "2021-04-06T19:57:18.906507Z",
     "start_time": "2021-04-06T19:57:18.901218Z"
    }
   },
   "outputs": [
    {
     "data": {
      "text/plain": [
       "10661"
      ]
     },
     "execution_count": 127,
     "metadata": {},
     "output_type": "execute_result"
    }
   ],
   "source": [
    "len(ny_model.wv.vocab)"
   ]
  },
  {
   "cell_type": "markdown",
   "id": "extreme-engineer",
   "metadata": {},
   "source": [
    "Running WEAT tests on these two sets of embeddings"
   ]
  },
  {
   "cell_type": "code",
   "execution_count": 143,
   "id": "endangered-navigator",
   "metadata": {
    "ExecuteTime": {
     "end_time": "2021-04-06T20:37:28.275113Z",
     "start_time": "2021-04-06T20:37:10.063411Z"
    }
   },
   "outputs": [
    {
     "name": "stdout",
     "output_type": "stream",
     "text": [
      "Reading files...\n",
      "\n",
      "Finished.\n"
     ]
    }
   ],
   "source": [
    "df_tx = weat_tables.output_table(model=tx_model,\n",
    "                                filepath = '../../targets_attributes_data/covid related/covid pleasant unpleasant.csv',\n",
    "                                algorithm = 'wefat')"
   ]
  },
  {
   "cell_type": "code",
   "execution_count": 144,
   "id": "competent-preference",
   "metadata": {
    "ExecuteTime": {
     "end_time": "2021-04-06T20:37:46.135414Z",
     "start_time": "2021-04-06T20:37:28.277648Z"
    }
   },
   "outputs": [
    {
     "name": "stdout",
     "output_type": "stream",
     "text": [
      "Reading files...\n",
      "\n",
      "Finished.\n"
     ]
    }
   ],
   "source": [
    "df_ny = weat_tables.output_table(model=ny_model,\n",
    "                                filepath = '../../targets_attributes_data/covid related/covid pleasant unpleasant.csv',\n",
    "                                algorithm = 'wefat')"
   ]
  },
  {
   "cell_type": "code",
   "execution_count": 145,
   "id": "abroad-narrow",
   "metadata": {
    "ExecuteTime": {
     "end_time": "2021-04-06T20:37:46.150637Z",
     "start_time": "2021-04-06T20:37:46.138660Z"
    }
   },
   "outputs": [
    {
     "data": {
      "text/html": [
       "<div>\n",
       "<style scoped>\n",
       "    .dataframe tbody tr th:only-of-type {\n",
       "        vertical-align: middle;\n",
       "    }\n",
       "\n",
       "    .dataframe tbody tr th {\n",
       "        vertical-align: top;\n",
       "    }\n",
       "\n",
       "    .dataframe thead th {\n",
       "        text-align: right;\n",
       "    }\n",
       "</style>\n",
       "<table border=\"1\" class=\"dataframe\">\n",
       "  <thead>\n",
       "    <tr style=\"text-align: right;\">\n",
       "      <th></th>\n",
       "      <th>Target</th>\n",
       "      <th>Effect Size</th>\n",
       "      <th>P-Value</th>\n",
       "    </tr>\n",
       "  </thead>\n",
       "  <tbody>\n",
       "    <tr>\n",
       "      <th>0</th>\n",
       "      <td>gatherings</td>\n",
       "      <td>-0.20</td>\n",
       "      <td>0.658578</td>\n",
       "    </tr>\n",
       "    <tr>\n",
       "      <th>1</th>\n",
       "      <td>mask</td>\n",
       "      <td>0.74</td>\n",
       "      <td>0.071157</td>\n",
       "    </tr>\n",
       "    <tr>\n",
       "      <th>2</th>\n",
       "      <td>distancing</td>\n",
       "      <td>-0.11</td>\n",
       "      <td>0.585854</td>\n",
       "    </tr>\n",
       "    <tr>\n",
       "      <th>3</th>\n",
       "      <td>restrictions</td>\n",
       "      <td>-0.34</td>\n",
       "      <td>0.752556</td>\n",
       "    </tr>\n",
       "    <tr>\n",
       "      <th>4</th>\n",
       "      <td>quarantine</td>\n",
       "      <td>0.14</td>\n",
       "      <td>0.400020</td>\n",
       "    </tr>\n",
       "    <tr>\n",
       "      <th>5</th>\n",
       "      <td>parties</td>\n",
       "      <td>-0.23</td>\n",
       "      <td>0.680815</td>\n",
       "    </tr>\n",
       "    <tr>\n",
       "      <th>6</th>\n",
       "      <td>covid</td>\n",
       "      <td>-0.59</td>\n",
       "      <td>0.880100</td>\n",
       "    </tr>\n",
       "    <tr>\n",
       "      <th>7</th>\n",
       "      <td>vaccine</td>\n",
       "      <td>-0.95</td>\n",
       "      <td>0.970741</td>\n",
       "    </tr>\n",
       "    <tr>\n",
       "      <th>8</th>\n",
       "      <td>indoors</td>\n",
       "      <td>0.40</td>\n",
       "      <td>0.220365</td>\n",
       "    </tr>\n",
       "  </tbody>\n",
       "</table>\n",
       "</div>"
      ],
      "text/plain": [
       "         Target  Effect Size   P-Value\n",
       "0    gatherings        -0.20  0.658578\n",
       "1          mask         0.74  0.071157\n",
       "2    distancing        -0.11  0.585854\n",
       "3  restrictions        -0.34  0.752556\n",
       "4    quarantine         0.14  0.400020\n",
       "5       parties        -0.23  0.680815\n",
       "6         covid        -0.59  0.880100\n",
       "7       vaccine        -0.95  0.970741\n",
       "8       indoors         0.40  0.220365"
      ]
     },
     "execution_count": 145,
     "metadata": {},
     "output_type": "execute_result"
    }
   ],
   "source": [
    "df_tx"
   ]
  },
  {
   "cell_type": "code",
   "execution_count": 146,
   "id": "loved-johns",
   "metadata": {
    "ExecuteTime": {
     "end_time": "2021-04-06T20:37:46.159566Z",
     "start_time": "2021-04-06T20:37:46.152711Z"
    }
   },
   "outputs": [
    {
     "data": {
      "text/html": [
       "<div>\n",
       "<style scoped>\n",
       "    .dataframe tbody tr th:only-of-type {\n",
       "        vertical-align: middle;\n",
       "    }\n",
       "\n",
       "    .dataframe tbody tr th {\n",
       "        vertical-align: top;\n",
       "    }\n",
       "\n",
       "    .dataframe thead th {\n",
       "        text-align: right;\n",
       "    }\n",
       "</style>\n",
       "<table border=\"1\" class=\"dataframe\">\n",
       "  <thead>\n",
       "    <tr style=\"text-align: right;\">\n",
       "      <th></th>\n",
       "      <th>Target</th>\n",
       "      <th>Effect Size</th>\n",
       "      <th>P-Value</th>\n",
       "    </tr>\n",
       "  </thead>\n",
       "  <tbody>\n",
       "    <tr>\n",
       "      <th>0</th>\n",
       "      <td>gatherings</td>\n",
       "      <td>-0.38</td>\n",
       "      <td>0.772922</td>\n",
       "    </tr>\n",
       "    <tr>\n",
       "      <th>1</th>\n",
       "      <td>mask</td>\n",
       "      <td>0.62</td>\n",
       "      <td>0.109307</td>\n",
       "    </tr>\n",
       "    <tr>\n",
       "      <th>2</th>\n",
       "      <td>distancing</td>\n",
       "      <td>0.00</td>\n",
       "      <td>0.498338</td>\n",
       "    </tr>\n",
       "    <tr>\n",
       "      <th>3</th>\n",
       "      <td>restrictions</td>\n",
       "      <td>-0.56</td>\n",
       "      <td>0.864817</td>\n",
       "    </tr>\n",
       "    <tr>\n",
       "      <th>4</th>\n",
       "      <td>quarantine</td>\n",
       "      <td>0.12</td>\n",
       "      <td>0.405224</td>\n",
       "    </tr>\n",
       "    <tr>\n",
       "      <th>5</th>\n",
       "      <td>parties</td>\n",
       "      <td>-0.65</td>\n",
       "      <td>0.906243</td>\n",
       "    </tr>\n",
       "    <tr>\n",
       "      <th>6</th>\n",
       "      <td>covid</td>\n",
       "      <td>-0.84</td>\n",
       "      <td>0.954958</td>\n",
       "    </tr>\n",
       "    <tr>\n",
       "      <th>7</th>\n",
       "      <td>vaccine</td>\n",
       "      <td>-1.22</td>\n",
       "      <td>0.992580</td>\n",
       "    </tr>\n",
       "    <tr>\n",
       "      <th>8</th>\n",
       "      <td>indoors</td>\n",
       "      <td>-0.25</td>\n",
       "      <td>0.694034</td>\n",
       "    </tr>\n",
       "  </tbody>\n",
       "</table>\n",
       "</div>"
      ],
      "text/plain": [
       "         Target  Effect Size   P-Value\n",
       "0    gatherings        -0.38  0.772922\n",
       "1          mask         0.62  0.109307\n",
       "2    distancing         0.00  0.498338\n",
       "3  restrictions        -0.56  0.864817\n",
       "4    quarantine         0.12  0.405224\n",
       "5       parties        -0.65  0.906243\n",
       "6         covid        -0.84  0.954958\n",
       "7       vaccine        -1.22  0.992580\n",
       "8       indoors        -0.25  0.694034"
      ]
     },
     "execution_count": 146,
     "metadata": {},
     "output_type": "execute_result"
    }
   ],
   "source": [
    "df_ny"
   ]
  },
  {
   "cell_type": "code",
   "execution_count": null,
   "id": "african-steal",
   "metadata": {},
   "outputs": [],
   "source": []
  }
 ],
 "metadata": {
  "kernelspec": {
   "display_name": "Python 3",
   "language": "python",
   "name": "python3"
  },
  "language_info": {
   "codemirror_mode": {
    "name": "ipython",
    "version": 3
   },
   "file_extension": ".py",
   "mimetype": "text/x-python",
   "name": "python",
   "nbconvert_exporter": "python",
   "pygments_lexer": "ipython3",
   "version": "3.9.2"
  }
 },
 "nbformat": 4,
 "nbformat_minor": 5
}

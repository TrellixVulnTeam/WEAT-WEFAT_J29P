{
 "cells": [
  {
   "cell_type": "markdown",
   "metadata": {},
   "source": [
    "## Import Modules"
   ]
  },
  {
   "cell_type": "code",
   "execution_count": 1,
   "metadata": {
    "ExecuteTime": {
     "end_time": "2021-03-02T02:29:06.907296Z",
     "start_time": "2021-03-02T02:29:06.887525Z"
    }
   },
   "outputs": [
    {
     "output_type": "execute_result",
     "data": {
      "text/plain": [
       "<module 'weat_wefat.src.lib.weat_tables' from '/Users/adimaini/Documents/GW/Research/CODE.nosync/weat_wefat/src/lib/weat_tables.py'>"
      ]
     },
     "metadata": {},
     "execution_count": 1
    }
   ],
   "source": [
    "import os\n",
    "import sys\n",
    "module_path = os.path.abspath(os.path.join('../../..'))\n",
    "if module_path not in sys.path:\n",
    "    sys.path.append(module_path)\n",
    "\n",
    "import pandas as pd\n",
    "import numpy as np \n",
    "from gensim import models\n",
    "from weat_wefat.src.lib import weat\n",
    "from weat_wefat.src.lib import weat_tables\n",
    "import os\n",
    "import scipy\n",
    "import matplotlib.pyplot as plt\n",
    "import importlib\n",
    "from scipy import stats\n",
    "import seaborn as sns\n",
    "import fasttext\n",
    "import fasttext.util\n",
    "import glob\n",
    "importlib.reload(weat_tables)"
   ]
  },
  {
   "cell_type": "markdown",
   "metadata": {},
   "source": [
    "## Load Glove Model"
   ]
  },
  {
   "cell_type": "code",
   "execution_count": 17,
   "metadata": {
    "ExecuteTime": {
     "end_time": "2021-01-26T04:32:12.739496Z",
     "start_time": "2021-01-26T04:32:12.728808Z"
    }
   },
   "outputs": [],
   "source": [
    "# import and load glove model\n",
    "def loadGloveModel(file):\n",
    "    print(\"Loading glove model...\")\n",
    "    f = open(file,'r', encoding='utf-8')\n",
    "    gloveModel = {}\n",
    "    for line in f:\n",
    "        splitLines = line.split(' ')\n",
    "        word = splitLines[0]\n",
    "        wordEmbedding = np.array([float(value) for value in splitLines[1:]])\n",
    "        gloveModel[word] = wordEmbedding\n",
    "    print(len(gloveModel),\" words loaded!\")\n",
    "    return gloveModel"
   ]
  },
  {
   "cell_type": "code",
   "execution_count": 18,
   "metadata": {
    "ExecuteTime": {
     "end_time": "2021-01-26T04:35:20.881328Z",
     "start_time": "2021-01-26T04:32:12.930731Z"
    }
   },
   "outputs": [
    {
     "name": "stdout",
     "output_type": "stream",
     "text": [
      "Loading glove model...\n",
      "2196017  words loaded!\n"
     ]
    }
   ],
   "source": [
    "# load Glove model\n",
    "glove = loadGloveModel('data/glove.840B.300d.txt')"
   ]
  },
  {
   "cell_type": "markdown",
   "metadata": {
    "ExecuteTime": {
     "end_time": "2021-01-26T04:05:41.647596Z",
     "start_time": "2021-01-26T04:05:41.630143Z"
    }
   },
   "source": [
    "## Load fastText model"
   ]
  },
  {
   "cell_type": "code",
   "execution_count": 7,
   "metadata": {
    "ExecuteTime": {
     "end_time": "2021-02-28T17:34:20.725233Z",
     "start_time": "2021-02-28T17:34:20.722779Z"
    }
   },
   "outputs": [],
   "source": [
    "def load_fasttext(model): \n",
    "    \n",
    "    model_path = 'data/' + model\n",
    "    ft = fasttext.load_model(model_path)\n",
    "    return ft"
   ]
  },
  {
   "cell_type": "code",
   "execution_count": 8,
   "metadata": {
    "ExecuteTime": {
     "end_time": "2021-02-28T17:34:29.491118Z",
     "start_time": "2021-02-28T17:34:23.193647Z"
    }
   },
   "outputs": [],
   "source": [
    "ft = load_fasttext('cc.ht.300.bin')"
   ]
  },
  {
   "cell_type": "markdown",
   "metadata": {},
   "source": [
    "### Evaluate corpus bins for their sizes "
   ]
  },
  {
   "cell_type": "code",
   "execution_count": 98,
   "metadata": {
    "ExecuteTime": {
     "end_time": "2021-02-16T19:47:31.311903Z",
     "start_time": "2021-02-16T19:47:31.301076Z"
    }
   },
   "outputs": [],
   "source": [
    "def corpus_bins(): \n",
    "    '''Runs the OpenSubtitle 2018 corpus bins for the gender weat tests'''\n",
    "    \n",
    "    bins = [f for f in os.listdir('data/OpenTitle') if f.endswith('.bin')]\n",
    "\n",
    "    df = pd.DataFrame()\n",
    "    for corpus in bins: \n",
    "        test_df = output_table(model = load_fasttext('/OpenTitle/' + corpus), \n",
    "                       algorithm = 'weat', \n",
    "                       directory = 'targets_attributes_data/gender weat/')\n",
    "        test_df['corpus'] = corpus\n",
    "        df = pd.concat([df, test_df], axis=0)\n",
    "    \n",
    "    df.corpus = df.corpus.replace('001pct_embeddings-003.bin', 0.001)\n",
    "    df.corpus = df.corpus.replace('01pct_embeddings-006.bin', 0.01)\n",
    "    df.corpus = df.corpus.replace('1pct_embeddings-002.bin', 1)\n",
    "    df.corpus = df.corpus.replace('10pct_embeddings-005.bin', 10)\n",
    "    df.corpus = df.corpus.replace('50pct_embeddings-004.bin', 50)\n",
    "    \n",
    "    return df"
   ]
  },
  {
   "cell_type": "code",
   "execution_count": 71,
   "metadata": {
    "ExecuteTime": {
     "end_time": "2021-02-16T18:35:52.945115Z",
     "start_time": "2021-02-16T18:27:07.187434Z"
    },
    "collapsed": true
   },
   "outputs": [
    {
     "name": "stdout",
     "output_type": "stream",
     "text": [
      "Reading files...\n",
      "\n",
      "targets_attributes_data/gender weat/male vs female names.csv\n",
      "targets_attributes_data/gender weat/science vs arts.csv\n",
      "targets_attributes_data/gender weat/math vs arts.csv\n",
      "Finished.\n",
      "Reading files...\n",
      "\n",
      "targets_attributes_data/gender weat/male vs female names.csv\n",
      "targets_attributes_data/gender weat/science vs arts.csv\n",
      "targets_attributes_data/gender weat/math vs arts.csv\n",
      "Finished.\n",
      "Reading files...\n",
      "\n",
      "targets_attributes_data/gender weat/male vs female names.csv\n",
      "targets_attributes_data/gender weat/science vs arts.csv\n",
      "targets_attributes_data/gender weat/math vs arts.csv\n",
      "Finished.\n",
      "Reading files...\n",
      "\n",
      "targets_attributes_data/gender weat/male vs female names.csv\n",
      "targets_attributes_data/gender weat/science vs arts.csv\n",
      "targets_attributes_data/gender weat/math vs arts.csv\n",
      "Finished.\n",
      "Reading files...\n",
      "\n",
      "targets_attributes_data/gender weat/male vs female names.csv\n",
      "targets_attributes_data/gender weat/science vs arts.csv\n",
      "targets_attributes_data/gender weat/math vs arts.csv\n",
      "Finished.\n"
     ]
    }
   ],
   "source": [
    "df = corpus_bins()"
   ]
  },
  {
   "cell_type": "code",
   "execution_count": 92,
   "metadata": {
    "ExecuteTime": {
     "end_time": "2021-02-16T19:41:25.237406Z",
     "start_time": "2021-02-16T19:41:25.229948Z"
    }
   },
   "outputs": [],
   "source": [
    "# reading in the .csv that was exported in the above cells with the 'corpus_bins'\n",
    "df = pd.read_csv('data/OpenSubtitles_gender_tests.csv', index_col=False)"
   ]
  },
  {
   "cell_type": "code",
   "execution_count": 96,
   "metadata": {
    "ExecuteTime": {
     "end_time": "2021-02-16T19:41:52.352616Z",
     "start_time": "2021-02-16T19:41:52.324051Z"
    }
   },
   "outputs": [
    {
     "data": {
      "text/html": [
       "<div>\n",
       "<style scoped>\n",
       "    .dataframe tbody tr th:only-of-type {\n",
       "        vertical-align: middle;\n",
       "    }\n",
       "\n",
       "    .dataframe tbody tr th {\n",
       "        vertical-align: top;\n",
       "    }\n",
       "\n",
       "    .dataframe thead th {\n",
       "        text-align: right;\n",
       "    }\n",
       "</style>\n",
       "<table border=\"1\" class=\"dataframe\">\n",
       "  <thead>\n",
       "    <tr style=\"text-align: right;\">\n",
       "      <th></th>\n",
       "      <th>Targets</th>\n",
       "      <th>Attributes</th>\n",
       "      <th>Effect Size</th>\n",
       "      <th>P-Value</th>\n",
       "      <th>corpus</th>\n",
       "    </tr>\n",
       "  </thead>\n",
       "  <tbody>\n",
       "    <tr>\n",
       "      <th>9</th>\n",
       "      <td>['Male names', 'Female names']</td>\n",
       "      <td>['Career', 'Family']</td>\n",
       "      <td>-0.115712</td>\n",
       "      <td>0.588382</td>\n",
       "      <td>0.001</td>\n",
       "    </tr>\n",
       "    <tr>\n",
       "      <th>12</th>\n",
       "      <td>['Male names', 'Female names']</td>\n",
       "      <td>['Career', 'Family']</td>\n",
       "      <td>0.582209</td>\n",
       "      <td>0.126697</td>\n",
       "      <td>0.010</td>\n",
       "    </tr>\n",
       "    <tr>\n",
       "      <th>3</th>\n",
       "      <td>['Male names', 'Female names']</td>\n",
       "      <td>['Career', 'Family']</td>\n",
       "      <td>1.521258</td>\n",
       "      <td>0.001008</td>\n",
       "      <td>1.000</td>\n",
       "    </tr>\n",
       "    <tr>\n",
       "      <th>0</th>\n",
       "      <td>['Male names', 'Female names']</td>\n",
       "      <td>['Career', 'Family']</td>\n",
       "      <td>1.358275</td>\n",
       "      <td>0.003356</td>\n",
       "      <td>10.000</td>\n",
       "    </tr>\n",
       "    <tr>\n",
       "      <th>6</th>\n",
       "      <td>['Male names', 'Female names']</td>\n",
       "      <td>['Career', 'Family']</td>\n",
       "      <td>1.540280</td>\n",
       "      <td>0.000930</td>\n",
       "      <td>50.000</td>\n",
       "    </tr>\n",
       "    <tr>\n",
       "      <th>11</th>\n",
       "      <td>['Math', 'Arts']</td>\n",
       "      <td>['Male terms', 'Female terms']</td>\n",
       "      <td>-0.560788</td>\n",
       "      <td>0.870804</td>\n",
       "      <td>0.001</td>\n",
       "    </tr>\n",
       "    <tr>\n",
       "      <th>14</th>\n",
       "      <td>['Math', 'Arts']</td>\n",
       "      <td>['Male terms', 'Female terms']</td>\n",
       "      <td>-0.440599</td>\n",
       "      <td>0.811011</td>\n",
       "      <td>0.010</td>\n",
       "    </tr>\n",
       "    <tr>\n",
       "      <th>5</th>\n",
       "      <td>['Math', 'Arts']</td>\n",
       "      <td>['Male terms', 'Female terms']</td>\n",
       "      <td>-0.125233</td>\n",
       "      <td>0.599607</td>\n",
       "      <td>1.000</td>\n",
       "    </tr>\n",
       "    <tr>\n",
       "      <th>2</th>\n",
       "      <td>['Math', 'Arts']</td>\n",
       "      <td>['Male terms', 'Female terms']</td>\n",
       "      <td>1.109598</td>\n",
       "      <td>0.013622</td>\n",
       "      <td>10.000</td>\n",
       "    </tr>\n",
       "    <tr>\n",
       "      <th>8</th>\n",
       "      <td>['Math', 'Arts']</td>\n",
       "      <td>['Male terms', 'Female terms']</td>\n",
       "      <td>1.214212</td>\n",
       "      <td>0.008197</td>\n",
       "      <td>50.000</td>\n",
       "    </tr>\n",
       "    <tr>\n",
       "      <th>10</th>\n",
       "      <td>['Science', 'Arts']</td>\n",
       "      <td>['Male terms', 'Female terms']</td>\n",
       "      <td>0.373724</td>\n",
       "      <td>0.226573</td>\n",
       "      <td>0.001</td>\n",
       "    </tr>\n",
       "    <tr>\n",
       "      <th>13</th>\n",
       "      <td>['Science', 'Arts']</td>\n",
       "      <td>['Male terms', 'Female terms']</td>\n",
       "      <td>0.341211</td>\n",
       "      <td>0.240391</td>\n",
       "      <td>0.010</td>\n",
       "    </tr>\n",
       "    <tr>\n",
       "      <th>4</th>\n",
       "      <td>['Science', 'Arts']</td>\n",
       "      <td>['Male terms', 'Female terms']</td>\n",
       "      <td>-0.251533</td>\n",
       "      <td>0.683880</td>\n",
       "      <td>1.000</td>\n",
       "    </tr>\n",
       "    <tr>\n",
       "      <th>1</th>\n",
       "      <td>['Science', 'Arts']</td>\n",
       "      <td>['Male terms', 'Female terms']</td>\n",
       "      <td>0.661281</td>\n",
       "      <td>0.093651</td>\n",
       "      <td>10.000</td>\n",
       "    </tr>\n",
       "    <tr>\n",
       "      <th>7</th>\n",
       "      <td>['Science', 'Arts']</td>\n",
       "      <td>['Male terms', 'Female terms']</td>\n",
       "      <td>0.990691</td>\n",
       "      <td>0.023703</td>\n",
       "      <td>50.000</td>\n",
       "    </tr>\n",
       "  </tbody>\n",
       "</table>\n",
       "</div>"
      ],
      "text/plain": [
       "                           Targets                      Attributes  \\\n",
       "9   ['Male names', 'Female names']            ['Career', 'Family']   \n",
       "12  ['Male names', 'Female names']            ['Career', 'Family']   \n",
       "3   ['Male names', 'Female names']            ['Career', 'Family']   \n",
       "0   ['Male names', 'Female names']            ['Career', 'Family']   \n",
       "6   ['Male names', 'Female names']            ['Career', 'Family']   \n",
       "11                ['Math', 'Arts']  ['Male terms', 'Female terms']   \n",
       "14                ['Math', 'Arts']  ['Male terms', 'Female terms']   \n",
       "5                 ['Math', 'Arts']  ['Male terms', 'Female terms']   \n",
       "2                 ['Math', 'Arts']  ['Male terms', 'Female terms']   \n",
       "8                 ['Math', 'Arts']  ['Male terms', 'Female terms']   \n",
       "10             ['Science', 'Arts']  ['Male terms', 'Female terms']   \n",
       "13             ['Science', 'Arts']  ['Male terms', 'Female terms']   \n",
       "4              ['Science', 'Arts']  ['Male terms', 'Female terms']   \n",
       "1              ['Science', 'Arts']  ['Male terms', 'Female terms']   \n",
       "7              ['Science', 'Arts']  ['Male terms', 'Female terms']   \n",
       "\n",
       "    Effect Size   P-Value  corpus  \n",
       "9     -0.115712  0.588382   0.001  \n",
       "12     0.582209  0.126697   0.010  \n",
       "3      1.521258  0.001008   1.000  \n",
       "0      1.358275  0.003356  10.000  \n",
       "6      1.540280  0.000930  50.000  \n",
       "11    -0.560788  0.870804   0.001  \n",
       "14    -0.440599  0.811011   0.010  \n",
       "5     -0.125233  0.599607   1.000  \n",
       "2      1.109598  0.013622  10.000  \n",
       "8      1.214212  0.008197  50.000  \n",
       "10     0.373724  0.226573   0.001  \n",
       "13     0.341211  0.240391   0.010  \n",
       "4     -0.251533  0.683880   1.000  \n",
       "1      0.661281  0.093651  10.000  \n",
       "7      0.990691  0.023703  50.000  "
      ]
     },
     "execution_count": 96,
     "metadata": {},
     "output_type": "execute_result"
    }
   ],
   "source": [
    "df.sort_values(by=['Targets', 'corpus'])"
   ]
  },
  {
   "cell_type": "markdown",
   "metadata": {},
   "source": [
    "### Gender weats on word embeddings"
   ]
  },
  {
   "cell_type": "code",
   "execution_count": 73,
   "metadata": {
    "ExecuteTime": {
     "end_time": "2021-02-16T18:35:52.995218Z",
     "start_time": "2021-02-16T18:35:52.987648Z"
    }
   },
   "outputs": [],
   "source": [
    "def gender_hat(): \n",
    "    '''Runs the gender weat tests using fasttext haitian creole word embeddings'''\n",
    "    GENDER_DIR = 'targets_attributes_data/haitian-creole/gender weat/'\n",
    "    df = output_table(model = load_fasttext('cc.ht.300.bin'),\n",
    "                      algorithm = 'weat', \n",
    "                      directory = GENDER_DIR)\n",
    "    return df"
   ]
  },
  {
   "cell_type": "code",
   "execution_count": 97,
   "metadata": {
    "ExecuteTime": {
     "end_time": "2021-02-16T19:47:31.297215Z",
     "start_time": "2021-02-16T19:46:13.704097Z"
    },
    "scrolled": true
   },
   "outputs": [
    {
     "name": "stdout",
     "output_type": "stream",
     "text": [
      "Reading files...\n",
      "\n",
      "targets_attributes_data/haitian-creole/gender weat/science vs arts.csv\n",
      "targets_attributes_data/haitian-creole/gender weat/math vs arts.csv\n",
      "Finished.\n"
     ]
    }
   ],
   "source": [
    "df = gender_hat()"
   ]
  },
  {
   "cell_type": "markdown",
   "metadata": {},
   "source": [
    "### run the good/bad words testing for what is considered good and bad with pre-trained word embeddings"
   ]
  },
  {
   "cell_type": "code",
   "execution_count": 9,
   "metadata": {
    "ExecuteTime": {
     "end_time": "2021-02-28T17:37:22.868555Z",
     "start_time": "2021-02-28T17:34:34.268501Z"
    }
   },
   "outputs": [
    {
     "name": "stdout",
     "output_type": "stream",
     "text": [
      "Reading files...\n",
      "\n",
      "Finished.\n"
     ]
    }
   ],
   "source": [
    "df_good_bad = weat_tables.output_table(model=ft,\n",
    "                                filepath = '/Users/adimaini/Documents/GW/Research/CODE.nosync/WEAT-WEFAT/targets_attributes_data/haitian-creole/wefat sanitation disease etc.csv',\n",
    "                                algorithm = 'wefat')"
   ]
  },
  {
   "cell_type": "code",
   "execution_count": 27,
   "metadata": {
    "ExecuteTime": {
     "end_time": "2021-02-25T19:44:36.849452Z",
     "start_time": "2021-02-25T19:44:36.845872Z"
    }
   },
   "outputs": [],
   "source": [
    "df_good_bad_cp = df_good_bad.copy()"
   ]
  },
  {
   "cell_type": "code",
   "execution_count": 30,
   "metadata": {
    "ExecuteTime": {
     "end_time": "2021-02-25T19:48:14.121402Z",
     "start_time": "2021-02-25T19:48:14.088341Z"
    }
   },
   "outputs": [],
   "source": [
    "english_words = ['sanitation', 'clean',  'toilet', 'hands', 'water', 'hygiene', 'covid', 'vaccine',  \n",
    "                 'water', 'cholera', 'diarrhea', 'fever', 'typhoid', 'garbage', 'osmosis', 'filter', \n",
    "                 'bottled', 'wells', 'fresh', 'pump', 'springs', 'latrine', 'DINEPA', 'CAEPA', 'maintenance', \n",
    "                 'treatment', 'fecal', 'sludge', 'dirty', 'malaria', 'feces']\n",
    "df_good_bad_cp['English Words'] = english_words\n",
    "df_good_bad_cp.rename(columns={'Target': 'Haitian Word'}, inplace=True)\n",
    "new_order = ['English Words', 'Haitian Word', 'Effect Size', 'P-Value']\n",
    "df_good_bad_cp[new_order].to_csv('data/good_bad_weat.csv')"
   ]
  },
  {
   "cell_type": "code",
   "execution_count": null,
   "metadata": {},
   "outputs": [],
   "source": []
  },
  {
   "cell_type": "code",
   "execution_count": 6,
   "metadata": {
    "ExecuteTime": {
     "end_time": "2021-02-08T00:38:18.231885Z",
     "start_time": "2021-02-08T00:38:18.080602Z"
    }
   },
   "outputs": [
    {
     "ename": "NameError",
     "evalue": "name 'ft' is not defined",
     "output_type": "error",
     "traceback": [
      "\u001b[0;31m---------------------------------------------------------------------------\u001b[0m",
      "\u001b[0;31mNameError\u001b[0m                                 Traceback (most recent call last)",
      "\u001b[0;32m<ipython-input-6-e71eee822d8a>\u001b[0m in \u001b[0;36m<module>\u001b[0;34m\u001b[0m\n\u001b[1;32m      1\u001b[0m \u001b[0;31m# haitian-creole weat test - flowers vs insects\u001b[0m\u001b[0;34m\u001b[0m\u001b[0;34m\u001b[0m\u001b[0;34m\u001b[0m\u001b[0m\n\u001b[0;32m----> 2\u001b[0;31m \u001b[0mdf_haitian\u001b[0m \u001b[0;34m=\u001b[0m \u001b[0moutput_table\u001b[0m\u001b[0;34m(\u001b[0m\u001b[0mmodel\u001b[0m\u001b[0;34m=\u001b[0m\u001b[0mft\u001b[0m\u001b[0;34m,\u001b[0m \u001b[0mdirectory\u001b[0m\u001b[0;34m=\u001b[0m\u001b[0;34m'targets_attributes_data/haitian-creole/'\u001b[0m\u001b[0;34m,\u001b[0m \u001b[0malgorithm\u001b[0m\u001b[0;34m=\u001b[0m\u001b[0;34m'weat'\u001b[0m\u001b[0;34m)\u001b[0m\u001b[0;34m\u001b[0m\u001b[0;34m\u001b[0m\u001b[0m\n\u001b[0m",
      "\u001b[0;31mNameError\u001b[0m: name 'ft' is not defined"
     ]
    }
   ],
   "source": [
    "# haitian-creole weat test - flowers vs insects\n",
    "df_haitian = output_table(model=ft, directory='targets_attributes_data/haitian-creole/', algorithm='weat')"
   ]
  },
  {
   "cell_type": "code",
   "execution_count": 145,
   "metadata": {
    "ExecuteTime": {
     "end_time": "2021-02-03T07:19:58.080070Z",
     "start_time": "2021-02-03T07:18:42.171574Z"
    }
   },
   "outputs": [
    {
     "name": "stdout",
     "output_type": "stream",
     "text": [
      "Reading files...\n",
      "\n",
      "Finished.\n"
     ]
    }
   ],
   "source": [
    "df_haitian_wefat = output_table(model=ft,\n",
    "                                filepath = '/Users/adimaini/Documents/GW/Research/CODE/WEAT-WEFAT/targets_attributes_data/haitian-creole/sanitation disease wefat.csv',\n",
    "                                algorithm = 'wefat')"
   ]
  },
  {
   "cell_type": "code",
   "execution_count": 146,
   "metadata": {
    "ExecuteTime": {
     "end_time": "2021-02-03T07:19:58.090528Z",
     "start_time": "2021-02-03T07:19:58.082221Z"
    }
   },
   "outputs": [
    {
     "data": {
      "text/html": [
       "<div>\n",
       "<style scoped>\n",
       "    .dataframe tbody tr th:only-of-type {\n",
       "        vertical-align: middle;\n",
       "    }\n",
       "\n",
       "    .dataframe tbody tr th {\n",
       "        vertical-align: top;\n",
       "    }\n",
       "\n",
       "    .dataframe thead th {\n",
       "        text-align: right;\n",
       "    }\n",
       "</style>\n",
       "<table border=\"1\" class=\"dataframe\">\n",
       "  <thead>\n",
       "    <tr style=\"text-align: right;\">\n",
       "      <th></th>\n",
       "      <th>Target</th>\n",
       "      <th>Effect Size</th>\n",
       "      <th>P-Value</th>\n",
       "    </tr>\n",
       "  </thead>\n",
       "  <tbody>\n",
       "    <tr>\n",
       "      <th>0</th>\n",
       "      <td>sanitasyon</td>\n",
       "      <td>0.08</td>\n",
       "      <td>0.395601</td>\n",
       "    </tr>\n",
       "    <tr>\n",
       "      <th>1</th>\n",
       "      <td>ijyèn</td>\n",
       "      <td>-0.04</td>\n",
       "      <td>0.557786</td>\n",
       "    </tr>\n",
       "    <tr>\n",
       "      <th>2</th>\n",
       "      <td>flòch</td>\n",
       "      <td>0.35</td>\n",
       "      <td>0.110377</td>\n",
       "    </tr>\n",
       "    <tr>\n",
       "      <th>3</th>\n",
       "      <td>pwòp</td>\n",
       "      <td>0.27</td>\n",
       "      <td>0.171211</td>\n",
       "    </tr>\n",
       "    <tr>\n",
       "      <th>4</th>\n",
       "      <td>filtre</td>\n",
       "      <td>-0.23</td>\n",
       "      <td>0.788114</td>\n",
       "    </tr>\n",
       "    <tr>\n",
       "      <th>5</th>\n",
       "      <td>savon</td>\n",
       "      <td>-0.04</td>\n",
       "      <td>0.559481</td>\n",
       "    </tr>\n",
       "    <tr>\n",
       "      <th>6</th>\n",
       "      <td>lave</td>\n",
       "      <td>0.00</td>\n",
       "      <td>0.495642</td>\n",
       "    </tr>\n",
       "    <tr>\n",
       "      <th>7</th>\n",
       "      <td>maladi</td>\n",
       "      <td>-0.19</td>\n",
       "      <td>0.747552</td>\n",
       "    </tr>\n",
       "    <tr>\n",
       "      <th>8</th>\n",
       "      <td>dyare</td>\n",
       "      <td>-0.35</td>\n",
       "      <td>0.889312</td>\n",
       "    </tr>\n",
       "    <tr>\n",
       "      <th>9</th>\n",
       "      <td>kolera</td>\n",
       "      <td>-0.18</td>\n",
       "      <td>0.737959</td>\n",
       "    </tr>\n",
       "    <tr>\n",
       "      <th>10</th>\n",
       "      <td>poupou</td>\n",
       "      <td>-0.16</td>\n",
       "      <td>0.711165</td>\n",
       "    </tr>\n",
       "    <tr>\n",
       "      <th>11</th>\n",
       "      <td>latrin</td>\n",
       "      <td>0.39</td>\n",
       "      <td>0.083558</td>\n",
       "    </tr>\n",
       "    <tr>\n",
       "      <th>12</th>\n",
       "      <td>fatra</td>\n",
       "      <td>0.26</td>\n",
       "      <td>0.184689</td>\n",
       "    </tr>\n",
       "  </tbody>\n",
       "</table>\n",
       "</div>"
      ],
      "text/plain": [
       "        Target  Effect Size   P-Value\n",
       "0   sanitasyon         0.08  0.395601\n",
       "1        ijyèn        -0.04  0.557786\n",
       "2        flòch         0.35  0.110377\n",
       "3         pwòp         0.27  0.171211\n",
       "4       filtre        -0.23  0.788114\n",
       "5        savon        -0.04  0.559481\n",
       "6         lave         0.00  0.495642\n",
       "7       maladi        -0.19  0.747552\n",
       "8        dyare        -0.35  0.889312\n",
       "9       kolera        -0.18  0.737959\n",
       "10      poupou        -0.16  0.711165\n",
       "11      latrin         0.39  0.083558\n",
       "12       fatra         0.26  0.184689"
      ]
     },
     "execution_count": 146,
     "metadata": {},
     "output_type": "execute_result"
    }
   ],
   "source": [
    "df_haitian_wefat"
   ]
  },
  {
   "cell_type": "markdown",
   "metadata": {},
   "source": [
    "## ANEW Dataset import"
   ]
  },
  {
   "cell_type": "code",
   "execution_count": 105,
   "metadata": {
    "ExecuteTime": {
     "end_time": "2021-03-01T00:15:56.004710Z",
     "start_time": "2021-03-01T00:15:55.999347Z"
    }
   },
   "outputs": [],
   "source": [
    "BELLEZZA_LEXICON_PATH = '/Users/adimaini/Documents/GW/Research/CODE.nosync/WEAT-WEFAT/data/Bellezza_Lexicon.csv'\n",
    "PLE_UNP_PATH = '/Users/adimaini/Documents/GW/Research/CODE.nosync/WEAT-WEFAT/targets_attributes_data/haitian-creole/pleasant vs unpleasant.csv'\n",
    "BELLEZZA_WEAT_OUTPUT = '/Users/adimaini/Documents/GW/Research/CODE.nosync/WEAT-WEFAT/data/bellezza_valnorm_output.csv'\n",
    "BELLEZZA_WEAT = '/Users/adimaini/Documents/GW/Research/CODE.nosync/WEAT-WEFAT/targets_attributes_data/haitian-creole/bellezza_weat.csv'\n"
   ]
  },
  {
   "cell_type": "code",
   "execution_count": 44,
   "metadata": {
    "ExecuteTime": {
     "end_time": "2021-02-28T23:16:41.183279Z",
     "start_time": "2021-02-28T23:16:41.173630Z"
    }
   },
   "outputs": [],
   "source": [
    "anew = pd.read_csv(BELLEZZA_LEXICON_PATH,\n",
    "                   usecols=['word', 'Haitian Creole word', 'combined_pleasantness'])"
   ]
  },
  {
   "cell_type": "code",
   "execution_count": 45,
   "metadata": {
    "ExecuteTime": {
     "end_time": "2021-02-28T23:16:41.382462Z",
     "start_time": "2021-02-28T23:16:41.372466Z"
    }
   },
   "outputs": [
    {
     "data": {
      "text/plain": [
       "word                     19\n",
       "Haitian Creole word      19\n",
       "combined_pleasantness    19\n",
       "dtype: int64"
      ]
     },
     "execution_count": 45,
     "metadata": {},
     "output_type": "execute_result"
    }
   ],
   "source": [
    "anew[anew.duplicated(subset='Haitian Creole word', keep='first')].count()"
   ]
  },
  {
   "cell_type": "code",
   "execution_count": 46,
   "metadata": {
    "ExecuteTime": {
     "end_time": "2021-02-28T23:16:41.626867Z",
     "start_time": "2021-02-28T23:16:41.619235Z"
    }
   },
   "outputs": [],
   "source": [
    "# group the alike words together and average their 'combined_pleasantness' scores\n",
    "anew_g = anew.groupby(by='Haitian Creole word', axis=0).mean().reset_index()"
   ]
  },
  {
   "cell_type": "code",
   "execution_count": 47,
   "metadata": {
    "ExecuteTime": {
     "end_time": "2021-02-28T23:16:41.961268Z",
     "start_time": "2021-02-28T23:16:41.954358Z"
    }
   },
   "outputs": [
    {
     "data": {
      "text/plain": [
       "0      Anbisyon\n",
       "1      Apetisan\n",
       "2         Bunny\n",
       "3      Komisyon\n",
       "4           Liv\n",
       "         ...   \n",
       "375         zam\n",
       "376       zanmi\n",
       "377       zwazo\n",
       "378       zòrye\n",
       "379        òkès\n",
       "Name: Haitian Creole word, Length: 380, dtype: object"
      ]
     },
     "execution_count": 47,
     "metadata": {},
     "output_type": "execute_result"
    }
   ],
   "source": [
    "anew_g.sort_values(by='Haitian Creole word')['Haitian Creole word']"
   ]
  },
  {
   "cell_type": "markdown",
   "metadata": {},
   "source": [
    "There are 19 duplicated words in haitian creole translations of bellezza lexicon words"
   ]
  },
  {
   "cell_type": "code",
   "execution_count": 48,
   "metadata": {
    "ExecuteTime": {
     "end_time": "2021-02-28T23:16:43.505777Z",
     "start_time": "2021-02-28T23:16:43.499341Z"
    }
   },
   "outputs": [
    {
     "data": {
      "text/plain": [
       "['Anbisyon',\n",
       " 'Apetisan',\n",
       " 'Bunny',\n",
       " 'Komisyon',\n",
       " 'Liv',\n",
       " 'Mizik',\n",
       " 'Nectar',\n",
       " 'Pak',\n",
       " 'Stink']"
      ]
     },
     "execution_count": 48,
     "metadata": {},
     "output_type": "execute_result"
    }
   ],
   "source": [
    "[word for word in anew_g['Haitian Creole word'] if word[0].isupper()]"
   ]
  },
  {
   "cell_type": "code",
   "execution_count": 49,
   "metadata": {
    "ExecuteTime": {
     "end_time": "2021-02-28T23:16:43.739249Z",
     "start_time": "2021-02-28T23:16:43.730228Z"
    }
   },
   "outputs": [],
   "source": [
    "# read the pleasant and unpleasant associations\n",
    "plun = pd.read_csv(PLE_UNP_PATH, header=None, index_col=0)"
   ]
  },
  {
   "cell_type": "code",
   "execution_count": 88,
   "metadata": {
    "ExecuteTime": {
     "end_time": "2021-02-28T23:31:43.077054Z",
     "start_time": "2021-02-28T23:31:43.051992Z"
    }
   },
   "outputs": [],
   "source": [
    "# output the new .csv file that can be processed\n",
    "df = pd.concat([anew['Haitian Creole word'].to_frame().T.reset_index(), plun.reset_index().set_index(0)])\n",
    "# df.to_csv(BELLEZZA_WEAT)"
   ]
  },
  {
   "cell_type": "code",
   "execution_count": null,
   "metadata": {
    "ExecuteTime": {
     "start_time": "2021-03-02T02:46:51.794Z"
    }
   },
   "outputs": [
    {
     "name": "stdout",
     "output_type": "stream",
     "text": [
      "Reading files...\n",
      "\n"
     ]
    }
   ],
   "source": [
    "# running the WEFAT test with the Bellezza word association test\n",
    "bellezza_test = weat_tables.output_table(model=ft,\n",
    "                            filepath = BELLEZZA_WEAT, \n",
    "                            algorithm = 'wefat')"
   ]
  },
  {
   "cell_type": "code",
   "execution_count": null,
   "metadata": {
    "ExecuteTime": {
     "start_time": "2021-03-02T02:51:46.448Z"
    }
   },
   "outputs": [],
   "source": [
    "testing = weat_tables.output_table(ft, 'wefat', filepath='/Users/adimaini/Documents/GW/Research/CODE.nosync/WEAT-WEFAT/targets_attributes_data/tests/teseting_dir.csv')\n",
    "testing"
   ]
  },
  {
   "cell_type": "code",
   "execution_count": null,
   "metadata": {
    "ExecuteTime": {
     "start_time": "2021-03-02T02:49:14.487Z"
    }
   },
   "outputs": [],
   "source": [
    "bellezza_test[bellezza_test.Target.duplicated(keep=False)].sort_values(by='Target', ascending=True)"
   ]
  },
  {
   "cell_type": "code",
   "execution_count": 118,
   "metadata": {
    "ExecuteTime": {
     "end_time": "2021-03-02T02:17:41.395214Z",
     "start_time": "2021-03-02T02:17:41.387047Z"
    }
   },
   "outputs": [],
   "source": [
    "bellezza_test_merge = bellezza_test.merge(right=anew_g, left_on='Target', right_on='Haitian Creole word')"
   ]
  },
  {
   "cell_type": "code",
   "execution_count": 120,
   "metadata": {
    "ExecuteTime": {
     "end_time": "2021-03-02T02:18:05.656023Z",
     "start_time": "2021-03-02T02:18:05.644602Z"
    }
   },
   "outputs": [
    {
     "data": {
      "text/html": [
       "<div>\n",
       "<style scoped>\n",
       "    .dataframe tbody tr th:only-of-type {\n",
       "        vertical-align: middle;\n",
       "    }\n",
       "\n",
       "    .dataframe tbody tr th {\n",
       "        vertical-align: top;\n",
       "    }\n",
       "\n",
       "    .dataframe thead th {\n",
       "        text-align: right;\n",
       "    }\n",
       "</style>\n",
       "<table border=\"1\" class=\"dataframe\">\n",
       "  <thead>\n",
       "    <tr style=\"text-align: right;\">\n",
       "      <th></th>\n",
       "      <th>Haitian Creole word</th>\n",
       "      <th>combined_pleasantness</th>\n",
       "    </tr>\n",
       "  </thead>\n",
       "  <tbody>\n",
       "    <tr>\n",
       "      <th>0</th>\n",
       "      <td>Anbisyon</td>\n",
       "      <td>4.28</td>\n",
       "    </tr>\n",
       "    <tr>\n",
       "      <th>1</th>\n",
       "      <td>Apetisan</td>\n",
       "      <td>4.23</td>\n",
       "    </tr>\n",
       "    <tr>\n",
       "      <th>2</th>\n",
       "      <td>Bunny</td>\n",
       "      <td>4.33</td>\n",
       "    </tr>\n",
       "    <tr>\n",
       "      <th>3</th>\n",
       "      <td>Komisyon</td>\n",
       "      <td>3.12</td>\n",
       "    </tr>\n",
       "    <tr>\n",
       "      <th>4</th>\n",
       "      <td>Liv</td>\n",
       "      <td>3.69</td>\n",
       "    </tr>\n",
       "    <tr>\n",
       "      <th>...</th>\n",
       "      <td>...</td>\n",
       "      <td>...</td>\n",
       "    </tr>\n",
       "    <tr>\n",
       "      <th>375</th>\n",
       "      <td>zam</td>\n",
       "      <td>2.08</td>\n",
       "    </tr>\n",
       "    <tr>\n",
       "      <th>376</th>\n",
       "      <td>zanmi</td>\n",
       "      <td>4.53</td>\n",
       "    </tr>\n",
       "    <tr>\n",
       "      <th>377</th>\n",
       "      <td>zwazo</td>\n",
       "      <td>4.03</td>\n",
       "    </tr>\n",
       "    <tr>\n",
       "      <th>378</th>\n",
       "      <td>zòrye</td>\n",
       "      <td>4.15</td>\n",
       "    </tr>\n",
       "    <tr>\n",
       "      <th>379</th>\n",
       "      <td>òkès</td>\n",
       "      <td>3.88</td>\n",
       "    </tr>\n",
       "  </tbody>\n",
       "</table>\n",
       "<p>380 rows × 2 columns</p>\n",
       "</div>"
      ],
      "text/plain": [
       "    Haitian Creole word  combined_pleasantness\n",
       "0              Anbisyon                   4.28\n",
       "1              Apetisan                   4.23\n",
       "2                 Bunny                   4.33\n",
       "3              Komisyon                   3.12\n",
       "4                   Liv                   3.69\n",
       "..                  ...                    ...\n",
       "375                 zam                   2.08\n",
       "376               zanmi                   4.53\n",
       "377               zwazo                   4.03\n",
       "378               zòrye                   4.15\n",
       "379                òkès                   3.88\n",
       "\n",
       "[380 rows x 2 columns]"
      ]
     },
     "execution_count": 120,
     "metadata": {},
     "output_type": "execute_result"
    }
   ],
   "source": [
    "anew_g"
   ]
  },
  {
   "cell_type": "code",
   "execution_count": 119,
   "metadata": {
    "ExecuteTime": {
     "end_time": "2021-03-02T02:17:43.707454Z",
     "start_time": "2021-03-02T02:17:43.693763Z"
    }
   },
   "outputs": [
    {
     "data": {
      "text/html": [
       "<div>\n",
       "<style scoped>\n",
       "    .dataframe tbody tr th:only-of-type {\n",
       "        vertical-align: middle;\n",
       "    }\n",
       "\n",
       "    .dataframe tbody tr th {\n",
       "        vertical-align: top;\n",
       "    }\n",
       "\n",
       "    .dataframe thead th {\n",
       "        text-align: right;\n",
       "    }\n",
       "</style>\n",
       "<table border=\"1\" class=\"dataframe\">\n",
       "  <thead>\n",
       "    <tr style=\"text-align: right;\">\n",
       "      <th></th>\n",
       "      <th>Target</th>\n",
       "      <th>Effect Size</th>\n",
       "      <th>P-Value</th>\n",
       "      <th>Haitian Creole word</th>\n",
       "      <th>combined_pleasantness</th>\n",
       "    </tr>\n",
       "  </thead>\n",
       "  <tbody>\n",
       "    <tr>\n",
       "      <th>0</th>\n",
       "      <td>abi</td>\n",
       "      <td>-0.29</td>\n",
       "      <td>0.847159</td>\n",
       "      <td>abi</td>\n",
       "      <td>1.530</td>\n",
       "    </tr>\n",
       "    <tr>\n",
       "      <th>1</th>\n",
       "      <td>aksidan</td>\n",
       "      <td>0.34</td>\n",
       "      <td>0.120330</td>\n",
       "      <td>aksidan</td>\n",
       "      <td>1.535</td>\n",
       "    </tr>\n",
       "    <tr>\n",
       "      <th>2</th>\n",
       "      <td>aksidan</td>\n",
       "      <td>0.02</td>\n",
       "      <td>0.466821</td>\n",
       "      <td>aksidan</td>\n",
       "      <td>1.535</td>\n",
       "    </tr>\n",
       "    <tr>\n",
       "      <th>3</th>\n",
       "      <td>akonplisman</td>\n",
       "      <td>0.12</td>\n",
       "      <td>0.348215</td>\n",
       "      <td>akonplisman</td>\n",
       "      <td>4.570</td>\n",
       "    </tr>\n",
       "    <tr>\n",
       "      <th>4</th>\n",
       "      <td>adorabl</td>\n",
       "      <td>0.35</td>\n",
       "      <td>0.110102</td>\n",
       "      <td>adorabl</td>\n",
       "      <td>4.400</td>\n",
       "    </tr>\n",
       "    <tr>\n",
       "      <th>...</th>\n",
       "      <td>...</td>\n",
       "      <td>...</td>\n",
       "      <td>...</td>\n",
       "      <td>...</td>\n",
       "      <td>...</td>\n",
       "    </tr>\n",
       "    <tr>\n",
       "      <th>394</th>\n",
       "      <td>fenèt</td>\n",
       "      <td>0.40</td>\n",
       "      <td>0.081400</td>\n",
       "      <td>fenèt</td>\n",
       "      <td>3.570</td>\n",
       "    </tr>\n",
       "    <tr>\n",
       "      <th>395</th>\n",
       "      <td>diven</td>\n",
       "      <td>0.10</td>\n",
       "      <td>0.374362</td>\n",
       "      <td>diven</td>\n",
       "      <td>3.880</td>\n",
       "    </tr>\n",
       "    <tr>\n",
       "      <th>396</th>\n",
       "      <td>saj</td>\n",
       "      <td>0.12</td>\n",
       "      <td>0.345884</td>\n",
       "      <td>saj</td>\n",
       "      <td>4.360</td>\n",
       "    </tr>\n",
       "    <tr>\n",
       "      <th>397</th>\n",
       "      <td>fanm</td>\n",
       "      <td>0.24</td>\n",
       "      <td>0.201777</td>\n",
       "      <td>fanm</td>\n",
       "      <td>4.240</td>\n",
       "    </tr>\n",
       "    <tr>\n",
       "      <th>398</th>\n",
       "      <td>mond lan</td>\n",
       "      <td>0.50</td>\n",
       "      <td>0.039294</td>\n",
       "      <td>mond lan</td>\n",
       "      <td>4.030</td>\n",
       "    </tr>\n",
       "  </tbody>\n",
       "</table>\n",
       "<p>399 rows × 5 columns</p>\n",
       "</div>"
      ],
      "text/plain": [
       "          Target  Effect Size   P-Value Haitian Creole word  \\\n",
       "0            abi        -0.29  0.847159                 abi   \n",
       "1        aksidan         0.34  0.120330             aksidan   \n",
       "2        aksidan         0.02  0.466821             aksidan   \n",
       "3    akonplisman         0.12  0.348215         akonplisman   \n",
       "4        adorabl         0.35  0.110102             adorabl   \n",
       "..           ...          ...       ...                 ...   \n",
       "394        fenèt         0.40  0.081400               fenèt   \n",
       "395        diven         0.10  0.374362               diven   \n",
       "396          saj         0.12  0.345884                 saj   \n",
       "397         fanm         0.24  0.201777                fanm   \n",
       "398     mond lan         0.50  0.039294            mond lan   \n",
       "\n",
       "     combined_pleasantness  \n",
       "0                    1.530  \n",
       "1                    1.535  \n",
       "2                    1.535  \n",
       "3                    4.570  \n",
       "4                    4.400  \n",
       "..                     ...  \n",
       "394                  3.570  \n",
       "395                  3.880  \n",
       "396                  4.360  \n",
       "397                  4.240  \n",
       "398                  4.030  \n",
       "\n",
       "[399 rows x 5 columns]"
      ]
     },
     "execution_count": 119,
     "metadata": {},
     "output_type": "execute_result"
    }
   ],
   "source": [
    "bellezza_test_merge"
   ]
  },
  {
   "cell_type": "code",
   "execution_count": 114,
   "metadata": {
    "ExecuteTime": {
     "end_time": "2021-03-02T02:12:43.601483Z",
     "start_time": "2021-03-02T02:12:43.572854Z"
    }
   },
   "outputs": [
    {
     "data": {
      "text/plain": [
       "0              abi\n",
       "1          aksidan\n",
       "5      akonplisman\n",
       "6          adorabl\n",
       "7            tandr\n",
       "          ...     \n",
       "436          fenèt\n",
       "437          diven\n",
       "438            saj\n",
       "439           fanm\n",
       "440       mond lan\n",
       "Name: Haitian Creole word, Length: 380, dtype: object"
      ]
     },
     "execution_count": 114,
     "metadata": {},
     "output_type": "execute_result"
    }
   ],
   "source": [
    "bellezza_test_merge['Haitian Creole word'].drop_duplicates()"
   ]
  },
  {
   "cell_type": "code",
   "execution_count": 106,
   "metadata": {
    "ExecuteTime": {
     "end_time": "2021-03-01T00:16:01.496015Z",
     "start_time": "2021-03-01T00:16:01.486341Z"
    }
   },
   "outputs": [],
   "source": [
    "bellezza_test_merge.to_csv(BELLEZZA_WEAT_OUTPUT)"
   ]
  },
  {
   "cell_type": "code",
   "execution_count": 243,
   "metadata": {
    "ExecuteTime": {
     "end_time": "2021-02-07T01:58:55.140058Z",
     "start_time": "2021-02-07T01:58:55.123784Z"
    }
   },
   "outputs": [
    {
     "data": {
      "text/plain": [
       "(0.2930203491124346, 5.833247860131412e-09)"
      ]
     },
     "execution_count": 243,
     "metadata": {},
     "output_type": "execute_result"
    }
   ],
   "source": [
    "# calculate the pearson correlation between 'combined_pleasantess' from Bellezza lexicon and \n",
    "# the fastText word embedding based valence scores.\n",
    "stats.pearsonr(bellezza_test_merge['Effect Size'], bellezza_test_merge['combined_pleasantness'])"
   ]
  },
  {
   "cell_type": "code",
   "execution_count": 247,
   "metadata": {
    "ExecuteTime": {
     "end_time": "2021-02-07T02:04:26.879781Z",
     "start_time": "2021-02-07T02:04:26.858046Z"
    },
    "scrolled": true
   },
   "outputs": [
    {
     "data": {
      "text/html": [
       "<div>\n",
       "<style scoped>\n",
       "    .dataframe tbody tr th:only-of-type {\n",
       "        vertical-align: middle;\n",
       "    }\n",
       "\n",
       "    .dataframe tbody tr th {\n",
       "        vertical-align: top;\n",
       "    }\n",
       "\n",
       "    .dataframe thead th {\n",
       "        text-align: right;\n",
       "    }\n",
       "</style>\n",
       "<table border=\"1\" class=\"dataframe\">\n",
       "  <thead>\n",
       "    <tr style=\"text-align: right;\">\n",
       "      <th></th>\n",
       "      <th>Target</th>\n",
       "      <th>Effect Size</th>\n",
       "      <th>P-Value</th>\n",
       "      <th>Haitian Creole word</th>\n",
       "      <th>combined_pleasantness</th>\n",
       "    </tr>\n",
       "  </thead>\n",
       "  <tbody>\n",
       "    <tr>\n",
       "      <th>0</th>\n",
       "      <td>Anbisyon</td>\n",
       "      <td>0.34</td>\n",
       "      <td>0.114411</td>\n",
       "      <td>Anbisyon</td>\n",
       "      <td>4.28</td>\n",
       "    </tr>\n",
       "    <tr>\n",
       "      <th>1</th>\n",
       "      <td>Apetisan</td>\n",
       "      <td>0.32</td>\n",
       "      <td>0.128328</td>\n",
       "      <td>Apetisan</td>\n",
       "      <td>4.23</td>\n",
       "    </tr>\n",
       "    <tr>\n",
       "      <th>2</th>\n",
       "      <td>Bunny</td>\n",
       "      <td>0.34</td>\n",
       "      <td>0.120233</td>\n",
       "      <td>Bunny</td>\n",
       "      <td>4.33</td>\n",
       "    </tr>\n",
       "    <tr>\n",
       "      <th>3</th>\n",
       "      <td>Komisyon</td>\n",
       "      <td>0.41</td>\n",
       "      <td>0.076256</td>\n",
       "      <td>Komisyon</td>\n",
       "      <td>3.12</td>\n",
       "    </tr>\n",
       "    <tr>\n",
       "      <th>4</th>\n",
       "      <td>Liv</td>\n",
       "      <td>0.68</td>\n",
       "      <td>0.008253</td>\n",
       "      <td>Liv</td>\n",
       "      <td>3.69</td>\n",
       "    </tr>\n",
       "    <tr>\n",
       "      <th>...</th>\n",
       "      <td>...</td>\n",
       "      <td>...</td>\n",
       "      <td>...</td>\n",
       "      <td>...</td>\n",
       "      <td>...</td>\n",
       "    </tr>\n",
       "    <tr>\n",
       "      <th>375</th>\n",
       "      <td>zam</td>\n",
       "      <td>-0.03</td>\n",
       "      <td>0.534607</td>\n",
       "      <td>zam</td>\n",
       "      <td>2.08</td>\n",
       "    </tr>\n",
       "    <tr>\n",
       "      <th>376</th>\n",
       "      <td>zanmi</td>\n",
       "      <td>0.55</td>\n",
       "      <td>0.025990</td>\n",
       "      <td>zanmi</td>\n",
       "      <td>4.53</td>\n",
       "    </tr>\n",
       "    <tr>\n",
       "      <th>377</th>\n",
       "      <td>zwazo</td>\n",
       "      <td>0.23</td>\n",
       "      <td>0.205758</td>\n",
       "      <td>zwazo</td>\n",
       "      <td>4.03</td>\n",
       "    </tr>\n",
       "    <tr>\n",
       "      <th>378</th>\n",
       "      <td>zòrye</td>\n",
       "      <td>-0.04</td>\n",
       "      <td>0.559462</td>\n",
       "      <td>zòrye</td>\n",
       "      <td>4.15</td>\n",
       "    </tr>\n",
       "    <tr>\n",
       "      <th>379</th>\n",
       "      <td>òkès</td>\n",
       "      <td>0.17</td>\n",
       "      <td>0.270569</td>\n",
       "      <td>òkès</td>\n",
       "      <td>3.88</td>\n",
       "    </tr>\n",
       "  </tbody>\n",
       "</table>\n",
       "<p>380 rows × 5 columns</p>\n",
       "</div>"
      ],
      "text/plain": [
       "       Target  Effect Size   P-Value Haitian Creole word  \\\n",
       "0    Anbisyon         0.34  0.114411            Anbisyon   \n",
       "1    Apetisan         0.32  0.128328            Apetisan   \n",
       "2       Bunny         0.34  0.120233               Bunny   \n",
       "3    Komisyon         0.41  0.076256            Komisyon   \n",
       "4         Liv         0.68  0.008253                 Liv   \n",
       "..        ...          ...       ...                 ...   \n",
       "375       zam        -0.03  0.534607                 zam   \n",
       "376     zanmi         0.55  0.025990               zanmi   \n",
       "377     zwazo         0.23  0.205758               zwazo   \n",
       "378     zòrye        -0.04  0.559462               zòrye   \n",
       "379      òkès         0.17  0.270569                òkès   \n",
       "\n",
       "     combined_pleasantness  \n",
       "0                     4.28  \n",
       "1                     4.23  \n",
       "2                     4.33  \n",
       "3                     3.12  \n",
       "4                     3.69  \n",
       "..                     ...  \n",
       "375                   2.08  \n",
       "376                   4.53  \n",
       "377                   4.03  \n",
       "378                   4.15  \n",
       "379                   3.88  \n",
       "\n",
       "[380 rows x 5 columns]"
      ]
     },
     "execution_count": 247,
     "metadata": {},
     "output_type": "execute_result"
    }
   ],
   "source": [
    "bellezza_test_merge"
   ]
  },
  {
   "cell_type": "markdown",
   "metadata": {},
   "source": [
    "### correlate frequency of words to correlation of human rated scores to weat tests"
   ]
  },
  {
   "cell_type": "code",
   "execution_count": null,
   "metadata": {
    "ExecuteTime": {
     "start_time": "2021-03-02T03:13:50.264Z"
    }
   },
   "outputs": [],
   "source": [
    "ft_freq = pd.DataFrame({'words': ft.get_words(include_freq=True)[0], \n",
    "                        'frequency': ft.get_words(include_freq=True)[1]})"
   ]
  },
  {
   "cell_type": "code",
   "execution_count": null,
   "metadata": {},
   "outputs": [],
   "source": []
  },
  {
   "cell_type": "code",
   "execution_count": null,
   "metadata": {},
   "outputs": [],
   "source": []
  },
  {
   "cell_type": "code",
   "execution_count": null,
   "metadata": {},
   "outputs": [],
   "source": []
  },
  {
   "cell_type": "code",
   "execution_count": null,
   "metadata": {},
   "outputs": [],
   "source": []
  },
  {
   "cell_type": "code",
   "execution_count": 249,
   "metadata": {
    "ExecuteTime": {
     "end_time": "2021-02-07T02:08:31.197757Z",
     "start_time": "2021-02-07T02:08:31.184704Z"
    }
   },
   "outputs": [
    {
     "data": {
      "text/plain": [
       "'Yes'"
      ]
     },
     "execution_count": 249,
     "metadata": {},
     "output_type": "execute_result"
    }
   ],
   "source": [
    "normal_test(bellezza_test_merge['combined_pleasantness'])"
   ]
  },
  {
   "cell_type": "code",
   "execution_count": 255,
   "metadata": {
    "ExecuteTime": {
     "end_time": "2021-02-07T02:09:25.807002Z",
     "start_time": "2021-02-07T02:09:25.631847Z"
    }
   },
   "outputs": [
    {
     "data": {
      "text/plain": [
       "<matplotlib.axes._subplots.AxesSubplot at 0x12b6b98d0>"
      ]
     },
     "execution_count": 255,
     "metadata": {},
     "output_type": "execute_result"
    },
    {
     "data": {
      "image/png": "[encoded data removed]",
      "text/plain": [
       "<Figure size 432x288 with 1 Axes>"
      ]
     },
     "metadata": {
      "needs_background": "light"
     },
     "output_type": "display_data"
    }
   ],
   "source": [
    "sns.histplot(bellezza_test_merge['combined_pleasantness'])"
   ]
  },
  {
   "cell_type": "code",
   "execution_count": 254,
   "metadata": {
    "ExecuteTime": {
     "end_time": "2021-02-07T02:09:19.801280Z",
     "start_time": "2021-02-07T02:09:19.601801Z"
    }
   },
   "outputs": [
    {
     "data": {
      "text/plain": [
       "<matplotlib.axes._subplots.AxesSubplot at 0x12b5ca7b8>"
      ]
     },
     "execution_count": 254,
     "metadata": {},
     "output_type": "execute_result"
    },
    {
     "data": {
      "image/png": "[encoded data removed]",
      "text/plain": [
       "<Figure size 432x288 with 1 Axes>"
      ]
     },
     "metadata": {
      "needs_background": "light"
     },
     "output_type": "display_data"
    }
   ],
   "source": [
    "sns.histplot(bellezza_test_merge['Effect Size'])"
   ]
  },
  {
   "cell_type": "code",
   "execution_count": 1,
   "metadata": {
    "ExecuteTime": {
     "end_time": "2021-02-08T00:35:18.789178Z",
     "start_time": "2021-02-08T00:35:18.453157Z"
    }
   },
   "outputs": [
    {
     "ename": "NameError",
     "evalue": "name 'bellezza_test_merge' is not defined",
     "output_type": "error",
     "traceback": [
      "\u001b[0;31m---------------------------------------------------------------------------\u001b[0m",
      "\u001b[0;31mNameError\u001b[0m                                 Traceback (most recent call last)",
      "\u001b[0;32m<ipython-input-1-581d672bcef0>\u001b[0m in \u001b[0;36m<module>\u001b[0;34m\u001b[0m\n\u001b[0;32m----> 1\u001b[0;31m \u001b[0mbellezza_test_merge\u001b[0m\u001b[0;34m\u001b[0m\u001b[0;34m\u001b[0m\u001b[0m\n\u001b[0m",
      "\u001b[0;31mNameError\u001b[0m: name 'bellezza_test_merge' is not defined"
     ]
    }
   ],
   "source": [
    "bellezza_test_merge"
   ]
  },
  {
   "cell_type": "code",
   "execution_count": null,
   "metadata": {},
   "outputs": [],
   "source": []
  }
 ],
 "metadata": {
  "kernelspec": {
   "display_name": "Python 3",
   "language": "python",
   "name": "python3"
  },
  "language_info": {
   "codemirror_mode": {
    "name": "ipython",
    "version": 3
   },
   "file_extension": ".py",
   "mimetype": "text/x-python",
   "name": "python",
   "nbconvert_exporter": "python",
   "pygments_lexer": "ipython3",
   "version": "3.9.2-final"
  }
 },
 "nbformat": 4,
 "nbformat_minor": 4
}
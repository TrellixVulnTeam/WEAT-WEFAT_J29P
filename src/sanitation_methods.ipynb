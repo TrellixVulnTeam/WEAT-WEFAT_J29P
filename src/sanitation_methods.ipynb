{
 "cells": [
  {
   "cell_type": "code",
   "execution_count": 22,
   "id": "balanced-indication",
   "metadata": {
    "ExecuteTime": {
     "end_time": "2021-03-02T04:20:37.539100Z",
     "start_time": "2021-03-02T04:20:37.534919Z"
    }
   },
   "outputs": [],
   "source": [
    "import sys, os\n",
    "sys.path.insert(0, os.path.dirname(os.path.abspath('....')))"
   ]
  },
  {
   "cell_type": "code",
   "execution_count": 1,
   "id": "aerial-strain",
   "metadata": {
    "ExecuteTime": {
     "end_time": "2021-03-02T04:02:02.329610Z",
     "start_time": "2021-03-02T04:02:00.971581Z"
    }
   },
   "outputs": [
    {
     "data": {
      "text/plain": [
       "<module 'lib.weat_tables' from '/Users/adimaini/Documents/GW/Research/CODE.nosync/WEAT-WEFAT/src/lib/weat_tables.py'>"
      ]
     },
     "execution_count": 1,
     "metadata": {},
     "output_type": "execute_result"
    }
   ],
   "source": [
    "import pandas as pd\n",
    "import numpy as np \n",
    "from gensim import models\n",
    "from src.lib import weat\n",
    "from src.lib import weat_tables\n",
    "import os\n",
    "import scipy\n",
    "import matplotlib.pyplot as plt\n",
    "import importlib\n",
    "from scipy import stats\n",
    "import seaborn as sns\n",
    "import fasttext\n",
    "import fasttext.util\n",
    "import glob\n",
    "importlib.reload(weat_tables)"
   ]
  },
  {
   "cell_type": "code",
   "execution_count": 5,
   "id": "adult-nancy",
   "metadata": {
    "ExecuteTime": {
     "end_time": "2021-03-02T04:03:52.354978Z",
     "start_time": "2021-03-02T04:03:47.356310Z"
    }
   },
   "outputs": [],
   "source": [
    "ft = fasttext.load_model('/Users/adimaini/Documents/GW/Research/CODE.nosync/WEAT-WEFAT/data/cc.ht.300.bin')"
   ]
  },
  {
   "cell_type": "code",
   "execution_count": 10,
   "id": "olive-turner",
   "metadata": {
    "ExecuteTime": {
     "end_time": "2021-03-02T04:11:15.704691Z",
     "start_time": "2021-03-02T04:08:20.352633Z"
    }
   },
   "outputs": [
    {
     "name": "stdout",
     "output_type": "stream",
     "text": [
      "Reading files...\n",
      "\n",
      "Finished.\n"
     ]
    }
   ],
   "source": [
    "df_good_bad = weat_tables.output_table(model=ft,\n",
    "                                filepath = '/Users/adimaini/Documents/GW/Research/CODE.nosync/WEAT-WEFAT/targets_attributes_data/haitian-creole/wefat sanitation disease etc.csv',\n",
    "                                algorithm = 'wefat')"
   ]
  },
  {
   "cell_type": "code",
   "execution_count": 11,
   "id": "disabled-jumping",
   "metadata": {
    "ExecuteTime": {
     "end_time": "2021-03-02T04:11:15.708872Z",
     "start_time": "2021-03-02T04:11:15.706526Z"
    }
   },
   "outputs": [],
   "source": [
    "df_good_bad_cp = df_good_bad.copy()"
   ]
  },
  {
   "cell_type": "code",
   "execution_count": 25,
   "id": "reserved-conversion",
   "metadata": {
    "ExecuteTime": {
     "end_time": "2021-03-02T04:20:58.971211Z",
     "start_time": "2021-03-02T04:20:58.959867Z"
    }
   },
   "outputs": [
    {
     "ename": "TypeError",
     "evalue": "chdir() missing required argument 'path' (pos 1)",
     "output_type": "error",
     "traceback": [
      "\u001b[0;31m---------------------------------------------------------------------------\u001b[0m",
      "\u001b[0;31mTypeError\u001b[0m                                 Traceback (most recent call last)",
      "\u001b[0;32m<ipython-input-25-f96d23f60c03>\u001b[0m in \u001b[0;36m<module>\u001b[0;34m\u001b[0m\n\u001b[0;32m----> 1\u001b[0;31m \u001b[0mos\u001b[0m\u001b[0;34m.\u001b[0m\u001b[0mchdir\u001b[0m\u001b[0;34m(\u001b[0m\u001b[0;34m)\u001b[0m\u001b[0;34m\u001b[0m\u001b[0;34m\u001b[0m\u001b[0m\n\u001b[0m",
      "\u001b[0;31mTypeError\u001b[0m: chdir() missing required argument 'path' (pos 1)"
     ]
    }
   ],
   "source": [
    "os.chdir()"
   ]
  },
  {
   "cell_type": "code",
   "execution_count": 27,
   "id": "opened-testament",
   "metadata": {
    "ExecuteTime": {
     "end_time": "2021-03-02T04:27:03.011311Z",
     "start_time": "2021-03-02T04:27:03.002725Z"
    }
   },
   "outputs": [],
   "source": [
    "df_good_bad_cp['P-Value'] = df_good_bad_cp['P-Value'].round(decimals=3)"
   ]
  },
  {
   "cell_type": "code",
   "execution_count": 28,
   "id": "broadband-grammar",
   "metadata": {
    "ExecuteTime": {
     "end_time": "2021-03-02T04:27:04.834082Z",
     "start_time": "2021-03-02T04:27:04.819830Z"
    }
   },
   "outputs": [],
   "source": [
    "english_words = ['sanitation', 'clean',  'toilet', 'hands', 'water', 'hygiene', 'covid', 'vaccine',  \n",
    "                 'water', 'cholera', 'diarrhea', 'fever', 'typhoid', 'garbage', 'osmosis', 'filter', \n",
    "                 'bottled', 'wells', 'fresh', 'pump', 'springs', 'latrine', 'DINEPA', 'CAEPA', 'maintenance', \n",
    "                 'treatment', 'fecal', 'sludge', 'dirty', 'malaria', 'feces', 'urine']\n",
    "df_good_bad_cp['English Words'] = english_words\n",
    "df_good_bad_cp.rename(columns={'Target': 'Haitian Word'}, inplace=True)\n",
    "new_order = ['English Words', 'Haitian Word', 'Effect Size', 'P-Value']\n",
    "df_good_bad_cp[new_order].to_csv('/Users/adimaini/Documents/GW/Research/CODE.nosync/WEAT-WEFAT/data/good_bad_weat.csv')"
   ]
  },
  {
   "cell_type": "code",
   "execution_count": null,
   "id": "genuine-replica",
   "metadata": {},
   "outputs": [],
   "source": []
  }
 ],
 "metadata": {
  "kernelspec": {
   "display_name": "Python 3",
   "language": "python",
   "name": "python3"
  },
  "language_info": {
   "codemirror_mode": {
    "name": "ipython",
    "version": 3
   },
   "file_extension": ".py",
   "mimetype": "text/x-python",
   "name": "python",
   "nbconvert_exporter": "python",
   "pygments_lexer": "ipython3",
   "version": "3.9.2"
  }
 },
 "nbformat": 4,
 "nbformat_minor": 5
}

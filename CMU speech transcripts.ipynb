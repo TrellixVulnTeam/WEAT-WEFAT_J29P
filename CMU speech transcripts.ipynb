{
 "cells": [
  {
   "cell_type": "code",
   "execution_count": 1,
   "metadata": {
    "ExecuteTime": {
     "end_time": "2021-02-07T04:25:20.610822Z",
     "start_time": "2021-02-07T04:25:15.063616Z"
    }
   },
   "outputs": [],
   "source": [
    "import pandas as pd\n",
    "import numpy as np \n",
    "from gensim import models\n",
    "from lib import weat\n",
    "from lib import weat_main\n",
    "import os\n",
    "import scipy\n",
    "import matplotlib.pyplot as plt\n",
    "import importlib\n",
    "from scipy import stats\n",
    "import seaborn as sns\n",
    "import fasttext\n",
    "import fasttext.util"
   ]
  },
  {
   "cell_type": "markdown",
   "metadata": {},
   "source": [
    "### Read the CMU speech transcripts"
   ]
  },
  {
   "cell_type": "code",
   "execution_count": 88,
   "metadata": {
    "ExecuteTime": {
     "end_time": "2021-02-07T04:59:31.439100Z",
     "start_time": "2021-02-07T04:59:31.435397Z"
    }
   },
   "outputs": [],
   "source": [
    "import wave"
   ]
  },
  {
   "cell_type": "code",
   "execution_count": 85,
   "metadata": {
    "ExecuteTime": {
     "end_time": "2021-02-07T04:59:28.093747Z",
     "start_time": "2021-02-07T04:59:28.062980Z"
    }
   },
   "outputs": [],
   "source": [
    "txt_file = '/Users/adimaini/Documents/GW/Research/CODE.nosync/WEAT-WEFAT/data/cmu_haitian_speech/etc/txt.done.data'\n",
    "\n",
    "transcript = pd.read_csv(txt_file, sep='\"', header=None).drop(columns=[2])\n",
    "transcript.columns = ['id', 'text']"
   ]
  },
  {
   "cell_type": "code",
   "execution_count": 86,
   "metadata": {
    "ExecuteTime": {
     "end_time": "2021-02-07T04:59:28.280593Z",
     "start_time": "2021-02-07T04:59:28.269146Z"
    }
   },
   "outputs": [],
   "source": [
    "# clean out the 'id' and 'text' column spacing and extra paranthesis\n",
    "transcript['id'] = transcript['id'].apply(lambda x: x.lstrip('( ').strip())\n",
    "transcript['text'] = transcript['text'].apply(lambda x: x.lstrip().strip())\n",
    "\n",
    "# sort the transcripts in a certain manner\n",
    "# transcript = transcript.sort_values(ascending=False, by='id').reset_index(drop=True)\n",
    "\n",
    "# shuffle the transcripts to allow for random speakers for our accuracy sub sample\n",
    "transcript = transcript.sample(frac=1, random_state=5)"
   ]
  },
  {
   "cell_type": "markdown",
   "metadata": {},
   "source": [
    "### Read the CMU audio files and order them in the same fashion as the transcript data"
   ]
  },
  {
   "cell_type": "code",
   "execution_count": 113,
   "metadata": {
    "ExecuteTime": {
     "end_time": "2021-02-07T05:30:20.313635Z",
     "start_time": "2021-02-07T05:30:20.282590Z"
    }
   },
   "outputs": [],
   "source": [
    "# Read the CMU audio files and order them in the same fashion as the transcript data\n",
    "path_to_wav = '/Users/adimaini/Documents/GW/Research/CODE.nosync/WEAT-WEFAT/data/cmu_haitian_speech/wav/'\n",
    "dir_file = os.listdir(path=path_to_wav)"
   ]
  },
  {
   "cell_type": "code",
   "execution_count": 114,
   "metadata": {
    "ExecuteTime": {
     "end_time": "2021-02-07T05:30:20.682985Z",
     "start_time": "2021-02-07T05:30:20.560332Z"
    }
   },
   "outputs": [],
   "source": [
    "# output the combined .wav files. in order to match the duration of the radio transcription, \n",
    "# we will only select 200 transcripts (31 minutes) of the transcripts at first. \n",
    "\n",
    "outfile = 'data/cmu_haitian_speech/aws/cmu_combined.wav'\n",
    "no_samples = 180\n",
    "\n",
    "data = []\n",
    "for t_id in transcript.id[:no_samples]: \n",
    "    file = path_to_wav + t_id + '.wav'\n",
    "    w = wave.open(file, 'rb')\n",
    "    data.append( [w.getparams(), w.readframes(w.getnframes())] )\n",
    "    w.close()\n",
    "    \n",
    "output = wave.open(outfile, 'wb')\n",
    "output.setparams(data[0][0])\n",
    "for i in range(len(data)): \n",
    "    output.writeframes(data[i][1])\n",
    "output.close()"
   ]
  },
  {
   "cell_type": "code",
   "execution_count": 110,
   "metadata": {
    "ExecuteTime": {
     "end_time": "2021-02-07T05:24:57.448559Z",
     "start_time": "2021-02-07T05:24:57.440778Z"
    }
   },
   "outputs": [],
   "source": [
    "text = ' '.join(transcript[:no_samples].text.values)"
   ]
  },
  {
   "cell_type": "code",
   "execution_count": 111,
   "metadata": {
    "ExecuteTime": {
     "end_time": "2021-02-07T05:24:58.089088Z",
     "start_time": "2021-02-07T05:24:58.080845Z"
    }
   },
   "outputs": [
    {
     "data": {
      "text/plain": [
       "'Konsa tou, sa nou wè koulye a, se tankou yon pòtrè nap gade yon jan twoub twoub nan yon glas. Avantaj baraj Pelig la t ap bay peyizan Latibonit yo chans pou jwenn dlo pandan tout sezon an. Kouman ou ka aji ak moun tankou si yo te pwason nan lanmè, tankou koulèv nan raje ki pa gen mèt? Parabòl ja lajan an Peyi Wa ki nan syèl la, se tankou yon ja lajan ki te anba tè nan yon jaden. Aprè sa, li pale avèk sa ki sou bò gòch li yo, li di: wete kò nou sou mwen, nou menm ki gen madichon. Epi li rete konsa li wè gwo lafimen ap moute sòti nan tè a tankou lafimen k ap leve nan yon gwo founo dife. Epi li rete konsa li wè gwo lafimen ap moute sòti nan tè a tankou lafimen k ap leve nan yon gwo founo dife. Se pou l tounen dènye klas esklav frè l yo. Lè sa a, se wa Akaz, pitit gason Jotam, pitit pitit gason Ozyas, ki t ap gouvène nan peyi Jida. Se li ki sèvi m ranpa, se li ki tout delivrans mwen, se li ki pwoteksyon mwen, se anba zèl li mwen kache. Dirijan politik lavalas yo tankou bon koutye malfektè ipokrit entènasyonal yo. pou rezoud kriz peyi Dayiti a, ke òganizasyon Nasyonzini ak òganizasyon Leta Ameriken te kreye li. Antan n ap viv nan mitan lòt nasyon sa yo, nou p ap janm gen kè poze, nou p ap janm ka rete yon sèl kote. Tout machandiz ou yo, tout moun ki t ap travay pou ou yo disparèt ansanm avè ou nan lanmè. Mwen rete konsa, mwen wè yon nonm ki te gen yon bèl rad byen klere sou li kanpe devan mwen. Joab menm, pitit gason Sewouya a, leve ansanm ak sòlda David yo, yo kite lavil Ebwon, yo pati tou. Madichon pou nenpòt moun ki va mete manje nan bouch li jòdi a anvan mwen pran revanj mwen sou lènmi m yo. Sitou sa yo ki nan mawon jou ki te vandredi 11 avril 1997 la nan Gwomòn. Nan rale li t ap fè yo, mèt la pat manke pale sou bon mach ak jesyon y ap fè pou bay jistis. Lèfini, yo pote tèt Orèb ak tèt Zeyèb bay Jedeyon ki te sou bò solèy leve larivyè Jouden an. Paske, mwen p ap kache di nou sa: Bondye kapab pran wòch sa yo, li fè yo tounen pitit pou Abraram. Tankou kanna oswa lapen ki pa pase pou twò òdinè nam sikonstans konsa. Salomon te gen 4000 kay kote li te mete chwal li yo ak cha lagè, ak 12000 chwal pou sòlda kavalye yo. Jwif Bere yo te gen pi bon santiman pase sa Tesalonik yo: yo te resevwa pawòl la byen vit san traka. Epi tou, se pa bagay k ap pran yon jou osinon de jou, paske gen anpil nan nou ki koupab nan zafè sa a. Ki ponkò kab jwenn yon vrè solisyon. Depi jòdi a, je m louvri, zòrèy mwen pare pou m tande tout lapriyèy ap fè isit la. Mwen tande bri zèl bèt yo ki t ap bat ansanm ak bri wou yo, ou ta di bri yon foul moun k ap rele. Etan lwen je moun pa janm ba w wè nèj ret kouwi l. Priye pou reyinyon an. Konsa tout moun va menm jan, daprè sa ki te ekri nan Liv la moun ki te ranmase plis yo pa t gen twòp. Yo travèse zòn Negèv la, yo rive lavil Ebwon kote moun Ayiman yo, moun Chechayi yo ak moun Talmayi yo rete. Lè nou remoute nan tan Seyè a te pale ak Moyiz sou mòn Sinayi a, men moun ki te nan fanmi Arawon ak Moyiz. Lèfini, li renmèt yo nan men chèf gad ki t ap fè pòs nan pòtay kay wa a. Se vre wi, moun ki vire do ba ou pral mouri, wap fini nèt ak moun ki pa kenbe pawòl yo gen avè ou. Nou pa kapab kontinye ak vye konsepsyon sa a kote pi gwo objektif chak moun se jwenn pou tèt pa l. Wi, se poutèt sa, mwen tonbe ajenou devan Papa a, ki bay tout fanmi ki nan syèl la ak sou latè a non yo. Tout bagay kòmanse, aprè ansyen minis la mande lakou dè kont ba l yon dechaj sou jesyon li. Depi nan vant manman l, Jakòb, zansèt yo, t ap goumen ak Ezaou, frè jimo li a. Daprè enfòmasyon ki disponib, sou chak 100 moun pa t menm gen 10 ki te chawzi al vote. Pandan yo t ap pale konsa, Jezi li menm vin kanpe nan mitan yo, li di yo benediksyon Bondye sou nou tout. Matiren te reklame echantiyon pwodui dominikèn yo diri ti tèt ak fig bannann. Mwen mande w kouman w rele yo? Poutèt gwo mechanste nou te fè a, kòmanse batay la va kòmanse, wa Izrayèl la gen pou mouri. Foul moun te sòti depi Pas Amat la nan nò jouk sou fwontyè ak peyi Lejip la nan sid, yo vin fete la. Si yo pran desizyon ki bon osinon movèz desizyon, yo gen pou viv ak konsekans yo. Wa vonmi tout sa ou te manje a. Sa lakòz pwoblèm lavichè, chomay, grangou, sante ak edikasyon vin pi di ann ayiti. Sèten jounalis te rapwoche pou enfòme sa k ap pase andedan komisarya Jakmèl la. Achoub sa a te pitit Azrikam, Azrikam te pitit Achabya, nan branch fanmi Merari a. Seyè a pral lonje men l, moun k ap bay pwoteksyon an ap bite, moun k ap chache pwoteksyon an ap tonbe. Dezyèm jou a, se te tou pa Netanèl, pitit gason wa a, chèf branch fanmi Izaka a. Fòk politik la fèt ak tolerans, ak transparans, nan respè règ jwèt la, san kwòk anjanm Te gen kèk farizyen la ki di yo konsa: Poukisa n ap fè bagay lalwa nou pa pèmèt moun fè gwo jou repo a ? Kouman ou ka aji ak moun tankou si yo te pwason nan lanmè, tankou koulèv nan raje ki pa gen mèt? Yo dezabiye l, yo mete yon gwo rad koulè wouj vyolèt sou li. Lè Jozafa mouri, yo antere l nan Lavil David, zansèt li a. Moun te sòti nan tout ti bouk ki nan vwazinaj Jerizalèm. Chèf prèt yo ak dirèktè lalwa yo tap chache yon riz pou yo fè touye Jezi, paske yo te pè pèp la. Abraram rele pitit gason Sara te fè pou li a Izarak. Yo travèse zòn Negèv la, yo rive lavil Ebwon kote moun Ayiman yo, moun Chechayi yo ak moun Talmayi yo rete. Tanpri, pa fòse m moutre nou jan mwen ka sevè lè ma rive lakay nou. Si yon moun swaf dlo, ma ba li bwè dlo gratis nan sous dlo ki bay lavi a. jou ki te lendi 13 janvye a, mwen te vin devan nou pou prezante Premye Bilan Aktivite Gouvènman an. Men non pitit Chemaja yo Otni, Rafayèl, Obèd, Elzabad, Eliyou ak Semakya. Mwen mete nepe nan tout pòtay yo, yon nepe k ap bay zèklè, yon nepe ki pare pou touye anpil moun. Responsablite Sitwayen yo, òganizasyon yo nan sosyete sivil la. Ou lage tout wa yo ak tout pèp ki t ap viv nan peyi a nan men pèp ou a, pou yo te fè ak yo sa yo te vle. Madi 15 avril 1997 popilasyon nan zòn Bwa Pini Obòy poze lapat sou yon vòlè bèf ki rele Mirabo Jozèf. Sitèlman li te cho dèyè mesye sa yo, li avili tèt li, li tonbe fè sèvis pou vye zidòl moun peyi Lasiri yo. Egzamine byen tout sa Jòb di la a. Men sa nou pral fè nou pral tire osò pou n chwazi kèk moun pou al regle moun lavil Gibeya yo. Lè sa a, Jezi pase lòd pou disip li yo fè tout moun chita atè sou zèb la, ti gwoup bò isit, ti gwoup bò la. Konsa, nou pap pèdi tèt nou, nou pap vire do ban mwen pou nou swiv pwòp lide pa nou ak pwòp dezi pa nou. yo t ap chèche e yo te vire tounen monte desann sou plas sa a pandan in èd tan. Ba yo tout respè yo merite, paske yo menm tou ya resevwa menm lavi avèk nou tankou yon favè nan men Bondye. Yon jou Izmayèl, pitit Aga, fanm peyi Lejip la te fè pou Abraram lan t ap jwe ak Izarak, pitit Sara a. Batcheba, pitit fi Amiyel la, fe kat pitit gason pou li: Chimea, Chabab, Natan ak Salomon. Yon tyè nan solèy la, yon tyè nan lalin nan, ak yon tyè nan zetwal yo domaje. Yo renmèt li nan men Gedalya, pitit Akikam, pitit pitit Chafan, ki te pou fè l rive lakay li san danje. èske se pou n al goumen ankò kont moun Benjamen yo, frè nou yo, osinon èske se pou n rete sou sa nou fè a? Foto Rankont manm Asanble popilè nasyonal ak delegasyon vandredi 11 avril 1997 la. Lè Amasya fin chita otorite l, li fè touye chèf lame ki t ap sèvi avè l yo epi ki te touye papa l. Se yon zòn ki rich, gen pwodiksyon kafe, kakawo e gen preparasyon kap fèt pou Benèt retounen. Yon nonm ki mete dezòd nan fanmi li, lakòz madanm li ansanm ak tout pitit li yo nan tout sa ki pa bon. E nou pap bay okenn makout lè pou ta vin rantre nan bagay sa a pou ta koze yon bagay pi mal nan Obòy. Mwen deja moutre nou sa tout moun, ou te mèt jwif, ou te mèt pa jwif, tout moun anba pouvwa peche a. Yon lòt zanj vin kanpe touprè lotèl la, li te gen yon lansan swa an lò nan men li. Se konsa, li resi rive pran tèt anpil moun, pa isit nan lavil Efèz la ase, men nan tout pwovens Lazi a. èske gen yon moun la a ki fèk plante yon jaden rezen epi ki poko gen chans fè yon rekòt rezen menm? Sa ki avèg, sa k ap bwete, fanm ki ansent, fanm ki gen tranche, yo tout ap vin ansanm. Mwen te di nan kè m pa gen moun ki gen krentif pou Bondye bò isit la. Moun lavil Jeriko yo rebati ti pòsyon ki vin aprè pa Elyachib, gran prèt la. Si nou pa kenbe pawòl nou, li menm lap toujou kenbe pawòl pa li, paske Bondye pa kapab demanti tèt li. Nan mitan òganizasyon ti plantè Nòdès, Koperativ Tousen Louvèti elatriye. Seyè a, Bondye zansèt nou yo, Bondye Abraram lan, Bondye Izarak la, Bondye Jakòb la, te parèt devan mwen. Kaynan te pitit Enòs, Enòs te pitit Sèt, Sèt te pitit Adan, epi Adan te pitit Bondye. Desizyon sa a te pran dekwa pou pèmèt Palman an vote yon lwa ki pou ta bay entèpretasyon l. Sa w gen pou vann? Aprè sa, mwen chwazi 12 moun nan chèf prèt yo: se te Cherebya, Achabya ak dis lòt chèf prèt. Piga nou janm manje grès bèf, grès kabrit osinon grès mouton. Men moun David te mete pou responsab tout chante nan Tanp Seyè a lè ya fin enstale Bwat Kontra a ladan l. Moun k ap kontinye viv nan peche, se moun Satan yo ye, paske Satan ap fè peche depi nan konmansman. Li bo li, li klere je l nan je l, li di l mwen te gen pou m ofri yon bèt pou yo touye pou di Bondye mèsi. Fris Lonchan di nou, Patrik Eli bezwen swiv yon tretman nan men doktè, men, li refize. Yo tande pawòl la, men traka lavi ak anvi gen lajan, tou sa toufe pawòl la, kifè yo pa ka bay anyen menm. Pa mete nan tèt ou lèy ap touye jwif yo wap chape paske se lakay wa a ou rete. Kouman ti figi w fennen konsa a? Lè ou pa sèvi ak zam ou sèvi ak baton. Men fwontyè peyi nou pral separe pou nou bay douz branch fanmi pèp Izrayèl yo pòsyon pa yo chak. Lè sa a, nan lavil Souz, kapital peyi a, te gen yon jwif ki te rele Madoche. epi se yon plent Gouvènman ameriken, ou byen yon sitwayen ameriken, yon enstans ameriken, gen kont ou. Paske mwen pral fè yon travay koulye a nan mitan nou, bagay nou pa ta kwè, menm si moun ta rakonte nou li. Menm si yon nèg gen anpil kouraj, fè plis pase 250 bit patat. Lè sa a yon tèt bourik te koute 80 pyès ajan, yon demi liv kaka pijon te koute 5 pyès ajan. Se poutèt sa, moun k ap kenbe tèt ak otorite yo, yo refize obeyi lòd Bondye tabli. Yon sous nou ka fè konfyans fè nou konnen, te gen yon chita pale ant Fanmi Lavalas ak Pati Louvri Baryè. Se sak fè, lè m te ankòlè a, mwen sèmante yo pap janm mete pye yo kote pou yo pran repo ansanm ak mwen an. Aprè li, vini Bouz, Kemwèl, papa Aram, Kesèd, Azò, Pildach, Jidlaf ak Betwèl. Jezila te pase yon move nwit ak lafyèv , vonmisman , maltèt , san konte kèplen . Jilyo Apolon, akize jij denstriksyon tribinal Aken an fè arete Meyiz ranswa ki pase 8 mwa nan prizon. Mande vizitè yo pou yo pale sou fanmi yo, sou travay yo fè, sou rezon y ap asiste legliz la, sou plan yo. Lè sa a, Pilat antre nan palè a, li rele Jezi, li mande li èske se wa jwif yo ou ye? Wa antre nan batiman an, ou menm, pitit gason ou yo, madanm ou ansanm ak madanm pitit ou yo. èske legliz lokal la ak misyon an se 2 òganizasyon paralèl a menm nivo ? Tandiske wòch yo menm menm ta prese deboukle vin kase tèt moun bò anba yo. Yon jou konsa, Jezi te nan tanp lan, li t ap moutre pèp la anpil bagay, li t ap anonse yo bòn nouvèl la. Lè yo rive la, y al nan sinagòg jwif yo. Yo vonmi sal tout tab kote yo chita a. Yo òganize yo pou yo atake tout moun ki te vle fè yo mal. Lèfini, la fè ekri lòd sa a nan liv lalwa peyi Pès ak peyi Medi a, pou yo pa janm chanje l. Wi, mèt, nou pral swiv konsèy ou menm ak lòt moun ki gen respè pou kòmandman Bondye nou an te ban nou. Li bay chak gwoup gad pòtay Tanp lan lè travay yo nan chak pòtay, daprè lòd David, moun Bondye a, te kite. Se pou dlo anmè ki bay madichon an antre nan vant ou pou fè l anfle, pou l fè ou pa ka janm fè pitit. Chache jan pou nou viv byen ak moun. Se poutèt sa, mwen menm Seyè a, mwen di nou pa koute m, nou pa bay moun pèp Izrayèl parèy nou yo libète yo. Tete ou yo doubout tankou de ti gazèl, tankou de ti gazèl menm fòs, menm pòte k ap manje nan jaden flè. Tankou kanna oswa lapen ki pa pase pou twò òdinè nan sikonstans konsa. Yo mare w pou tout bon bagay sa yo, anpi ou jwenn mwayen w ap plenyen pou sa? Kèk tan apre sa, moun peyi Moab yo ak moun peyi Amon yo mete ansanm ak moun Mawon yo, yo vin atake Jozafa. Gen yon sèl Bondye, ki papa nou tout, k ap domine sou nou tout, k ap aji nan nou tout, ki nan nou tout. Mwen te di nan kè m pa gen moun ki gen krentif pou Bondye bò isit la. Chèf prèt yo, dirèktè lalwa yo ak chèf pèp la t ap chache ki jan pou yo touye li. Lonje men ou pou yo ka fè gerizon, mirak ak lòt bèl bagay nan non Jezi, sèvitè ki te viv pou ou a. David te pitit Izayi, Izayi te pitit Jobèd, Jobèd te pitit Booz, Booz te pitit Sala, Sala te pitit Naason. Pandan douzan, senk wa sa yo te soumèt devan Kedòlaòmè. Okontrè, avèk fòs kouraj Bondye ap ba ou a, se pou ou asepte soufri avè m pou bon nouvèl la. Li klè batay kont plan Fon Monetè Entènasyonal Bank Mondyal, vini yon nesesite chak jou. Wi, li pare pou l delivre moun ki gen krentif pou li, pou l fè yo santi pouvwa li, pou l toujou la avèk yo. Te gen kèk moun Levi ki te rete nan teritwa moun Jida yo, yo voye yo al rete nan teritwa moun Benjamen yo. Pa janm dekouraje, paske se ou menm ki pral fè pèp la antre pran peyi mwen te fè sèman m ap bay zansèt yo a. Zanj Seyè a parèt devan l sou fòm yon flanm dife nan mitan yon ti touf bwa. Nou tout nou fè pati pèp Bondye a se li menm ki te renmen nou, ki te chwazi nou pou n ka viv pou li. Chak moun va pran yon ti recho dife, ya mete lansan ladan l, epi ya pote recho yo devan Seyè a. Men, wete lide ou sou istwa san sans ki pa dakò ak konfyans nan Bondye, ak sou radòt ki pa merite repete. Moyiz voye 12,000 gason sa yo al fè lagè. Anplwaye libreman ywit aspè adorasyon ou jwenn pi ba yo. Se te Jeriko, Bèt Ogla, Emèk kesis, Bèt arara, Semarayim, Betèl, Avim, Para, Ofra, Kefa amoni, Ofni, Geba. Li te pran sant zès zoranj yo. 3zyèm pòsyon tè a te vin pou moun branch fanmi Zabilon yo, pou yo separe bay chak fanmi pa yo. Yon lòt bò, otorite ayisyen yo pa gen dwa arete ni fèmen nan prizon okenn anplwaye Misyon an. Malgre li te anvi leve , li pat ka leve , sitan li te genyen yon lafyèv cho sou li . Moun k ap fè zidòl yo wont sa yo fè a, paske bondye yo fè yo se fo bondye yo ye, yo pa gen lavi nan yo. Li wete rad prizonye ki te sou Jojakim lan, li fè l vin manje sou menm tab avè l jouk Jojakim mouri. Nou tout, nou te resevwa batèm pou n te ka viv ansanm ak Kris la, nou mete sou nou kalite ki nan Kris yo. Pa prese wete kò ou devan li, pa pèsiste nan move pant lan, paske li ka fè ou sa li vle. Pou Kanlwiz, depi w rive mwa avril al pou mwa septanm prèske pa gen travay nan jaden ankò. Seyè a te voye yon maladi sou pèp la pou pini l, paske yo te fòse Arawon fè estati yon ti bèf pou yo. Biwo santral gwoup mesye sila yo chita nan Montay Nwa, piwo Petyonvil. Fòk nou raple vis delege Mak Lamou te fè yon rasanbleman piblik nan Chanpay nan dat 9 desanm 1996 la. flèch yo tonbe bò lòt bò, yo depase kote ou ye a, leve met deyò, paske se Seyè a menm kap voye ou ale. Wi, jou la vini an, nou p ap wont devan l, yo p ap kapab voye nou jete byen lwen li. Antan yo t ap manje, Jezi pran pen, li di Bondye mèsi, li kase l, li bay disip yo, li di pran, manje. Foul moun yo moute lakay Pilat, yo pran mande Pilat pou l lage yon prizonye ba yo jan li te toujou fè a. Twazan apre sa, 2 nan esklav Chimeyi yo sove, y al lakay Akich, pitit gason Maka a, ki te wa lavil Gat. Aprè sa, nou menm moun Jida yo, na ale ansanm ak nou nan pòsyon tè yo ban nou an, nou menm moun Simeyon yo. Nakò te pitit Sewouk, Sewouk te pitit Rago, Rago te pitit Falèk, Falèk te pitit Ebè, Ebè te pitit Sala. Yon tan apre , katastwòf la ta pral bout nan lise Petyon lè fòs Entèvansyon Rapid Polis Nasyonal la debake. Nou toujou ap revandike tout yon seri bagay k ap fèt mal kote nèg yo. Poukisa atò ou kite nou pèdi chemen ou te mete devan nou an, ou kite nou lage kò nou nan raje?'"
      ]
     },
     "execution_count": 111,
     "metadata": {},
     "output_type": "execute_result"
    }
   ],
   "source": [
    "text"
   ]
  },
  {
   "cell_type": "code",
   "execution_count": 115,
   "metadata": {
    "ExecuteTime": {
     "end_time": "2021-02-07T05:50:30.284811Z",
     "start_time": "2021-02-07T05:50:30.276070Z"
    }
   },
   "outputs": [],
   "source": [
    "import json"
   ]
  },
  {
   "cell_type": "code",
   "execution_count": 120,
   "metadata": {
    "ExecuteTime": {
     "end_time": "2021-02-07T05:55:34.126435Z",
     "start_time": "2021-02-07T05:55:34.108901Z"
    }
   },
   "outputs": [],
   "source": [
    "aws_file = '/Users/adimaini/Documents/GW/Research/CODE.nosync/WEAT-WEFAT/data/cmu_haitian_speech/aws/asrOutput.json'\n",
    "f = open(aws_file)\n",
    "\n",
    "aws_output = json.load(f)"
   ]
  },
  {
   "cell_type": "code",
   "execution_count": 133,
   "metadata": {
    "ExecuteTime": {
     "end_time": "2021-02-07T05:58:53.850554Z",
     "start_time": "2021-02-07T05:58:53.840533Z"
    }
   },
   "outputs": [],
   "source": [
    "aws_transcript = aws_output['results']['transcripts'][0]['transcript']"
   ]
  },
  {
   "cell_type": "code",
   "execution_count": 134,
   "metadata": {
    "ExecuteTime": {
     "end_time": "2021-02-07T05:59:10.538185Z",
     "start_time": "2021-02-07T05:59:03.774935Z"
    }
   },
   "outputs": [
    {
     "name": "stdout",
     "output_type": "stream",
     "text": [
      "Defaulting to user installation because normal site-packages is not writeable\n",
      "Collecting jiwer\n",
      "  Downloading jiwer-2.2.0-py3-none-any.whl (13 kB)\n",
      "Collecting python-Levenshtein\n",
      "  Downloading python-Levenshtein-0.12.2.tar.gz (50 kB)\n",
      "\u001b[K     |████████████████████████████████| 50 kB 858 kB/s eta 0:00:01\n",
      "\u001b[?25hRequirement already satisfied: numpy in /Users/adimaini/Library/Python/3.7/lib/python/site-packages (from jiwer) (1.18.4)\n",
      "Requirement already satisfied: setuptools in /Users/adimaini/Library/Python/3.7/lib/python/site-packages (from python-Levenshtein->jiwer) (46.4.0)\n",
      "Building wheels for collected packages: python-Levenshtein\n",
      "  Building wheel for python-Levenshtein (setup.py) ... \u001b[?25ldone\n",
      "\u001b[?25h  Created wheel for python-Levenshtein: filename=python_Levenshtein-0.12.2-cp37-cp37m-macosx_10_14_x86_64.whl size=81520 sha256=e4784d8f9d1791bbbff98460ad0c502217f1e9e506a05a7b4c0c30aaab046a63\n",
      "  Stored in directory: /Users/adimaini/Library/Caches/pip/wheels/05/5f/ca/7c4367734892581bb5ff896f15027a932c551080b2abd3e00d\n",
      "Successfully built python-Levenshtein\n",
      "Installing collected packages: python-Levenshtein, jiwer\n",
      "Successfully installed jiwer-2.2.0 python-Levenshtein-0.12.2\n",
      "\u001b[33mWARNING: You are using pip version 20.2.4; however, version 21.0.1 is available.\n",
      "You should consider upgrading via the '/Library/Developer/CommandLineTools/usr/bin/python3 -m pip install --upgrade pip' command.\u001b[0m\n"
     ]
    }
   ],
   "source": [
    "!pip install jiwer"
   ]
  },
  {
   "cell_type": "code",
   "execution_count": 135,
   "metadata": {
    "ExecuteTime": {
     "end_time": "2021-02-07T05:59:26.954637Z",
     "start_time": "2021-02-07T05:59:26.385313Z"
    }
   },
   "outputs": [],
   "source": [
    "from jiwer import wer\n",
    "error = wer(text, aws_transcript)"
   ]
  },
  {
   "cell_type": "code",
   "execution_count": 136,
   "metadata": {
    "ExecuteTime": {
     "end_time": "2021-02-07T05:59:28.501150Z",
     "start_time": "2021-02-07T05:59:28.495944Z"
    }
   },
   "outputs": [
    {
     "data": {
      "text/plain": [
       "0.988116458704694"
      ]
     },
     "execution_count": 136,
     "metadata": {},
     "output_type": "execute_result"
    }
   ],
   "source": [
    "error"
   ]
  },
  {
   "cell_type": "code",
   "execution_count": null,
   "metadata": {},
   "outputs": [],
   "source": []
  }
 ],
 "metadata": {
  "kernelspec": {
   "display_name": "Python 3.7.3 64-bit",
   "language": "python",
   "name": "python37364bit4db73d59933341feaa47a8db6a2db2c7"
  },
  "language_info": {
   "codemirror_mode": {
    "name": "ipython",
    "version": 3
   },
   "file_extension": ".py",
   "mimetype": "text/x-python",
   "name": "python",
   "nbconvert_exporter": "python",
   "pygments_lexer": "ipython3",
   "version": "3.7.3"
  }
 },
 "nbformat": 4,
 "nbformat_minor": 4
}

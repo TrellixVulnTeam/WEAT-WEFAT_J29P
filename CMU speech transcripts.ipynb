{
 "cells": [
  {
   "cell_type": "code",
   "execution_count": 1,
   "metadata": {
    "ExecuteTime": {
     "end_time": "2021-02-09T17:32:09.832991Z",
     "start_time": "2021-02-09T17:32:07.853802Z"
    }
   },
   "outputs": [],
   "source": [
    "import pandas as pd\n",
    "import numpy as np \n",
    "from gensim import models\n",
    "from lib import weat\n",
    "from lib import weat_main\n",
    "import os\n",
    "import scipy\n",
    "import matplotlib.pyplot as plt\n",
    "import importlib\n",
    "from scipy import stats\n",
    "import seaborn as sns\n",
    "import fasttext\n",
    "import fasttext.util"
   ]
  },
  {
   "cell_type": "markdown",
   "metadata": {},
   "source": [
    "### Read the CMU speech transcripts"
   ]
  },
  {
   "cell_type": "code",
   "execution_count": 2,
   "metadata": {
    "ExecuteTime": {
     "end_time": "2021-02-09T17:32:09.869688Z",
     "start_time": "2021-02-09T17:32:09.835125Z"
    }
   },
   "outputs": [],
   "source": [
    "import wave"
   ]
  },
  {
   "cell_type": "code",
   "execution_count": 3,
   "metadata": {
    "ExecuteTime": {
     "end_time": "2021-02-09T17:32:13.640056Z",
     "start_time": "2021-02-09T17:32:13.623985Z"
    }
   },
   "outputs": [],
   "source": [
    "txt_file = '/Users/adimaini/Documents/GW/Research/CODE.nosync/WEAT-WEFAT/data/cmu_haitian_speech/etc/txt.done.data'\n",
    "\n",
    "transcript = pd.read_csv(txt_file, sep='\"', header=None).drop(columns=[2])\n",
    "transcript.columns = ['id', 'text']"
   ]
  },
  {
   "cell_type": "code",
   "execution_count": 4,
   "metadata": {
    "ExecuteTime": {
     "end_time": "2021-02-09T17:32:18.482968Z",
     "start_time": "2021-02-09T17:32:18.467185Z"
    }
   },
   "outputs": [],
   "source": [
    "# clean out the 'id' and 'text' column spacing and extra paranthesis\n",
    "transcript['id'] = transcript['id'].apply(lambda x: x.lstrip('( ').strip())\n",
    "transcript['text'] = transcript['text'].apply(lambda x: x.lstrip().strip())\n",
    "\n",
    "# sort the transcripts in a certain manner\n",
    "# transcript = transcript.sort_values(ascending=False, by='id').reset_index(drop=True)\n",
    "\n",
    "# shuffle the transcripts to allow for random speakers for our accuracy sub sample\n",
    "transcript = transcript.sample(frac=1, random_state=5)"
   ]
  },
  {
   "cell_type": "markdown",
   "metadata": {},
   "source": [
    "### Read the CMU audio files and order them in the same fashion as the transcript data"
   ]
  },
  {
   "cell_type": "code",
   "execution_count": 5,
   "metadata": {
    "ExecuteTime": {
     "end_time": "2021-02-09T17:32:33.382022Z",
     "start_time": "2021-02-09T17:32:33.352298Z"
    }
   },
   "outputs": [],
   "source": [
    "# Read the CMU audio files and order them in the same fashion as the transcript data\n",
    "path_to_wav = '/Users/adimaini/Documents/GW/Research/CODE.nosync/WEAT-WEFAT/data/cmu_haitian_speech/wav/'\n",
    "dir_file = os.listdir(path=path_to_wav)"
   ]
  },
  {
   "cell_type": "code",
   "execution_count": 7,
   "metadata": {
    "ExecuteTime": {
     "end_time": "2021-02-09T17:33:16.545710Z",
     "start_time": "2021-02-09T17:33:16.397188Z"
    }
   },
   "outputs": [],
   "source": [
    "# output the combined .wav files. in order to match the duration of the radio transcription, \n",
    "# we will only select 200 transcripts (31 minutes) of the transcripts at first. \n",
    "\n",
    "outfile = 'data/cmu_haitian_speech/aws/cmu_combined.wav'\n",
    "no_samples = 180\n",
    "\n",
    "data = []\n",
    "for t_id in transcript.id[:no_samples]: \n",
    "    file = path_to_wav + t_id + '.wav'\n",
    "    w = wave.open(file, 'rb')\n",
    "    data.append( [w.getparams(), w.readframes(w.getnframes())] )\n",
    "    w.close()\n",
    "    \n",
    "output = wave.open(outfile, 'wb')\n",
    "output.setparams(data[0][0])\n",
    "for i in range(len(data)): \n",
    "    output.writeframes(data[i][1])\n",
    "output.close()"
   ]
  },
  {
   "cell_type": "code",
   "execution_count": 8,
   "metadata": {
    "ExecuteTime": {
     "end_time": "2021-02-09T17:33:17.161976Z",
     "start_time": "2021-02-09T17:33:17.157309Z"
    }
   },
   "outputs": [],
   "source": [
    "text = ' '.join(transcript[:no_samples].text.values)"
   ]
  },
  {
   "cell_type": "code",
   "execution_count": 9,
   "metadata": {
    "ExecuteTime": {
     "end_time": "2021-02-09T17:33:17.667710Z",
     "start_time": "2021-02-09T17:33:17.659472Z"
    }
   },
   "outputs": [
    {
     "data": {
      "text/plain": [
       "'Konsa tou, sa nou wè koulye a, se tankou yon pòtrè nap gade yon jan twoub twoub nan yon glas. Avantaj baraj Pelig la t ap bay peyizan Latibonit yo chans pou jwenn dlo pandan tout sezon an. Kouman ou ka aji ak moun tankou si yo te pwason nan lanmè, tankou koulèv nan raje ki pa gen mèt? Parabòl ja lajan an Peyi Wa ki nan syèl la, se tankou yon ja lajan ki te anba tè nan yon jaden. Aprè sa, li pale avèk sa ki sou bò gòch li yo, li di: wete kò nou sou mwen, nou menm ki gen madichon. Epi li rete konsa li wè gwo lafimen ap moute sòti nan tè a tankou lafimen k ap leve nan yon gwo founo dife. Epi li rete konsa li wè gwo lafimen ap moute sòti nan tè a tankou lafimen k ap leve nan yon gwo founo dife. Se pou l tounen dènye klas esklav frè l yo. Lè sa a, se wa Akaz, pitit gason Jotam, pitit pitit gason Ozyas, ki t ap gouvène nan peyi Jida. Se li ki sèvi m ranpa, se li ki tout delivrans mwen, se li ki pwoteksyon mwen, se anba zèl li mwen kache. Dirijan politik lavalas yo tankou bon koutye malfektè ipokrit entènasyonal yo. pou rezoud kriz peyi Dayiti a, ke òganizasyon Nasyonzini ak òganizasyon Leta Ameriken te kreye li. Antan n ap viv nan mitan lòt nasyon sa yo, nou p ap janm gen kè poze, nou p ap janm ka rete yon sèl kote. Tout machandiz ou yo, tout moun ki t ap travay pou ou yo disparèt ansanm avè ou nan lanmè. Mwen rete konsa, mwen wè yon nonm ki te gen yon bèl rad byen klere sou li kanpe devan mwen. Joab menm, pitit gason Sewouya a, leve ansanm ak sòlda David yo, yo kite lavil Ebwon, yo pati tou. Madichon pou nenpòt moun ki va mete manje nan bouch li jòdi a anvan mwen pran revanj mwen sou lènmi m yo. Sitou sa yo ki nan mawon jou ki te vandredi 11 avril 1997 la nan Gwomòn. Nan rale li t ap fè yo, mèt la pat manke pale sou bon mach ak jesyon y ap fè pou bay jistis. Lèfini, yo pote tèt Orèb ak tèt Zeyèb bay Jedeyon ki te sou bò solèy leve larivyè Jouden an. Paske, mwen p ap kache di nou sa: Bondye kapab pran wòch sa yo, li fè yo tounen pitit pou Abraram. Tankou kanna oswa lapen ki pa pase pou twò òdinè nam sikonstans konsa. Salomon te gen 4000 kay kote li te mete chwal li yo ak cha lagè, ak 12000 chwal pou sòlda kavalye yo. Jwif Bere yo te gen pi bon santiman pase sa Tesalonik yo: yo te resevwa pawòl la byen vit san traka. Epi tou, se pa bagay k ap pran yon jou osinon de jou, paske gen anpil nan nou ki koupab nan zafè sa a. Ki ponkò kab jwenn yon vrè solisyon. Depi jòdi a, je m louvri, zòrèy mwen pare pou m tande tout lapriyèy ap fè isit la. Mwen tande bri zèl bèt yo ki t ap bat ansanm ak bri wou yo, ou ta di bri yon foul moun k ap rele. Etan lwen je moun pa janm ba w wè nèj ret kouwi l. Priye pou reyinyon an. Konsa tout moun va menm jan, daprè sa ki te ekri nan Liv la moun ki te ranmase plis yo pa t gen twòp. Yo travèse zòn Negèv la, yo rive lavil Ebwon kote moun Ayiman yo, moun Chechayi yo ak moun Talmayi yo rete. Lè nou remoute nan tan Seyè a te pale ak Moyiz sou mòn Sinayi a, men moun ki te nan fanmi Arawon ak Moyiz. Lèfini, li renmèt yo nan men chèf gad ki t ap fè pòs nan pòtay kay wa a. Se vre wi, moun ki vire do ba ou pral mouri, wap fini nèt ak moun ki pa kenbe pawòl yo gen avè ou. Nou pa kapab kontinye ak vye konsepsyon sa a kote pi gwo objektif chak moun se jwenn pou tèt pa l. Wi, se poutèt sa, mwen tonbe ajenou devan Papa a, ki bay tout fanmi ki nan syèl la ak sou latè a non yo. Tout bagay kòmanse, aprè ansyen minis la mande lakou dè kont ba l yon dechaj sou jesyon li. Depi nan vant manman l, Jakòb, zansèt yo, t ap goumen ak Ezaou, frè jimo li a. Daprè enfòmasyon ki disponib, sou chak 100 moun pa t menm gen 10 ki te chawzi al vote. Pandan yo t ap pale konsa, Jezi li menm vin kanpe nan mitan yo, li di yo benediksyon Bondye sou nou tout. Matiren te reklame echantiyon pwodui dominikèn yo diri ti tèt ak fig bannann. Mwen mande w kouman w rele yo? Poutèt gwo mechanste nou te fè a, kòmanse batay la va kòmanse, wa Izrayèl la gen pou mouri. Foul moun te sòti depi Pas Amat la nan nò jouk sou fwontyè ak peyi Lejip la nan sid, yo vin fete la. Si yo pran desizyon ki bon osinon movèz desizyon, yo gen pou viv ak konsekans yo. Wa vonmi tout sa ou te manje a. Sa lakòz pwoblèm lavichè, chomay, grangou, sante ak edikasyon vin pi di ann ayiti. Sèten jounalis te rapwoche pou enfòme sa k ap pase andedan komisarya Jakmèl la. Achoub sa a te pitit Azrikam, Azrikam te pitit Achabya, nan branch fanmi Merari a. Seyè a pral lonje men l, moun k ap bay pwoteksyon an ap bite, moun k ap chache pwoteksyon an ap tonbe. Dezyèm jou a, se te tou pa Netanèl, pitit gason wa a, chèf branch fanmi Izaka a. Fòk politik la fèt ak tolerans, ak transparans, nan respè règ jwèt la, san kwòk anjanm Te gen kèk farizyen la ki di yo konsa: Poukisa n ap fè bagay lalwa nou pa pèmèt moun fè gwo jou repo a ? Kouman ou ka aji ak moun tankou si yo te pwason nan lanmè, tankou koulèv nan raje ki pa gen mèt? Yo dezabiye l, yo mete yon gwo rad koulè wouj vyolèt sou li. Lè Jozafa mouri, yo antere l nan Lavil David, zansèt li a. Moun te sòti nan tout ti bouk ki nan vwazinaj Jerizalèm. Chèf prèt yo ak dirèktè lalwa yo tap chache yon riz pou yo fè touye Jezi, paske yo te pè pèp la. Abraram rele pitit gason Sara te fè pou li a Izarak. Yo travèse zòn Negèv la, yo rive lavil Ebwon kote moun Ayiman yo, moun Chechayi yo ak moun Talmayi yo rete. Tanpri, pa fòse m moutre nou jan mwen ka sevè lè ma rive lakay nou. Si yon moun swaf dlo, ma ba li bwè dlo gratis nan sous dlo ki bay lavi a. jou ki te lendi 13 janvye a, mwen te vin devan nou pou prezante Premye Bilan Aktivite Gouvènman an. Men non pitit Chemaja yo Otni, Rafayèl, Obèd, Elzabad, Eliyou ak Semakya. Mwen mete nepe nan tout pòtay yo, yon nepe k ap bay zèklè, yon nepe ki pare pou touye anpil moun. Responsablite Sitwayen yo, òganizasyon yo nan sosyete sivil la. Ou lage tout wa yo ak tout pèp ki t ap viv nan peyi a nan men pèp ou a, pou yo te fè ak yo sa yo te vle. Madi 15 avril 1997 popilasyon nan zòn Bwa Pini Obòy poze lapat sou yon vòlè bèf ki rele Mirabo Jozèf. Sitèlman li te cho dèyè mesye sa yo, li avili tèt li, li tonbe fè sèvis pou vye zidòl moun peyi Lasiri yo. Egzamine byen tout sa Jòb di la a. Men sa nou pral fè nou pral tire osò pou n chwazi kèk moun pou al regle moun lavil Gibeya yo. Lè sa a, Jezi pase lòd pou disip li yo fè tout moun chita atè sou zèb la, ti gwoup bò isit, ti gwoup bò la. Konsa, nou pap pèdi tèt nou, nou pap vire do ban mwen pou nou swiv pwòp lide pa nou ak pwòp dezi pa nou. yo t ap chèche e yo te vire tounen monte desann sou plas sa a pandan in èd tan. Ba yo tout respè yo merite, paske yo menm tou ya resevwa menm lavi avèk nou tankou yon favè nan men Bondye. Yon jou Izmayèl, pitit Aga, fanm peyi Lejip la te fè pou Abraram lan t ap jwe ak Izarak, pitit Sara a. Batcheba, pitit fi Amiyel la, fe kat pitit gason pou li: Chimea, Chabab, Natan ak Salomon. Yon tyè nan solèy la, yon tyè nan lalin nan, ak yon tyè nan zetwal yo domaje. Yo renmèt li nan men Gedalya, pitit Akikam, pitit pitit Chafan, ki te pou fè l rive lakay li san danje. èske se pou n al goumen ankò kont moun Benjamen yo, frè nou yo, osinon èske se pou n rete sou sa nou fè a? Foto Rankont manm Asanble popilè nasyonal ak delegasyon vandredi 11 avril 1997 la. Lè Amasya fin chita otorite l, li fè touye chèf lame ki t ap sèvi avè l yo epi ki te touye papa l. Se yon zòn ki rich, gen pwodiksyon kafe, kakawo e gen preparasyon kap fèt pou Benèt retounen. Yon nonm ki mete dezòd nan fanmi li, lakòz madanm li ansanm ak tout pitit li yo nan tout sa ki pa bon. E nou pap bay okenn makout lè pou ta vin rantre nan bagay sa a pou ta koze yon bagay pi mal nan Obòy. Mwen deja moutre nou sa tout moun, ou te mèt jwif, ou te mèt pa jwif, tout moun anba pouvwa peche a. Yon lòt zanj vin kanpe touprè lotèl la, li te gen yon lansan swa an lò nan men li. Se konsa, li resi rive pran tèt anpil moun, pa isit nan lavil Efèz la ase, men nan tout pwovens Lazi a. èske gen yon moun la a ki fèk plante yon jaden rezen epi ki poko gen chans fè yon rekòt rezen menm? Sa ki avèg, sa k ap bwete, fanm ki ansent, fanm ki gen tranche, yo tout ap vin ansanm. Mwen te di nan kè m pa gen moun ki gen krentif pou Bondye bò isit la. Moun lavil Jeriko yo rebati ti pòsyon ki vin aprè pa Elyachib, gran prèt la. Si nou pa kenbe pawòl nou, li menm lap toujou kenbe pawòl pa li, paske Bondye pa kapab demanti tèt li. Nan mitan òganizasyon ti plantè Nòdès, Koperativ Tousen Louvèti elatriye. Seyè a, Bondye zansèt nou yo, Bondye Abraram lan, Bondye Izarak la, Bondye Jakòb la, te parèt devan mwen. Kaynan te pitit Enòs, Enòs te pitit Sèt, Sèt te pitit Adan, epi Adan te pitit Bondye. Desizyon sa a te pran dekwa pou pèmèt Palman an vote yon lwa ki pou ta bay entèpretasyon l. Sa w gen pou vann? Aprè sa, mwen chwazi 12 moun nan chèf prèt yo: se te Cherebya, Achabya ak dis lòt chèf prèt. Piga nou janm manje grès bèf, grès kabrit osinon grès mouton. Men moun David te mete pou responsab tout chante nan Tanp Seyè a lè ya fin enstale Bwat Kontra a ladan l. Moun k ap kontinye viv nan peche, se moun Satan yo ye, paske Satan ap fè peche depi nan konmansman. Li bo li, li klere je l nan je l, li di l mwen te gen pou m ofri yon bèt pou yo touye pou di Bondye mèsi. Fris Lonchan di nou, Patrik Eli bezwen swiv yon tretman nan men doktè, men, li refize. Yo tande pawòl la, men traka lavi ak anvi gen lajan, tou sa toufe pawòl la, kifè yo pa ka bay anyen menm. Pa mete nan tèt ou lèy ap touye jwif yo wap chape paske se lakay wa a ou rete. Kouman ti figi w fennen konsa a? Lè ou pa sèvi ak zam ou sèvi ak baton. Men fwontyè peyi nou pral separe pou nou bay douz branch fanmi pèp Izrayèl yo pòsyon pa yo chak. Lè sa a, nan lavil Souz, kapital peyi a, te gen yon jwif ki te rele Madoche. epi se yon plent Gouvènman ameriken, ou byen yon sitwayen ameriken, yon enstans ameriken, gen kont ou. Paske mwen pral fè yon travay koulye a nan mitan nou, bagay nou pa ta kwè, menm si moun ta rakonte nou li. Menm si yon nèg gen anpil kouraj, fè plis pase 250 bit patat. Lè sa a yon tèt bourik te koute 80 pyès ajan, yon demi liv kaka pijon te koute 5 pyès ajan. Se poutèt sa, moun k ap kenbe tèt ak otorite yo, yo refize obeyi lòd Bondye tabli. Yon sous nou ka fè konfyans fè nou konnen, te gen yon chita pale ant Fanmi Lavalas ak Pati Louvri Baryè. Se sak fè, lè m te ankòlè a, mwen sèmante yo pap janm mete pye yo kote pou yo pran repo ansanm ak mwen an. Aprè li, vini Bouz, Kemwèl, papa Aram, Kesèd, Azò, Pildach, Jidlaf ak Betwèl. Jezila te pase yon move nwit ak lafyèv , vonmisman , maltèt , san konte kèplen . Jilyo Apolon, akize jij denstriksyon tribinal Aken an fè arete Meyiz ranswa ki pase 8 mwa nan prizon. Mande vizitè yo pou yo pale sou fanmi yo, sou travay yo fè, sou rezon y ap asiste legliz la, sou plan yo. Lè sa a, Pilat antre nan palè a, li rele Jezi, li mande li èske se wa jwif yo ou ye? Wa antre nan batiman an, ou menm, pitit gason ou yo, madanm ou ansanm ak madanm pitit ou yo. èske legliz lokal la ak misyon an se 2 òganizasyon paralèl a menm nivo ? Tandiske wòch yo menm menm ta prese deboukle vin kase tèt moun bò anba yo. Yon jou konsa, Jezi te nan tanp lan, li t ap moutre pèp la anpil bagay, li t ap anonse yo bòn nouvèl la. Lè yo rive la, y al nan sinagòg jwif yo. Yo vonmi sal tout tab kote yo chita a. Yo òganize yo pou yo atake tout moun ki te vle fè yo mal. Lèfini, la fè ekri lòd sa a nan liv lalwa peyi Pès ak peyi Medi a, pou yo pa janm chanje l. Wi, mèt, nou pral swiv konsèy ou menm ak lòt moun ki gen respè pou kòmandman Bondye nou an te ban nou. Li bay chak gwoup gad pòtay Tanp lan lè travay yo nan chak pòtay, daprè lòd David, moun Bondye a, te kite. Se pou dlo anmè ki bay madichon an antre nan vant ou pou fè l anfle, pou l fè ou pa ka janm fè pitit. Chache jan pou nou viv byen ak moun. Se poutèt sa, mwen menm Seyè a, mwen di nou pa koute m, nou pa bay moun pèp Izrayèl parèy nou yo libète yo. Tete ou yo doubout tankou de ti gazèl, tankou de ti gazèl menm fòs, menm pòte k ap manje nan jaden flè. Tankou kanna oswa lapen ki pa pase pou twò òdinè nan sikonstans konsa. Yo mare w pou tout bon bagay sa yo, anpi ou jwenn mwayen w ap plenyen pou sa? Kèk tan apre sa, moun peyi Moab yo ak moun peyi Amon yo mete ansanm ak moun Mawon yo, yo vin atake Jozafa. Gen yon sèl Bondye, ki papa nou tout, k ap domine sou nou tout, k ap aji nan nou tout, ki nan nou tout. Mwen te di nan kè m pa gen moun ki gen krentif pou Bondye bò isit la. Chèf prèt yo, dirèktè lalwa yo ak chèf pèp la t ap chache ki jan pou yo touye li. Lonje men ou pou yo ka fè gerizon, mirak ak lòt bèl bagay nan non Jezi, sèvitè ki te viv pou ou a. David te pitit Izayi, Izayi te pitit Jobèd, Jobèd te pitit Booz, Booz te pitit Sala, Sala te pitit Naason. Pandan douzan, senk wa sa yo te soumèt devan Kedòlaòmè. Okontrè, avèk fòs kouraj Bondye ap ba ou a, se pou ou asepte soufri avè m pou bon nouvèl la. Li klè batay kont plan Fon Monetè Entènasyonal Bank Mondyal, vini yon nesesite chak jou. Wi, li pare pou l delivre moun ki gen krentif pou li, pou l fè yo santi pouvwa li, pou l toujou la avèk yo. Te gen kèk moun Levi ki te rete nan teritwa moun Jida yo, yo voye yo al rete nan teritwa moun Benjamen yo. Pa janm dekouraje, paske se ou menm ki pral fè pèp la antre pran peyi mwen te fè sèman m ap bay zansèt yo a. Zanj Seyè a parèt devan l sou fòm yon flanm dife nan mitan yon ti touf bwa. Nou tout nou fè pati pèp Bondye a se li menm ki te renmen nou, ki te chwazi nou pou n ka viv pou li. Chak moun va pran yon ti recho dife, ya mete lansan ladan l, epi ya pote recho yo devan Seyè a. Men, wete lide ou sou istwa san sans ki pa dakò ak konfyans nan Bondye, ak sou radòt ki pa merite repete. Moyiz voye 12,000 gason sa yo al fè lagè. Anplwaye libreman ywit aspè adorasyon ou jwenn pi ba yo. Se te Jeriko, Bèt Ogla, Emèk kesis, Bèt arara, Semarayim, Betèl, Avim, Para, Ofra, Kefa amoni, Ofni, Geba. Li te pran sant zès zoranj yo. 3zyèm pòsyon tè a te vin pou moun branch fanmi Zabilon yo, pou yo separe bay chak fanmi pa yo. Yon lòt bò, otorite ayisyen yo pa gen dwa arete ni fèmen nan prizon okenn anplwaye Misyon an. Malgre li te anvi leve , li pat ka leve , sitan li te genyen yon lafyèv cho sou li . Moun k ap fè zidòl yo wont sa yo fè a, paske bondye yo fè yo se fo bondye yo ye, yo pa gen lavi nan yo. Li wete rad prizonye ki te sou Jojakim lan, li fè l vin manje sou menm tab avè l jouk Jojakim mouri. Nou tout, nou te resevwa batèm pou n te ka viv ansanm ak Kris la, nou mete sou nou kalite ki nan Kris yo. Pa prese wete kò ou devan li, pa pèsiste nan move pant lan, paske li ka fè ou sa li vle. Pou Kanlwiz, depi w rive mwa avril al pou mwa septanm prèske pa gen travay nan jaden ankò. Seyè a te voye yon maladi sou pèp la pou pini l, paske yo te fòse Arawon fè estati yon ti bèf pou yo. Biwo santral gwoup mesye sila yo chita nan Montay Nwa, piwo Petyonvil. Fòk nou raple vis delege Mak Lamou te fè yon rasanbleman piblik nan Chanpay nan dat 9 desanm 1996 la. flèch yo tonbe bò lòt bò, yo depase kote ou ye a, leve met deyò, paske se Seyè a menm kap voye ou ale. Wi, jou la vini an, nou p ap wont devan l, yo p ap kapab voye nou jete byen lwen li. Antan yo t ap manje, Jezi pran pen, li di Bondye mèsi, li kase l, li bay disip yo, li di pran, manje. Foul moun yo moute lakay Pilat, yo pran mande Pilat pou l lage yon prizonye ba yo jan li te toujou fè a. Twazan apre sa, 2 nan esklav Chimeyi yo sove, y al lakay Akich, pitit gason Maka a, ki te wa lavil Gat. Aprè sa, nou menm moun Jida yo, na ale ansanm ak nou nan pòsyon tè yo ban nou an, nou menm moun Simeyon yo. Nakò te pitit Sewouk, Sewouk te pitit Rago, Rago te pitit Falèk, Falèk te pitit Ebè, Ebè te pitit Sala. Yon tan apre , katastwòf la ta pral bout nan lise Petyon lè fòs Entèvansyon Rapid Polis Nasyonal la debake. Nou toujou ap revandike tout yon seri bagay k ap fèt mal kote nèg yo. Poukisa atò ou kite nou pèdi chemen ou te mete devan nou an, ou kite nou lage kò nou nan raje?'"
      ]
     },
     "execution_count": 9,
     "metadata": {},
     "output_type": "execute_result"
    }
   ],
   "source": [
    "text"
   ]
  },
  {
   "cell_type": "code",
   "execution_count": 10,
   "metadata": {
    "ExecuteTime": {
     "end_time": "2021-02-09T17:33:28.628753Z",
     "start_time": "2021-02-09T17:33:28.625296Z"
    }
   },
   "outputs": [],
   "source": [
    "import json"
   ]
  },
  {
   "cell_type": "code",
   "execution_count": 11,
   "metadata": {
    "ExecuteTime": {
     "end_time": "2021-02-09T17:33:29.516350Z",
     "start_time": "2021-02-09T17:33:29.500413Z"
    }
   },
   "outputs": [],
   "source": [
    "aws_file = '/Users/adimaini/Documents/GW/Research/CODE.nosync/WEAT-WEFAT/data/cmu_haitian_speech/aws/asrOutput.json'\n",
    "f = open(aws_file)\n",
    "\n",
    "aws_output = json.load(f)"
   ]
  },
  {
   "cell_type": "code",
   "execution_count": 12,
   "metadata": {
    "ExecuteTime": {
     "end_time": "2021-02-09T17:33:32.378788Z",
     "start_time": "2021-02-09T17:33:32.374742Z"
    }
   },
   "outputs": [],
   "source": [
    "aws_transcript = aws_output['results']['transcripts'][0]['transcript']"
   ]
  },
  {
   "cell_type": "code",
   "execution_count": 134,
   "metadata": {
    "ExecuteTime": {
     "end_time": "2021-02-07T05:59:10.538185Z",
     "start_time": "2021-02-07T05:59:03.774935Z"
    }
   },
   "outputs": [
    {
     "name": "stdout",
     "output_type": "stream",
     "text": [
      "Defaulting to user installation because normal site-packages is not writeable\n",
      "Collecting jiwer\n",
      "  Downloading jiwer-2.2.0-py3-none-any.whl (13 kB)\n",
      "Collecting python-Levenshtein\n",
      "  Downloading python-Levenshtein-0.12.2.tar.gz (50 kB)\n",
      "\u001b[K     |████████████████████████████████| 50 kB 858 kB/s eta 0:00:01\n",
      "\u001b[?25hRequirement already satisfied: numpy in /Users/adimaini/Library/Python/3.7/lib/python/site-packages (from jiwer) (1.18.4)\n",
      "Requirement already satisfied: setuptools in /Users/adimaini/Library/Python/3.7/lib/python/site-packages (from python-Levenshtein->jiwer) (46.4.0)\n",
      "Building wheels for collected packages: python-Levenshtein\n",
      "  Building wheel for python-Levenshtein (setup.py) ... \u001b[?25ldone\n",
      "\u001b[?25h  Created wheel for python-Levenshtein: filename=python_Levenshtein-0.12.2-cp37-cp37m-macosx_10_14_x86_64.whl size=81520 sha256=e4784d8f9d1791bbbff98460ad0c502217f1e9e506a05a7b4c0c30aaab046a63\n",
      "  Stored in directory: /Users/adimaini/Library/Caches/pip/wheels/05/5f/ca/7c4367734892581bb5ff896f15027a932c551080b2abd3e00d\n",
      "Successfully built python-Levenshtein\n",
      "Installing collected packages: python-Levenshtein, jiwer\n",
      "Successfully installed jiwer-2.2.0 python-Levenshtein-0.12.2\n",
      "\u001b[33mWARNING: You are using pip version 20.2.4; however, version 21.0.1 is available.\n",
      "You should consider upgrading via the '/Library/Developer/CommandLineTools/usr/bin/python3 -m pip install --upgrade pip' command.\u001b[0m\n"
     ]
    }
   ],
   "source": [
    "!pip install jiwer"
   ]
  },
  {
   "cell_type": "code",
   "execution_count": 13,
   "metadata": {
    "ExecuteTime": {
     "end_time": "2021-02-09T17:33:35.482659Z",
     "start_time": "2021-02-09T17:33:35.370797Z"
    }
   },
   "outputs": [],
   "source": [
    "from jiwer import wer\n",
    "error = wer(text, aws_transcript)"
   ]
  },
  {
   "cell_type": "code",
   "execution_count": 14,
   "metadata": {
    "ExecuteTime": {
     "end_time": "2021-02-09T17:33:35.950502Z",
     "start_time": "2021-02-09T17:33:35.945110Z"
    }
   },
   "outputs": [
    {
     "data": {
      "text/plain": [
       "0.988116458704694"
      ]
     },
     "execution_count": 14,
     "metadata": {},
     "output_type": "execute_result"
    }
   ],
   "source": [
    "error"
   ]
  },
  {
   "cell_type": "code",
   "execution_count": 30,
   "metadata": {
    "ExecuteTime": {
     "end_time": "2021-02-09T20:43:08.930418Z",
     "start_time": "2021-02-09T20:43:08.916447Z"
    }
   },
   "outputs": [
    {
     "data": {
      "text/plain": [
       "15812"
      ]
     },
     "execution_count": 30,
     "metadata": {},
     "output_type": "execute_result"
    }
   ],
   "source": [
    "len(text)"
   ]
  },
  {
   "cell_type": "code",
   "execution_count": 31,
   "metadata": {
    "ExecuteTime": {
     "end_time": "2021-02-09T21:16:07.438546Z",
     "start_time": "2021-02-09T21:16:07.412617Z"
    }
   },
   "outputs": [
    {
     "data": {
      "text/plain": [
       "'Konsa tou, sa nou wè koulye a, se tankou yon pòtrè nap gade yon jan twoub twoub nan yon glas. Avantaj baraj Pelig la t ap bay peyizan Latibonit yo chans pou jwenn dlo pandan tout sezon an. Kouman ou ka aji ak moun tankou si yo te pwason nan lanmè, tankou koulèv nan raje ki pa gen mèt? Parabòl ja lajan an Peyi Wa ki nan syèl la, se tankou yon ja lajan ki te anba tè nan yon jaden. Aprè sa, li pale avèk sa ki sou bò gòch li yo, li di: wete kò nou sou mwen, nou menm ki gen madichon. Epi li rete konsa li wè gwo lafimen ap moute sòti nan tè a tankou lafimen k ap leve nan yon gwo founo dife. Epi li rete konsa li wè gwo lafimen ap moute sòti nan tè a tankou lafimen k ap leve nan yon gwo founo dife. Se pou l tounen dènye klas esklav frè l yo. Lè sa a, se wa Akaz, pitit gason Jotam, pitit pitit gason Ozyas, ki t ap gouvène nan peyi Jida. Se li ki sèvi m ranpa, se li ki tout delivrans mwen, se li ki pwoteksyon mwen, se anba zèl li mwen kache. Dirijan politik lavalas yo tankou bon koutye malfektè ipokrit entènasyonal yo. pou rezoud kriz peyi Dayiti a, ke òganizasyon Nasyonzini ak òganizasyon Leta Ameriken te kreye li. Antan n ap viv nan mitan lòt nasyon sa yo, nou p ap janm gen kè poze, nou p ap janm ka rete yon sèl kote. Tout machandiz ou yo, tout moun ki t ap travay pou ou yo disparèt ansanm avè ou nan lanmè. Mwen rete konsa, mwen wè yon nonm ki te gen yon bèl rad byen klere sou li kanpe devan mwen. Joab menm, pitit gason Sewouya a, leve ansanm ak sòlda David yo, yo kite lavil Ebwon, yo pati tou. Madichon pou nenpòt moun ki va mete manje nan bouch li jòdi a anvan mwen pran revanj mwen sou lènmi m yo. Sitou sa yo ki nan mawon jou ki te vandredi 11 avril 1997 la nan Gwomòn. Nan rale li t ap fè yo, mèt la pat manke pale sou bon mach ak jesyon y ap fè pou bay jistis. Lèfini, yo pote tèt Orèb ak tèt Zeyèb bay Jedeyon ki te sou bò solèy leve larivyè Jouden an. Paske, mwen p ap kache di nou sa: Bondye kapab pran wòch sa yo, li fè yo tounen pitit pou Abraram. Tankou kanna oswa lapen ki pa pase pou twò òdinè nam sikonstans konsa. Salomon te gen 4000 kay kote li te mete chwal li yo ak cha lagè, ak 12000 chwal pou sòlda kavalye yo. Jwif Bere yo te gen pi bon santiman pase sa Tesalonik yo: yo te resevwa pawòl la byen vit san traka. Epi tou, se pa bagay k ap pran yon jou osinon de jou, paske gen anpil nan nou ki koupab nan zafè sa a. Ki ponkò kab jwenn yon vrè solisyon. Depi jòdi a, je m louvri, zòrèy mwen pare pou m tande tout lapriyèy ap fè isit la. Mwen tande bri zèl bèt yo ki t ap bat ansanm ak bri wou yo, ou ta di bri yon foul moun k ap rele. Etan lwen je moun pa janm ba w wè nèj ret kouwi l. Priye pou reyinyon an. Konsa tout moun va menm jan, daprè sa ki te ekri nan Liv la moun ki te ranmase plis yo pa t gen twòp. Yo travèse zòn Negèv la, yo rive lavil Ebwon kote moun Ayiman yo, moun Chechayi yo ak moun Talmayi yo rete. Lè nou remoute nan tan Seyè a te pale ak Moyiz sou mòn Sinayi a, men moun ki te nan fanmi Arawon ak Moyiz. Lèfini, li renmèt yo nan men chèf gad ki t ap fè pòs nan pòtay kay wa a. Se vre wi, moun ki vire do ba ou pral mouri, wap fini nèt ak moun ki pa kenbe pawòl yo gen avè ou. Nou pa kapab kontinye ak vye konsepsyon sa a kote pi gwo objektif chak moun se jwenn pou tèt pa l. Wi, se poutèt sa, mwen tonbe ajenou devan Papa a, ki bay tout fanmi ki nan syèl la ak sou latè a non yo. Tout bagay kòmanse, aprè ansyen minis la mande lakou dè kont ba l yon dechaj sou jesyon li. Depi nan vant manman l, Jakòb, zansèt yo, t ap goumen ak Ezaou, frè jimo li a. Daprè enfòmasyon ki disponib, sou chak 100 moun pa t menm gen 10 ki te chawzi al vote. Pandan yo t ap pale konsa, Jezi li menm vin kanpe nan mitan yo, li di yo benediksyon Bondye sou nou tout. Matiren te reklame echantiyon pwodui dominikèn yo diri ti tèt ak fig bannann. Mwen mande w kouman w rele yo? Poutèt gwo mechanste nou te fè a, kòmanse batay la va kòmanse, wa Izrayèl la gen pou mouri. Foul moun te sòti depi Pas Amat la nan nò jouk sou fwontyè ak peyi Lejip la nan sid, yo vin fete la. Si yo pran desizyon ki bon osinon movèz desizyon, yo gen pou viv ak konsekans yo. Wa vonmi tout sa ou te manje a. Sa lakòz pwoblèm lavichè, chomay, grangou, sante ak edikasyon vin pi di ann ayiti. Sèten jounalis te rapwoche pou enfòme sa k ap pase andedan komisarya Jakmèl la. Achoub sa a te pitit Azrikam, Azrikam te pitit Achabya, nan branch fanmi Merari a. Seyè a pral lonje men l, moun k ap bay pwoteksyon an ap bite, moun k ap chache pwoteksyon an ap tonbe. Dezyèm jou a, se te tou pa Netanèl, pitit gason wa a, chèf branch fanmi Izaka a. Fòk politik la fèt ak tolerans, ak transparans, nan respè règ jwèt la, san kwòk anjanm Te gen kèk farizyen la ki di yo konsa: Poukisa n ap fè bagay lalwa nou pa pèmèt moun fè gwo jou repo a ? Kouman ou ka aji ak moun tankou si yo te pwason nan lanmè, tankou koulèv nan raje ki pa gen mèt? Yo dezabiye l, yo mete yon gwo rad koulè wouj vyolèt sou li. Lè Jozafa mouri, yo antere l nan Lavil David, zansèt li a. Moun te sòti nan tout ti bouk ki nan vwazinaj Jerizalèm. Chèf prèt yo ak dirèktè lalwa yo tap chache yon riz pou yo fè touye Jezi, paske yo te pè pèp la. Abraram rele pitit gason Sara te fè pou li a Izarak. Yo travèse zòn Negèv la, yo rive lavil Ebwon kote moun Ayiman yo, moun Chechayi yo ak moun Talmayi yo rete. Tanpri, pa fòse m moutre nou jan mwen ka sevè lè ma rive lakay nou. Si yon moun swaf dlo, ma ba li bwè dlo gratis nan sous dlo ki bay lavi a. jou ki te lendi 13 janvye a, mwen te vin devan nou pou prezante Premye Bilan Aktivite Gouvènman an. Men non pitit Chemaja yo Otni, Rafayèl, Obèd, Elzabad, Eliyou ak Semakya. Mwen mete nepe nan tout pòtay yo, yon nepe k ap bay zèklè, yon nepe ki pare pou touye anpil moun. Responsablite Sitwayen yo, òganizasyon yo nan sosyete sivil la. Ou lage tout wa yo ak tout pèp ki t ap viv nan peyi a nan men pèp ou a, pou yo te fè ak yo sa yo te vle. Madi 15 avril 1997 popilasyon nan zòn Bwa Pini Obòy poze lapat sou yon vòlè bèf ki rele Mirabo Jozèf. Sitèlman li te cho dèyè mesye sa yo, li avili tèt li, li tonbe fè sèvis pou vye zidòl moun peyi Lasiri yo. Egzamine byen tout sa Jòb di la a. Men sa nou pral fè nou pral tire osò pou n chwazi kèk moun pou al regle moun lavil Gibeya yo. Lè sa a, Jezi pase lòd pou disip li yo fè tout moun chita atè sou zèb la, ti gwoup bò isit, ti gwoup bò la. Konsa, nou pap pèdi tèt nou, nou pap vire do ban mwen pou nou swiv pwòp lide pa nou ak pwòp dezi pa nou. yo t ap chèche e yo te vire tounen monte desann sou plas sa a pandan in èd tan. Ba yo tout respè yo merite, paske yo menm tou ya resevwa menm lavi avèk nou tankou yon favè nan men Bondye. Yon jou Izmayèl, pitit Aga, fanm peyi Lejip la te fè pou Abraram lan t ap jwe ak Izarak, pitit Sara a. Batcheba, pitit fi Amiyel la, fe kat pitit gason pou li: Chimea, Chabab, Natan ak Salomon. Yon tyè nan solèy la, yon tyè nan lalin nan, ak yon tyè nan zetwal yo domaje. Yo renmèt li nan men Gedalya, pitit Akikam, pitit pitit Chafan, ki te pou fè l rive lakay li san danje. èske se pou n al goumen ankò kont moun Benjamen yo, frè nou yo, osinon èske se pou n rete sou sa nou fè a? Foto Rankont manm Asanble popilè nasyonal ak delegasyon vandredi 11 avril 1997 la. Lè Amasya fin chita otorite l, li fè touye chèf lame ki t ap sèvi avè l yo epi ki te touye papa l. Se yon zòn ki rich, gen pwodiksyon kafe, kakawo e gen preparasyon kap fèt pou Benèt retounen. Yon nonm ki mete dezòd nan fanmi li, lakòz madanm li ansanm ak tout pitit li yo nan tout sa ki pa bon. E nou pap bay okenn makout lè pou ta vin rantre nan bagay sa a pou ta koze yon bagay pi mal nan Obòy. Mwen deja moutre nou sa tout moun, ou te mèt jwif, ou te mèt pa jwif, tout moun anba pouvwa peche a. Yon lòt zanj vin kanpe touprè lotèl la, li te gen yon lansan swa an lò nan men li. Se konsa, li resi rive pran tèt anpil moun, pa isit nan lavil Efèz la ase, men nan tout pwovens Lazi a. èske gen yon moun la a ki fèk plante yon jaden rezen epi ki poko gen chans fè yon rekòt rezen menm? Sa ki avèg, sa k ap bwete, fanm ki ansent, fanm ki gen tranche, yo tout ap vin ansanm. Mwen te di nan kè m pa gen moun ki gen krentif pou Bondye bò isit la. Moun lavil Jeriko yo rebati ti pòsyon ki vin aprè pa Elyachib, gran prèt la. Si nou pa kenbe pawòl nou, li menm lap toujou kenbe pawòl pa li, paske Bondye pa kapab demanti tèt li. Nan mitan òganizasyon ti plantè Nòdès, Koperativ Tousen Louvèti elatriye. Seyè a, Bondye zansèt nou yo, Bondye Abraram lan, Bondye Izarak la, Bondye Jakòb la, te parèt devan mwen. Kaynan te pitit Enòs, Enòs te pitit Sèt, Sèt te pitit Adan, epi Adan te pitit Bondye. Desizyon sa a te pran dekwa pou pèmèt Palman an vote yon lwa ki pou ta bay entèpretasyon l. Sa w gen pou vann? Aprè sa, mwen chwazi 12 moun nan chèf prèt yo: se te Cherebya, Achabya ak dis lòt chèf prèt. Piga nou janm manje grès bèf, grès kabrit osinon grès mouton. Men moun David te mete pou responsab tout chante nan Tanp Seyè a lè ya fin enstale Bwat Kontra a ladan l. Moun k ap kontinye viv nan peche, se moun Satan yo ye, paske Satan ap fè peche depi nan konmansman. Li bo li, li klere je l nan je l, li di l mwen te gen pou m ofri yon bèt pou yo touye pou di Bondye mèsi. Fris Lonchan di nou, Patrik Eli bezwen swiv yon tretman nan men doktè, men, li refize. Yo tande pawòl la, men traka lavi ak anvi gen lajan, tou sa toufe pawòl la, kifè yo pa ka bay anyen menm. Pa mete nan tèt ou lèy ap touye jwif yo wap chape paske se lakay wa a ou rete. Kouman ti figi w fennen konsa a? Lè ou pa sèvi ak zam ou sèvi ak baton. Men fwontyè peyi nou pral separe pou nou bay douz branch fanmi pèp Izrayèl yo pòsyon pa yo chak. Lè sa a, nan lavil Souz, kapital peyi a, te gen yon jwif ki te rele Madoche. epi se yon plent Gouvènman ameriken, ou byen yon sitwayen ameriken, yon enstans ameriken, gen kont ou. Paske mwen pral fè yon travay koulye a nan mitan nou, bagay nou pa ta kwè, menm si moun ta rakonte nou li. Menm si yon nèg gen anpil kouraj, fè plis pase 250 bit patat. Lè sa a yon tèt bourik te koute 80 pyès ajan, yon demi liv kaka pijon te koute 5 pyès ajan. Se poutèt sa, moun k ap kenbe tèt ak otorite yo, yo refize obeyi lòd Bondye tabli. Yon sous nou ka fè konfyans fè nou konnen, te gen yon chita pale ant Fanmi Lavalas ak Pati Louvri Baryè. Se sak fè, lè m te ankòlè a, mwen sèmante yo pap janm mete pye yo kote pou yo pran repo ansanm ak mwen an. Aprè li, vini Bouz, Kemwèl, papa Aram, Kesèd, Azò, Pildach, Jidlaf ak Betwèl. Jezila te pase yon move nwit ak lafyèv , vonmisman , maltèt , san konte kèplen . Jilyo Apolon, akize jij denstriksyon tribinal Aken an fè arete Meyiz ranswa ki pase 8 mwa nan prizon. Mande vizitè yo pou yo pale sou fanmi yo, sou travay yo fè, sou rezon y ap asiste legliz la, sou plan yo. Lè sa a, Pilat antre nan palè a, li rele Jezi, li mande li èske se wa jwif yo ou ye? Wa antre nan batiman an, ou menm, pitit gason ou yo, madanm ou ansanm ak madanm pitit ou yo. èske legliz lokal la ak misyon an se 2 òganizasyon paralèl a menm nivo ? Tandiske wòch yo menm menm ta prese deboukle vin kase tèt moun bò anba yo. Yon jou konsa, Jezi te nan tanp lan, li t ap moutre pèp la anpil bagay, li t ap anonse yo bòn nouvèl la. Lè yo rive la, y al nan sinagòg jwif yo. Yo vonmi sal tout tab kote yo chita a. Yo òganize yo pou yo atake tout moun ki te vle fè yo mal. Lèfini, la fè ekri lòd sa a nan liv lalwa peyi Pès ak peyi Medi a, pou yo pa janm chanje l. Wi, mèt, nou pral swiv konsèy ou menm ak lòt moun ki gen respè pou kòmandman Bondye nou an te ban nou. Li bay chak gwoup gad pòtay Tanp lan lè travay yo nan chak pòtay, daprè lòd David, moun Bondye a, te kite. Se pou dlo anmè ki bay madichon an antre nan vant ou pou fè l anfle, pou l fè ou pa ka janm fè pitit. Chache jan pou nou viv byen ak moun. Se poutèt sa, mwen menm Seyè a, mwen di nou pa koute m, nou pa bay moun pèp Izrayèl parèy nou yo libète yo. Tete ou yo doubout tankou de ti gazèl, tankou de ti gazèl menm fòs, menm pòte k ap manje nan jaden flè. Tankou kanna oswa lapen ki pa pase pou twò òdinè nan sikonstans konsa. Yo mare w pou tout bon bagay sa yo, anpi ou jwenn mwayen w ap plenyen pou sa? Kèk tan apre sa, moun peyi Moab yo ak moun peyi Amon yo mete ansanm ak moun Mawon yo, yo vin atake Jozafa. Gen yon sèl Bondye, ki papa nou tout, k ap domine sou nou tout, k ap aji nan nou tout, ki nan nou tout. Mwen te di nan kè m pa gen moun ki gen krentif pou Bondye bò isit la. Chèf prèt yo, dirèktè lalwa yo ak chèf pèp la t ap chache ki jan pou yo touye li. Lonje men ou pou yo ka fè gerizon, mirak ak lòt bèl bagay nan non Jezi, sèvitè ki te viv pou ou a. David te pitit Izayi, Izayi te pitit Jobèd, Jobèd te pitit Booz, Booz te pitit Sala, Sala te pitit Naason. Pandan douzan, senk wa sa yo te soumèt devan Kedòlaòmè. Okontrè, avèk fòs kouraj Bondye ap ba ou a, se pou ou asepte soufri avè m pou bon nouvèl la. Li klè batay kont plan Fon Monetè Entènasyonal Bank Mondyal, vini yon nesesite chak jou. Wi, li pare pou l delivre moun ki gen krentif pou li, pou l fè yo santi pouvwa li, pou l toujou la avèk yo. Te gen kèk moun Levi ki te rete nan teritwa moun Jida yo, yo voye yo al rete nan teritwa moun Benjamen yo. Pa janm dekouraje, paske se ou menm ki pral fè pèp la antre pran peyi mwen te fè sèman m ap bay zansèt yo a. Zanj Seyè a parèt devan l sou fòm yon flanm dife nan mitan yon ti touf bwa. Nou tout nou fè pati pèp Bondye a se li menm ki te renmen nou, ki te chwazi nou pou n ka viv pou li. Chak moun va pran yon ti recho dife, ya mete lansan ladan l, epi ya pote recho yo devan Seyè a. Men, wete lide ou sou istwa san sans ki pa dakò ak konfyans nan Bondye, ak sou radòt ki pa merite repete. Moyiz voye 12,000 gason sa yo al fè lagè. Anplwaye libreman ywit aspè adorasyon ou jwenn pi ba yo. Se te Jeriko, Bèt Ogla, Emèk kesis, Bèt arara, Semarayim, Betèl, Avim, Para, Ofra, Kefa amoni, Ofni, Geba. Li te pran sant zès zoranj yo. 3zyèm pòsyon tè a te vin pou moun branch fanmi Zabilon yo, pou yo separe bay chak fanmi pa yo. Yon lòt bò, otorite ayisyen yo pa gen dwa arete ni fèmen nan prizon okenn anplwaye Misyon an. Malgre li te anvi leve , li pat ka leve , sitan li te genyen yon lafyèv cho sou li . Moun k ap fè zidòl yo wont sa yo fè a, paske bondye yo fè yo se fo bondye yo ye, yo pa gen lavi nan yo. Li wete rad prizonye ki te sou Jojakim lan, li fè l vin manje sou menm tab avè l jouk Jojakim mouri. Nou tout, nou te resevwa batèm pou n te ka viv ansanm ak Kris la, nou mete sou nou kalite ki nan Kris yo. Pa prese wete kò ou devan li, pa pèsiste nan move pant lan, paske li ka fè ou sa li vle. Pou Kanlwiz, depi w rive mwa avril al pou mwa septanm prèske pa gen travay nan jaden ankò. Seyè a te voye yon maladi sou pèp la pou pini l, paske yo te fòse Arawon fè estati yon ti bèf pou yo. Biwo santral gwoup mesye sila yo chita nan Montay Nwa, piwo Petyonvil. Fòk nou raple vis delege Mak Lamou te fè yon rasanbleman piblik nan Chanpay nan dat 9 desanm 1996 la. flèch yo tonbe bò lòt bò, yo depase kote ou ye a, leve met deyò, paske se Seyè a menm kap voye ou ale. Wi, jou la vini an, nou p ap wont devan l, yo p ap kapab voye nou jete byen lwen li. Antan yo t ap manje, Jezi pran pen, li di Bondye mèsi, li kase l, li bay disip yo, li di pran, manje. Foul moun yo moute lakay Pilat, yo pran mande Pilat pou l lage yon prizonye ba yo jan li te toujou fè a. Twazan apre sa, 2 nan esklav Chimeyi yo sove, y al lakay Akich, pitit gason Maka a, ki te wa lavil Gat. Aprè sa, nou menm moun Jida yo, na ale ansanm ak nou nan pòsyon tè yo ban nou an, nou menm moun Simeyon yo. Nakò te pitit Sewouk, Sewouk te pitit Rago, Rago te pitit Falèk, Falèk te pitit Ebè, Ebè te pitit Sala. Yon tan apre , katastwòf la ta pral bout nan lise Petyon lè fòs Entèvansyon Rapid Polis Nasyonal la debake. Nou toujou ap revandike tout yon seri bagay k ap fèt mal kote nèg yo. Poukisa atò ou kite nou pèdi chemen ou te mete devan nou an, ou kite nou lage kò nou nan raje?'"
      ]
     },
     "execution_count": 31,
     "metadata": {},
     "output_type": "execute_result"
    }
   ],
   "source": [
    "text"
   ]
  },
  {
   "cell_type": "code",
   "execution_count": 15,
   "metadata": {
    "ExecuteTime": {
     "end_time": "2021-02-09T17:33:47.361383Z",
     "start_time": "2021-02-09T17:33:47.355221Z"
    }
   },
   "outputs": [
    {
     "data": {
      "text/plain": [
       "\"Sato, ça nous est que Houllier, c'est un couillon poterie. La brigade ayant jeune troupe tout non avantage, bar espiègle à tabac Et puis Zola, Thibault, Nico Chance. Plus besoin de l'eau pour la toutes saisons comme en UK a agi à comment on s'y déploie. Son armée d'un beaucoup les visages équipages Ah après ça lit pas aller avec ça qui sous bogoss Lio Midi où étaient couenne sous moins nous mêmes qu'il aime à Dijon. Et puis il était con ça le we go la fumée a pu noter saute si noter d'un coup la fumée qu'appeler Wayne en gros faune aux effets. Et puis il était concerne les oui voilà filmé à monter soi Tina There than Colas filmé câblée Wedding of How c'est pour donner des des classes risquent la foule Lézards c'est waaa cas petit gars songent à me petit à petit garçon Ozias, quitte à gouverner un pays, c'est lui qui savait moins pas, c'est lui qui tout délie. Passe moi c'est l'équipe au Texas, au moins c'est en bas Et les mots cachés Division politique Lavalas d'un coup, Bon coup Thiers mal fait et hypocrite INTERNATIONAL Lio Pour résoudre la crise des pays qui organisation, Nations unies apres organisation, l'état américain d'écolier, les en attendant la grive d'habitants, l'autre sur sa you nous parle de Shanghai qui est posée n'ont pas besoin de qualité. C'est le côté toute marchandise où tout le monde quitte à travailler. Pouillot disparaît ensemble. Ave one à Lomé, moins était moi Oui, on ne quitte égaye ombelles ad bien que les sous les campé de faim. Moi je vois, même si bien sûr, c'est wear les ensembles ac soldats David Diop Il est il a il est bon et au pas de sitôt Madison pour les points moins qui va mettez-moi Jenna Bush Les jeudis à Envoie-moi prévoit moins sous les milieux. Si tout ça au cinéma on joue. Qui était vendredi onze avril, menace à quatre-vingt-dix-sept la langue aux mômes, à l'étape few met la patte. Ne manquez pas les sous bon match de gestion qui a fait débat et justice La chimie Yop Haut étaient au à tête. GM Gédéon quitter sous beau sous les Lévy l'année vieilles paske moins, pas cacher dit non, ça bon Dieu capable Bon Rossa, Yo Liffey hip-hop tournée Petit pois Brahms d'un coup qu'on a au soit lapin Keep a passé pour trois au dîner non circonstance qu'on salomon tenu quatre mille côté lit émettait choix Lélio à kuchala gay a douze mille choix le pup soldats cavalier au vu bot qu'un pis mon sentiment passé Thessalonique et se voit par la suite se sentent et puis tôt c'est pas bagad cap Lyon joue aussi non déjoue parce qu'il y a un PIB ne nous qui coupables nos affaires qui pense qu'en cas de besoin et en vraie solution des piges au dire j'aime ou oui ils auraient moins paraît comme tant d toute la peau Hier il y a fait, il cite la on entend des bruits abattu quitte à battre ensemble Ah oui oui oh oh t'as dit? Brillant fou le monde Carrus et les qui est un loin J'ai moins de pages Ah bah oui, mais je voudrais que oui le puis et pour ignorer constat, tout le monde, pas même déjà d'après s'acquitte écrit dans l'immeuble. Moi qui étais ramassaient plissures pas de quel droit il faut travailler ses Honegger, Vela et Olivier, la ville des bons côtés, Moins naïvement Yo Moun Chaillot à mon talent Maillot était Leno Mother, notant Ces et palais à où ils sont moins maya mais mon qui était une infamie a on a que Moïse et là fini les tuyaux nommé chef Gad quitte à faire un post now potay qu'à Eluard c'est vrai oui mon qui virait doba au pra le nourrit ou a fini n'est aknoun qui pas qu'un débat Aurelio Guerre avaient ont nous pas capables de continuer à de vieilles conceptions sa cote épigones? Objectif chaque mon ces jeunes peut-être pâle Oui, c'est peut être ça, moins tombé à genoux devant papa qui bataillent. Toute famille qui n'a ciel ac sous la terre. Tout a commencé après un an. Ces milices l'amende et la Cour des comptes, l'une des charges sous gestion d'épines. Votre moment jacob dans cette you that on a kenza ou faux régime lire d'avoir action qui est disponible sous chaque son monde, pas même d'indices qui étaient choisis à le voter Toyota par les constats. J'ai dit lui même vingt kempen à mi-temps Elio di Dio Bénédiction Mathieu Intérêts réclamés et chanter en produits dominicaine. Duo Die Welt cite T-on à moi demander au comment elle est peut-être ou méchanceté noter fait euh comment ces batailles cela va commencer? Moi Israel pour moi oui Full Monty sorti des pis pasta mate la non aux frontières du pays les jeeps le un un site il y avait une fête est là si après décision qui bon aussi nos mauvaises décisions, le gain pour vivre à conséquences sur nous avons mis tout ça au thème agir c'est ça la cause problème la vie chère shot may Kangoo santé éducation Une pie dix ans n'a été c'est un journaliste rapprocher pour informer sa captation des dents commissariat Jacques mais là comme ça des petites Hicham Hicham des petites achats bien d'embrayage fin mis mes aouya ca doit loger mène mon cabas Protection habitée sachez protection à tomber le deuxième jour c'étaient ou pas petit garçon? Euh chef brèche famille Isaac faut politique la fête à la tolérance, à la transparence non respect des règles Jouait là ça que de gens GAEC et de favoriser la kizzy au concert pour qui ça n'a fait bader la loi ne pas permettre mon fait gros jouets pour euh comment ok j acques montant council other poisson ne alain mais tant de couleuvres âgés qui parlent anglais déshabille le mettrions courra de colère où je veux l'être sous les les josaphat mauvais clientèle la ville David vous liad Montessori books qui n'en voisinage Jérusalem. Le chef de abdiqué la loi iota tchache ayant oui au fait oui et Jerzy paske yacht épais au peuple Abram Morel est petit garçon, ça rate effet boule ya iza une trêve et ses honegger v'là Uri Weiss la ville et bon côté m'ont trahi moins Moun, Chaillot Montale Maillot était et puis pas forcément un ou jean moins casse CV. Les mâles vivaient lacaille Non, si on soif de l'eau à Bali, boit de l'eau gratis dans sous l'eau qui est bas et la fille je quittai Lundi treize janvier y'a moité vingt devant nos pour présenter premier bilan activité gouvernement mais non, petit schéma jaloux des autres, ni Rafael Aube aide ils abbas et les youyous accès maqj'a Moi je mettais mes pénates de taille lyonnais, paie cabas et que les jeunes épais qui parlait peu touillé habilement le responsable de cette waouw organisa sur une société civile ou la gay tout loyaux à tout peuple, Quitte à vivre dans un pays il y a un an, mais pas pouvoir cruauté fait Akio Sigh o Mardi quinze avril Dix-neuf cent quatre-vingt-dix-sept population dans un bois Penny ou boy poser la patte, son volet belfkih et les mirabeau Joseph c'est tellement été échaudés Messier ça aille au lit, avilit etc les met en effet service pouviez idole mon pays la signer. Examinez bien tout ça. Je me dis là, mais ça ne va pas le faire prêter au sort Pour une fois que nous ne pourrait régler mon avis. Le QI BO les passagers y passer l'eau ne pose ici plie au fait tout en chient à Athènes sous et bling ces groupes Boyer c'est Ségo bol concert nous pape éditait nous papy oui d'où bon moi nous suivent à propos des à des im tachée et ôter vu tourner, monter d'Essonne se plaça pendant une nette bye autour de respect aux mérité parce qu'il faut même tout. Il y avait ces voix, même la vie avec non quand vous en savez non mais bon Dié nous on joue Ismael Hada batch et bah c'est c'est fait à mille ça fait quatre vingt sept gars sont polis Chimay euh Chabab n'atteint ac Salomon maintiennent soleil layout, tiennent à la ligne A qui maintienne ses taux. A lieu endommagé, y aurait maître lilas mais gai dahlia pitite acquis comme petit à petit à chaque fois quittés. Pouf, elle vivait la Kabylie sans danger. Est ce que c'est pour un album? Et encore quand mon béja meilleur freiner Hocine Est ce que ce qu'on était sûr, ça me faire photo? Raconte moi Assemblée populaire nationale a délégation vendredi onze avril mille neuf cent quatre-vingt-dix sept le les amazed at félicita autorité elle les fait ouille chef! L'âme équitable sévit avait Lio et puis quitter touiller papale seyant zone qui russe bien prédictions Café KO et Ching préparation qu'a fait pour mener devrait tourner il y a un nombre qui mettait des autres enfants milli la cause Madame les ça ma toute petite lionne à tout ce qui est pas bon et nous pas bah aucun macoute les pour ta vie, notre et nos bagages et ça coûte à causer en bagarre épique Mano Boyer moi déjà montré non ça tout le monde vous êtes juif ou de pas juif? Tout le monde en bas pouvoir pêcher Vous avez bien campé tout près le tel est égal violence en soi en c'est qu'on se à l'IE. Récidiver pourrait être pire. Moun Païs cite la vie, les faits là c'est maintenant tout pouvait se asilah. Est ce que guénée en la actif est plantée et en gaz? Raison n épie qui pour qu'on gagne chance payant contre les haines ça qui avec c'est un tabou était femme Qui est cette femme qui était grand chez léautaud? Has-been ensemble moins dix n'a quand même pas grand monde qui créatif pour moitié boy site là on la ville j'ai couru au débat titi potion qui vient après pas il y a chez le grand poète là si nous pas qu'un des paroles nous les mêmes l'a toujours que mes paroles pas aller parce que bon c'est pas capables d'émois citait les non mi temps organisation type l'antenne modestes coopératives tous helvétie et là c'est euh bon dix ans cette noyau bonnes et à bas le body is a l'air bon déjà problème des pas et des femmes communauté petit et nos et nos des petites cette cette petite aden et puis à d'autres petites bandes décision sa trois adéquat pour le parlement a voté en loi qui pour le tabac et interprétation sans aucun pauvre après ça moi je choisis douze moune un chef pas cet échec bien achat bien à dix. L'autre chef Paulette Wigan James mangé Grèce BEF GSK abrite aussi l'angoisse montant. Mais mon David Thème était pour responsables, toutes chantées. N'entend c'est euh les affine sa les bois tentera la dalle Mon cap continuer vive n'empêchait c'est mon sapin yé parce que Satan a fait ses débuts. Un commencement Li Boli like L'ériger la gèle les îles moitié qu'un homme au foyer embête Pouillot touiller pour mon eczéma, c'est frais de longchamps. Patrick est libre, mais on est suivi un traitement n'emmène d'octets, mais je lirai figées yo tant des paroles. Mais là ca la vie en vigueur, l'agent, tout ça tout fait parole qui fait ou pas Cabaye en pas maintenant et tous les à tous les juifs you would have shaped Parce que cela kabelawa où étaient comment yfig Et au fait, les ou passer via Exam où sévit en battant mes frontières? Pays nous parle, séparés pour nous, baille douze branches parmi le peuple israélien. Portions pas l'Afssa dans la ville sous capitale, pays à TEG ayant juive quitter les Mado sur Et puis essayons. Plate gouvernement A ou bien ayant citoyen américain, Lyon, instance américain, GM compte tout parce que moi le feuille au travail le coût lié à la mi-temps non bah galileo, patachou et même si mon talent à compter nos lits même si on garde le courage en fait plus passé deux cent cinquante bis l'Afssa qui ont ete boule écoutez qu'arrivé pièce agents qui ont dix mille livres caca pigeons écouter ce qui est sage c'est peut être ça mon cap qu'on mettait à autorité oui suffisait obéit aux lois de bonnes j'établis et en sous ce nom qu'a fait confiance en fait nous qu'on est Guillon chiite a parlé en famille Lavalas a pâti Louis Barillet c'est ça que fait elle était en colère Moi ça m'a t hip-hop Abidjan mettait pied à côté puis au avait pour enfin moins approuver les vinay bouses qui moi jerzy later passer un mauvais nous y a que la fièvre vomissements ma tête sans compter Kepler lili-oto, apollon acquis et gisent d'instruction tribunal AC fait arrêter mais ils en soi qui passé huit mois en prison Mendez visiter ou oui au palais souffrant Millau ce travail offert sous ils ont ils insisté l'église, la soupe aux les cinq pilate entraînant pas les euh lire et légers et Lima ds que c'est moi, je suis fouillé en théorie la bâtiment ou même de celle qu'a son Yo ma dans mon un Sam Hamad Implicite Oyo. Est ce que l'église locale AC mission, c'est des organisation parallèle à même niveau? Tandis que Washington même a progressé de boucler une cassette est monde Bamba Eh oh et ange, J'ai hésité non? Temps plein l'étape Montrer Pep la pile l'étape annoncé aux bonnes nouvelles. Les hommes vivaient là. Y'a national Google juge sur Hyewon missa tout à côté aussi tard lieu organisé au pouillot attaquer tout moun quittées. L'effet Obama définit l'AFP, écrit l'autre ça dans la loi pays paissent en paix immédiats ou pas jamais Changer oui, mais nouvelle suivent conseil ou même à clopine qui dit respect pour commandement. Bon, du moins bon libanais. Chaque groupe quatre potay simplement les travaille à chaque portail d'après l'autre. David Beaune a quitté ces pueblo O mais qui m'a dit Chan en tiennent avant tout pour le FN, elle ou le fait ou pas quand je me fais petit, Chassez Jacno vivent bien, C'est peut être ça moi même c'est à moi, dit non, pas écouté ne pas Même Israel avait noyau liberté ou Théo de bout à coups de gaz d'un coup de ces gaz et même fausse même portée mangé déjà des FDLR. Tim Cook en un mot soit la paix qui pas passer pour toi au dîner la circonstance qu'on ça yo marilou pour tout bon bags as a young en plus ou en moins ou appelez vous ça quelque temps après ça? Mon pays me haas bio A mon pays à moi mettez ensemble nous ne pas on you devine attaquer Josaphat Guéï en selle Bon c'est qui papa non a dominé Sonotone capte à Gênes un auto Ken un autre ont été dits Nakheel pagaie. Monot y met Seafood bon pied, bon oeil. C'est la chef de radio en direct et la loi et aux chefs de la mafia chez qui je vous le dis longer mais opposé au café guérison miracle à Claude Bez le bac à nos Jerzy ses invités qui étaient vives pour David Petit Isaïe ils a été petit job aide Jobs était petit. Bose boosté petit Salah Salah d'épithètes n'a pendant douze ans c'est quoi ce ajouté soumet devant qui ndola en mai au contraire avec Moscou et bon Jiabao euh, c'est pour accepter souffrent. Y avait même une bonne nouvelle. Les claies bataille quoi! Plein fonds monétaire international Bach mondiale vit ni aux nécessités chaque jour. Oui je lis par et pour le délivrer Moune qui décrit if poulies pour le fait au cent y pourvoit lit pools toujours là avec vos et qui nous les victimes étaient nos territoires monnaie Gilda, you you you already nos territoires moune mais jamais page à me décourager parce que c'est au même type. Elle fait peuple a intérêt pour un pays qui a été fait. C'est ma base dans cette voie, j'enseignais apparaît devant. Faut bien que cela me dit fais la nuit, oriente itou. Nous, tout nous fait pas type bondir. C'est les mêmes qui était mais nous qui ce à quoi on va plus haut, il est chaude, y fait et à mettait, lançant la dalle et puis la beauté des choses au d'évincer. Mais où était l'idée, au son histoire? Son sens qui pas d'accord a confiance à mon dix axes ou à d'autres qui permettaient Moïse voyez douze mille garçons sa Yo Allah, Fellag, employé libre aimant le huit aspects adoration Bilbao, c'était Jéricho, bête au-delà des mecs, six bêtes, Ararat c'est ma Rahim b. Tel Aviv para offre à F. À à Moni OFNI. Il répond sans s Ils en jouent troisième Pension Theater ville pour mon bras de chemise à bilan Yo Yo sé Paribas et chaque fois mis paillotes alors d'abord aux autorités haïtiennes et au Paraguay, doit allaiter, n'y fait même en prison aucun emploi. Émission Maniabilité, Envie Lévy du Pas de Calais V six totalité gays ont la même chose au lit Mon cafés Idole Yo monte s'est offert parce qu'il est bon de yo-yo. C'est faux. Mondiale, Voyez le Ghana. Mais où étaient a Prisoner quitter ce jour? CAC est malin, il fait le vide manger sont même table. Havel jugera que moi nous nous intéresser, voire baptême Mundaka vivent en somme à Chris là, mais tel sont nos qualités. Qui n'a question après Séoul était quoi ou devant les papes? Assisté d'un mauvais maintenant parce que les cafés ou saliver aucun des pays où vivait moi? Ah oui, pour moi c'est oui ce qui paraît bien travaille non? Jade est encore ca était voué aux maladies soupe plat pour vinyle parce qu'il y a été faussée à Laon, Fait est assis lui aussi. Bref, bio centrale goût messieurs S'il ayachi Thann en montagne, loin Pio Pétion Ville, vous nous appelez vice délégué Max la moue des ferrailleurs Rassemblements publics sachant paille? Non date neuf décembre mille neuf cent Quatre-vingt-seize Fleche ou tomber Bolo Bolo Hé ho dépassé côté ouille, Lévy, maître des eaux, passe que et c'est ca même qu'à vous et où? Allez oui, je vous la vigne, nous papon des vols ou au pape qu'à pas vous et nous j'étais bien le lit, un yacht à manger J'ai Sipa des types bronzés Merci Lika celles les bêtes si pur ledit pas moi j'ai folle mondiaux monter la cape Il a lieu au programme Hadès Pilate pour la guerre Prisonniers bat Yam Jalil était toujours faire trois ans après ça d'aînesse classes I met you sauvé Il y a la taille à qui ce petit garçon Max a quitté moi la ville Gate après ça? Non mais Mongi Dario n'allait ensemble non? Imposition Théo Benoît nous même on s'y met en VO Un accord en dépit de ces ou c'est ou des petites ago ragots, des petites faims femme Et en dépit de ce type et B et B, des petites salles, il y a tant appris. Catastophe l'attaque allbrook n'agissait Pétion les forces d'intervention rapide police nationale à débat qui toujours à propos de pratiquer toutes ses bagages ca fait mal cotés pour qui ça a tout oh quitter nous p dix Chimay non et mettez devint noir vous quittez nous l'ail et que nous ne enragé\""
      ]
     },
     "execution_count": 15,
     "metadata": {},
     "output_type": "execute_result"
    }
   ],
   "source": [
    "aws_transcript"
   ]
  },
  {
   "cell_type": "code",
   "execution_count": 17,
   "metadata": {
    "ExecuteTime": {
     "end_time": "2021-02-09T17:37:46.459184Z",
     "start_time": "2021-02-09T17:37:46.452238Z"
    }
   },
   "outputs": [],
   "source": [
    "df = pd.read_csv('/Users/adimaini/Documents/GW/Research/CODE.nosync/WEAT-WEFAT/data/Bellezza Translations')"
   ]
  },
  {
   "cell_type": "code",
   "execution_count": 29,
   "metadata": {
    "ExecuteTime": {
     "end_time": "2021-02-09T17:40:13.124429Z",
     "start_time": "2021-02-09T17:40:13.010455Z"
    }
   },
   "outputs": [
    {
     "data": {
      "text/plain": [
       "69"
      ]
     },
     "execution_count": 29,
     "metadata": {},
     "output_type": "execute_result"
    }
   ],
   "source": [
    "count = 0\n",
    "for word in df['Haitian Creole word']: \n",
    "    if word in text.split(' '): \n",
    "        count += 1\n",
    "count"
   ]
  },
  {
   "cell_type": "code",
   "execution_count": 23,
   "metadata": {
    "ExecuteTime": {
     "end_time": "2021-02-09T17:39:02.186321Z",
     "start_time": "2021-02-09T17:39:02.180488Z"
    }
   },
   "outputs": [
    {
     "data": {
      "text/plain": [
       "3255"
      ]
     },
     "execution_count": 23,
     "metadata": {},
     "output_type": "execute_result"
    }
   ],
   "source": [
    "len(aws_transcript.split(' '))"
   ]
  },
  {
   "cell_type": "code",
   "execution_count": null,
   "metadata": {},
   "outputs": [],
   "source": []
  }
 ],
 "metadata": {
  "kernelspec": {
   "display_name": "Python 3.7.3 64-bit",
   "language": "python",
   "name": "python37364bit4db73d59933341feaa47a8db6a2db2c7"
  },
  "language_info": {
   "codemirror_mode": {
    "name": "ipython",
    "version": 3
   },
   "file_extension": ".py",
   "mimetype": "text/x-python",
   "name": "python",
   "nbconvert_exporter": "python",
   "pygments_lexer": "ipython3",
   "version": "3.7.3"
  }
 },
 "nbformat": 4,
 "nbformat_minor": 4
}
